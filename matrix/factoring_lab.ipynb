{
 "cells": [
  {
   "cell_type": "markdown",
   "metadata": {},
   "source": [
    "#  Factoring Lab"
   ]
  },
  {
   "cell_type": "code",
   "execution_count": 1,
   "metadata": {
    "collapsed": true
   },
   "outputs": [],
   "source": [
    "from vec import Vec\n",
    "from vecutil import list2vec\n",
    "from GF2 import one\n",
    "\n",
    "from factoring_support import dumb_factor\n",
    "from factoring_support import intsqrt\n",
    "from factoring_support import gcd\n",
    "from factoring_support import primes\n",
    "from factoring_support import prod\n",
    "\n",
    "import echelon\n",
    "import random"
   ]
  },
  {
   "cell_type": "markdown",
   "metadata": {},
   "source": [
    "gcd(m,n) return the greatest common divisor of positive integers m and n. This\n",
    "algorithm is attributed to Euclid, and it is very fast."
   ]
  },
  {
   "cell_type": "code",
   "execution_count": 2,
   "metadata": {
    "collapsed": true
   },
   "outputs": [],
   "source": [
    "def gcd(x,y): return x if y == 0 else gcd(y, x % y)"
   ]
  },
  {
   "cell_type": "code",
   "execution_count": 3,
   "metadata": {
    "collapsed": false
   },
   "outputs": [
    {
     "data": {
      "text/plain": [
       "18172055646"
      ]
     },
     "execution_count": 3,
     "metadata": {},
     "output_type": "execute_result"
    }
   ],
   "source": [
    "gcd(276534813447635747652, 333070702552660863114)"
   ]
  },
  {
   "cell_type": "markdown",
   "metadata": {},
   "source": [
    "The module factoring support provides a procedure intsqrt(x) with the following spec:\n",
    "\n",
    "• input: an integer x\n",
    "\n",
    "• output: an integer y such that y ∗ y is close to x and, if x happens to be a perfect square, y ∗ y is\n",
    "exactly x.\n"
   ]
  },
  {
   "cell_type": "code",
   "execution_count": 3,
   "metadata": {
    "collapsed": false
   },
   "outputs": [],
   "source": [
    "def root_method(N):\n",
    "    a = float(intsqrt(N)+1)\n",
    "    logic = False\n",
    "    while not logic:\n",
    "        if a.is_integer():\n",
    "            b = intsqrt(a**2-N)\n",
    "            logic = True\n",
    "        else:\n",
    "            a+=1\n",
    "    return a-b"
   ]
  },
  {
   "cell_type": "code",
   "execution_count": 8,
   "metadata": {
    "collapsed": false
   },
   "outputs": [
    {
     "data": {
      "text/plain": [
       "5.0"
      ]
     },
     "execution_count": 8,
     "metadata": {},
     "output_type": "execute_result"
    }
   ],
   "source": [
    "root_method(55)"
   ]
  },
  {
   "cell_type": "code",
   "execution_count": 9,
   "metadata": {
    "collapsed": false
   },
   "outputs": [
    {
     "data": {
      "text/plain": [
       "5.0"
      ]
     },
     "execution_count": 9,
     "metadata": {},
     "output_type": "execute_result"
    }
   ],
   "source": [
    "root_method(77)"
   ]
  },
  {
   "cell_type": "code",
   "execution_count": 10,
   "metadata": {
    "collapsed": false
   },
   "outputs": [
    {
     "data": {
      "text/plain": [
       "358.0"
      ]
     },
     "execution_count": 10,
     "metadata": {},
     "output_type": "execute_result"
    }
   ],
   "source": [
    "root_method(146771)"
   ]
  },
  {
   "cell_type": "code",
   "execution_count": 11,
   "metadata": {
    "collapsed": false
   },
   "outputs": [
    {
     "data": {
      "text/plain": [
       "7.0"
      ]
     },
     "execution_count": 11,
     "metadata": {},
     "output_type": "execute_result"
    }
   ],
   "source": [
    "root_method(118)"
   ]
  },
  {
   "cell_type": "code",
   "execution_count": 27,
   "metadata": {
    "collapsed": false
   },
   "outputs": [],
   "source": [
    "r = random.randint(100000, 1000000)\n",
    "s = random.randint(100000, 1000000)\n",
    "t = random.randint(100000, 1000000)"
   ]
  },
  {
   "cell_type": "code",
   "execution_count": 30,
   "metadata": {
    "collapsed": true
   },
   "outputs": [],
   "source": [
    "a = r*s; b = s*t\n",
    "# greatest common divisor\n",
    "d = gcd(a, b)"
   ]
  },
  {
   "cell_type": "code",
   "execution_count": 32,
   "metadata": {
    "collapsed": false
   },
   "outputs": [
    {
     "data": {
      "text/plain": [
       "True"
      ]
     },
     "execution_count": 32,
     "metadata": {},
     "output_type": "execute_result"
    }
   ],
   "source": [
    "# a is divisible by b\n",
    "a%d == 0"
   ]
  },
  {
   "cell_type": "code",
   "execution_count": 33,
   "metadata": {
    "collapsed": false
   },
   "outputs": [
    {
     "data": {
      "text/plain": [
       "True"
      ]
     },
     "execution_count": 33,
     "metadata": {},
     "output_type": "execute_result"
    }
   ],
   "source": [
    "# b is divisible by d\n",
    "b%d ==0"
   ]
  },
  {
   "cell_type": "code",
   "execution_count": 34,
   "metadata": {
    "collapsed": false
   },
   "outputs": [
    {
     "data": {
      "text/plain": [
       "True"
      ]
     },
     "execution_count": 34,
     "metadata": {},
     "output_type": "execute_result"
    }
   ],
   "source": [
    "d>=s"
   ]
  },
  {
   "cell_type": "code",
   "execution_count": 35,
   "metadata": {
    "collapsed": true
   },
   "outputs": [],
   "source": [
    "N = 367160330145890434494322103\n",
    "a = 67469780066325164\n",
    "b = 9429601150488992"
   ]
  },
  {
   "cell_type": "code",
   "execution_count": 36,
   "metadata": {
    "collapsed": false
   },
   "outputs": [
    {
     "data": {
      "text/plain": [
       "True"
      ]
     },
     "execution_count": 36,
     "metadata": {},
     "output_type": "execute_result"
    }
   ],
   "source": [
    "# verify that a ∗ a − b ∗ b is divisible by N\n",
    "(a**2 - b**2)%N == 0"
   ]
  },
  {
   "cell_type": "markdown",
   "metadata": {},
   "source": [
    "That means that the greatest common\n",
    "divisor of a − b and N has a chance of being a nontrivial divisor of N . Test this using the gcd procedure,\n",
    "and report the nontrivial divisor you found.\n"
   ]
  },
  {
   "cell_type": "code",
   "execution_count": 38,
   "metadata": {
    "collapsed": false
   },
   "outputs": [
    {
     "data": {
      "text/plain": [
       "19117318483477"
      ]
     },
     "execution_count": 38,
     "metadata": {},
     "output_type": "execute_result"
    }
   ],
   "source": [
    "gcd(a-b, N)"
   ]
  },
  {
   "cell_type": "markdown",
   "metadata": {},
   "source": [
    "How can we find such a pair of integers? Instead of hoping to get lucky, we’ll take matters into our\n",
    "own hands. We’ll try to create a and b. This method starts by creating a set primeset consisting of the\n",
    "first thousand or so primes. We say an integer x factors over primeset if you can multiply together some of\n",
    "the primes in S (possibly using a prime more than once) to form x.\n"
   ]
  },
  {
   "cell_type": "markdown",
   "metadata": {},
   "source": [
    "The module factoring support defines a procedure dumb factor(x, primeset) with the following spec:\n",
    "\n",
    "• input: an integer x and a set primeset of primes\n",
    "\n",
    "• output: if there are primes p1 , . . . , ps in primeset and positive integers e1 , e2, . . . , es (the exponents) such that x = pe 1 1 pe 2 2 · · · pe ss then the procedure returns the list [(p1, e1 ), (p2 , e2 ), . . . , (ps , es )] of pairs (prime, exponent). If not, the procedure returns the empty list.\n"
   ]
  },
  {
   "cell_type": "code",
   "execution_count": 39,
   "metadata": {
    "collapsed": false
   },
   "outputs": [
    {
     "data": {
      "text/plain": [
       "[(3, 1), (5, 2)]"
      ]
     },
     "execution_count": 39,
     "metadata": {},
     "output_type": "execute_result"
    }
   ],
   "source": [
    "dumb_factor(75, {2,3,5,7})"
   ]
  },
  {
   "cell_type": "code",
   "execution_count": 40,
   "metadata": {
    "collapsed": false
   },
   "outputs": [
    {
     "data": {
      "text/plain": [
       "[(2, 1), (3, 1), (5, 1)]"
      ]
     },
     "execution_count": 40,
     "metadata": {},
     "output_type": "execute_result"
    }
   ],
   "source": [
    "dumb_factor(30, {2,3,5,7})"
   ]
  },
  {
   "cell_type": "code",
   "execution_count": 41,
   "metadata": {
    "collapsed": false
   },
   "outputs": [
    {
     "data": {
      "text/plain": [
       "[(2, 3), (3, 1), (7, 2)]"
      ]
     },
     "execution_count": 41,
     "metadata": {},
     "output_type": "execute_result"
    }
   ],
   "source": [
    "dumb_factor(1176, {2,3,5,7})"
   ]
  },
  {
   "cell_type": "code",
   "execution_count": 42,
   "metadata": {
    "collapsed": false
   },
   "outputs": [
    {
     "data": {
      "text/plain": [
       "[]"
      ]
     },
     "execution_count": 42,
     "metadata": {},
     "output_type": "execute_result"
    }
   ],
   "source": [
    " dumb_factor(2*17, {2,3,5,7})"
   ]
  },
  {
   "cell_type": "code",
   "execution_count": 43,
   "metadata": {
    "collapsed": false
   },
   "outputs": [
    {
     "data": {
      "text/plain": [
       "[]"
      ]
     },
     "execution_count": 43,
     "metadata": {},
     "output_type": "execute_result"
    }
   ],
   "source": [
    "dumb_factor(2*3*5*19, {2,3,5,7})"
   ]
  },
  {
   "cell_type": "code",
   "execution_count": 47,
   "metadata": {
    "collapsed": false
   },
   "outputs": [
    {
     "name": "stdout",
     "output_type": "stream",
     "text": [
      "[(12, 1)]\n",
      "[(154, 1)]\n",
      "[(84942, 1)]\n",
      "[(34, 1)]\n",
      "[(3990, 1)]\n"
     ]
    }
   ],
   "source": [
    "primeset={2, 3, 5, 7, 11, 13}\n",
    "x = [12, 154, 2 * 3 * 3 * 3 * 11 * 11 * 13, 2 * 17, 2 * 3 * 5 * 7 * 19]\n",
    "for number in x:\n",
    "    print (dumb_factor(number, x))"
   ]
  },
  {
   "cell_type": "code",
   "execution_count": 4,
   "metadata": {
    "collapsed": true
   },
   "outputs": [],
   "source": [
    "## Task 1\n",
    "def int2GF2(i):\n",
    "    '''\n",
    "    Returns one if i is odd, 0 otherwise.\n",
    "\n",
    "    Input:\n",
    "        - i: an int\n",
    "    Output:\n",
    "        - one if i is congruent to 1 mod 2\n",
    "        - 0   if i is congruent to 0 mod 2\n",
    "    Examples:\n",
    "        >>> int2GF2(3)\n",
    "        one\n",
    "        >>> int2GF2(100)\n",
    "        0\n",
    "    '''\n",
    "    return 0 if i%2 == 0 else one"
   ]
  },
  {
   "cell_type": "code",
   "execution_count": 49,
   "metadata": {
    "collapsed": false
   },
   "outputs": [
    {
     "data": {
      "text/plain": [
       "one"
      ]
     },
     "execution_count": 49,
     "metadata": {},
     "output_type": "execute_result"
    }
   ],
   "source": [
    "int2GF2(3)"
   ]
  },
  {
   "cell_type": "code",
   "execution_count": 50,
   "metadata": {
    "collapsed": false
   },
   "outputs": [
    {
     "data": {
      "text/plain": [
       "0"
      ]
     },
     "execution_count": 50,
     "metadata": {},
     "output_type": "execute_result"
    }
   ],
   "source": [
    "int2GF2(100)"
   ]
  },
  {
   "cell_type": "code",
   "execution_count": 5,
   "metadata": {
    "collapsed": true
   },
   "outputs": [],
   "source": [
    "## Task 2\n",
    "def make_Vec(primeset, factors):\n",
    "    '''\n",
    "    Input:\n",
    "        - primeset: a set of primes\n",
    "        - factors: a list of factors [(p_1,a_1), ..., (p_n, a_n)]\n",
    "                   with p_i in primeset\n",
    "    Output:\n",
    "        - a vector v over GF(2) with domain primeset\n",
    "          such that v[p_i] = int2GF2(a_i) for all i\n",
    "    Example:\n",
    "        >>> make_Vec({2,3,11}, [(2,3), (3,2)]) == Vec({2,3,11},{2:one})\n",
    "        True\n",
    "    '''\n",
    "    return Vec(primeset, {pair[0]:int2GF2(pair[1]) for pair in factors})"
   ]
  },
  {
   "cell_type": "code",
   "execution_count": 56,
   "metadata": {
    "collapsed": false
   },
   "outputs": [
    {
     "data": {
      "text/plain": [
       "True"
      ]
     },
     "execution_count": 56,
     "metadata": {},
     "output_type": "execute_result"
    }
   ],
   "source": [
    "make_Vec({2,3,11}, [(2,3), (3,2)]) == Vec({2,3,11},{2:one})"
   ]
  },
  {
   "cell_type": "code",
   "execution_count": 57,
   "metadata": {
    "collapsed": false
   },
   "outputs": [
    {
     "data": {
      "text/plain": [
       "Vec({2, 11, 3, 5, 7},{11: one, 2: one, 3: 0, 5: one})"
      ]
     },
     "execution_count": 57,
     "metadata": {},
     "output_type": "execute_result"
    }
   ],
   "source": [
    "make_Vec({2,3,5,7,11}, [(2,17), (3, 0), (5,1), (11,3)])"
   ]
  },
  {
   "cell_type": "code",
   "execution_count": 6,
   "metadata": {
    "collapsed": false
   },
   "outputs": [],
   "source": [
    "## Task 3\n",
    "def find_candidates(N, primeset):\n",
    "    '''\n",
    "    Input:\n",
    "        - N: an int to factor\n",
    "        - primeset: a set of primes\n",
    "\n",
    "    Output:\n",
    "        - a tuple (roots, rowlist)\n",
    "        - roots: a list a_0, a_1, ..., a_n where a_i*a_i - N can be factored\n",
    "                 over primeset\n",
    "        - rowlist: a list such that rowlist[i] is a\n",
    "                   primeset-vector over GF(2) corresponding to a_i\n",
    "          such that len(roots) = len(rowlist) and len(roots) > len(primeset)\n",
    "    Example:\n",
    "        >>> from factoring_support import primes\n",
    "        >>> N = 2419\n",
    "        >>> primeset = primes(32)\n",
    "        >>> roots, rowlist = find_candidates(N, primeset)\n",
    "        >>> set(roots) == set([51, 52, 53, 58, 61, 62, 63, 67, 68, 71, 77, 79])\n",
    "        True\n",
    "        >>> D = {2, 3, 5, 7, 11, 13, 17, 19, 23, 29, 31}\n",
    "        >>> set(rowlist) == set([Vec(D,{2: one, 13: one, 7: one}),\\\n",
    "                Vec(D,{3: one, 19: one, 5: one}),\\\n",
    "                Vec(D,{2: one, 3: one, 5: one, 13: one}),\\\n",
    "                Vec(D,{3: one, 5: one, 7: one}),\\\n",
    "                Vec(D,{7: one, 2: one, 3: one, 31: one}),\\\n",
    "                Vec(D,{3: one, 19: one}),\\\n",
    "                Vec(D,{2: one, 31: one}),\\\n",
    "                Vec(D,{2: one, 5: one, 23: one}),\\\n",
    "                Vec(D,{5: one}),\\\n",
    "                Vec(D,{3: one, 2: one, 19: one, 23: one}),\\\n",
    "                Vec(D,{2: one, 3: one, 5: one, 13: one}),\\\n",
    "                Vec(D,{2: one, 3: one, 13: one})])\n",
    "        True\n",
    "    '''\n",
    "    roots = []\n",
    "    rowlist = []\n",
    "    x = intsqrt(N)+2\n",
    "    \n",
    "    while len(roots) < len(primeset)+1:\n",
    "        d = lambda x: dumb_factor(x**2-N, primeset)\n",
    "        if len (d(x)) != 0:\n",
    "            roots.append(x)\n",
    "            rowlist.append(make_Vec(primeset, d(x)))\n",
    "        x+=1\n",
    "    return (roots, rowlist)"
   ]
  },
  {
   "cell_type": "code",
   "execution_count": 77,
   "metadata": {
    "collapsed": false
   },
   "outputs": [
    {
     "data": {
      "text/plain": [
       "True"
      ]
     },
     "execution_count": 77,
     "metadata": {},
     "output_type": "execute_result"
    }
   ],
   "source": [
    "from factoring_support import primes\n",
    "N = 2419\n",
    "primeset = primes(32)\n",
    "roots, rowlist = find_candidates(N, primeset)\n",
    "set(roots) == set([51, 52, 53, 58, 61, 62, 63, 67, 68, 71, 77, 79])"
   ]
  },
  {
   "cell_type": "code",
   "execution_count": 78,
   "metadata": {
    "collapsed": false
   },
   "outputs": [
    {
     "data": {
      "text/plain": [
       "True"
      ]
     },
     "execution_count": 78,
     "metadata": {},
     "output_type": "execute_result"
    }
   ],
   "source": [
    "D = {2, 3, 5, 7, 11, 13, 17, 19, 23, 29, 31}\n",
    "set(rowlist) == set([Vec(D,{2: one, 13: one, 7: one}),\\\n",
    "                Vec(D,{3: one, 19: one, 5: one}),\\\n",
    "                Vec(D,{2: one, 3: one, 5: one, 13: one}),\\\n",
    "                Vec(D,{3: one, 5: one, 7: one}),\\\n",
    "                Vec(D,{7: one, 2: one, 3: one, 31: one}),\\\n",
    "                Vec(D,{3: one, 19: one}),\\\n",
    "                Vec(D,{2: one, 31: one}),\\\n",
    "                Vec(D,{2: one, 5: one, 23: one}),\\\n",
    "                Vec(D,{5: one}),\\\n",
    "                Vec(D,{3: one, 2: one, 19: one, 23: one}),\\\n",
    "                Vec(D,{2: one, 3: one, 5: one, 13: one}),\\\n",
    "                Vec(D,{2: one, 3: one, 13: one})])"
   ]
  },
  {
   "cell_type": "code",
   "execution_count": 81,
   "metadata": {
    "collapsed": false
   },
   "outputs": [
    {
     "data": {
      "text/plain": [
       "1"
      ]
     },
     "execution_count": 81,
     "metadata": {},
     "output_type": "execute_result"
    }
   ],
   "source": [
    "a = 53*771\n",
    "b = 2*(3**2)*5*13\n",
    "gcd(a-b, N)"
   ]
  },
  {
   "cell_type": "code",
   "execution_count": 82,
   "metadata": {
    "collapsed": false
   },
   "outputs": [
    {
     "data": {
      "text/plain": [
       "2419"
      ]
     },
     "execution_count": 82,
     "metadata": {},
     "output_type": "execute_result"
    }
   ],
   "source": [
    "a = 52*67*71\n",
    "b = 2 *(3**2)*5*19*23\n",
    "gcd(a-b, N)"
   ]
  },
  {
   "cell_type": "code",
   "execution_count": 83,
   "metadata": {
    "collapsed": false
   },
   "outputs": [
    {
     "data": {
      "text/plain": [
       "1.0"
      ]
     },
     "execution_count": 83,
     "metadata": {},
     "output_type": "execute_result"
    }
   ],
   "source": [
    "N/2419 # proper divisor"
   ]
  },
  {
   "cell_type": "code",
   "execution_count": 7,
   "metadata": {
    "collapsed": false
   },
   "outputs": [],
   "source": [
    "## Task 4\n",
    "def find_a_and_b(v, roots, N):\n",
    "    '''\n",
    "    Input: \n",
    "     - a {0,1,..., n-1}-vector v over GF(2) where n = len(roots)\n",
    "     - a list roots of integers\n",
    "     - an integer N to factor\n",
    "    Output:\n",
    "      a pair (a,b) of integers\n",
    "      such that a*a-b*b is a multiple of N\n",
    "      (if v is correctly chosen)\n",
    "    Example:\n",
    "        >>> roots = [51, 52, 53, 58, 61, 62, 63, 67, 68, 71, 77, 79]\n",
    "        >>> N = 2419\n",
    "        >>> v = Vec({0, 1, 2, 3, 4, 5, 6, 7, 8, 9, 10, 11},{1: one, 2: one, 11: one, 5: one})  \n",
    "        >>> find_a_and_b(v, roots, N)\n",
    "        (13498888, 778050)\n",
    "        >>> v = Vec({0, 1, 2, 3, 4, 5, 6, 7, 8, 9, 10, 11},{0: 0, 1: 0, 10: one, 2: one})\n",
    "        >>> find_a_and_b(v, roots, N)\n",
    "        (4081, 1170)\n",
    "    '''\n",
    "    alist = [roots[i] for i in v.D if v[i] == one]\n",
    "    a = prod(alist)\n",
    "    c = prod([x*x-N for x in alist])\n",
    "    b = intsqrt(c)\n",
    "    assert b*b == c\n",
    "    return (a,b)"
   ]
  },
  {
   "cell_type": "code",
   "execution_count": 109,
   "metadata": {
    "collapsed": false
   },
   "outputs": [
    {
     "data": {
      "text/plain": [
       "(13498888, 778050)"
      ]
     },
     "execution_count": 109,
     "metadata": {},
     "output_type": "execute_result"
    }
   ],
   "source": [
    "roots = [51, 52, 53, 58, 61, 62, 63, 67, 68, 71, 77, 79]\n",
    "N = 2419\n",
    "v = Vec({0, 1, 2, 3, 4, 5, 6, 7, 8, 9, 10, 11},{1: one, 2: one, 11: one, 5: one})\n",
    "find_a_and_b(v, roots, N)"
   ]
  },
  {
   "cell_type": "code",
   "execution_count": 110,
   "metadata": {
    "collapsed": false
   },
   "outputs": [
    {
     "data": {
      "text/plain": [
       "(4081, 1170)"
      ]
     },
     "execution_count": 110,
     "metadata": {},
     "output_type": "execute_result"
    }
   ],
   "source": [
    "v = Vec({0, 1, 2, 3, 4, 5, 6, 7, 8, 9, 10, 11},{0: 0, 1: 0, 10: one, 2: one})\n",
    "find_a_and_b(v, roots, N)"
   ]
  },
  {
   "cell_type": "code",
   "execution_count": 14,
   "metadata": {
    "collapsed": false
   },
   "outputs": [
    {
     "name": "stdout",
     "output_type": "stream",
     "text": [
      "1 loops, best of 3: 8.71 s per loop\n"
     ]
    }
   ],
   "source": [
    "%%timeit\n",
    "# Task 5\n",
    "N = 2461799993978700679\n",
    "primelist = primes(1000)\n",
    "roots, rowlist = find_candidates(N, primelist)\n",
    "M = echelon.transformation_rows(rowlist, sorted(primelist, reverse=True))"
   ]
  },
  {
   "cell_type": "code",
   "execution_count": 114,
   "metadata": {
    "collapsed": false
   },
   "outputs": [],
   "source": [
    "v = M[len(M)-1]"
   ]
  },
  {
   "cell_type": "code",
   "execution_count": 118,
   "metadata": {
    "collapsed": false
   },
   "outputs": [],
   "source": [
    "a, b = find_a_and_b(v, roots, N) "
   ]
  },
  {
   "cell_type": "code",
   "execution_count": 119,
   "metadata": {
    "collapsed": false
   },
   "outputs": [
    {
     "data": {
      "text/plain": [
       "1230926561"
      ]
     },
     "execution_count": 119,
     "metadata": {},
     "output_type": "execute_result"
    }
   ],
   "source": [
    "gcd(a-b, N)"
   ]
  },
  {
   "cell_type": "code",
   "execution_count": 15,
   "metadata": {
    "collapsed": false
   },
   "outputs": [
    {
     "data": {
      "application/json": {
       "cell": {
        "!": "OSMagics",
        "HTML": "Other",
        "SVG": "Other",
        "bash": "Other",
        "capture": "ExecutionMagics",
        "debug": "ExecutionMagics",
        "file": "Other",
        "html": "DisplayMagics",
        "javascript": "DisplayMagics",
        "latex": "DisplayMagics",
        "perl": "Other",
        "prun": "ExecutionMagics",
        "pypy": "Other",
        "python": "Other",
        "python2": "Other",
        "python3": "Other",
        "ruby": "Other",
        "script": "ScriptMagics",
        "sh": "Other",
        "svg": "DisplayMagics",
        "sx": "OSMagics",
        "system": "OSMagics",
        "time": "ExecutionMagics",
        "timeit": "ExecutionMagics",
        "writefile": "OSMagics"
       },
       "line": {
        "alias": "OSMagics",
        "alias_magic": "BasicMagics",
        "autocall": "AutoMagics",
        "automagic": "AutoMagics",
        "autosave": "KernelMagics",
        "bookmark": "OSMagics",
        "cat": "Other",
        "cd": "OSMagics",
        "clear": "KernelMagics",
        "colors": "BasicMagics",
        "config": "ConfigMagics",
        "connect_info": "KernelMagics",
        "cp": "Other",
        "debug": "ExecutionMagics",
        "dhist": "OSMagics",
        "dirs": "OSMagics",
        "doctest_mode": "BasicMagics",
        "ed": "Other",
        "edit": "KernelMagics",
        "env": "OSMagics",
        "gui": "BasicMagics",
        "hist": "Other",
        "history": "HistoryMagics",
        "install_default_config": "DeprecatedMagics",
        "install_ext": "ExtensionMagics",
        "install_profiles": "DeprecatedMagics",
        "killbgscripts": "ScriptMagics",
        "ldir": "Other",
        "less": "KernelMagics",
        "lf": "Other",
        "lk": "Other",
        "ll": "Other",
        "load": "CodeMagics",
        "load_ext": "ExtensionMagics",
        "loadpy": "CodeMagics",
        "logoff": "LoggingMagics",
        "logon": "LoggingMagics",
        "logstart": "LoggingMagics",
        "logstate": "LoggingMagics",
        "logstop": "LoggingMagics",
        "ls": "Other",
        "lsmagic": "BasicMagics",
        "lx": "Other",
        "macro": "ExecutionMagics",
        "magic": "BasicMagics",
        "man": "KernelMagics",
        "matplotlib": "PylabMagics",
        "mkdir": "Other",
        "more": "KernelMagics",
        "mv": "Other",
        "notebook": "BasicMagics",
        "page": "BasicMagics",
        "pastebin": "CodeMagics",
        "pdb": "ExecutionMagics",
        "pdef": "NamespaceMagics",
        "pdoc": "NamespaceMagics",
        "pfile": "NamespaceMagics",
        "pinfo": "NamespaceMagics",
        "pinfo2": "NamespaceMagics",
        "popd": "OSMagics",
        "pprint": "BasicMagics",
        "precision": "BasicMagics",
        "profile": "BasicMagics",
        "prun": "ExecutionMagics",
        "psearch": "NamespaceMagics",
        "psource": "NamespaceMagics",
        "pushd": "OSMagics",
        "pwd": "OSMagics",
        "pycat": "OSMagics",
        "pylab": "PylabMagics",
        "qtconsole": "KernelMagics",
        "quickref": "BasicMagics",
        "recall": "HistoryMagics",
        "rehashx": "OSMagics",
        "reload_ext": "ExtensionMagics",
        "rep": "Other",
        "rerun": "HistoryMagics",
        "reset": "NamespaceMagics",
        "reset_selective": "NamespaceMagics",
        "rm": "Other",
        "rmdir": "Other",
        "run": "ExecutionMagics",
        "save": "CodeMagics",
        "sc": "OSMagics",
        "set_env": "OSMagics",
        "store": "StoreMagics",
        "sx": "OSMagics",
        "system": "OSMagics",
        "tb": "ExecutionMagics",
        "time": "ExecutionMagics",
        "timeit": "ExecutionMagics",
        "unalias": "OSMagics",
        "unload_ext": "ExtensionMagics",
        "who": "NamespaceMagics",
        "who_ls": "NamespaceMagics",
        "whos": "NamespaceMagics",
        "xdel": "NamespaceMagics",
        "xmode": "BasicMagics"
       }
      },
      "text/plain": [
       "Available line magics:\n",
       "%alias  %alias_magic  %autocall  %automagic  %autosave  %bookmark  %cat  %cd  %clear  %colors  %config  %connect_info  %cp  %debug  %dhist  %dirs  %doctest_mode  %ed  %edit  %env  %gui  %hist  %history  %install_default_config  %install_ext  %install_profiles  %killbgscripts  %ldir  %less  %lf  %lk  %ll  %load  %load_ext  %loadpy  %logoff  %logon  %logstart  %logstate  %logstop  %ls  %lsmagic  %lx  %macro  %magic  %man  %matplotlib  %mkdir  %more  %mv  %notebook  %page  %pastebin  %pdb  %pdef  %pdoc  %pfile  %pinfo  %pinfo2  %popd  %pprint  %precision  %profile  %prun  %psearch  %psource  %pushd  %pwd  %pycat  %pylab  %qtconsole  %quickref  %recall  %rehashx  %reload_ext  %rep  %rerun  %reset  %reset_selective  %rm  %rmdir  %run  %save  %sc  %set_env  %store  %sx  %system  %tb  %time  %timeit  %unalias  %unload_ext  %who  %who_ls  %whos  %xdel  %xmode\n",
       "\n",
       "Available cell magics:\n",
       "%%!  %%HTML  %%SVG  %%bash  %%capture  %%debug  %%file  %%html  %%javascript  %%latex  %%perl  %%prun  %%pypy  %%python  %%python2  %%python3  %%ruby  %%script  %%sh  %%svg  %%sx  %%system  %%time  %%timeit  %%writefile\n",
       "\n",
       "Automagic is ON, % prefix IS NOT needed for line magics."
      ]
     },
     "execution_count": 15,
     "metadata": {},
     "output_type": "execute_result"
    }
   ],
   "source": [
    "%lsmagic"
   ]
  },
  {
   "cell_type": "code",
   "execution_count": null,
   "metadata": {
    "collapsed": true
   },
   "outputs": [],
   "source": []
  }
 ],
 "metadata": {
  "kernelspec": {
   "display_name": "Python 3",
   "language": "python",
   "name": "python3"
  },
  "language_info": {
   "codemirror_mode": {
    "name": "ipython",
    "version": 3
   },
   "file_extension": ".py",
   "mimetype": "text/x-python",
   "name": "python",
   "nbconvert_exporter": "python",
   "pygments_lexer": "ipython3",
   "version": "3.4.3"
  }
 },
 "nbformat": 4,
 "nbformat_minor": 0
}
