{
 "metadata": {
  "name": "",
  "signature": "sha256:13fa6fa1d04a1da85ca11548810c676920cc651968b6edad717ed9b675fc4f57"
 },
 "nbformat": 3,
 "nbformat_minor": 0,
 "worksheets": [
  {
   "cells": [
    {
     "cell_type": "code",
     "collapsed": false,
     "input": [
      "from vec import Vec"
     ],
     "language": "python",
     "metadata": {},
     "outputs": [],
     "prompt_number": 34
    },
    {
     "cell_type": "heading",
     "level": 1,
     "metadata": {},
     "source": [
      "Problem #1"
     ]
    },
    {
     "cell_type": "code",
     "collapsed": false,
     "input": [
      "def vec_select(veclist, k):\n",
      "    '''\n",
      "    >>> D = {'a','b','c'}\n",
      "    >>> v1 = Vec(D, {'a': 1})\n",
      "    >>> v2 = Vec(D, {'a': 0, 'b': 1})\n",
      "    >>> v3 = Vec(D, {        'b': 2})\n",
      "    >>> v4 = Vec(D, {'a': 10, 'b': 10})\n",
      "    >>> vec_select([v1, v2, v3, v4], 'a') == [Vec(D,{'b': 1}), Vec(D,{'b': 2})]\n",
      "    True\n",
      "    '''\n",
      "    return [vector for vector in veclist if vector[k]==0]\n"
     ],
     "language": "python",
     "metadata": {},
     "outputs": [],
     "prompt_number": 2
    },
    {
     "cell_type": "code",
     "collapsed": false,
     "input": [
      "def vec_sum(veclist, D):\n",
      "    '''\n",
      "    >>> D = {'a','b','c'}\n",
      "    >>> v1 = Vec(D, {'a': 1})\n",
      "    >>> v2 = Vec(D, {'a': 0, 'b': 1})\n",
      "    >>> v3 = Vec(D, {        'b': 2})\n",
      "    >>> v4 = Vec(D, {'a': 10, 'b': 10})\n",
      "    >>> vec_sum([v1, v2, v3, v4], D) == Vec(D, {'b': 13, 'a': 11})\n",
      "    True\n",
      "    '''\n",
      "    for vector in veclist: assert isinstance(vector, Vec)\n",
      "    if len(veclist)==0:\n",
      "        return Vec(D,{})\n",
      "    else:\n",
      "        sumof={}\n",
      "        for vector in veclist:\n",
      "            for k,v in vector.f.items():\n",
      "                if k in sumof: sumof[k]=sumof[k]+v\n",
      "                else: sumof[k]=v\n",
      "        return Vec(D,sumof)"
     ],
     "language": "python",
     "metadata": {},
     "outputs": [],
     "prompt_number": 3
    },
    {
     "cell_type": "code",
     "collapsed": false,
     "input": [
      "D = {'a','b','c'}\n",
      "v1 = Vec(D, {'a': 1})\n",
      "v2 = Vec(D, {'a': 0, 'b': 1})\n",
      "v3 = Vec(D, {        'b': 2})\n",
      "v4 = Vec(D, {'a': 10, 'b': 10})"
     ],
     "language": "python",
     "metadata": {},
     "outputs": [],
     "prompt_number": 4
    },
    {
     "cell_type": "code",
     "collapsed": false,
     "input": [
      "vec_sum([v1, v2, v3, v4], D) == Vec(D, {'b': 13, 'a': 11})"
     ],
     "language": "python",
     "metadata": {},
     "outputs": [
      {
       "metadata": {},
       "output_type": "pyout",
       "prompt_number": 5,
       "text": [
        "True"
       ]
      }
     ],
     "prompt_number": 5
    },
    {
     "cell_type": "code",
     "collapsed": false,
     "input": [
      "def vec_select_sum(veclist, k, D):\n",
      "    '''\n",
      "    >>> D = {'a','b','c'}\n",
      "    >>> v1 = Vec(D, {'a': 1})\n",
      "    >>> v2 = Vec(D, {'a': 0, 'b': 1})\n",
      "    >>> v3 = Vec(D, {        'b': 2})\n",
      "    >>> v4 = Vec(D, {'a': 10, 'b': 10})\n",
      "    >>> vec_select_sum([v1, v2, v3, v4], 'a', D) == Vec(D, {'b': 3})\n",
      "    True\n",
      "    '''\n",
      "    return vec_sum(vec_select(veclist,k),D)"
     ],
     "language": "python",
     "metadata": {},
     "outputs": [],
     "prompt_number": 6
    },
    {
     "cell_type": "code",
     "collapsed": false,
     "input": [
      "vec_select_sum([v1, v2, v3, v4], 'a', D) == Vec(D, {'b': 3})"
     ],
     "language": "python",
     "metadata": {},
     "outputs": [
      {
       "metadata": {},
       "output_type": "pyout",
       "prompt_number": 7,
       "text": [
        "True"
       ]
      }
     ],
     "prompt_number": 7
    },
    {
     "cell_type": "heading",
     "level": 1,
     "metadata": {},
     "source": [
      "Problem #2"
     ]
    },
    {
     "cell_type": "code",
     "collapsed": false,
     "input": [
      "def scale_vecs(vecdict):\n",
      "    '''\n",
      "    >>> v1 = Vec({1,2,4}, {2: 9})\n",
      "    >>> v2 = Vec({1,2,4}, {1: 1, 2: 2, 4: 8})\n",
      "    >>> result = scale_vecs({3: v1, 5: v2})\n",
      "    >>> len(result)\n",
      "    2\n",
      "    >>> [v in [Vec({1,2,4},{2: 3.0}), Vec({1,2,4},{1: 0.2, 2: 0.4, 4: 1.6})] for v in result]\n",
      "    [True, True]\n",
      "    '''\n",
      "    return [(1/k)*v for k,v in vecdict.items()]"
     ],
     "language": "python",
     "metadata": {},
     "outputs": [],
     "prompt_number": 8
    },
    {
     "cell_type": "code",
     "collapsed": false,
     "input": [
      "v1 = Vec({1,2,4}, {2: 9})\n",
      "v2 = Vec({1,2,4}, {1: 1, 2: 2, 4: 8})\n",
      "result = scale_vecs({3: v1, 5: v2})\n",
      "len(result)"
     ],
     "language": "python",
     "metadata": {},
     "outputs": [
      {
       "metadata": {},
       "output_type": "pyout",
       "prompt_number": 9,
       "text": [
        "2"
       ]
      }
     ],
     "prompt_number": 9
    },
    {
     "cell_type": "code",
     "collapsed": false,
     "input": [
      "[v in [Vec({1,2,4},{2: 3.0}), Vec({1,2,4},{1: 0.2, 2: 0.4, 4: 1.6})] for v in result]"
     ],
     "language": "python",
     "metadata": {},
     "outputs": [
      {
       "metadata": {},
       "output_type": "pyout",
       "prompt_number": 10,
       "text": [
        "[True, True]"
       ]
      }
     ],
     "prompt_number": 10
    },
    {
     "cell_type": "heading",
     "level": 1,
     "metadata": {},
     "source": [
      "Problem #3"
     ]
    },
    {
     "cell_type": "code",
     "collapsed": false,
     "input": [
      "from GF2 import one"
     ],
     "language": "python",
     "metadata": {},
     "outputs": [],
     "prompt_number": 11
    },
    {
     "cell_type": "code",
     "collapsed": false,
     "input": [
      "def GF2_span(D, S):\n",
      "    '''\n",
      "    >>> D = {'a', 'b', 'c'}\n",
      "    >>> GF2_span(D, {Vec(D, {'a':one, 'c':one}), Vec(D, {'c':one})}) == \n",
      "            {Vec({'a', 'b', 'c'},{}), Vec({'a', 'b', 'c'},{'a': one, 'c': one}), Vec({'a', 'b', 'c'},{'c': one}), Vec({'a', 'b', 'c'},{'a': one})}\n",
      "    True\n",
      "    >>> GF2_span(D, {Vec(D, {'a': one, 'b': one}), Vec(D, {'a':one}), Vec(D, {'b':one})}) == \n",
      "            {Vec({'a', 'b', 'c'},{'a': one, 'b': one}), Vec({'a', 'b', 'c'},{'b': one}), Vec({'a', 'b', 'c'},{'a': one}), Vec({'a', 'b', 'c'},{})}\n",
      "    True\n",
      "    >>> S={Vec({0,1},{0:one}), Vec({0,1},{1:one})}\n",
      "    >>> GF2_span({0,1}, S) == {Vec({0, 1},{0: one, 1: one}), Vec({0, 1},{1: one}), Vec({0, 1},{0: one}), Vec({0, 1},{})}\n",
      "    True\n",
      "    >>> S == {Vec({0, 1},{1: one}), Vec({0, 1},{0: one})}\n",
      "    True\n",
      "    '''\n",
      "    from GF2 import one\n",
      "    import itertools\n",
      "    s=list(S); n=len(S)\n",
      "    # S={v1,v2,...,v_n}\n",
      "    # u=[e1,e2,...,e_n], where e_i=[0,0,...,1,...,0] in i-th position\n",
      "    u= [list(i) for i in list(itertools.product([0,1],repeat=n))]\n",
      "    \n",
      "    return {sum([j*s[i] for i,j in enumerate(item)]) for item in u}"
     ],
     "language": "python",
     "metadata": {},
     "outputs": [],
     "prompt_number": 53
    },
    {
     "cell_type": "code",
     "collapsed": false,
     "input": [
      "D = {'a', 'b', 'c'}\n",
      "GF2_span(D, {Vec(D, {'a':one, 'c':one}), Vec(D, {'c':one})}) =={Vec({'a', 'b', 'c'},{}), Vec({'a', 'b', 'c'},{'a': one, 'c': one}), Vec({'a', 'b', 'c'},{'c': one}), Vec({'a', 'b', 'c'},{'a': one})}"
     ],
     "language": "python",
     "metadata": {},
     "outputs": [
      {
       "metadata": {},
       "output_type": "pyout",
       "prompt_number": 54,
       "text": [
        "True"
       ]
      }
     ],
     "prompt_number": 54
    },
    {
     "cell_type": "code",
     "collapsed": false,
     "input": [
      "GF2_span(D, {Vec(D, {'a': one, 'b': one}), Vec(D, {'a':one}), Vec(D, {'b':one})}) == {Vec({'a', 'b', 'c'},{'a': one, 'b': one}), Vec({'a', 'b', 'c'},{'b': one}), Vec({'a', 'b', 'c'},{'a': one}), Vec({'a', 'b', 'c'},{})}"
     ],
     "language": "python",
     "metadata": {},
     "outputs": [
      {
       "metadata": {},
       "output_type": "pyout",
       "prompt_number": 55,
       "text": [
        "True"
       ]
      }
     ],
     "prompt_number": 55
    },
    {
     "cell_type": "code",
     "collapsed": false,
     "input": [
      "S={Vec({0,1},{0:one}), Vec({0,1},{1:one})}"
     ],
     "language": "python",
     "metadata": {},
     "outputs": [],
     "prompt_number": 56
    },
    {
     "cell_type": "code",
     "collapsed": false,
     "input": [
      "GF2_span({0,1}, S) == {Vec({0, 1},{0: one, 1: one}), Vec({0, 1},{1: one}), Vec({0, 1},{0: one}), Vec({0, 1},{})}"
     ],
     "language": "python",
     "metadata": {},
     "outputs": [
      {
       "metadata": {},
       "output_type": "pyout",
       "prompt_number": 57,
       "text": [
        "True"
       ]
      }
     ],
     "prompt_number": 57
    },
    {
     "cell_type": "code",
     "collapsed": false,
     "input": [],
     "language": "python",
     "metadata": {},
     "outputs": []
    }
   ],
   "metadata": {}
  }
 ]
}