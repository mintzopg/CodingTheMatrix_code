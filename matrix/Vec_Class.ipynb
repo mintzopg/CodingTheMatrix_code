{
 "metadata": {
  "name": "",
  "signature": "sha256:85d09d2842f1f7ae37521a62f58ee87cc42b0afa608609c11bd6387286c39ff1"
 },
 "nbformat": 3,
 "nbformat_minor": 0,
 "worksheets": [
  {
   "cells": [
    {
     "cell_type": "code",
     "collapsed": false,
     "input": [
      "def getitem(v,k):\n",
      "    \"\"\"\n",
      "    Return the value of entry k in v.\n",
      "    \"\"\"\n",
      "    return v.f[k] if k in v.f.keys() else 0 "
     ],
     "language": "python",
     "metadata": {},
     "outputs": [],
     "prompt_number": 249
    },
    {
     "cell_type": "code",
     "collapsed": false,
     "input": [
      "def setitem(v,d,val):\n",
      "    \"\"\"\n",
      "    Set the element of v with label d to be val.\n",
      "    setitem(v,d,val) should set the value for key d even if d\n",
      "    is not previously represented in v.f.  \n",
      "    \"\"\"\n",
      "    if d not in v.D: v.D.add(d)\n",
      "    v.f[d]=val\n",
      "    return"
     ],
     "language": "python",
     "metadata": {},
     "outputs": [],
     "prompt_number": 250
    },
    {
     "cell_type": "code",
     "collapsed": false,
     "input": [
      "def equal(u,v):\n",
      "    \"\"\"\n",
      "    Return true iff u is equal to v.\n",
      "    Because of sparse representation, it is not enough to compare dictionaries \n",
      "    \"\"\"\n",
      "    assert u.D == v.D # the 2 vectors must have the same domain\n",
      "    if u.f==v.f:\n",
      "        return True\n",
      "    diff=(set(u.f.items())-set(v.f.items())).union(set(v.f.items())-set(u.f.items())) # set of tuples: difference intuples    \n",
      "    logic=True\n",
      "    for each_tuple in diff:\n",
      "        logic=logic and each_tuple[1]==0\n",
      "    if logic is True:\n",
      "        return True\n",
      "    else: return False\n",
      "    "
     ],
     "language": "python",
     "metadata": {},
     "outputs": [],
     "prompt_number": 251
    },
    {
     "cell_type": "code",
     "collapsed": false,
     "input": [
      "def add(u,v):\n",
      "    \"\"\"\n",
      "    Returns the sum of the two vectors.\n",
      "    Make sure to add together values for all keys from u.f and v.f even if some keys in u.f do not\n",
      "    exist in v.f (or vice versa)\n",
      "    \"\"\"\n",
      "    assert u.D == v.D\n",
      "    # initialize sum dictionary 'Sum'\n",
      "    Sum=Vec(u.D,{})\n",
      "    for i in u.f.keys(): # fisrt sum the same key vectors and vectors in u\n",
      "        if i in v.f.keys(): Sum.f[i]=u.f[i]+v.f[i]\n",
      "        else: Sum.f[i]=u.f[i]\n",
      "    for j in v.f.keys(): # add the vectors in v\n",
      "        if j not in Sum.f.keys(): Sum.f[j]=v.f[j]\n",
      "    return Sum"
     ],
     "language": "python",
     "metadata": {},
     "outputs": [],
     "prompt_number": 252
    },
    {
     "cell_type": "code",
     "collapsed": false,
     "input": [
      "def dot(u,v):\n",
      "    \"\"\"\n",
      "    Returns the dot product of the two vectors.  \n",
      "    \"\"\"\n",
      "    assert u.D == v.D\n",
      "    return sum([u.f[k]*v.f[k] for k in set(u.f.keys()).intersection(v.f.keys())])  # k in common keys\n"
     ],
     "language": "python",
     "metadata": {},
     "outputs": [],
     "prompt_number": 253
    },
    {
     "cell_type": "code",
     "collapsed": false,
     "input": [
      "def scalar_mul(v, alpha):\n",
      "    #  Returns the scalar-vector product alpha times v.\n",
      "    return Vec(v.D, {}) if alpha==0 else Vec(v.D,{k:alpha*v.f[k] for k in v.f.keys()})"
     ],
     "language": "python",
     "metadata": {},
     "outputs": [],
     "prompt_number": 254
    },
    {
     "cell_type": "code",
     "collapsed": false,
     "input": [
      "def neg(v):\n",
      "    # Returns the negation of a vector\n",
      "    return scalar_mul(v, -1)"
     ],
     "language": "python",
     "metadata": {},
     "outputs": [],
     "prompt_number": 255
    },
    {
     "cell_type": "code",
     "collapsed": false,
     "input": [
      "class Vec:\n",
      "    \"\"\"\n",
      "    A vector has two fields:\n",
      "    D - the domain (a set)\n",
      "    f - a dictionary mapping (some) domain elements to field elements\n",
      "        elements of D not appearing in f are implicitly mapped to zero\n",
      "    \"\"\"\n",
      "    def __init__(self, labels = set(), function = {}):\n",
      "        self.D = labels\n",
      "        self.f = function\n",
      "\n",
      "    __getitem__ = getitem\n",
      "    __setitem__ = setitem\n",
      "    __neg__ = neg\n",
      "    __rmul__ = scalar_mul #if left arg of * is primitive, assume it's a scalar\n",
      "\n",
      "    def __mul__(self,other):\n",
      "        #If other is a vector, returns the dot product of self and other\n",
      "        if isinstance(other, Vec):\n",
      "            return dot(self,other)\n",
      "        else:\n",
      "            return NotImplemented  #  Will cause other.__rmul__(self) to be invoked\n",
      "\n",
      "    def __truediv__(self,other):  # Scalar division\n",
      "        return (1/other)*self\n",
      "\n",
      "    __add__ = add\n",
      "\n",
      "    def __radd__(self, other):\n",
      "        \"Hack to allow sum(...) to work with vectors\"\n",
      "        if other == 0:\n",
      "            return self\n",
      "\n",
      "    def __sub__(a,b):\n",
      "        \"Returns a vector which is the difference of a and b.\"\n",
      "        return a+(-b)\n",
      "\n",
      "    __eq__ = equal\n",
      "\n",
      "    def is_almost_zero(self):\n",
      "        s = 0\n",
      "        for x in self.f.values():\n",
      "            if isinstance(x, int) or isinstance(x, float):\n",
      "                s += x*x\n",
      "            elif isinstance(x, complex):\n",
      "                s += x*x.conjugate()\n",
      "            else: return False\n",
      "        return s < 1e-20\n",
      "\n",
      "    def __str__(v):\n",
      "        \"pretty-printing\"\n",
      "        D_list = sorted(v.D, key=repr)\n",
      "        numdec = 3\n",
      "        wd = dict([(k,(1+max(len(str(k)), len('{0:.{1}G}'.format(v[k], numdec))))) if isinstance(v[k], int) or isinstance(v[k], float) else (k,(1+max(len(str(k)), len(str(v[k]))))) for k in D_list])\n",
      "        s1 = ''.join(['{0:>{1}}'.format(str(k),wd[k]) for k in D_list])\n",
      "        s2 = ''.join(['{0:>{1}.{2}G}'.format(v[k],wd[k],numdec) if isinstance(v[k], int) or isinstance(v[k], float) else '{0:>{1}}'.format(v[k], wd[k]) for k in D_list])\n",
      "        return \"\\n\" + s1 + \"\\n\" + '-'*sum(wd.values()) +\"\\n\" + s2\n",
      "\n",
      "    def __hash__(self):\n",
      "        \"Here we pretend Vecs are immutable so we can form sets of them\"\n",
      "        h = hash(frozenset(self.D))\n",
      "        for k,v in sorted(self.f.items(), key = lambda x:repr(x[0])):\n",
      "            if v != 0:\n",
      "                h = hash((h, hash(v)))\n",
      "        return h\n",
      "\n",
      "    def __repr__(self):\n",
      "        return \"Vec(\" + str(self.D) + \",\" + str(self.f) + \")\"\n",
      "\n",
      "    def copy(self):\n",
      "        \"Don't make a new copy of the domain D\"\n",
      "        return Vec(self.D, self.f.copy())"
     ],
     "language": "python",
     "metadata": {},
     "outputs": [],
     "prompt_number": 256
    },
    {
     "cell_type": "heading",
     "level": 1,
     "metadata": {},
     "source": [
      "Start testing  here"
     ]
    },
    {
     "cell_type": "heading",
     "level": 2,
     "metadata": {},
     "source": [
      "getitem"
     ]
    },
    {
     "cell_type": "code",
     "collapsed": false,
     "input": [
      "v = Vec({'a','b','c', 'd'},{'a':2,'c':1,'d':3})"
     ],
     "language": "python",
     "metadata": {},
     "outputs": [],
     "prompt_number": 152
    },
    {
     "cell_type": "code",
     "collapsed": false,
     "input": [
      "v['d']"
     ],
     "language": "python",
     "metadata": {},
     "outputs": [
      {
       "metadata": {},
       "output_type": "pyout",
       "prompt_number": 153,
       "text": [
        "3"
       ]
      }
     ],
     "prompt_number": 153
    },
    {
     "cell_type": "code",
     "collapsed": false,
     "input": [
      "v['b']"
     ],
     "language": "python",
     "metadata": {},
     "outputs": [
      {
       "metadata": {},
       "output_type": "pyout",
       "prompt_number": 154,
       "text": [
        "0"
       ]
      }
     ],
     "prompt_number": 154
    },
    {
     "cell_type": "heading",
     "level": 2,
     "metadata": {},
     "source": [
      "setitem"
     ]
    },
    {
     "cell_type": "code",
     "collapsed": false,
     "input": [
      "v = Vec({'a', 'b', 'c'}, {'b':0})\n",
      "v['b'] = 5"
     ],
     "language": "python",
     "metadata": {},
     "outputs": [],
     "prompt_number": 155
    },
    {
     "cell_type": "code",
     "collapsed": false,
     "input": [
      "v['b']"
     ],
     "language": "python",
     "metadata": {},
     "outputs": [
      {
       "metadata": {},
       "output_type": "pyout",
       "prompt_number": 156,
       "text": [
        "5"
       ]
      }
     ],
     "prompt_number": 156
    },
    {
     "cell_type": "code",
     "collapsed": false,
     "input": [
      "v['a'] = 1"
     ],
     "language": "python",
     "metadata": {},
     "outputs": [],
     "prompt_number": 157
    },
    {
     "cell_type": "code",
     "collapsed": false,
     "input": [
      "v['a']"
     ],
     "language": "python",
     "metadata": {},
     "outputs": [
      {
       "metadata": {},
       "output_type": "pyout",
       "prompt_number": 158,
       "text": [
        "1"
       ]
      }
     ],
     "prompt_number": 158
    },
    {
     "cell_type": "heading",
     "level": 2,
     "metadata": {},
     "source": [
      "equal"
     ]
    },
    {
     "cell_type": "code",
     "collapsed": false,
     "input": [
      "Vec({'a', 'b', 'c'}, {'a':0}) == Vec({'a', 'b', 'c'}, {'b':0})"
     ],
     "language": "python",
     "metadata": {},
     "outputs": [
      {
       "metadata": {},
       "output_type": "pyout",
       "prompt_number": 159,
       "text": [
        "True"
       ]
      }
     ],
     "prompt_number": 159
    },
    {
     "cell_type": "code",
     "collapsed": false,
     "input": [
      "Vec({'x','y','z'},{'y':1,'x':2}) == Vec({'x','y','z'},{'y':1,'z':0})"
     ],
     "language": "python",
     "metadata": {},
     "outputs": [
      {
       "metadata": {},
       "output_type": "pyout",
       "prompt_number": 160,
       "text": [
        "False"
       ]
      }
     ],
     "prompt_number": 160
    },
    {
     "cell_type": "code",
     "collapsed": false,
     "input": [
      "Vec({'a','b','c'}, {'a':0,'c':1}) == Vec({'a','b','c'}, {'a':0,'c':1,'b':4})"
     ],
     "language": "python",
     "metadata": {},
     "outputs": [
      {
       "metadata": {},
       "output_type": "pyout",
       "prompt_number": 161,
       "text": [
        "False"
       ]
      }
     ],
     "prompt_number": 161
    },
    {
     "cell_type": "code",
     "collapsed": false,
     "input": [
      "Vec({'a','b','c'}, {'a':0,'c':1,'b':4}) == Vec({'a','b','c'}, {'a':0,'c':1})"
     ],
     "language": "python",
     "metadata": {},
     "outputs": [
      {
       "metadata": {},
       "output_type": "pyout",
       "prompt_number": 162,
       "text": [
        "False"
       ]
      }
     ],
     "prompt_number": 162
    },
    {
     "cell_type": "code",
     "collapsed": false,
     "input": [
      "Vec({'a','b'},{'a':1}) == Vec({'a','b'},{'b':1})"
     ],
     "language": "python",
     "metadata": {},
     "outputs": [
      {
       "metadata": {},
       "output_type": "pyout",
       "prompt_number": 163,
       "text": [
        "False"
       ]
      }
     ],
     "prompt_number": 163
    },
    {
     "cell_type": "code",
     "collapsed": false,
     "input": [
      "Vec({'a','b'},{'a':1}) == Vec({'a','b'},{'a':2})"
     ],
     "language": "python",
     "metadata": {},
     "outputs": [
      {
       "metadata": {},
       "output_type": "pyout",
       "prompt_number": 164,
       "text": [
        "False"
       ]
      }
     ],
     "prompt_number": 164
    },
    {
     "cell_type": "heading",
     "level": 2,
     "metadata": {},
     "source": [
      "add"
     ]
    },
    {
     "cell_type": "code",
     "collapsed": false,
     "input": [
      "a = Vec({'a','e','i','o','u'}, {'a':0,'e':1,'i':2})\n",
      "b = Vec({'a','e','i','o','u'}, {'o':4,'u':7})\n",
      "c = Vec({'a','e','i','o','u'}, {'a':0,'e':1,'i':2,'o':4,'u':7})"
     ],
     "language": "python",
     "metadata": {},
     "outputs": [],
     "prompt_number": 175
    },
    {
     "cell_type": "code",
     "collapsed": false,
     "input": [
      "a+b==c"
     ],
     "language": "python",
     "metadata": {},
     "outputs": [
      {
       "metadata": {},
       "output_type": "pyout",
       "prompt_number": 176,
       "text": [
        "True"
       ]
      }
     ],
     "prompt_number": 176
    },
    {
     "cell_type": "code",
     "collapsed": false,
     "input": [
      "a == Vec({'a','e','i','o','u'}, {'a':0,'e':1,'i':2})"
     ],
     "language": "python",
     "metadata": {},
     "outputs": [
      {
       "metadata": {},
       "output_type": "pyout",
       "prompt_number": 177,
       "text": [
        "True"
       ]
      }
     ],
     "prompt_number": 177
    },
    {
     "cell_type": "code",
     "collapsed": false,
     "input": [
      "b == Vec({'a','e','i','o','u'}, {'o':4,'u':7})"
     ],
     "language": "python",
     "metadata": {},
     "outputs": [
      {
       "metadata": {},
       "output_type": "pyout",
       "prompt_number": 178,
       "text": [
        "True"
       ]
      }
     ],
     "prompt_number": 178
    },
    {
     "cell_type": "code",
     "collapsed": false,
     "input": [
      "d = Vec({'x','y','z'}, {'x':2,'y':1})\n",
      "e = Vec({'x','y','z'}, {'z':4,'y':-1})\n",
      "f = Vec({'x','y','z'}, {'x':2,'y':0,'z':4})\n",
      "d + e == f"
     ],
     "language": "python",
     "metadata": {},
     "outputs": [
      {
       "metadata": {},
       "output_type": "pyout",
       "prompt_number": 179,
       "text": [
        "True"
       ]
      }
     ],
     "prompt_number": 179
    },
    {
     "cell_type": "code",
     "collapsed": false,
     "input": [
      "b + Vec({'a','e','i','o','u'}, {}) == b"
     ],
     "language": "python",
     "metadata": {},
     "outputs": [
      {
       "metadata": {},
       "output_type": "pyout",
       "prompt_number": 180,
       "text": [
        "True"
       ]
      }
     ],
     "prompt_number": 180
    },
    {
     "cell_type": "heading",
     "level": 2,
     "metadata": {},
     "source": [
      "dot product"
     ]
    },
    {
     "cell_type": "code",
     "collapsed": false,
     "input": [
      "u1 = Vec({'a','b'}, {'a':1, 'b':2})\n",
      "u2 = Vec({'a','b'}, {'b':2, 'a':1})\n",
      "u1*u2\n"
     ],
     "language": "python",
     "metadata": {},
     "outputs": [
      {
       "metadata": {},
       "output_type": "pyout",
       "prompt_number": 190,
       "text": [
        "5"
       ]
      }
     ],
     "prompt_number": 190
    },
    {
     "cell_type": "code",
     "collapsed": false,
     "input": [
      "u1 == Vec({'a','b'}, {'a':1, 'b':2})"
     ],
     "language": "python",
     "metadata": {},
     "outputs": [
      {
       "metadata": {},
       "output_type": "pyout",
       "prompt_number": 191,
       "text": [
        "True"
       ]
      }
     ],
     "prompt_number": 191
    },
    {
     "cell_type": "code",
     "collapsed": false,
     "input": [
      "u2 == Vec({'a','b'}, {'b':2, 'a':1})"
     ],
     "language": "python",
     "metadata": {},
     "outputs": [
      {
       "metadata": {},
       "output_type": "pyout",
       "prompt_number": 192,
       "text": [
        "True"
       ]
      }
     ],
     "prompt_number": 192
    },
    {
     "cell_type": "code",
     "collapsed": false,
     "input": [
      "v1 = Vec({'p','q','r','s'}, {'p':2,'s':3,'q':-1,'r':0})\n",
      "v2 = Vec({'p','q','r','s'}, {'p':-2,'r':5})\n",
      "v1*v2"
     ],
     "language": "python",
     "metadata": {},
     "outputs": [
      {
       "metadata": {},
       "output_type": "pyout",
       "prompt_number": 193,
       "text": [
        "-4"
       ]
      }
     ],
     "prompt_number": 193
    },
    {
     "cell_type": "code",
     "collapsed": false,
     "input": [
      "w1 = Vec({'a','b','c'}, {'a':2,'b':3,'c':4})\n",
      "w2 = Vec({'a','b','c'}, {'a':12,'b':8,'c':6})\n",
      "w1*w2"
     ],
     "language": "python",
     "metadata": {},
     "outputs": [
      {
       "metadata": {},
       "output_type": "pyout",
       "prompt_number": 194,
       "text": [
        "72"
       ]
      }
     ],
     "prompt_number": 194
    },
    {
     "cell_type": "code",
     "collapsed": false,
     "input": [
      "v1 = Vec({1, 2}, {1 : 3, 2 : 6})\n",
      "v2 = Vec({1, 2}, {1 : 2, 2 : 1})\n",
      "v1 * v2"
     ],
     "language": "python",
     "metadata": {},
     "outputs": [
      {
       "metadata": {},
       "output_type": "pyout",
       "prompt_number": 195,
       "text": [
        "12"
       ]
      }
     ],
     "prompt_number": 195
    },
    {
     "cell_type": "heading",
     "level": 2,
     "metadata": {},
     "source": [
      "scalar & vector multiplication"
     ]
    },
    {
     "cell_type": "code",
     "collapsed": false,
     "input": [
      "zero = Vec({'x','y','z','w'}, {})\n",
      "u = Vec({'x','y','z','w'},{'x':1,'y':2,'z':3,'w':4})"
     ],
     "language": "python",
     "metadata": {},
     "outputs": [],
     "prompt_number": 257
    },
    {
     "cell_type": "code",
     "collapsed": false,
     "input": [
      "0*u == zero"
     ],
     "language": "python",
     "metadata": {},
     "outputs": [
      {
       "metadata": {},
       "output_type": "pyout",
       "prompt_number": 258,
       "text": [
        "True"
       ]
      }
     ],
     "prompt_number": 258
    },
    {
     "cell_type": "code",
     "collapsed": false,
     "input": [
      "1*u==u"
     ],
     "language": "python",
     "metadata": {},
     "outputs": [
      {
       "metadata": {},
       "output_type": "pyout",
       "prompt_number": 259,
       "text": [
        "True"
       ]
      }
     ],
     "prompt_number": 259
    },
    {
     "cell_type": "code",
     "collapsed": false,
     "input": [
      "0.5*u == Vec({'x','y','z','w'},{'x':0.5,'y':1,'z':1.5,'w':2})"
     ],
     "language": "python",
     "metadata": {},
     "outputs": [
      {
       "metadata": {},
       "output_type": "pyout",
       "prompt_number": 260,
       "text": [
        "True"
       ]
      }
     ],
     "prompt_number": 260
    },
    {
     "cell_type": "code",
     "collapsed": false,
     "input": [
      "u == Vec({'x','y','z','w'},{'x':1,'y':2,'z':3,'w':4})"
     ],
     "language": "python",
     "metadata": {},
     "outputs": [
      {
       "metadata": {},
       "output_type": "pyout",
       "prompt_number": 261,
       "text": [
        "True"
       ]
      }
     ],
     "prompt_number": 261
    },
    {
     "cell_type": "heading",
     "level": 2,
     "metadata": {},
     "source": [
      "negation of vector"
     ]
    },
    {
     "cell_type": "code",
     "collapsed": false,
     "input": [
      "u = Vec({2,4,6,8},{2:1,4:2,6:3,8:4})\n",
      "-u"
     ],
     "language": "python",
     "metadata": {},
     "outputs": [
      {
       "metadata": {},
       "output_type": "pyout",
       "prompt_number": 262,
       "text": [
        "Vec({8, 2, 4, 6},{8: -4, 2: -1, 4: -2, 6: -3})"
       ]
      }
     ],
     "prompt_number": 262
    },
    {
     "cell_type": "code",
     "collapsed": false,
     "input": [
      "Vec({8, 2, 4, 6},{8: -4, 2: -1, 4: -2, 6: -3})\n",
      "u == Vec({2,4,6,8},{2:1,4:2,6:3,8:4})"
     ],
     "language": "python",
     "metadata": {},
     "outputs": [
      {
       "metadata": {},
       "output_type": "pyout",
       "prompt_number": 263,
       "text": [
        "True"
       ]
      }
     ],
     "prompt_number": 263
    },
    {
     "cell_type": "code",
     "collapsed": false,
     "input": [
      "(-Vec({'a','b','c'}, {'a':1})).D == {'a','b','c'}"
     ],
     "language": "python",
     "metadata": {},
     "outputs": [
      {
       "metadata": {},
       "output_type": "pyout",
       "prompt_number": 264,
       "text": [
        "True"
       ]
      }
     ],
     "prompt_number": 264
    },
    {
     "cell_type": "code",
     "collapsed": false,
     "input": [],
     "language": "python",
     "metadata": {},
     "outputs": []
    }
   ],
   "metadata": {}
  }
 ]
}