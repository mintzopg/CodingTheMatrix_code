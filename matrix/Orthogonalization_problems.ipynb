{
 "cells": [
  {
   "cell_type": "code",
   "execution_count": 13,
   "metadata": {
    "collapsed": false
   },
   "outputs": [
    {
     "data": {
      "text/plain": [
       "'/home/gimin/Courses/Brown_LinearAlgebra_Coursera/matrix'"
      ]
     },
     "execution_count": 13,
     "metadata": {},
     "output_type": "execute_result"
    }
   ],
   "source": [
    "pwd"
   ]
  },
  {
   "cell_type": "code",
   "execution_count": 14,
   "metadata": {
    "collapsed": true
   },
   "outputs": [],
   "source": [
    "%qtconsole"
   ]
  },
  {
   "cell_type": "code",
   "execution_count": 15,
   "metadata": {
    "collapsed": true
   },
   "outputs": [],
   "source": [
    "from mat import Mat\n",
    "from vec import Vec\n",
    "from vecutil import list2vec\n",
    "from matutil import listlist2mat\n",
    "from matutil import coldict2mat, mat2rowdict, mat2coldict\n",
    "from dictutil import dict2list, list2dict\n",
    "import math"
   ]
  },
  {
   "cell_type": "code",
   "execution_count": 16,
   "metadata": {
    "collapsed": true
   },
   "outputs": [],
   "source": [
    "from triangular import triangular_solve"
   ]
  },
  {
   "cell_type": "markdown",
   "metadata": {},
   "source": [
    "### Projection along and projection orthogonal"
   ]
  },
  {
   "cell_type": "code",
   "execution_count": 21,
   "metadata": {
    "collapsed": false
   },
   "outputs": [],
   "source": [
    "def project_along(b, a):\n",
    "    # find b along a\n",
    "    sigma = (b*a)/(a*a) if a*a > 1e-20 else 0\n",
    "    return sigma * a\n",
    "\n",
    "def project_orthogonal(b, a):\n",
    "    #find b orthogonal to a\n",
    "    return b - project_along(b, a)"
   ]
  },
  {
   "cell_type": "code",
   "execution_count": 22,
   "metadata": {
    "collapsed": true
   },
   "outputs": [],
   "source": [
    "b1 = list2vec([3, 4]); a1 = list2vec([5, 2])"
   ]
  },
  {
   "cell_type": "code",
   "execution_count": 23,
   "metadata": {
    "collapsed": false
   },
   "outputs": [
    {
     "data": {
      "text/plain": [
       "Vec({0, 1},{0: 3.9655172413793105, 1: 1.5862068965517242})"
      ]
     },
     "execution_count": 23,
     "metadata": {},
     "output_type": "execute_result"
    }
   ],
   "source": [
    "project_along(b1, a1)"
   ]
  },
  {
   "cell_type": "code",
   "execution_count": 25,
   "metadata": {
    "collapsed": false
   },
   "outputs": [
    {
     "data": {
      "text/plain": [
       "Vec({0, 1},{0: -0.9655172413793105, 1: 2.413793103448276})"
      ]
     },
     "execution_count": 25,
     "metadata": {},
     "output_type": "execute_result"
    }
   ],
   "source": [
    "project_orthogonal(b1, a1)"
   ]
  },
  {
   "cell_type": "code",
   "execution_count": 26,
   "metadata": {
    "collapsed": true
   },
   "outputs": [],
   "source": [
    "b2 = list2vec([1, 2, 3]); a2 = list2vec([-1, 1, 1])"
   ]
  },
  {
   "cell_type": "code",
   "execution_count": 27,
   "metadata": {
    "collapsed": false
   },
   "outputs": [
    {
     "data": {
      "text/plain": [
       "Vec({0, 1, 2},{0: -1.3333333333333333, 1: 1.3333333333333333, 2: 1.3333333333333333})"
      ]
     },
     "execution_count": 27,
     "metadata": {},
     "output_type": "execute_result"
    }
   ],
   "source": [
    "project_along(b2, a2)"
   ]
  },
  {
   "cell_type": "code",
   "execution_count": 28,
   "metadata": {
    "collapsed": false
   },
   "outputs": [
    {
     "data": {
      "text/plain": [
       "Vec({0, 1, 2},{0: 2.333333333333333, 1: 0.6666666666666667, 2: 1.6666666666666667})"
      ]
     },
     "execution_count": 28,
     "metadata": {},
     "output_type": "execute_result"
    }
   ],
   "source": [
    "project_orthogonal(b2, a2)"
   ]
  },
  {
   "cell_type": "markdown",
   "metadata": {},
   "source": [
    "### Projection orthogonal to a space"
   ]
  },
  {
   "cell_type": "code",
   "execution_count": 29,
   "metadata": {
    "collapsed": false
   },
   "outputs": [],
   "source": [
    "def project_orthogonal(b, vlist):\n",
    "    ''' Returns vector b orthognal to space of vlist, when vecs in vlist are mutually orthogonal'''\n",
    "    for v in vlist:\n",
    "        b = b - project_along(b, v)\n",
    "        #print (\"Step:\", b)\n",
    "    return b"
   ]
  },
  {
   "cell_type": "code",
   "execution_count": 30,
   "metadata": {
    "collapsed": false
   },
   "outputs": [],
   "source": [
    "def orthogonalize(vlist):\n",
    "    ''' input: A list [v1 , . . . , vn ] of vectors over the reals\n",
    "        output: A list of mutually orthogonal vectors v*1,...,v*n n such that\n",
    "        Span { v*1 ,..., v*n} = Span {v1 , . . . , vn }\n",
    "    '''\n",
    "    vstarlist = []\n",
    "    for v in vlist:\n",
    "        vstarlist.append(project_orthogonal(v, vstarlist))\n",
    "    return vstarlist"
   ]
  },
  {
   "cell_type": "code",
   "execution_count": 31,
   "metadata": {
    "collapsed": false,
    "scrolled": true
   },
   "outputs": [],
   "source": [
    "b = list2vec([5, 2]); vlist = ([list2vec([3, 4]), list2vec([-12.64, 9.48])])"
   ]
  },
  {
   "cell_type": "code",
   "execution_count": 32,
   "metadata": {
    "collapsed": false
   },
   "outputs": [
    {
     "data": {
      "text/plain": [
       "Vec({0, 1},{0: 0.0, 1: -4.440892098500626e-16})"
      ]
     },
     "execution_count": 32,
     "metadata": {},
     "output_type": "execute_result"
    }
   ],
   "source": [
    "project_orthogonal(b, vlist)"
   ]
  },
  {
   "cell_type": "code",
   "execution_count": 33,
   "metadata": {
    "collapsed": true
   },
   "outputs": [],
   "source": [
    "b =list2vec([1, 2, 3]); vlist = ([list2vec([-1, 1, 1]), list2vec([7.67, 4.33, 3.33])])"
   ]
  },
  {
   "cell_type": "code",
   "execution_count": 34,
   "metadata": {
    "collapsed": false
   },
   "outputs": [
    {
     "data": {
      "text/plain": [
       "Vec({0, 1, 2},{0: 0.0554018588714813, 1: -0.6193102934923709, 2: 0.6776820760593698})"
      ]
     },
     "execution_count": 34,
     "metadata": {},
     "output_type": "execute_result"
    }
   ],
   "source": [
    "project_orthogonal(b, vlist)"
   ]
  },
  {
   "cell_type": "markdown",
   "metadata": {},
   "source": [
    "### Othogonal Complement"
   ]
  },
  {
   "cell_type": "code",
   "execution_count": 35,
   "metadata": {
    "collapsed": true
   },
   "outputs": [],
   "source": [
    "## 1: (Problem 1) Generators for orthogonal complement\n",
    "U_vecs_1 = [list2vec([0,0,3,2])]\n",
    "W_vecs_1 = [list2vec(v) for v in [[1,2,-3,-1],[1,2,0,1],[3,1,0,-1],[-1,-2,3,1]]]"
   ]
  },
  {
   "cell_type": "code",
   "execution_count": 36,
   "metadata": {
    "collapsed": false
   },
   "outputs": [],
   "source": [
    "u1, w1, w2, w3, w4 = orthogonalize(U_vecs_1 + W_vecs_1)"
   ]
  },
  {
   "cell_type": "code",
   "execution_count": 37,
   "metadata": {
    "collapsed": false
   },
   "outputs": [
    {
     "name": "stdout",
     "output_type": "stream",
     "text": [
      "\n",
      " 0 1      2     3\n",
      "-----------------\n",
      " 1 2 -0.462 0.692 \n",
      " 0 1        2 3\n",
      "---------------\n",
      " 0 0 1.11E-16 0 \n",
      "    0      1     2     3\n",
      "------------------------\n",
      " 2.24 -0.514 0.811 -1.22 \n",
      " 0 1 2 3\n",
      "--------\n",
      " 0 0 0 0\n"
     ]
    }
   ],
   "source": [
    "print (w1, w2, w3, w4)"
   ]
  },
  {
   "cell_type": "code",
   "execution_count": 38,
   "metadata": {
    "collapsed": false
   },
   "outputs": [
    {
     "data": {
      "text/plain": [
       "[Vec({0, 1, 2, 3},{0: 1.0, 1: 2.0, 2: -0.4615384615384617, 3: 0.6923076923076923}),\n",
       " Vec({0, 1, 2, 3},{0: 0.0, 1: 0.0, 2: 1.1102230246251565e-16, 3: 0.0}),\n",
       " Vec({0, 1, 2, 3},{0: 2.2432432432432434, 1: -0.5135135135135134, 2: 0.810810810810811, 3: -1.2162162162162162})]"
      ]
     },
     "execution_count": 38,
     "metadata": {},
     "output_type": "execute_result"
    }
   ],
   "source": [
    "[w1, w2, w3]"
   ]
  },
  {
   "cell_type": "code",
   "execution_count": 39,
   "metadata": {
    "collapsed": true
   },
   "outputs": [],
   "source": [
    "U_vecs_2 = [list2vec([3,0,1])]\n",
    "W_vecs_2 = [list2vec(v) for v in [[1,0,0],[1,0,1]]]"
   ]
  },
  {
   "cell_type": "code",
   "execution_count": 40,
   "metadata": {
    "collapsed": false
   },
   "outputs": [],
   "source": [
    "u1, w1, w2 = orthogonalize(U_vecs_2 + W_vecs_2)"
   ]
  },
  {
   "cell_type": "code",
   "execution_count": 41,
   "metadata": {
    "collapsed": false
   },
   "outputs": [
    {
     "name": "stdout",
     "output_type": "stream",
     "text": [
      "\n",
      " 0 1 2\n",
      "------\n",
      " 3 0 1 \n",
      "   0 1    2\n",
      "-----------\n",
      " 0.1 0 -0.3 \n",
      " 0 1 2\n",
      "------\n",
      " 0 0 0\n"
     ]
    }
   ],
   "source": [
    "print (u1, w1, w2)"
   ]
  },
  {
   "cell_type": "code",
   "execution_count": 42,
   "metadata": {
    "collapsed": false
   },
   "outputs": [
    {
     "data": {
      "text/plain": [
       "[Vec({0, 1, 2},{0: 0.10000000000000009, 1: 0.0, 2: -0.3})]"
      ]
     },
     "execution_count": 42,
     "metadata": {},
     "output_type": "execute_result"
    }
   ],
   "source": [
    "[w1]"
   ]
  },
  {
   "cell_type": "code",
   "execution_count": 43,
   "metadata": {
    "collapsed": true
   },
   "outputs": [],
   "source": [
    "U_vecs_3 = [list2vec(v) for v in [[-4,3,1,-2],[-2,2,3,-1]]]\n",
    "W_vecs_3 = [list2vec(v) for v in [[1,0,0,0],[0,1,0,0],[0,0,1,0],[0,0,0,1]]]"
   ]
  },
  {
   "cell_type": "code",
   "execution_count": 44,
   "metadata": {
    "collapsed": true
   },
   "outputs": [],
   "source": [
    "u1, u2, w1, w2, w3, w4 = orthogonalize(U_vecs_3+W_vecs_3)"
   ]
  },
  {
   "cell_type": "code",
   "execution_count": 45,
   "metadata": {
    "collapsed": false
   },
   "outputs": [
    {
     "name": "stdout",
     "output_type": "stream",
     "text": [
      "\n",
      "     0     1       2      3\n",
      "---------------------------\n",
      " 0.419 0.391 -0.0782 -0.291 \n",
      "         0     1       2     3\n",
      "------------------------------\n",
      " -1.11E-16 0.333 -0.0667 0.467 \n",
      "        0         1         2 3\n",
      "-------------------------------\n",
      " 5.55E-18 -4.16E-17 -1.93E-16 0 \n",
      "        0        1         2         3\n",
      "--------------------------------------\n",
      " 2.11E-16 2.22E-16 -1.39E-17 -2.22E-16\n"
     ]
    }
   ],
   "source": [
    "print (w1, w2, w3, w4)"
   ]
  },
  {
   "cell_type": "code",
   "execution_count": 46,
   "metadata": {
    "collapsed": false
   },
   "outputs": [
    {
     "data": {
      "text/plain": [
       "[Vec({0, 1, 2, 3},{0: 0.41899441340782123, 1: 0.3910614525139665, 2: -0.07821229050279327, 3: -0.29050279329608936}),\n",
       " Vec({0, 1, 2, 3},{0: -1.1102230246251565e-16, 1: 0.33333333333333315, 2: -0.06666666666666665, 3: 0.46666666666666673})]"
      ]
     },
     "execution_count": 46,
     "metadata": {},
     "output_type": "execute_result"
    }
   ],
   "source": [
    "[w1, w2]"
   ]
  },
  {
   "cell_type": "code",
   "execution_count": 47,
   "metadata": {
    "collapsed": false
   },
   "outputs": [],
   "source": [
    "# 2 Use Orthogonal complement to find a basis for the null space of A = [[-4, -1, -3, -2], [0, 4, 0, 1-1]]\n",
    "a1 = list2vec([-4, -1, -3, -2]); a2 = list2vec([0, 4, 0, -1])\n",
    "e_R4_vecs = [list2vec(v) for v in [[1,0,0,0],[0,1,0,0],[0,0,1,0],[0,0,0,1]]] # standard basis vecs for R4"
   ]
  },
  {
   "cell_type": "code",
   "execution_count": 48,
   "metadata": {
    "collapsed": true
   },
   "outputs": [],
   "source": [
    "a1_star, a2_star, e1_star, e2_star, e3_star, e4_star = orthogonalize([a1, a2] + e_R4_vecs)"
   ]
  },
  {
   "cell_type": "code",
   "execution_count": 49,
   "metadata": {
    "collapsed": false
   },
   "outputs": [
    {
     "name": "stdout",
     "output_type": "stream",
     "text": [
      "\n",
      "     0       1      2      3\n",
      "----------------------------\n",
      " 0.462 -0.0711 -0.403 -0.285 \n",
      " 0      1      2     3\n",
      "----------------------\n",
      " 0 0.0385 -0.115 0.154 \n",
      " 0        1 2         3\n",
      "-----------------------\n",
      " 0 6.94E-17 0 -5.55E-17 \n",
      "         0         1         2 3\n",
      "--------------------------------\n",
      " -5.55E-17 -8.33E-17 -1.11E-16 0\n"
     ]
    }
   ],
   "source": [
    "# find the non-zero vectors among e_star(i)\n",
    "print (e1_star, e2_star, e3_star, e4_star)"
   ]
  },
  {
   "cell_type": "code",
   "execution_count": 50,
   "metadata": {
    "collapsed": false
   },
   "outputs": [
    {
     "data": {
      "text/plain": [
       "[Vec({0, 1, 2, 3},{0: 0.4624505928853755, 1: -0.07114624505928856, 2: -0.4031620553359684, 3: -0.2845849802371541}),\n",
       " Vec({0, 1, 2, 3},{0: 0.0, 1: 0.038461538461538505, 2: -0.11538461538461539, 3: 0.15384615384615388})]"
      ]
     },
     "execution_count": 50,
     "metadata": {},
     "output_type": "execute_result"
    }
   ],
   "source": [
    "[e1_star, e2_star]"
   ]
  },
  {
   "cell_type": "code",
   "execution_count": 51,
   "metadata": {
    "collapsed": false
   },
   "outputs": [
    {
     "ename": "NameError",
     "evalue": "name 'a' is not defined",
     "output_type": "error",
     "traceback": [
      "\u001b[1;31m---------------------------------------------------------------------------\u001b[0m",
      "\u001b[1;31mNameError\u001b[0m                                 Traceback (most recent call last)",
      "\u001b[1;32m<ipython-input-51-3e7e609e415d>\u001b[0m in \u001b[0;36m<module>\u001b[1;34m()\u001b[0m\n\u001b[0;32m      1\u001b[0m \u001b[1;31m# Ungraded Task\u001b[0m\u001b[1;33m\u001b[0m\u001b[1;33m\u001b[0m\u001b[0m\n\u001b[1;32m----> 2\u001b[1;33m \u001b[0mD\u001b[0m \u001b[1;33m=\u001b[0m\u001b[1;33m{\u001b[0m\u001b[0ma\u001b[0m\u001b[1;33m,\u001b[0m \u001b[0mb\u001b[0m\u001b[1;33m}\u001b[0m\u001b[1;33m\u001b[0m\u001b[0m\n\u001b[0m\u001b[0;32m      3\u001b[0m \u001b[0mvlist\u001b[0m \u001b[1;33m=\u001b[0m \u001b[1;33m[\u001b[0m\u001b[0mVec\u001b[0m\u001b[1;33m(\u001b[0m\u001b[0mD\u001b[0m\u001b[1;33m,\u001b[0m \u001b[1;33m{\u001b[0m\u001b[0ma\u001b[0m\u001b[1;33m:\u001b[0m\u001b[1;36m2\u001b[0m\u001b[1;33m,\u001b[0m\u001b[0mb\u001b[0m\u001b[1;33m:\u001b[0m\u001b[1;36m5\u001b[0m\u001b[1;33m}\u001b[0m\u001b[1;33m)\u001b[0m\u001b[1;33m,\u001b[0m \u001b[0mVec\u001b[0m\u001b[1;33m(\u001b[0m\u001b[0mD\u001b[0m\u001b[1;33m,\u001b[0m \u001b[1;33m{\u001b[0m\u001b[0ma\u001b[0m\u001b[1;33m:\u001b[0m\u001b[1;36m8\u001b[0m\u001b[1;33m,\u001b[0m\u001b[0mb\u001b[0m\u001b[1;33m:\u001b[0m\u001b[1;36m10\u001b[0m\u001b[1;33m}\u001b[0m\u001b[1;33m)\u001b[0m\u001b[1;33m,\u001b[0m \u001b[0mVec\u001b[0m\u001b[1;33m(\u001b[0m\u001b[0mD\u001b[0m\u001b[1;33m,\u001b[0m\u001b[1;33m{\u001b[0m\u001b[0ma\u001b[0m\u001b[1;33m:\u001b[0m\u001b[1;33m-\u001b[0m\u001b[1;36m4\u001b[0m\u001b[1;33m,\u001b[0m\u001b[0mb\u001b[0m\u001b[1;33m:\u001b[0m\u001b[1;36m12\u001b[0m\u001b[1;33m}\u001b[0m\u001b[1;33m)\u001b[0m\u001b[1;33m,\u001b[0m \u001b[0mVec\u001b[0m\u001b[1;33m(\u001b[0m\u001b[0mD\u001b[0m\u001b[1;33m,\u001b[0m\u001b[1;33m{\u001b[0m\u001b[0ma\u001b[0m\u001b[1;33m:\u001b[0m\u001b[1;36m1\u001b[0m\u001b[1;33m,\u001b[0m\u001b[0mb\u001b[0m\u001b[1;33m:\u001b[0m\u001b[1;33m-\u001b[0m\u001b[1;36m4\u001b[0m\u001b[1;33m}\u001b[0m\u001b[1;33m)\u001b[0m\u001b[1;33m]\u001b[0m\u001b[1;33m\u001b[0m\u001b[0m\n",
      "\u001b[1;31mNameError\u001b[0m: name 'a' is not defined"
     ]
    }
   ],
   "source": [
    "# Ungraded Task\n",
    "D ={a, b}\n",
    "vlist = [Vec(D, {a:2,b:5}), Vec(D, {a:8,b:10}), Vec(D,{a:-4,b:12}), Vec(D,{a:1,b:-4})]"
   ]
  },
  {
   "cell_type": "code",
   "execution_count": 52,
   "metadata": {
    "collapsed": true
   },
   "outputs": [],
   "source": [
    "v_star_list = orthogonalize(vlist)"
   ]
  },
  {
   "cell_type": "code",
   "execution_count": 53,
   "metadata": {
    "collapsed": false
   },
   "outputs": [],
   "source": [
    "def aug_project_orthogonal(b, vlist):\n",
    "    ''' \n",
    "    Writing b= α0*v0+...+αn*vn+1*b_orthogonal  (b = b_orthogonal+b_parallel)\n",
    "    , we can augment the project_orthogonal fucn. to output the vector of coefficients (returned as a dictionary)\n",
    "    '''\n",
    "    alphadict = {len(vlist):1}\n",
    "    for i in range(len(vlist)):\n",
    "        v = vlist[i]\n",
    "        sigma = (b*v)/(v*v) if v*v > 0 else 0\n",
    "        alphadict[i] = sigma\n",
    "        b = b - sigma*v\n",
    "    return (b, alphadict)"
   ]
  },
  {
   "cell_type": "code",
   "execution_count": 54,
   "metadata": {
    "collapsed": true
   },
   "outputs": [],
   "source": [
    "def aug_orthogonalize(vlist):\n",
    "    vstarlist = []\n",
    "    r_vecs = []\n",
    "    D = set(range(len(vlist)))\n",
    "    for v in vlist:\n",
    "        (vstar, alphadict) = aug_project_orthogonal(v, vstarlist)\n",
    "        vstarlist.append(vstar)\n",
    "        r_vecs.append(Vec(D, alphadict))\n",
    "        \n",
    "    return vstarlist, r_vecs"
   ]
  },
  {
   "cell_type": "code",
   "execution_count": 55,
   "metadata": {
    "collapsed": true
   },
   "outputs": [],
   "source": [
    "T = Mat(({0, 1, 2, 3}, {0, 1, 2, 3}), {(0, 0):1, (0, 1):2.28, (0, 2):1.79, (0, 3):-0.621, \\\n",
    "                                       (1, 1):1, (1, 2):-2.2, (1, 3):0.65, \\\n",
    "                                       (2, 2):1, \\\n",
    "                                       (3, 3):1})"
   ]
  },
  {
   "cell_type": "code",
   "execution_count": 56,
   "metadata": {
    "collapsed": true
   },
   "outputs": [],
   "source": [
    "from Dimension_problems import find_triangular_matrix_inverse"
   ]
  },
  {
   "cell_type": "code",
   "execution_count": 57,
   "metadata": {
    "collapsed": true
   },
   "outputs": [],
   "source": [
    "T_inv = find_triangular_matrix_inverse(T)"
   ]
  },
  {
   "cell_type": "code",
   "execution_count": 58,
   "metadata": {
    "collapsed": false
   },
   "outputs": [
    {
     "name": "stdout",
     "output_type": "stream",
     "text": [
      "\n",
      "       0     1     2     3\n",
      "     ---------------------\n",
      " 0  |  1 -2.28 -6.81   2.1\n",
      " 1  |  0     1   2.2 -0.65\n",
      " 2  |  0     0     1     0\n",
      " 3  |  0     0     0     1\n",
      "\n"
     ]
    }
   ],
   "source": [
    " print (T_inv)"
   ]
  },
  {
   "cell_type": "markdown",
   "metadata": {},
   "source": [
    "### Define normalization function as a lambda"
   ]
  },
  {
   "cell_type": "code",
   "execution_count": 59,
   "metadata": {
    "collapsed": true
   },
   "outputs": [],
   "source": [
    "# def normalize(v): return v/math.sqrt(v*v)\n",
    "normalize = lambda v:v/math.sqrt(v*v)"
   ]
  },
  {
   "cell_type": "code",
   "execution_count": 60,
   "metadata": {
    "collapsed": false
   },
   "outputs": [
    {
     "name": "stdout",
     "output_type": "stream",
     "text": [
      "\n",
      "     0     1     2\n",
      "------------------\n",
      " 0.577 0.577 0.577\n"
     ]
    }
   ],
   "source": [
    "print (normalize(list2vec([1, 1, 1])))"
   ]
  },
  {
   "cell_type": "code",
   "execution_count": 61,
   "metadata": {
    "collapsed": true
   },
   "outputs": [],
   "source": [
    "## 3: (Problem 3) Orthonormalize(L)\n",
    "def orthonormalize(L):\n",
    "    '''\n",
    "    Input: a list L of linearly independent Vecs\n",
    "    Output: A list Lstar of len(L) orthonormal Vecs such that, for all i in range(len(L)),\n",
    "            Span L[:i+1] == Span Lstar[:i+1]\n",
    "\n",
    "    >>> from vec import Vec\n",
    "    >>> D = {'a','b','c','d'}\n",
    "    >>> L = [Vec(D, {'a':4,'b':3,'c':1,'d':2}), Vec(D, {'a':8,'b':9,'c':-5,'d':-5}), Vec(D, {'a':10,'b':1,'c':-1,'d':5})]\n",
    "    >>> for v in orthonormalize(L): print(v)\n",
    "    ... \n",
    "    <BLANKLINE>\n",
    "        a     b     c     d\n",
    "    -----------------------\n",
    "     0.73 0.548 0.183 0.365\n",
    "    <BLANKLINE>\n",
    "         a     b      c      d\n",
    "    --------------------------\n",
    "     0.187 0.403 -0.566 -0.695\n",
    "    <BLANKLINE>\n",
    "         a      b      c     d\n",
    "    --------------------------\n",
    "     0.528 -0.653 -0.512 0.181\n",
    "    '''\n",
    "    vstarlist, r_vecs = aug_orthogonalize(L) #obrain V* veclist and matrix T\n",
    "    Q = [normalize(v) for v in vstarlist] # obtain the Q matrix as a list of vecs\n",
    "    return Q\n",
    "    "
   ]
  },
  {
   "cell_type": "code",
   "execution_count": 62,
   "metadata": {
    "collapsed": false
   },
   "outputs": [
    {
     "name": "stdout",
     "output_type": "stream",
     "text": [
      "\n",
      "    a     b     c     d\n",
      "-----------------------\n",
      " 0.73 0.548 0.183 0.365\n",
      "\n",
      "     a     b      c      d\n",
      "--------------------------\n",
      " 0.187 0.403 -0.566 -0.695\n",
      "\n",
      "     a      b      c     d\n",
      "--------------------------\n",
      " 0.528 -0.653 -0.512 0.181\n"
     ]
    }
   ],
   "source": [
    "D = {'a','b','c','d'}\n",
    "L = [Vec(D, {'a':4,'b':3,'c':1,'d':2}), Vec(D, {'a':8,'b':9,'c':-5,'d':-5}), Vec(D, {'a':10,'b':1,'c':-1,'d':5})]\n",
    "for v in orthonormalize(L): print(v)"
   ]
  },
  {
   "cell_type": "code",
   "execution_count": 63,
   "metadata": {
    "collapsed": false
   },
   "outputs": [],
   "source": [
    "L = [list2vec([4, 3, 1, 2]), list2vec([8, 9, -5, -5]), list2vec([10, 1, -1, 5])]"
   ]
  },
  {
   "cell_type": "code",
   "execution_count": 64,
   "metadata": {
    "collapsed": false
   },
   "outputs": [
    {
     "data": {
      "text/plain": [
       "[Vec({0, 1, 2, 3},{0: 0.7302967433402214, 1: 0.5477225575051661, 2: 0.18257418583505536, 3: 0.3651483716701107}),\n",
       " Vec({0, 1, 2, 3},{0: 0.1867707814860146, 1: 0.4027244975792189, 2: -0.5661489313794816, 3: -0.6945538436511166}),\n",
       " Vec({0, 1, 2, 3},{0: 0.5275409009423367, 1: -0.6531216993058959, 2: -0.5123087286340884, 3: 0.18075511139121447})]"
      ]
     },
     "execution_count": 64,
     "metadata": {},
     "output_type": "execute_result"
    }
   ],
   "source": [
    "orthonormalize(L)"
   ]
  },
  {
   "cell_type": "code",
   "execution_count": 65,
   "metadata": {
    "collapsed": false
   },
   "outputs": [],
   "source": [
    "## 4: (Problem 4) aug_orthonormalize(L)\n",
    "def aug_orthonormalize(L):\n",
    "    '''\n",
    "    Input:\n",
    "        - L: a list of Vecs\n",
    "    Output:\n",
    "        - A pair Qlist, Rlist such that:\n",
    "            * coldict2mat(L) == coldict2mat(Qlist) * coldict2mat(Rlist)\n",
    "            * Qlist = orthonormalize(L)\n",
    "            \n",
    "    >>> from vec import Vec\n",
    "    >>> D={'a','b','c','d'}\n",
    "    >>> L = [Vec(D, {'a':4,'b':3,'c':1,'d':2}), Vec(D, {'a':8,'b':9,'c':-5,'d':-5}), Vec(D, {'a':10,'b':1,'c':-1,'d':5})]\n",
    "    >>> Qlist, Rlist = aug_orthonormalize(L)\n",
    "    >>> from matutil import coldict2mat\n",
    "    >>> print(coldict2mat(Qlist))\n",
    "    <BLANKLINE>\n",
    "               0      1      2\n",
    "         ---------------------\n",
    "     a  |   0.73  0.187  0.528\n",
    "     b  |  0.548  0.403 -0.653\n",
    "     c  |  0.183 -0.566 -0.512\n",
    "     d  |  0.365 -0.695  0.181\n",
    "    <BLANKLINE>\n",
    "    >>> print(coldict2mat(Rlist))\n",
    "    <BLANKLINE>\n",
    "              0    1      2\n",
    "         ------------------\n",
    "     0  |  5.48 8.03   9.49\n",
    "     1  |     0 11.4 -0.636\n",
    "     2  |     0    0   6.04\n",
    "    <BLANKLINE>\n",
    "    >>> print(coldict2mat(Qlist)*coldict2mat(Rlist))\n",
    "    <BLANKLINE>\n",
    "           0  1  2\n",
    "         ---------\n",
    "     a  |  4  8 10\n",
    "     b  |  3  9  1\n",
    "     c  |  1 -5 -1\n",
    "     d  |  2 -5  5\n",
    "    <BLANKLINE>\n",
    "    '''\n",
    "    vstarlist, r_vecs = aug_orthogonalize(L)    # get Rlist vecs\n",
    "    Qlist = [normalize(v) for v in vstarlist]   # get Qmatrix\n",
    "    \n",
    "    # transform r_vecs to Rlist by multiplying the rows with the norms of vecs in vstar list\n",
    "    for i in range(len(r_vecs)):\n",
    "        for j in r_vecs[i].D:\n",
    "            r_vecs[i][j] = r_vecs[i][j]*math.sqrt(vstarlist[j]*vstarlist[j])\n",
    "    \n",
    "    return Qlist, r_vecs"
   ]
  },
  {
   "cell_type": "code",
   "execution_count": 66,
   "metadata": {
    "collapsed": false,
    "scrolled": true
   },
   "outputs": [
    {
     "name": "stdout",
     "output_type": "stream",
     "text": [
      "\n",
      "       0  1  2\n",
      "     ---------\n",
      " 0  |  4  8 10\n",
      " 1  |  3  9  1\n",
      " 2  |  1 -5 -1\n",
      " 3  |  2 -5  5\n",
      "\n"
     ]
    }
   ],
   "source": [
    "L = [list2vec(v) for v in [[4,3,1,2],[8,9,-5,-5],[10,1,-1,5]]]\n",
    "print(coldict2mat(L))"
   ]
  },
  {
   "cell_type": "code",
   "execution_count": 67,
   "metadata": {
    "collapsed": false
   },
   "outputs": [
    {
     "name": "stdout",
     "output_type": "stream",
     "text": [
      "\n",
      "           0      1      2\n",
      "     ---------------------\n",
      " 0  |   0.73  0.187  0.528\n",
      " 1  |  0.548  0.403 -0.653\n",
      " 2  |  0.183 -0.566 -0.512\n",
      " 3  |  0.365 -0.695  0.181\n",
      "\n"
     ]
    }
   ],
   "source": [
    "Qlist, Rlist = aug_orthonormalize(L)\n",
    "print(coldict2mat(Qlist))"
   ]
  },
  {
   "cell_type": "code",
   "execution_count": 68,
   "metadata": {
    "collapsed": false,
    "scrolled": true
   },
   "outputs": [
    {
     "name": "stdout",
     "output_type": "stream",
     "text": [
      "\n",
      "          0    1      2\n",
      "     ------------------\n",
      " 0  |  5.48 8.03   9.49\n",
      " 1  |     0 11.4 -0.636\n",
      " 2  |     0    0   6.04\n",
      "\n"
     ]
    }
   ],
   "source": [
    "print(coldict2mat(Rlist))"
   ]
  },
  {
   "cell_type": "code",
   "execution_count": 69,
   "metadata": {
    "collapsed": false,
    "scrolled": true
   },
   "outputs": [
    {
     "name": "stdout",
     "output_type": "stream",
     "text": [
      "\n",
      "       0  1  2\n",
      "     ---------\n",
      " 0  |  4  8 10\n",
      " 1  |  3  9  1\n",
      " 2  |  1 -5 -1\n",
      " 3  |  2 -5  5\n",
      "\n"
     ]
    }
   ],
   "source": [
    "print(coldict2mat(Qlist)*coldict2mat(Rlist))"
   ]
  },
  {
   "cell_type": "code",
   "execution_count": 70,
   "metadata": {
    "collapsed": true
   },
   "outputs": [],
   "source": [
    "L = [list2vec([6, 2, 3]), list2vec([6, 0, 3])]"
   ]
  },
  {
   "cell_type": "code",
   "execution_count": 71,
   "metadata": {
    "collapsed": true
   },
   "outputs": [],
   "source": [
    "Qlist, Rlist = aug_orthonormalize(L)"
   ]
  },
  {
   "cell_type": "code",
   "execution_count": 72,
   "metadata": {
    "collapsed": false,
    "scrolled": true
   },
   "outputs": [
    {
     "name": "stdout",
     "output_type": "stream",
     "text": [
      "\n",
      "           0      1\n",
      "     --------------\n",
      " 0  |  0.857  0.256\n",
      " 1  |  0.286 -0.958\n",
      " 2  |  0.429  0.128\n",
      "\n",
      "\n",
      "       0    1\n",
      "     --------\n",
      " 0  |  7 6.43\n",
      " 1  |  0 1.92\n",
      "\n"
     ]
    }
   ],
   "source": [
    "print (coldict2mat(Qlist))\n",
    "print (coldict2mat(Rlist))"
   ]
  },
  {
   "cell_type": "code",
   "execution_count": 73,
   "metadata": {
    "collapsed": true
   },
   "outputs": [],
   "source": [
    "L = [list2vec([2, 2, 1]), list2vec([3, 1, 1])]"
   ]
  },
  {
   "cell_type": "code",
   "execution_count": 74,
   "metadata": {
    "collapsed": true
   },
   "outputs": [],
   "source": [
    "Qlist, Rlist = aug_orthonormalize(L)"
   ]
  },
  {
   "cell_type": "code",
   "execution_count": 75,
   "metadata": {
    "collapsed": false
   },
   "outputs": [
    {
     "name": "stdout",
     "output_type": "stream",
     "text": [
      "\n",
      "           0      1\n",
      "     --------------\n",
      " 0  |  0.667  0.707\n",
      " 1  |  0.667 -0.707\n",
      " 2  |  0.333      0\n",
      "\n",
      "\n",
      "       0    1\n",
      "     --------\n",
      " 0  |  3    3\n",
      " 1  |  0 1.41\n",
      "\n"
     ]
    }
   ],
   "source": [
    "print (coldict2mat(Qlist))\n",
    "print (coldict2mat(Rlist))"
   ]
  },
  {
   "cell_type": "code",
   "execution_count": 76,
   "metadata": {
    "collapsed": true
   },
   "outputs": [],
   "source": [
    "def QR_factor(A):\n",
    "    col_labels = sorted(A.D[1], key=repr)\n",
    "    Acols = dict2list(mat2coldict(A),col_labels)\n",
    "    Qlist, Rlist = aug_orthonormalize(Acols)\n",
    "    #Now make Mats\n",
    "    Q = coldict2mat(Qlist)\n",
    "    R = coldict2mat(list2dict(Rlist, col_labels))\n",
    "    return Q,R"
   ]
  },
  {
   "cell_type": "code",
   "execution_count": 77,
   "metadata": {
    "collapsed": true
   },
   "outputs": [],
   "source": [
    "def QR_solve(A, b):\n",
    "    '''\n",
    "    Input:\n",
    "        - A: a Mat with linearly independent columns\n",
    "        - b: a Vec whose domain equals the set of row-labels of A\n",
    "    Output:\n",
    "        - vector x that minimizes norm(b - A*x)\n",
    "    Note: This procedure uses the procedure QR_factor, which in turn uses dict2list and list2dict.\n",
    "           You wrote these procedures long back in python_lab.  Make sure the completed python_lab.py\n",
    "           is in your matrix directory.\n",
    "    Example:\n",
    "        >>> domain = ({'a','b','c'},{'A','B'})\n",
    "        >>> A = Mat(domain,{('a','A'):-1, ('a','B'):2,('b','A'):5, ('b','B'):3,('c','A'):1,('c','B'):-2})\n",
    "        >>> Q, R = QR_factor(A)\n",
    "        >>> b = Vec(domain[0], {'a': 1, 'b': -1})\n",
    "        >>> x = QR_solve(A, b)\n",
    "        >>> result = A.transpose()*(b-A*x)\n",
    "        >>> result.is_almost_zero()\n",
    "        True\n",
    "    '''\n",
    "    Q, R =QR_factor(A)    # A= Q*R\n",
    "    c = Q.transpose()*b   # compute c\n",
    "    # solve R*x = c using backward substitution\n",
    "    rowlist = mat2rowdict(R)\n",
    "    labelslist = sorted(A.D[1], key=repr)\n",
    "    return triangular_solve(rowlist, labelslist, c)"
   ]
  },
  {
   "cell_type": "code",
   "execution_count": 81,
   "metadata": {
    "collapsed": false
   },
   "outputs": [],
   "source": [
    "domain = ({'a','b','c'},{'A','B'})\n",
    "A = Mat(domain,{('a','A'):-1, ('a','B'):2,('b','A'):5, ('b','B'):3,('c','A'):1,('c','B'):-2})\n",
    "Q, R = QR_factor(A)\n",
    "b = Vec(domain[0], {'a': 1, 'b': -1})"
   ]
  },
  {
   "cell_type": "code",
   "execution_count": 82,
   "metadata": {
    "collapsed": false
   },
   "outputs": [],
   "source": [
    "x = QR_solve(A, b)"
   ]
  },
  {
   "cell_type": "code",
   "execution_count": 83,
   "metadata": {
    "collapsed": false
   },
   "outputs": [
    {
     "data": {
      "text/plain": [
       "Vec({'B', 'A'},{'B': 0.11538461538461534, 'A': -0.2692307692307692})"
      ]
     },
     "execution_count": 83,
     "metadata": {},
     "output_type": "execute_result"
    }
   ],
   "source": [
    "x"
   ]
  },
  {
   "cell_type": "code",
   "execution_count": 84,
   "metadata": {
    "collapsed": false
   },
   "outputs": [],
   "source": [
    "result = A.transpose()*(b-A*x)"
   ]
  },
  {
   "cell_type": "code",
   "execution_count": 85,
   "metadata": {
    "collapsed": false
   },
   "outputs": [
    {
     "data": {
      "text/plain": [
       "True"
      ]
     },
     "execution_count": 85,
     "metadata": {},
     "output_type": "execute_result"
    }
   ],
   "source": [
    "result.is_almost_zero()"
   ]
  },
  {
   "cell_type": "markdown",
   "metadata": {},
   "source": [
    "Problem #7"
   ]
  },
  {
   "cell_type": "code",
   "execution_count": 91,
   "metadata": {
    "collapsed": true
   },
   "outputs": [],
   "source": [
    "A1 = listlist2mat([[8, 1], [6, 2], [0, 6]])\n",
    "b1 = list2vec([10, 8, 6])\n",
    "A2 = listlist2mat([[3, 1], [4, 1], [5, 1]])\n",
    "b2 = list2vec([10, 13, 15])"
   ]
  },
  {
   "cell_type": "code",
   "execution_count": 92,
   "metadata": {
    "collapsed": false
   },
   "outputs": [
    {
     "name": "stdout",
     "output_type": "stream",
     "text": [
      "\n",
      "       0 1\n",
      "     -----\n",
      " 0  |  8 1\n",
      " 1  |  6 2\n",
      " 2  |  0 6\n",
      "\n",
      "\n",
      "  0 1 2\n",
      "-------\n",
      " 10 8 6\n",
      "\n",
      "       0 1\n",
      "     -----\n",
      " 0  |  3 1\n",
      " 1  |  4 1\n",
      " 2  |  5 1\n",
      "\n",
      "\n",
      "  0  1  2\n",
      "---------\n",
      " 10 13 15\n"
     ]
    }
   ],
   "source": [
    "print (A1)\n",
    "print (b1)\n",
    "print (A2)\n",
    "print (b2)"
   ]
  },
  {
   "cell_type": "code",
   "execution_count": 94,
   "metadata": {
    "collapsed": true
   },
   "outputs": [],
   "source": [
    "x1_hat = QR_solve(A1, b1)\n",
    "x2_hat = QR_solve(A2, b2)"
   ]
  },
  {
   "cell_type": "code",
   "execution_count": 97,
   "metadata": {
    "collapsed": false
   },
   "outputs": [
    {
     "data": {
      "text/plain": [
       "Vec({0, 1},{0: 1.0832432432432433, 1: 0.9837837837837838})"
      ]
     },
     "execution_count": 97,
     "metadata": {},
     "output_type": "execute_result"
    }
   ],
   "source": [
    "x1_hat"
   ]
  },
  {
   "cell_type": "code",
   "execution_count": 98,
   "metadata": {
    "collapsed": false
   },
   "outputs": [
    {
     "data": {
      "text/plain": [
       "Vec({0, 1},{0: 2.499999999999997, 1: 2.666666666666679})"
      ]
     },
     "execution_count": 98,
     "metadata": {},
     "output_type": "execute_result"
    }
   ],
   "source": [
    "x2_hat"
   ]
  },
  {
   "cell_type": "code",
   "execution_count": 96,
   "metadata": {
    "collapsed": true
   },
   "outputs": [],
   "source": [
    "residual1 = b1-A1*x1_hat\n",
    "residual2 = b2-A2*x2_hat"
   ]
  },
  {
   "cell_type": "markdown",
   "metadata": {},
   "source": [
    "The columns of A are (approximately) orthogonal to the residual b − Ax_hat"
   ]
  },
  {
   "cell_type": "code",
   "execution_count": 103,
   "metadata": {
    "collapsed": false
   },
   "outputs": [
    {
     "data": {
      "text/plain": [
       "-3.552713678800501e-15"
      ]
     },
     "execution_count": 103,
     "metadata": {},
     "output_type": "execute_result"
    }
   ],
   "source": [
    "# col 1 of  A1\n",
    "list2vec([8, 6, 0])*residual1"
   ]
  },
  {
   "cell_type": "code",
   "execution_count": 104,
   "metadata": {
    "collapsed": false
   },
   "outputs": [
    {
     "data": {
      "text/plain": [
       "-1.7763568394002505e-15"
      ]
     },
     "execution_count": 104,
     "metadata": {},
     "output_type": "execute_result"
    }
   ],
   "source": [
    "# col 2 of A1\n",
    "list2vec([1, 2, 6])*residual1"
   ]
  },
  {
   "cell_type": "code",
   "execution_count": 105,
   "metadata": {
    "collapsed": false
   },
   "outputs": [
    {
     "data": {
      "text/plain": [
       "1.4210854715202004e-14"
      ]
     },
     "execution_count": 105,
     "metadata": {},
     "output_type": "execute_result"
    }
   ],
   "source": [
    "# col 1 of A2\n",
    "list2vec([3, 4, 5])*residual2"
   ]
  },
  {
   "cell_type": "code",
   "execution_count": 106,
   "metadata": {
    "collapsed": false
   },
   "outputs": [
    {
     "data": {
      "text/plain": [
       "1.7763568394002505e-15"
      ]
     },
     "execution_count": 106,
     "metadata": {},
     "output_type": "execute_result"
    }
   ],
   "source": [
    "# col 2 of A2\n",
    "list2vec([1, 1, 1])*residual2"
   ]
  },
  {
   "cell_type": "code",
   "execution_count": 101,
   "metadata": {
    "collapsed": false
   },
   "outputs": [
    {
     "data": {
      "text/plain": [
       "0.5918363542992867"
      ]
     },
     "execution_count": 101,
     "metadata": {},
     "output_type": "execute_result"
    }
   ],
   "source": [
    "# norm A1*x1_hat-b1\n",
    "math.sqrt((A1*x1_hat-b1)*(A1*x1_hat-b1))"
   ]
  },
  {
   "cell_type": "code",
   "execution_count": 102,
   "metadata": {
    "collapsed": false
   },
   "outputs": [
    {
     "data": {
      "text/plain": [
       "0.408248290463863"
      ]
     },
     "execution_count": 102,
     "metadata": {},
     "output_type": "execute_result"
    }
   ],
   "source": [
    "# norm A2*x2_hat-b2\n",
    "math.sqrt((A2*x2_hat-b2)*(A2*x2_hat-b2))"
   ]
  },
  {
   "cell_type": "markdown",
   "metadata": {},
   "source": [
    "###  Problem #8"
   ]
  },
  {
   "cell_type": "code",
   "execution_count": 107,
   "metadata": {
    "collapsed": true
   },
   "outputs": [],
   "source": [
    "A1 = listlist2mat([[8, 1], [6, 2], [0, 6]])\n",
    "b1 = list2vec([10, 8, 6])\n",
    "A2 = listlist2mat([[3, 1], [4, 1]])\n",
    "b2 = list2vec([10, 13])"
   ]
  },
  {
   "cell_type": "code",
   "execution_count": 108,
   "metadata": {
    "collapsed": true
   },
   "outputs": [],
   "source": [
    "x1_hat = QR_solve(A1, b1)"
   ]
  },
  {
   "cell_type": "code",
   "execution_count": 109,
   "metadata": {
    "collapsed": true
   },
   "outputs": [],
   "source": [
    "x2_hat = None"
   ]
  },
  {
   "cell_type": "code",
   "execution_count": 112,
   "metadata": {
    "collapsed": false
   },
   "outputs": [
    {
     "name": "stdout",
     "output_type": "stream",
     "text": [
      "\n",
      "    0     1\n",
      "-----------\n",
      " 1.08 0.984\n"
     ]
    }
   ],
   "source": [
    "print (x1_hat)"
   ]
  },
  {
   "cell_type": "markdown",
   "metadata": {},
   "source": [
    "###  Problem #9"
   ]
  },
  {
   "cell_type": "code",
   "execution_count": 151,
   "metadata": {
    "collapsed": true
   },
   "outputs": [],
   "source": [
    "from read_data import read_vectors\n",
    "from solver import solve"
   ]
  },
  {
   "cell_type": "code",
   "execution_count": 120,
   "metadata": {
    "collapsed": false
   },
   "outputs": [],
   "source": [
    "data_vecs_list = read_vectors('age-height.txt')"
   ]
  },
  {
   "cell_type": "code",
   "execution_count": 121,
   "metadata": {
    "collapsed": false
   },
   "outputs": [
    {
     "data": {
      "text/plain": [
       "[Vec({'height', 'age'},{'height': 76.1, 'age': 18.0}),\n",
       " Vec({'height', 'age'},{'height': 77.0, 'age': 19.0}),\n",
       " Vec({'height', 'age'},{'height': 78.1, 'age': 20.0}),\n",
       " Vec({'height', 'age'},{'height': 78.2, 'age': 21.0}),\n",
       " Vec({'height', 'age'},{'height': 78.8, 'age': 22.0}),\n",
       " Vec({'height', 'age'},{'height': 79.7, 'age': 23.0}),\n",
       " Vec({'height', 'age'},{'height': 79.9, 'age': 24.0}),\n",
       " Vec({'height', 'age'},{'height': 81.1, 'age': 25.0}),\n",
       " Vec({'height', 'age'},{'height': 81.2, 'age': 26.0}),\n",
       " Vec({'height', 'age'},{'height': 81.8, 'age': 27.0}),\n",
       " Vec({'height', 'age'},{'height': 82.8, 'age': 28.0}),\n",
       " Vec({'height', 'age'},{'height': 83.5, 'age': 29.0})]"
      ]
     },
     "execution_count": 121,
     "metadata": {},
     "output_type": "execute_result"
    }
   ],
   "source": [
    "data_vecs_list"
   ]
  },
  {
   "cell_type": "code",
   "execution_count": 141,
   "metadata": {
    "collapsed": true
   },
   "outputs": [],
   "source": [
    "# age = x, height = y\n",
    "y = [v['height'] for v in data_vecs_list]\n",
    "x = [v['age'] for v in data_vecs_list]"
   ]
  },
  {
   "cell_type": "markdown",
   "metadata": {},
   "source": [
    "The A matrix is of rows [xi 1]: A*[a, b] = [y]"
   ]
  },
  {
   "cell_type": "code",
   "execution_count": 148,
   "metadata": {
    "collapsed": false
   },
   "outputs": [],
   "source": [
    "rows_listA = [[x[i], 1] for i in range(len(x))]\n",
    "A = listlist2mat(rows_listA)"
   ]
  },
  {
   "cell_type": "code",
   "execution_count": 155,
   "metadata": {
    "collapsed": false
   },
   "outputs": [],
   "source": [
    "yb = list2vec(y)"
   ]
  },
  {
   "cell_type": "code",
   "execution_count": 156,
   "metadata": {
    "collapsed": false
   },
   "outputs": [
    {
     "data": {
      "text/plain": [
       "Vec({0, 1, 2, 3, 4, 5, 6, 7, 8, 9, 10, 11},{0: 76.1, 1: 77.0, 2: 78.1, 3: 78.2, 4: 78.8, 5: 79.7, 6: 79.9, 7: 81.1, 8: 81.2, 9: 81.8, 10: 82.8, 11: 83.5})"
      ]
     },
     "execution_count": 156,
     "metadata": {},
     "output_type": "execute_result"
    }
   ],
   "source": [
    "yb"
   ]
  },
  {
   "cell_type": "code",
   "execution_count": 157,
   "metadata": {
    "collapsed": true
   },
   "outputs": [],
   "source": [
    "x = solve(A, yb)"
   ]
  },
  {
   "cell_type": "code",
   "execution_count": 158,
   "metadata": {
    "collapsed": false
   },
   "outputs": [
    {
     "data": {
      "text/plain": [
       "Vec({0, 1},{0: 0.6349650349650315, 1: 64.92832167832177})"
      ]
     },
     "execution_count": 158,
     "metadata": {},
     "output_type": "execute_result"
    }
   ],
   "source": [
    "x"
   ]
  },
  {
   "cell_type": "code",
   "execution_count": 159,
   "metadata": {
    "collapsed": true
   },
   "outputs": [],
   "source": [
    "a = x[0]; b = x[1]"
   ]
  },
  {
   "cell_type": "code",
   "execution_count": 160,
   "metadata": {
    "collapsed": false
   },
   "outputs": [
    {
     "name": "stdout",
     "output_type": "stream",
     "text": [
      "0.6349650349650315 64.92832167832177\n"
     ]
    }
   ],
   "source": [
    "print (a, b)"
   ]
  }
 ],
 "metadata": {
  "kernelspec": {
   "display_name": "Python 3",
   "language": "python",
   "name": "python3"
  },
  "language_info": {
   "codemirror_mode": {
    "name": "ipython",
    "version": 3
   },
   "file_extension": ".py",
   "mimetype": "text/x-python",
   "name": "python",
   "nbconvert_exporter": "python",
   "pygments_lexer": "ipython3",
   "version": "3.4.3"
  }
 },
 "nbformat": 4,
 "nbformat_minor": 0
}
