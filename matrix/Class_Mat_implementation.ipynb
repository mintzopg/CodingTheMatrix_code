{
 "metadata": {
  "name": "",
  "signature": "sha256:082ac453ff616d6c57b4078223164972b7cfd995e4aa275b2175e055ba40d4b7"
 },
 "nbformat": 3,
 "nbformat_minor": 0,
 "worksheets": [
  {
   "cells": [
    {
     "cell_type": "code",
     "collapsed": false,
     "input": [
      "from vec import Vec"
     ],
     "language": "python",
     "metadata": {},
     "outputs": [],
     "prompt_number": 1
    },
    {
     "cell_type": "code",
     "collapsed": false,
     "input": [
      "def equal(A, B):\n",
      "    \"\"\"\n",
      "    Returns true iff A is equal to B.\n",
      "\n",
      "    >>> Mat(({'a','b'}, {0,1}), {('a',1):0}) == Mat(({'a','b'}, {0,1}), {('b',1):0})\n",
      "    True\n",
      "    >>> A = Mat(({'a','b'}, {0,1}), {('a',1):2, ('b',0):1})\n",
      "    >>> B = Mat(({'a','b'}, {0,1}), {('a',1):2, ('b',0):1, ('b',1):0})\n",
      "    >>> C = Mat(({'a','b'}, {0,1}), {('a',1):2, ('b',0):1, ('b',1):5})\n",
      "    >>> A == B\n",
      "    True\n",
      "    >>> A == C\n",
      "    False\n",
      "    >>> A == Mat(({'a','b'}, {0,1}), {('a',1):2, ('b',0):1})\n",
      "    True\n",
      "    \"\"\"\n",
      "    assert A.D == B.D\n",
      "    isit=True\n",
      "    for row in A.D[0]:\n",
      "        for col in A.D[1]:\n",
      "            if ((row,col) not in A.f.keys()) and ((row,col) not in B.f.keys()): \n",
      "                isit=isit and True  \n",
      "            elif A[row,col]==B[row,col]: \n",
      "                isit=isit and True\n",
      "            else: \n",
      "                return False\n",
      "    return isit"
     ],
     "language": "python",
     "metadata": {},
     "outputs": [],
     "prompt_number": 2
    },
    {
     "cell_type": "code",
     "collapsed": false,
     "input": [
      "Mat(({'a','b'}, {0,1}), {('a',1):0}) == Mat(({'a','b'}, {0,1}), {('b',1):0})"
     ],
     "language": "python",
     "metadata": {},
     "outputs": [
      {
       "metadata": {},
       "output_type": "pyout",
       "prompt_number": 134,
       "text": [
        "True"
       ]
      }
     ],
     "prompt_number": 134
    },
    {
     "cell_type": "code",
     "collapsed": false,
     "input": [
      "A = Mat(({'a','b'}, {0,1}), {('a',1):2, ('b',0):1})\n",
      "B = Mat(({'a','b'}, {0,1}), {('a',1):2, ('b',0):1, ('b',1):0})\n",
      "C = Mat(({'a','b'}, {0,1}), {('a',1):2, ('b',0):1, ('b',1):5})\n",
      "A == B"
     ],
     "language": "python",
     "metadata": {},
     "outputs": [
      {
       "metadata": {},
       "output_type": "pyout",
       "prompt_number": 135,
       "text": [
        "True"
       ]
      }
     ],
     "prompt_number": 135
    },
    {
     "cell_type": "code",
     "collapsed": false,
     "input": [
      "A==C"
     ],
     "language": "python",
     "metadata": {},
     "outputs": [
      {
       "metadata": {},
       "output_type": "pyout",
       "prompt_number": 136,
       "text": [
        "False"
       ]
      }
     ],
     "prompt_number": 136
    },
    {
     "cell_type": "code",
     "collapsed": false,
     "input": [
      "A == Mat(({'a','b'}, {0,1}), {('a',1):2, ('b',0):1})"
     ],
     "language": "python",
     "metadata": {},
     "outputs": [
      {
       "metadata": {},
       "output_type": "pyout",
       "prompt_number": 137,
       "text": [
        "True"
       ]
      }
     ],
     "prompt_number": 137
    },
    {
     "cell_type": "code",
     "collapsed": false,
     "input": [
      "def getitem(M, k):\n",
      "    \"\"\"\n",
      "    Returns the value of entry k in M, where k is a 2-tuple\n",
      "    >>> M = Mat(({1,3,5}, {'a'}), {(1,'a'):4, (5,'a'): 2})\n",
      "    >>> M[1,'a']\n",
      "    4\n",
      "    >>> M[3,'a']\n",
      "    0\n",
      "    \"\"\"\n",
      "    assert k[0] in M.D[0] and k[1] in M.D[1]\n",
      "    #return M.f[k] if k in M.f.keys() else 0\n",
      "    if k in M.f.keys(): return M.f[k]\n",
      "    else: return 0"
     ],
     "language": "python",
     "metadata": {},
     "outputs": [],
     "prompt_number": 3
    },
    {
     "cell_type": "code",
     "collapsed": false,
     "input": [
      "M = Mat(({1,3,5}, {'a'}), {(1,'a'):4, (5,'a'): 2})\n",
      "M[1,'a']"
     ],
     "language": "python",
     "metadata": {},
     "outputs": [
      {
       "metadata": {},
       "output_type": "pyout",
       "prompt_number": 139,
       "text": [
        "4"
       ]
      }
     ],
     "prompt_number": 139
    },
    {
     "cell_type": "code",
     "collapsed": false,
     "input": [
      "M[3,'a']"
     ],
     "language": "python",
     "metadata": {},
     "outputs": [
      {
       "metadata": {},
       "output_type": "pyout",
       "prompt_number": 140,
       "text": [
        "0"
       ]
      }
     ],
     "prompt_number": 140
    },
    {
     "cell_type": "code",
     "collapsed": false,
     "input": [
      "def setitem(M, k, val):\n",
      "    \"\"\"\n",
      "    Set entry k of Mat M to val, where k is a 2-tuple.\n",
      "    >>> M = Mat(({'a','b','c'}, {5}), {('a', 5):3, ('b', 5):7})\n",
      "    >>> M['b', 5] = 9\n",
      "    >>> M['c', 5] = 13\n",
      "    >>> M == Mat(({'a','b','c'}, {5}), {('a', 5):3, ('b', 5):9, ('c',5):13})\n",
      "    True\n",
      "\n",
      "    Make sure your operations work with bizarre and unordered keys.\n",
      "\n",
      "    >>> N = Mat(({((),), 7}, {True, False}), {})\n",
      "    >>> N[(7, False)] = 1\n",
      "    >>> N[(((),), True)] = 2\n",
      "    >>> N == Mat(({((),), 7}, {True, False}), {(7,False):1, (((),), True):2})\n",
      "    True\n",
      "    \"\"\"\n",
      "    assert k[0] in M.D[0] and k[1] in M.D[1]\n",
      "    M.f[k]=val\n",
      "    return"
     ],
     "language": "python",
     "metadata": {},
     "outputs": [],
     "prompt_number": 4
    },
    {
     "cell_type": "code",
     "collapsed": false,
     "input": [
      "M = Mat(({'a','b','c'}, {5}), {('a', 5):3, ('b', 5):7})\n",
      "M['b', 5] = 9\n",
      "M['c', 5] = 13\n",
      "M == Mat(({'a','b','c'}, {5}), {('a', 5):3, ('b', 5):9, ('c',5):13})"
     ],
     "language": "python",
     "metadata": {},
     "outputs": [
      {
       "metadata": {},
       "output_type": "pyout",
       "prompt_number": 142,
       "text": [
        "True"
       ]
      }
     ],
     "prompt_number": 142
    },
    {
     "cell_type": "code",
     "collapsed": false,
     "input": [
      "N = Mat(({((),), 7}, {True, False}), {})\n",
      "N[(7, False)] = 1\n",
      "N[(((),), True)] = 2\n",
      "N == Mat(({((),), 7}, {True, False}), {(7,False):1, (((),), True):2})"
     ],
     "language": "python",
     "metadata": {},
     "outputs": [
      {
       "metadata": {},
       "output_type": "pyout",
       "prompt_number": 143,
       "text": [
        "True"
       ]
      }
     ],
     "prompt_number": 143
    },
    {
     "cell_type": "code",
     "collapsed": false,
     "input": [
      "def add(A, B):\n",
      "    \"\"\"\n",
      "    Return the sum of Mats A and B.\n",
      "    >>> A1 = Mat(({3, 6}, {'x','y'}), {(3,'x'):-2, (6,'y'):3})\n",
      "    >>> A2 = Mat(({3, 6}, {'x','y'}), {(3,'y'):4})\n",
      "    >>> B = Mat(({3, 6}, {'x','y'}), {(3,'x'):-2, (3,'y'):4, (6,'y'):3})\n",
      "    >>> A1 + A2 == B\n",
      "    True\n",
      "    >>> A2 + A1 == B\n",
      "    True\n",
      "    >>> A1 == Mat(({3, 6}, {'x','y'}), {(3,'x'):-2, (6,'y'):3})\n",
      "    True\n",
      "    >>> zero = Mat(({3,6}, {'x','y'}), {})\n",
      "    >>> B + zero == B\n",
      "    True\n",
      "    >>> C1 = Mat(({1,3}, {2,4}), {(1,2):2, (3,4):3})\n",
      "    >>> C2 = Mat(({1,3}, {2,4}), {(1,4):1, (1,2):4})\n",
      "    >>> D = Mat(({1,3}, {2,4}), {(1,2):6, (1,4):1, (3,4):3})\n",
      "    >>> C1 + C2 == D\n",
      "    True\n",
      "    \"\"\"\n",
      "    assert A.D == B.D\n",
      "    C=Mat(A.D,{})\n",
      "    for k in A.f.keys():\n",
      "        if k in B.f.keys():\n",
      "            C[k]=A[k]+B[k]\n",
      "        else:\n",
      "            C[k]=A[k]\n",
      "    for k in B.f.keys():\n",
      "        if k not in A.f: C[k]=B[k]\n",
      "    return C"
     ],
     "language": "python",
     "metadata": {},
     "outputs": [],
     "prompt_number": 5
    },
    {
     "cell_type": "code",
     "collapsed": false,
     "input": [
      "A1 = Mat(({3, 6}, {'x','y'}), {(3,'x'):-2, (6,'y'):3})\n",
      "A2 = Mat(({3, 6}, {'x','y'}), {(3,'y'):4})\n",
      "B = Mat(({3, 6}, {'x','y'}), {(3,'x'):-2, (3,'y'):4, (6,'y'):3})\n",
      "A1 + A2 == B"
     ],
     "language": "python",
     "metadata": {},
     "outputs": [
      {
       "metadata": {},
       "output_type": "pyout",
       "prompt_number": 145,
       "text": [
        "True"
       ]
      }
     ],
     "prompt_number": 145
    },
    {
     "cell_type": "code",
     "collapsed": false,
     "input": [
      "A2+A1==B"
     ],
     "language": "python",
     "metadata": {},
     "outputs": [
      {
       "metadata": {},
       "output_type": "pyout",
       "prompt_number": 146,
       "text": [
        "True"
       ]
      }
     ],
     "prompt_number": 146
    },
    {
     "cell_type": "code",
     "collapsed": false,
     "input": [
      "A1 == Mat(({3, 6}, {'x','y'}), {(3,'x'):-2, (6,'y'):3})"
     ],
     "language": "python",
     "metadata": {},
     "outputs": [
      {
       "metadata": {},
       "output_type": "pyout",
       "prompt_number": 147,
       "text": [
        "True"
       ]
      }
     ],
     "prompt_number": 147
    },
    {
     "cell_type": "code",
     "collapsed": false,
     "input": [
      "zero = Mat(({3,6}, {'x','y'}), {})\n",
      "B + zero == B"
     ],
     "language": "python",
     "metadata": {},
     "outputs": [
      {
       "metadata": {},
       "output_type": "pyout",
       "prompt_number": 148,
       "text": [
        "True"
       ]
      }
     ],
     "prompt_number": 148
    },
    {
     "cell_type": "code",
     "collapsed": false,
     "input": [
      "C1 = Mat(({1,3}, {2,4}), {(1,2):2, (3,4):3})\n",
      "C2 = Mat(({1,3}, {2,4}), {(1,4):1, (1,2):4})\n",
      "D = Mat(({1,3}, {2,4}), {(1,2):6, (1,4):1, (3,4):3})\n",
      "C1 + C2 == D"
     ],
     "language": "python",
     "metadata": {},
     "outputs": [
      {
       "metadata": {},
       "output_type": "pyout",
       "prompt_number": 149,
       "text": [
        "True"
       ]
      }
     ],
     "prompt_number": 149
    },
    {
     "cell_type": "code",
     "collapsed": false,
     "input": [
      "def scalar_mul(M, x):\n",
      "    \"\"\"\n",
      "    Returns the result of scaling M by x.\n",
      "\n",
      "    >>> M = Mat(({1,3,5}, {2,4}), {(1,2):4, (5,4):2, (3,4):3})\n",
      "    >>> 0*M == Mat(({1, 3, 5}, {2, 4}), {})\n",
      "    True\n",
      "    >>> 1*M == M\n",
      "    True\n",
      "    >>> 0.25*M == Mat(({1,3,5}, {2,4}), {(1,2):1.0, (5,4):0.5, (3,4):0.75})\n",
      "    True\n",
      "    \"\"\"\n",
      "    return Mat(M.D, {k:x*M[k] for k in M.f.keys()})"
     ],
     "language": "python",
     "metadata": {},
     "outputs": [],
     "prompt_number": 6
    },
    {
     "cell_type": "code",
     "collapsed": false,
     "input": [
      "M = Mat(({1,3,5}, {2,4}), {(1,2):4, (5,4):2, (3,4):3})\n",
      "0*M == Mat(({1, 3, 5}, {2, 4}), {})"
     ],
     "language": "python",
     "metadata": {},
     "outputs": [
      {
       "metadata": {},
       "output_type": "pyout",
       "prompt_number": 157,
       "text": [
        "True"
       ]
      }
     ],
     "prompt_number": 157
    },
    {
     "cell_type": "code",
     "collapsed": false,
     "input": [
      "1*M==M"
     ],
     "language": "python",
     "metadata": {},
     "outputs": [
      {
       "metadata": {},
       "output_type": "pyout",
       "prompt_number": 159,
       "text": [
        "True"
       ]
      }
     ],
     "prompt_number": 159
    },
    {
     "cell_type": "code",
     "collapsed": false,
     "input": [
      "0.25*M == Mat(({1,3,5}, {2,4}), {(1,2):1.0, (5,4):0.5, (3,4):0.75})"
     ],
     "language": "python",
     "metadata": {},
     "outputs": [
      {
       "metadata": {},
       "output_type": "pyout",
       "prompt_number": 160,
       "text": [
        "True"
       ]
      }
     ],
     "prompt_number": 160
    },
    {
     "cell_type": "code",
     "collapsed": false,
     "input": [
      "def transpose(M):\n",
      "    \"\"\"\n",
      "    Returns the matrix that is the transpose of M.\n",
      "\n",
      "    >>> M = Mat(({0,1}, {0,1}), {(0,1):3, (1,0):2, (1,1):4})\n",
      "    >>> M.transpose() == Mat(({0,1}, {0,1}), {(0,1):2, (1,0):3, (1,1):4})\n",
      "    True\n",
      "    >>> M = Mat(({'x','y','z'}, {2,4}), {('x',4):3, ('x',2):2, ('y',4):4, ('z',4):5})\n",
      "    >>> Mt = Mat(({2,4}, {'x','y','z'}), {(4,'x'):3, (2,'x'):2, (4,'y'):4, (4,'z'):5})\n",
      "    >>> M.transpose() == Mt\n",
      "    True\n",
      "    \"\"\"\n",
      "    return Mat((M.D[1], M.D[0]), {(j, i):M[i,j] for i,j in M.f.keys()})"
     ],
     "language": "python",
     "metadata": {},
     "outputs": [],
     "prompt_number": 7
    },
    {
     "cell_type": "code",
     "collapsed": false,
     "input": [
      "M = Mat(({0,1}, {0,1}), {(0,1):3, (1,0):2, (1,1):4})\n",
      "M.transpose() == Mat(({0,1}, {0,1}), {(0,1):2, (1,0):3, (1,1):4})"
     ],
     "language": "python",
     "metadata": {},
     "outputs": [
      {
       "metadata": {},
       "output_type": "pyout",
       "prompt_number": 163,
       "text": [
        "True"
       ]
      }
     ],
     "prompt_number": 163
    },
    {
     "cell_type": "code",
     "collapsed": false,
     "input": [
      "M = Mat(({'x','y','z'}, {2,4}), {('x',4):3, ('x',2):2, ('y',4):4, ('z',4):5})\n",
      "Mt = Mat(({2,4}, {'x','y','z'}), {(4,'x'):3, (2,'x'):2, (4,'y'):4, (4,'z'):5})\n",
      "M.transpose() == Mt"
     ],
     "language": "python",
     "metadata": {},
     "outputs": [
      {
       "metadata": {},
       "output_type": "pyout",
       "prompt_number": 164,
       "text": [
        "True"
       ]
      }
     ],
     "prompt_number": 164
    },
    {
     "cell_type": "code",
     "collapsed": false,
     "input": [
      "def vector_matrix_mul(v, M):\n",
      "    \"\"\"\n",
      "    returns the product of vector v and matrix M\n",
      "\n",
      "    >>> v1 = Vec({1, 2, 3}, {1: 1, 2: 8})\n",
      "    >>> M1 = Mat(({1, 2, 3}, {'a', 'b', 'c'}), {(1, 'b'): 2, (2, 'a'):-1, (3, 'a'): 1, (3, 'c'): 7})\n",
      "    >>> v1*M1 == Vec({'a', 'b', 'c'},{'a': -8, 'b': 2, 'c': 0})\n",
      "    True\n",
      "    >>> v1 == Vec({1, 2, 3}, {1: 1, 2: 8})\n",
      "    True\n",
      "    >>> M1 == Mat(({1, 2, 3}, {'a', 'b', 'c'}), {(1, 'b'): 2, (2, 'a'):-1, (3, 'a'): 1, (3, 'c'): 7})\n",
      "    True\n",
      "    >>> v2 = Vec({'a','b'}, {})\n",
      "    >>> M2 = Mat(({'a','b'}, {0, 2, 4, 6, 7}), {})\n",
      "    >>> v2*M2 == Vec({0, 2, 4, 6, 7},{})\n",
      "    True\n",
      "    \"\"\"\n",
      "    assert M.D[0] == v.D\n",
      "    dct={}; w=Vec(M.D[1],dct) # define the output vector\n",
      "    for i,j in M.f.keys():    # for each key tuple\n",
      "        if i not in v.f.keys(): prod=0  # is i in vector keys? if not assume 0 (spatial repres.)\n",
      "        else: prod=v[i]*M[i,j]  # else find the elements product\n",
      "        if j in dct.keys(): dct[j]=dct[j]+prod # add the product to the dictionary\n",
      "        else: dct[j]=prod\n",
      "    return w\n",
      "        \n",
      "    "
     ],
     "language": "python",
     "metadata": {},
     "outputs": [],
     "prompt_number": 8
    },
    {
     "cell_type": "code",
     "collapsed": false,
     "input": [
      "v1 = Vec({1, 2, 3}, {1: 1, 2: 8})\n",
      "M1 = Mat(({1, 2, 3}, {'a', 'b', 'c'}), {(1, 'b'): 2, (2, 'a'):-1, (3, 'a'): 1, (3, 'c'): 7})\n",
      "v1*M1 == Vec({'a', 'b', 'c'},{'a': -8, 'b': 2, 'c': 0})"
     ],
     "language": "python",
     "metadata": {},
     "outputs": [
      {
       "metadata": {},
       "output_type": "pyout",
       "prompt_number": 178,
       "text": [
        "True"
       ]
      }
     ],
     "prompt_number": 178
    },
    {
     "cell_type": "code",
     "collapsed": false,
     "input": [
      "v1 == Vec({1, 2, 3}, {1: 1, 2: 8})"
     ],
     "language": "python",
     "metadata": {},
     "outputs": [
      {
       "metadata": {},
       "output_type": "pyout",
       "prompt_number": 179,
       "text": [
        "True"
       ]
      }
     ],
     "prompt_number": 179
    },
    {
     "cell_type": "code",
     "collapsed": false,
     "input": [
      "M1 == Mat(({1, 2, 3}, {'a', 'b', 'c'}), {(1, 'b'): 2, (2, 'a'):-1, (3, 'a'): 1, (3, 'c'): 7})"
     ],
     "language": "python",
     "metadata": {},
     "outputs": [
      {
       "metadata": {},
       "output_type": "pyout",
       "prompt_number": 180,
       "text": [
        "True"
       ]
      }
     ],
     "prompt_number": 180
    },
    {
     "cell_type": "code",
     "collapsed": false,
     "input": [
      "v2 = Vec({'a','b'}, {})\n",
      "M2 = Mat(({'a','b'}, {0, 2, 4, 6, 7}), {})\n",
      "v2*M2 == Vec({0, 2, 4, 6, 7},{})"
     ],
     "language": "python",
     "metadata": {},
     "outputs": [
      {
       "metadata": {},
       "output_type": "pyout",
       "prompt_number": 181,
       "text": [
        "True"
       ]
      }
     ],
     "prompt_number": 181
    },
    {
     "cell_type": "code",
     "collapsed": false,
     "input": [
      "def matrix_vector_mul(M, v):\n",
      "    \"\"\"\n",
      "    Returns the product of matrix M and vector v.\n",
      "    >>> N1 = Mat(({1, 3, 5, 7}, {'a', 'b'}), {(1, 'a'): -1, (1, 'b'): 2, (3, 'a'): 1, (3, 'b'):4, (7, 'a'): 3, (5, 'b'):-1})\n",
      "    >>> u1 = Vec({'a', 'b'}, {'a': 1, 'b': 2})\n",
      "    >>> N1*u1 == Vec({1, 3, 5, 7},{1: 3, 3: 9, 5: -2, 7: 3})\n",
      "    True\n",
      "    >>> N1 == Mat(({1, 3, 5, 7}, {'a', 'b'}), {(1, 'a'): -1, (1, 'b'): 2, (3, 'a'): 1, (3, 'b'):4, (7, 'a'): 3, (5, 'b'):-1})\n",
      "    True\n",
      "    >>> u1 == Vec({'a', 'b'}, {'a': 1, 'b': 2})\n",
      "    True\n",
      "    >>> N2 = Mat(({('a', 'b'), ('c', 'd')}, {1, 2, 3, 5, 8}), {})\n",
      "    >>> u2 = Vec({1, 2, 3, 5, 8}, {})\n",
      "    >>> N2*u2 == Vec({('a', 'b'), ('c', 'd')},{})\n",
      "    True\n",
      "    \"\"\"\n",
      "    assert M.D[1] == v.D     # symmetrical to previous\n",
      "    dct={}; w=Vec(M.D[0], dct)\n",
      "    for i,j in M.f.keys():\n",
      "        if j not in v.f.keys(): prod=0\n",
      "        else: prod=v[j]*M[i,j]\n",
      "        if i in dct.keys(): dct[i]=dct[i]+prod\n",
      "        else: dct[i]=prod\n",
      "    return w"
     ],
     "language": "python",
     "metadata": {},
     "outputs": [],
     "prompt_number": 9
    },
    {
     "cell_type": "code",
     "collapsed": false,
     "input": [
      "N1 = Mat(({1, 3, 5, 7}, {'a', 'b'}), {(1, 'a'): -1, (1, 'b'): 2, (3, 'a'): 1, (3, 'b'):4, (7, 'a'): 3, (5, 'b'):-1})\n",
      "u1 = Vec({'a', 'b'}, {'a': 1, 'b': 2})\n",
      "N1*u1 == Vec({1, 3, 5, 7},{1: 3, 3: 9, 5: -2, 7: 3})"
     ],
     "language": "python",
     "metadata": {},
     "outputs": [
      {
       "metadata": {},
       "output_type": "pyout",
       "prompt_number": 184,
       "text": [
        "True"
       ]
      }
     ],
     "prompt_number": 184
    },
    {
     "cell_type": "code",
     "collapsed": false,
     "input": [
      "N1 == Mat(({1, 3, 5, 7}, {'a', 'b'}), {(1, 'a'): -1, (1, 'b'): 2, (3, 'a'): 1, (3, 'b'):4, (7, 'a'): 3, (5, 'b'):-1})"
     ],
     "language": "python",
     "metadata": {},
     "outputs": [
      {
       "metadata": {},
       "output_type": "pyout",
       "prompt_number": 185,
       "text": [
        "True"
       ]
      }
     ],
     "prompt_number": 185
    },
    {
     "cell_type": "code",
     "collapsed": false,
     "input": [
      "u1 == Vec({'a', 'b'}, {'a': 1, 'b': 2})"
     ],
     "language": "python",
     "metadata": {},
     "outputs": [
      {
       "metadata": {},
       "output_type": "pyout",
       "prompt_number": 186,
       "text": [
        "True"
       ]
      }
     ],
     "prompt_number": 186
    },
    {
     "cell_type": "code",
     "collapsed": false,
     "input": [
      "N2 = Mat(({('a', 'b'), ('c', 'd')}, {1, 2, 3, 5, 8}), {})\n",
      "u2 = Vec({1, 2, 3, 5, 8}, {})\n",
      "N2*u2 == Vec({('a', 'b'), ('c', 'd')},{})"
     ],
     "language": "python",
     "metadata": {},
     "outputs": [
      {
       "metadata": {},
       "output_type": "pyout",
       "prompt_number": 187,
       "text": [
        "True"
       ]
      }
     ],
     "prompt_number": 187
    },
    {
     "cell_type": "code",
     "collapsed": false,
     "input": [
      "def matrix_matrix_mul(A, B):\n",
      "    \"\"\"\n",
      "    Returns the result of the matrix-matrix multiplication, A*B.\n",
      "\n",
      "    >>> A = Mat(({0,1,2}, {0,1,2}), {(1,1):4, (0,0):0, (1,2):1, (1,0):5, (0,1):3, (0,2):2})\n",
      "    >>> B = Mat(({0,1,2}, {0,1,2}), {(1,0):5, (2,1):3, (1,1):2, (2,0):0, (0,0):1, (0,1):4})\n",
      "    >>> A*B == Mat(({0,1,2}, {0,1,2}), {(0,0):15, (0,1):12, (1,0):25, (1,1):31})\n",
      "    True\n",
      "    >>> C = Mat(({0,1,2}, {'a','b'}), {(0,'a'):4, (0,'b'):-3, (1,'a'):1, (2,'a'):1, (2,'b'):-2})\n",
      "    >>> D = Mat(({'a','b'}, {'x','y'}), {('a','x'):3, ('a','y'):-2, ('b','x'):4, ('b','y'):-1})\n",
      "    >>> C*D == Mat(({0,1,2}, {'x','y'}), {(0,'y'):-5, (1,'x'):3, (1,'y'):-2, (2,'x'):-5})\n",
      "    True\n",
      "    >>> M = Mat(({0, 1}, {'a', 'c', 'b'}), {})\n",
      "    >>> N = Mat(({'a', 'c', 'b'}, {(1, 1), (2, 2)}), {})\n",
      "    >>> M*N == Mat(({0,1}, {(1,1), (2,2)}), {})\n",
      "    True\n",
      "    >>> E = Mat(({'a','b'},{'A','B'}), {('a','A'):1,('a','B'):2,('b','A'):3,('b','B'):4})\n",
      "    >>> F = Mat(({'A','B'},{'c','d'}),{('A','d'):5})\n",
      "    >>> E*F == Mat(({'a', 'b'}, {'d', 'c'}), {('b', 'd'): 15, ('a', 'd'): 5})\n",
      "    True\n",
      "    >>> F.transpose()*E.transpose() == Mat(({'d', 'c'}, {'a', 'b'}), {('d', 'b'): 15, ('d', 'a'): 5})\n",
      "    True\n",
      "    \"\"\"\n",
      "    assert A.D[1] == B.D[0]\n",
      "    dct={}; C=Mat((A.D[0],B.D[1]),dct)\n",
      "    rows_A={row: Vec(A.D[1],{col:A[row,col] for col in A.D[1]}) for row in A.D[0]}\n",
      "    columns_B={row: Vec(B.D[0], {col:B[col,row] for col in B.D[0]}) for row in B.D[1]}\n",
      "    for ka,va in rows_A.items():\n",
      "        for kb,vb in columns_B.items():\n",
      "            dct[(ka,kb)]=va*vb                       \n",
      "    return C"
     ],
     "language": "python",
     "metadata": {},
     "outputs": [],
     "prompt_number": 34
    },
    {
     "cell_type": "code",
     "collapsed": false,
     "input": [
      "A = Mat(({0,1,2}, {0,1,2}), {(1,1):4, (0,0):0, (1,2):1, (1,0):5, (0,1):3, (0,2):2})\n",
      "B = Mat(({0,1,2}, {0,1,2}), {(1,0):5, (2,1):3, (1,1):2, (2,0):0, (0,0):1, (0,1):4})\n",
      "A*B == Mat(({0,1,2}, {0,1,2}), {(0,0):15, (0,1):12, (1,0):25, (1,1):31})"
     ],
     "language": "python",
     "metadata": {},
     "outputs": [
      {
       "metadata": {},
       "output_type": "pyout",
       "prompt_number": 36,
       "text": [
        "True"
       ]
      }
     ],
     "prompt_number": 36
    },
    {
     "cell_type": "code",
     "collapsed": false,
     "input": [
      "C = Mat(({0,1,2}, {'a','b'}), {(0,'a'):4, (0,'b'):-3, (1,'a'):1, (2,'a'):1, (2,'b'):-2})\n",
      "D = Mat(({'a','b'}, {'x','y'}), {('a','x'):3, ('a','y'):-2, ('b','x'):4, ('b','y'):-1})\n",
      "C*D == Mat(({0,1,2}, {'x','y'}), {(0,'y'):-5, (1,'x'):3, (1,'y'):-2, (2,'x'):-5})"
     ],
     "language": "python",
     "metadata": {},
     "outputs": [
      {
       "metadata": {},
       "output_type": "pyout",
       "prompt_number": 37,
       "text": [
        "True"
       ]
      }
     ],
     "prompt_number": 37
    },
    {
     "cell_type": "code",
     "collapsed": false,
     "input": [
      "M = Mat(({0, 1}, {'a', 'c', 'b'}), {})\n",
      "N = Mat(({'a', 'c', 'b'}, {(1, 1), (2, 2)}), {})\n",
      "M*N == Mat(({0,1}, {(1,1), (2,2)}), {})"
     ],
     "language": "python",
     "metadata": {},
     "outputs": [
      {
       "metadata": {},
       "output_type": "pyout",
       "prompt_number": 38,
       "text": [
        "True"
       ]
      }
     ],
     "prompt_number": 38
    },
    {
     "cell_type": "code",
     "collapsed": false,
     "input": [
      "E = Mat(({'a','b'},{'A','B'}), {('a','A'):1,('a','B'):2,('b','A'):3,('b','B'):4})\n",
      "F = Mat(({'A','B'},{'c','d'}),{('A','d'):5})\n",
      "E*F == Mat(({'a', 'b'}, {'d', 'c'}), {('b', 'd'): 15, ('a', 'd'): 5})"
     ],
     "language": "python",
     "metadata": {},
     "outputs": [
      {
       "metadata": {},
       "output_type": "pyout",
       "prompt_number": 39,
       "text": [
        "True"
       ]
      }
     ],
     "prompt_number": 39
    },
    {
     "cell_type": "code",
     "collapsed": false,
     "input": [
      "F.transpose()*E.transpose() == Mat(({'d', 'c'}, {'a', 'b'}), {('d', 'b'): 15, ('d', 'a'): 5})"
     ],
     "language": "python",
     "metadata": {},
     "outputs": [
      {
       "metadata": {},
       "output_type": "pyout",
       "prompt_number": 40,
       "text": [
        "True"
       ]
      }
     ],
     "prompt_number": 40
    },
    {
     "cell_type": "code",
     "collapsed": false,
     "input": [
      "class Mat:\n",
      "    def __init__(self, labels, function):\n",
      "        self.D = labels\n",
      "        self.f = function\n",
      "\n",
      "    __getitem__ = getitem\n",
      "    __setitem__ = setitem\n",
      "    transpose = transpose\n",
      "\n",
      "    def __neg__(self):\n",
      "        return (-1)*self\n",
      "\n",
      "    def __mul__(self,other):\n",
      "        if Mat == type(other):\n",
      "            return matrix_matrix_mul(self,other)\n",
      "        elif Vec == type(other):\n",
      "            return matrix_vector_mul(self,other)\n",
      "        else:\n",
      "            return scalar_mul(self,other)\n",
      "            #this will only be used if other is scalar (or not-supported). mat and vec both have __mul__ implemented\n",
      "\n",
      "    def __rmul__(self, other):\n",
      "        if Vec == type(other):\n",
      "            return vector_matrix_mul(other, self)\n",
      "        else:  # Assume scalar\n",
      "            return scalar_mul(self, other)\n",
      "\n",
      "    __add__ = add\n",
      "\n",
      "    def __radd__(self, other):\n",
      "        \"Hack to allow sum(...) to work with matrices\"\n",
      "        if other == 0:\n",
      "            return self\n",
      "\n",
      "    def __sub__(a,b):\n",
      "        return a+(-b)\n",
      "\n",
      "    __eq__ = equal\n",
      "\n",
      "    def copy(self):\n",
      "        return Mat(self.D, self.f.copy())\n",
      "\n",
      "    def __str__(M, rows=None, cols=None):\n",
      "        \"string representation for print()\"\n",
      "        if rows == None: rows = sorted(M.D[0], key=repr)\n",
      "        if cols == None: cols = sorted(M.D[1], key=repr)\n",
      "        separator = ' | '\n",
      "        numdec = 3\n",
      "        pre = 1+max([len(str(r)) for r in rows])\n",
      "        colw = {col:(1+max([len(str(col))] + [len('{0:.{1}G}'.format(M[row,col],numdec)) if isinstance(M[row,col], int) or isinstance(M[row,col], float) else len(str(M[row,col])) for row in rows])) for col in cols}\n",
      "        s1 = ' '*(1+ pre + len(separator))\n",
      "        s2 = ''.join(['{0:>{1}}'.format(str(c),colw[c]) for c in cols])\n",
      "        s3 = ' '*(pre+len(separator)) + '-'*(sum(list(colw.values())) + 1)\n",
      "        s4 = ''.join(['{0:>{1}} {2}'.format(str(r), pre,separator)+''.join(['{0:>{1}.{2}G}'.format(M[r,c],colw[c],numdec) if isinstance(M[r,c], int) or isinstance(M[r,c], float) else '{0:>{1}}'.format(M[r,c], colw[c]) for c in cols])+'\\n' for r in rows])\n",
      "        return '\\n' + s1 + s2 + '\\n' + s3 + '\\n' + s4\n",
      "\n",
      "    def pp(self, rows, cols):\n",
      "        print(self.__str__(rows, cols))\n",
      "\n",
      "    def __repr__(self):\n",
      "        \"evaluatable representation\"\n",
      "        return \"Mat(\" + str(self.D) +\", \" + str(self.f) + \")\"\n",
      "\n",
      "    def __iter__(self):\n",
      "        raise TypeError('%r object is not iterable' % self.__class__.__name__)\n"
     ],
     "language": "python",
     "metadata": {},
     "outputs": [],
     "prompt_number": 35
    },
    {
     "cell_type": "code",
     "collapsed": false,
     "input": [],
     "language": "python",
     "metadata": {},
     "outputs": [],
     "prompt_number": 100
    }
   ],
   "metadata": {}
  }
 ]
}