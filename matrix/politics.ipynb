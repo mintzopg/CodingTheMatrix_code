{
 "metadata": {
  "name": "",
  "signature": "sha256:93b47bb2803aecb2da3692e7ef6c26bf0d092e1c12e491d418d84d03ee217c77"
 },
 "nbformat": 3,
 "nbformat_minor": 0,
 "worksheets": [
  {
   "cells": [
    {
     "cell_type": "code",
     "collapsed": false,
     "input": [
      "def create_voting_dict(strlist):\n",
      "    \"\"\"\n",
      "    Input: a list of strings.  Each string represents the voting record of a senator.\n",
      "           The string consists of \n",
      "              - the senator's last name, \n",
      "              - a letter indicating the senator's party,\n",
      "              - a couple of letters indicating the senator's home state, and\n",
      "              - a sequence of numbers (0's, 1's, and negative 1's) indicating the senator's\n",
      "                votes on bills\n",
      "              all separated by spaces.\n",
      "    Output: A dictionary that maps the last name of a senator\n",
      "            to a list of numbers representing the senator's voting record.\n",
      "    Example: \n",
      "        >>> vd = create_voting_dict(['Kennedy D MA -1 -1 1 1', 'Snowe R ME 1 1 1 1'])\n",
      "        >>> vd == {'Snowe': [1, 1, 1, 1], 'Kennedy': [-1, -1, 1, 1]}\n",
      "        True\n",
      "\n",
      "    You can use the .split() method to split each string in the\n",
      "    strlist into a list; the first element of the list will be the senator's\n",
      "    name, the second will be his/her party affiliation (R or D), the\n",
      "    third will be his/her home state, and the remaining elements of\n",
      "    the list will be that senator's voting record on a collection of bills.\n",
      "\n",
      "    You can use the built-in procedure int() to convert a string\n",
      "    representation of an integer (e.g. '1') to the actual integer\n",
      "    (e.g. 1).\n",
      "\n",
      "    The lists for each senator should preserve the order listed in voting data.\n",
      "    In case you're feeling clever, this can be done in one line.\n",
      "    \"\"\"\n",
      "    return {item.split()[0]:[int(x) for x in item.split()[3:]] for item in strlist}"
     ],
     "language": "python",
     "metadata": {},
     "outputs": [],
     "prompt_number": 1
    },
    {
     "cell_type": "code",
     "collapsed": false,
     "input": [
      "def policy_compare(sen_a, sen_b, voting_dict):\n",
      "    \"\"\"\n",
      "    Input: last names of sen_a and sen_b, and a voting dictionary mapping senator\n",
      "           names to lists representing their voting records.\n",
      "    Output: the dot-product (as a number) representing the degree of similarity\n",
      "            between two senators' voting policies\n",
      "    Example:\n",
      "        >>> voting_dict = {'Fox-Epstein':[-1,-1,-1,1],'Ravella':[1,1,1,1]}\n",
      "        >>> policy_compare('Fox-Epstein','Ravella', voting_dict)\n",
      "        -2\n",
      "    \n",
      "    The code should correct compute dot-product even if the numbers are not all in {0,1,-1}.\n",
      "        >>> policy_compare('A', 'B', {'A':[100,10,1], 'B':[2,5,3]})\n",
      "        253\n",
      "        \n",
      "    You should definitely try to write this in one line.\n",
      "    \"\"\"\n",
      "    assert sen_a in voting_dict.keys() and sen_b in voting_dict.keys()\n",
      "    assert len(voting_dict[sen_a])==len(voting_dict[sen_b])\n",
      "    return sum([a*b for (a,b) in zip(voting_dict[sen_a], voting_dict[sen_b])])\n"
     ],
     "language": "python",
     "metadata": {},
     "outputs": [],
     "prompt_number": 2
    },
    {
     "cell_type": "code",
     "collapsed": false,
     "input": [
      "def most_similar(sen, voting_dict):\n",
      "    \"\"\"\n",
      "    Input: the last name of a senator, and a dictionary mapping senator names\n",
      "           to lists representing their voting records.\n",
      "    Output: the last name of the senator whose political mindset is most\n",
      "            like the input senator (excluding, of course, the input senator\n",
      "            him/herself). Resolve ties arbitrarily.\n",
      "    Example:\n",
      "        >>> vd = {'Klein': [1,1,1], 'Fox-Epstein': [1,-1,0], 'Ravella': [-1,0,0]}\n",
      "        >>> most_similar('Klein', vd)\n",
      "        'Fox-Epstein'\n",
      "\n",
      "    Note that you can (and are encouraged to) re-use you policy_compare procedure.\n",
      "    \"\"\"\n",
      "    \n",
      "    dot_prods={}\n",
      "    for name in voting_dict.keys():\n",
      "        if name!=sen:\n",
      "            dot_prods[name]=(policy_compare(sen, name, voting_dict))\n",
      "    closest=max(dot_prods.values()) # very positive if the tend to agree vs very negative if they tend to disagree\n",
      "    for k,v in dot_prods.items():\n",
      "        if v==closest: return k"
     ],
     "language": "python",
     "metadata": {},
     "outputs": [],
     "prompt_number": 3
    },
    {
     "cell_type": "code",
     "collapsed": false,
     "input": [
      "vd = {'Klein': [1,1,1], 'Fox-Epstein': [1,-1,0], 'Ravella': [-1,0,0]}"
     ],
     "language": "python",
     "metadata": {},
     "outputs": [],
     "prompt_number": 4
    },
    {
     "cell_type": "code",
     "collapsed": false,
     "input": [
      "most_similar('Klein', vd)"
     ],
     "language": "python",
     "metadata": {},
     "outputs": [
      {
       "metadata": {},
       "output_type": "pyout",
       "prompt_number": 5,
       "text": [
        "'Fox-Epstein'"
       ]
      }
     ],
     "prompt_number": 5
    },
    {
     "cell_type": "code",
     "collapsed": false,
     "input": [
      "def least_similar(sen, voting_dict):\n",
      "    \"\"\"\n",
      "    Input: the last name of a senator, and a dictionary mapping senator names\n",
      "           to lists representing their voting records.\n",
      "    Output: the last name of the senator whose political mindset is least like the input\n",
      "            senator.\n",
      "    Example:\n",
      "        >>> vd = {'a': [1,1,1], 'b': [1,-1,0], 'c': [-1,0,0]}\n",
      "        >>> least_similar('a', vd)\n",
      "        'c'\n",
      "    \"\"\"\n",
      "    dot_prods={}\n",
      "    for name in voting_dict.keys():\n",
      "        if name!=sen:\n",
      "            dot_prods[name]=(policy_compare(sen, name, voting_dict))\n",
      "    closest=min(dot_prods.values()) # very positive if the tend to agree vs very negative if they tend to disagree\n",
      "    for k,v in dot_prods.items():\n",
      "        if v==closest: return k"
     ],
     "language": "python",
     "metadata": {},
     "outputs": [],
     "prompt_number": 6
    },
    {
     "cell_type": "code",
     "collapsed": false,
     "input": [
      "vd = {'a': [1,1,1], 'b': [1,-1,0], 'c': [-1,0,0]}\n",
      "least_similar('a', vd)"
     ],
     "language": "python",
     "metadata": {},
     "outputs": [
      {
       "metadata": {},
       "output_type": "pyout",
       "prompt_number": 7,
       "text": [
        "'c'"
       ]
      }
     ],
     "prompt_number": 7
    },
    {
     "cell_type": "code",
     "collapsed": false,
     "input": [
      "# which Senator is most like 'Lincoln Chafee'\n",
      "f=open('voting_record_dump109.txt','r')\n",
      "mylist=list(f); strlist=[]\n",
      "for item in mylist: \n",
      "    strlist.append(item.replace('\\n',\"\"))\n",
      "    \n"
     ],
     "language": "python",
     "metadata": {},
     "outputs": [],
     "prompt_number": 8
    },
    {
     "cell_type": "code",
     "collapsed": false,
     "input": [
      "_vd=create_voting_dict(strlist)"
     ],
     "language": "python",
     "metadata": {},
     "outputs": [],
     "prompt_number": 9
    },
    {
     "cell_type": "code",
     "collapsed": false,
     "input": [
      "most_similar('Chafee', _vd)"
     ],
     "language": "python",
     "metadata": {},
     "outputs": [
      {
       "metadata": {},
       "output_type": "pyout",
       "prompt_number": 10,
       "text": [
        "'Jeffords'"
       ]
      }
     ],
     "prompt_number": 10
    },
    {
     "cell_type": "code",
     "collapsed": false,
     "input": [
      "least_similar('Santorum', _vd)"
     ],
     "language": "python",
     "metadata": {},
     "outputs": [
      {
       "metadata": {},
       "output_type": "pyout",
       "prompt_number": 11,
       "text": [
        "'Feingold'"
       ]
      }
     ],
     "prompt_number": 11
    },
    {
     "cell_type": "code",
     "collapsed": false,
     "input": [
      "policy_compare('Chafee', 'Santorum', _vd)"
     ],
     "language": "python",
     "metadata": {},
     "outputs": [
      {
       "metadata": {},
       "output_type": "pyout",
       "prompt_number": 12,
       "text": [
        "24"
       ]
      }
     ],
     "prompt_number": 12
    },
    {
     "cell_type": "code",
     "collapsed": false,
     "input": [
      "def find_average_similarity(sen, sen_set, voting_dict):\n",
      "    \"\"\"\n",
      "    Input: the name of a senator, a set of senator names, and a voting dictionary.\n",
      "    Output: the average dot-product between sen and those in sen_set.\n",
      "    Example:\n",
      "        >>> vd = {'Klein': [1,1,1], 'Fox-Epstein': [1,-1,0], 'Ravella': [-1,0,0]}\n",
      "        >>> find_average_similarity('Klein', {'Fox-Epstein','Ravella'}, vd)\n",
      "        -0.5\n",
      "    \"\"\"\n",
      "    dot_prods=[]\n",
      "    for sen_name in sen_set:\n",
      "        dot_prods.append(policy_compare(sen, sen_name, voting_dict))\n",
      "    return float(sum(dot_prods))/len(dot_prods)"
     ],
     "language": "python",
     "metadata": {},
     "outputs": [],
     "prompt_number": 13
    },
    {
     "cell_type": "code",
     "collapsed": false,
     "input": [
      "vd = {'Klein': [1,1,1], 'Fox-Epstein': [1,-1,0], 'Ravella': [-1,0,0]}\n",
      "find_average_similarity('Klein', {'Fox-Epstein','Ravella'}, vd)"
     ],
     "language": "python",
     "metadata": {},
     "outputs": [
      {
       "metadata": {},
       "output_type": "pyout",
       "prompt_number": 14,
       "text": [
        "-0.5"
       ]
      }
     ],
     "prompt_number": 14
    },
    {
     "cell_type": "code",
     "collapsed": false,
     "input": [
      "democrats=[item for item in strlist if item.split()[1]=='D']\n",
      "vd_democrats=create_voting_dict(democrats); sen_set_democrats=vd_democrats.keys()\n",
      "# democrats={item.split()[0] for item in strlist if item.split()[1]=='D'}\n",
      "\n",
      "average_each_democrat={}\n",
      "# put in a dict the name of each democratic senator and the the average dot-prod. between him and the other democratic senators\n",
      "for name in sen_set_democrats:\n",
      "    average_each_democrat[name]=find_average_similarity(name, sen_set_democrats, vd_democrats)\n",
      "# retrieve the name of the one with the max dot-prod.\n",
      "for k,v in average_each_democrat.items():\n",
      "    if v==max(average_each_democrat.values()): most_average_Democrat=k\n"
     ],
     "language": "python",
     "metadata": {},
     "outputs": [],
     "prompt_number": 15
    },
    {
     "cell_type": "code",
     "collapsed": false,
     "input": [
      "most_average_Democrat"
     ],
     "language": "python",
     "metadata": {},
     "outputs": [
      {
       "metadata": {},
       "output_type": "pyout",
       "prompt_number": 16,
       "text": [
        "'Biden'"
       ]
      }
     ],
     "prompt_number": 16
    },
    {
     "cell_type": "code",
     "collapsed": false,
     "input": [
      "def find_average_record(sen_set, voting_dict):\n",
      "    \"\"\"\n",
      "    Input: a set of last names, a voting dictionary\n",
      "    Output: a vector containing the average components of the voting records\n",
      "            of the senators in the input set\n",
      "    Example: \n",
      "        >>> voting_dict = {'Klein': [-1,0,1], 'Fox-Epstein': [-1,-1,-1], 'Ravella': [0,0,1]}\n",
      "        >>> find_average_record({'Fox-Epstein','Ravella'}, voting_dict)\n",
      "        [-0.5, -0.5, 0.0]\n",
      "        >>> d = {'c': [-1,-1,0], 'b': [0,1,1], 'a': [0,1,1], 'e': [-1,-1,1], 'd': [-1,1,1]}\n",
      "        >>> find_average_record({'a','c','e'}, d)\n",
      "        [-0.6666666666666666, -0.3333333333333333, 0.6666666666666666]\n",
      "        >>> find_average_record({'a','c','e','b'}, d)\n",
      "        [-0.5, 0.0, 0.75]\n",
      "        >>> find_average_record({'a'}, d)\n",
      "        [0.0, 1.0, 1.0]\n",
      "    \"\"\" \n",
      "    return [sum(x)/len(sen_set) for x in zip(*[voting_dict[k] for k in sen_set])]"
     ],
     "language": "python",
     "metadata": {},
     "outputs": [],
     "prompt_number": 17
    },
    {
     "cell_type": "code",
     "collapsed": false,
     "input": [
      "voting_dict = {'Klein': [-1,0,1], 'Fox-Epstein': [-1,-1,-1], 'Ravella': [0,0,1]}\n",
      "find_average_record({'Fox-Epstein','Ravella'}, voting_dict)"
     ],
     "language": "python",
     "metadata": {},
     "outputs": [
      {
       "metadata": {},
       "output_type": "pyout",
       "prompt_number": 18,
       "text": [
        "[-0.5, -0.5, 0.0]"
       ]
      }
     ],
     "prompt_number": 18
    },
    {
     "cell_type": "code",
     "collapsed": false,
     "input": [
      "d = {'c': [-1,-1,0], 'b': [0,1,1], 'a': [0,1,1], 'e': [-1,-1,1], 'd': [-1,1,1]}\n",
      "find_average_record({'a','c','e'}, d)"
     ],
     "language": "python",
     "metadata": {},
     "outputs": [
      {
       "metadata": {},
       "output_type": "pyout",
       "prompt_number": 19,
       "text": [
        "[-0.6666666666666666, -0.3333333333333333, 0.6666666666666666]"
       ]
      }
     ],
     "prompt_number": 19
    },
    {
     "cell_type": "code",
     "collapsed": false,
     "input": [
      "find_average_record({'a','c','e','b'}, d)"
     ],
     "language": "python",
     "metadata": {},
     "outputs": [
      {
       "metadata": {},
       "output_type": "pyout",
       "prompt_number": 20,
       "text": [
        "[-0.5, 0.0, 0.75]"
       ]
      }
     ],
     "prompt_number": 20
    },
    {
     "cell_type": "code",
     "collapsed": false,
     "input": [
      "find_average_record({'a'}, d)"
     ],
     "language": "python",
     "metadata": {},
     "outputs": [
      {
       "metadata": {},
       "output_type": "pyout",
       "prompt_number": 21,
       "text": [
        "[0.0, 1.0, 1.0]"
       ]
      }
     ],
     "prompt_number": 21
    },
    {
     "cell_type": "code",
     "collapsed": false,
     "input": [
      "average_Democrat_record = find_average_record(sen_set_democrats,vd_democrats)\n",
      "print(average_Democrat_record)"
     ],
     "language": "python",
     "metadata": {},
     "outputs": [
      {
       "output_type": "stream",
       "stream": "stdout",
       "text": [
        "[-0.16279069767441862, -0.23255813953488372, 1.0, 0.8372093023255814, 0.9767441860465116, -0.13953488372093023, -0.9534883720930233, 0.813953488372093, 0.9767441860465116, 0.9767441860465116, 0.9069767441860465, 0.7674418604651163, 0.6744186046511628, 0.9767441860465116, -0.5116279069767442, 0.9302325581395349, 0.9534883720930233, 0.9767441860465116, -0.3953488372093023, 0.9767441860465116, 1.0, 1.0, 1.0, 0.9534883720930233, -0.4883720930232558, 1.0, -0.32558139534883723, -0.06976744186046512, 0.9767441860465116, 0.8604651162790697, 0.9767441860465116, 0.9767441860465116, 1.0, 1.0, 0.9767441860465116, -0.3488372093023256, 0.9767441860465116, -0.4883720930232558, 0.23255813953488372, 0.8837209302325582, 0.4418604651162791, 0.9069767441860465, -0.9069767441860465, 1.0, 0.9069767441860465, -0.3023255813953488]\n"
       ]
      }
     ],
     "prompt_number": 22
    },
    {
     "cell_type": "code",
     "collapsed": false,
     "input": [
      "def bitter_rivals(voting_dict):\n",
      "    difference={}\n",
      "    for senator in voting_dict.keys():\n",
      "        least=least_similar(senator, voting_dict)\n",
      "        policy=policy_compare(senator, least, voting_dict)\n",
      "        difference[(senator,least)]=policy\n",
      "    minimum=min(difference.values())\n",
      "    for k,v in difference.items():\n",
      "        if v==minimum:\n",
      "            return k\n",
      "            "
     ],
     "language": "python",
     "metadata": {},
     "outputs": [],
     "prompt_number": 35
    },
    {
     "cell_type": "code",
     "collapsed": false,
     "input": [
      "voting_dict = {'Klein': [-1,0,1], 'Fox-Epstein': [-1,-1,-1], 'Ravella': [0,0,1]}\n",
      "br = bitter_rivals(voting_dict)\n",
      "br"
     ],
     "language": "python",
     "metadata": {},
     "outputs": [
      {
       "metadata": {},
       "output_type": "pyout",
       "prompt_number": 36,
       "text": [
        "('Fox-Epstein', 'Ravella')"
       ]
      }
     ],
     "prompt_number": 36
    },
    {
     "cell_type": "code",
     "collapsed": false,
     "input": [
      "brt=bitter_rivals(_vd)\n",
      "brt"
     ],
     "language": "python",
     "metadata": {},
     "outputs": [
      {
       "metadata": {},
       "output_type": "pyout",
       "prompt_number": 37,
       "text": [
        "('Feingold', 'Inhofe')"
       ]
      }
     ],
     "prompt_number": 37
    },
    {
     "cell_type": "code",
     "collapsed": false,
     "input": [],
     "language": "python",
     "metadata": {},
     "outputs": []
    }
   ],
   "metadata": {}
  }
 ]
}