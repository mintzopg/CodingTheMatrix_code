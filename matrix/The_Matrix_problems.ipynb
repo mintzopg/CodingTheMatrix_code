{
 "metadata": {
  "name": "",
  "signature": "sha256:185e02000851aa5e4c169d5baa5962237cb4b7989a0c54ec0f8363d75cda46f1"
 },
 "nbformat": 3,
 "nbformat_minor": 0,
 "worksheets": [
  {
   "cells": [
    {
     "cell_type": "code",
     "collapsed": false,
     "input": [
      "from mat import Mat\n",
      "from vec import Vec"
     ],
     "language": "python",
     "metadata": {},
     "outputs": [],
     "prompt_number": 1
    },
    {
     "cell_type": "code",
     "collapsed": false,
     "input": [
      "def lin_comb_mat_vec_mult(M, v):\n",
      "    '''\n",
      "    Input:\n",
      "      -M: a matrix\n",
      "      -v: a vector\n",
      "    Output: M*v\n",
      "    The following doctests are not comprehensive; they don't test the\n",
      "    main question, which is whether the procedure uses the appropriate\n",
      "    linear-combination definition of matrix-vector multiplication. \n",
      "    Examples:\n",
      "    >>> M=Mat(({'a','b'},{0,1}), {('a',0):7, ('a',1):1, ('b',0):-5, ('b',1):2})\n",
      "    >>> v=Vec({0,1},{0:4, 1:2})\n",
      "    >>> lin_comb_mat_vec_mult(M,v) == Vec({'a', 'b'},{'a': 30, 'b': -16})\n",
      "    True\n",
      "    >>> M1=Mat(({'a','b'},{0,1}), {('a',0):8, ('a',1):2, ('b',0):-2, ('b',1):1})\n",
      "    >>> v1=Vec({0,1},{0:4,1:3})\n",
      "    >>> lin_comb_mat_vec_mult(M1,v1) == Vec({'a', 'b'},{'a': 38, 'b': -5})\n",
      "    True\n",
      "    '''\n",
      "    assert(M.D[1] == v.D)\n",
      "    out=Vec(M.D[0],{})\n",
      "    for j in v.D: # this is equal to M.D[1] the columns of M\n",
      "        out=out+v[j]*Vec(M.D[0], {i:M[i,j] for i in M.D[0]})\n",
      "    return out"
     ],
     "language": "python",
     "metadata": {},
     "outputs": [],
     "prompt_number": 2
    },
    {
     "cell_type": "code",
     "collapsed": false,
     "input": [
      "M=Mat(({'a','b'},{0,1}), {('a',0):7, ('a',1):1, ('b',0):-5, ('b',1):2})\n",
      "v=Vec({0,1},{0:4, 1:2})\n",
      "lin_comb_mat_vec_mult(M,v) == Vec({'a', 'b'},{'a': 30, 'b': -16})"
     ],
     "language": "python",
     "metadata": {},
     "outputs": [
      {
       "metadata": {},
       "output_type": "pyout",
       "prompt_number": 3,
       "text": [
        "True"
       ]
      }
     ],
     "prompt_number": 3
    },
    {
     "cell_type": "code",
     "collapsed": false,
     "input": [
      "M1=Mat(({'a','b'},{0,1}), {('a',0):8, ('a',1):2, ('b',0):-2, ('b',1):1})\n",
      "v1=Vec({0,1},{0:4,1:3})\n",
      "lin_comb_mat_vec_mult(M1,v1) == Vec({'a', 'b'},{'a': 38, 'b': -5})"
     ],
     "language": "python",
     "metadata": {},
     "outputs": [
      {
       "metadata": {},
       "output_type": "pyout",
       "prompt_number": 4,
       "text": [
        "True"
       ]
      }
     ],
     "prompt_number": 4
    },
    {
     "cell_type": "code",
     "collapsed": false,
     "input": [
      "def lin_comb_vec_mat_mult(v, M):\n",
      "    '''\n",
      "    Input:\n",
      "      -v: a vector\n",
      "      -M: a matrix\n",
      "    Output: v*M\n",
      "    The following doctests are not comprehensive; they don't test the\n",
      "    main question, which is whether the procedure uses the appropriate\n",
      "    linear-combination definition of vector-matrix multiplication. \n",
      "    Examples:\n",
      "      >>> M=Mat(({'a','b'},{0,1}), {('a',0):7, ('a',1):1, ('b',0):-5, ('b',1):2})\n",
      "      >>> v=Vec({'a','b'},{'a':2, 'b':-1})\n",
      "      >>> lin_comb_vec_mat_mult(v,M) == Vec({0, 1},{0: 19, 1: 0})\n",
      "      True\n",
      "      >>> M1=Mat(({'a','b'},{0,1}), {('a',0):8, ('a',1):2, ('b',0):-2, ('b',1):1})\n",
      "      >>> v1=Vec({'a','b'},{'a':4,'b':3})\n",
      "      >>> lin_comb_vec_mat_mult(v1,M1) == Vec({0, 1},{0: 26, 1: 11})\n",
      "      True\n",
      "    '''\n",
      "    assert(v.D == M.D[0])\n",
      "    out=Vec(M.D[1],{})\n",
      "    for j in v.D: # this is equal to M.D[0] the rows of M\n",
      "        out=out+v[j]*Vec(M.D[1],{i:M[j,i] for i in M.D[1]})\n",
      "    return out"
     ],
     "language": "python",
     "metadata": {},
     "outputs": [],
     "prompt_number": 5
    },
    {
     "cell_type": "code",
     "collapsed": false,
     "input": [
      "M=Mat(({'a','b'},{0,1}), {('a',0):7, ('a',1):1, ('b',0):-5, ('b',1):2})\n",
      "v=Vec({'a','b'},{'a':2, 'b':-1})\n",
      "lin_comb_vec_mat_mult(v,M) == Vec({0, 1},{0: 19, 1: 0})"
     ],
     "language": "python",
     "metadata": {},
     "outputs": [
      {
       "metadata": {},
       "output_type": "pyout",
       "prompt_number": 6,
       "text": [
        "True"
       ]
      }
     ],
     "prompt_number": 6
    },
    {
     "cell_type": "code",
     "collapsed": false,
     "input": [
      "M1=Mat(({'a','b'},{0,1}), {('a',0):8, ('a',1):2, ('b',0):-2, ('b',1):1})\n",
      "v1=Vec({'a','b'},{'a':4,'b':3})\n",
      "lin_comb_vec_mat_mult(v1,M1) == Vec({0, 1},{0: 26, 1: 11})"
     ],
     "language": "python",
     "metadata": {},
     "outputs": [
      {
       "metadata": {},
       "output_type": "pyout",
       "prompt_number": 7,
       "text": [
        "True"
       ]
      }
     ],
     "prompt_number": 7
    },
    {
     "cell_type": "code",
     "collapsed": false,
     "input": [
      "def dot_product_mat_vec_mult(M, v):\n",
      "    '''\n",
      "    Return the matrix-vector product M*v.\n",
      "    The following doctests are not comprehensive; they don't test the\n",
      "    main question, which is whether the procedure uses the appropriate\n",
      "    dot-product definition of matrix-vector multiplication. \n",
      "    Examples:\n",
      "    >>> M=Mat(({'a','b'},{0,1}), {('a',0):7, ('a',1):1, ('b',0):-5, ('b',1):2})\n",
      "    >>> v=Vec({0,1},{0:4, 1:2})\n",
      "    >>> dot_product_mat_vec_mult(M,v) == Vec({'a', 'b'},{'a': 30, 'b': -16})\n",
      "    True\n",
      "    >>> M1=Mat(({'a','b'},{0,1}), {('a',0):8, ('a',1):2, ('b',0):-2, ('b',1):1})\n",
      "    >>> v1=Vec({0,1},{0:4,1:3})\n",
      "    >>> dot_product_mat_vec_mult(M1,v1) == Vec({'a', 'b'},{'a': 38, 'b': -5})\n",
      "    True\n",
      "    '''\n",
      "    from matutil import mat2rowdict\n",
      "    assert(M.D[1] == v.D)\n",
      "    M_row_vectors=mat2rowdict(M) # a dictionary with keys the row num 0,1,.. and values the row vectors\n",
      "    return Vec(M.D[0],{key:val*v for key,val in M_row_vectors.items()})"
     ],
     "language": "python",
     "metadata": {},
     "outputs": [],
     "prompt_number": 8
    },
    {
     "cell_type": "code",
     "collapsed": false,
     "input": [
      "M=Mat(({'a','b'},{0,1}), {('a',0):7, ('a',1):1, ('b',0):-5, ('b',1):2})\n",
      "v=Vec({0,1},{0:4, 1:2})\n",
      "dot_product_mat_vec_mult(M,v) == Vec({'a', 'b'},{'a': 30, 'b': -16})"
     ],
     "language": "python",
     "metadata": {},
     "outputs": [
      {
       "metadata": {},
       "output_type": "pyout",
       "prompt_number": 9,
       "text": [
        "True"
       ]
      }
     ],
     "prompt_number": 9
    },
    {
     "cell_type": "code",
     "collapsed": false,
     "input": [
      "M1=Mat(({'a','b'},{0,1}), {('a',0):8, ('a',1):2, ('b',0):-2, ('b',1):1})\n",
      "v1=Vec({0,1},{0:4,1:3})\n",
      "dot_product_mat_vec_mult(M1,v1) == Vec({'a', 'b'},{'a': 38, 'b': -5})"
     ],
     "language": "python",
     "metadata": {},
     "outputs": [
      {
       "metadata": {},
       "output_type": "pyout",
       "prompt_number": 10,
       "text": [
        "True"
       ]
      }
     ],
     "prompt_number": 10
    },
    {
     "cell_type": "code",
     "collapsed": false,
     "input": [
      "def dot_product_vec_mat_mult(v, M):\n",
      "    '''\n",
      "    The following doctests are not comprehensive; they don't test the\n",
      "    main question, which is whether the procedure uses the appropriate\n",
      "    dot-product definition of vector-matrix multiplication. \n",
      "    Examples:\n",
      "      >>> M=Mat(({'a','b'},{0,1}), {('a',0):7, ('a',1):1, ('b',0):-5, ('b',1):2})\n",
      "      >>> v=Vec({'a','b'},{'a':2, 'b':-1})\n",
      "      >>> dot_product_vec_mat_mult(v,M) == Vec({0, 1},{0: 19, 1: 0})\n",
      "      True\n",
      "      >>> M1=Mat(({'a','b'},{0,1}), {('a',0):8, ('a',1):2, ('b',0):-2, ('b',1):1})\n",
      "      >>> v1=Vec({'a','b'},{'a':4,'b':3})\n",
      "      >>> dot_product_vec_mat_mult(v1,M1) == Vec({0, 1},{0: 26, 1: 11})\n",
      "      True\n",
      "      '''\n",
      "    assert(v.D == M.D[0])\n",
      "    from matutil import mat2coldict\n",
      "    M_col_vectors=mat2coldict(M)\n",
      "    return Vec(M.D[1], {key:v*val for key,val in M_col_vectors.items() })"
     ],
     "language": "python",
     "metadata": {},
     "outputs": [],
     "prompt_number": 11
    },
    {
     "cell_type": "code",
     "collapsed": false,
     "input": [
      "M=Mat(({'a','b'},{0,1}), {('a',0):7, ('a',1):1, ('b',0):-5, ('b',1):2})\n",
      "v=Vec({'a','b'},{'a':2, 'b':-1})\n",
      "dot_product_vec_mat_mult(v,M) == Vec({0, 1},{0: 19, 1: 0})"
     ],
     "language": "python",
     "metadata": {},
     "outputs": [
      {
       "metadata": {},
       "output_type": "pyout",
       "prompt_number": 12,
       "text": [
        "True"
       ]
      }
     ],
     "prompt_number": 12
    },
    {
     "cell_type": "code",
     "collapsed": false,
     "input": [
      "M1=Mat(({'a','b'},{0,1}), {('a',0):8, ('a',1):2, ('b',0):-2, ('b',1):1})\n",
      "v1=Vec({'a','b'},{'a':4,'b':3})\n",
      "dot_product_vec_mat_mult(v1,M1) == Vec({0, 1},{0: 26, 1: 11})"
     ],
     "language": "python",
     "metadata": {},
     "outputs": [
      {
       "metadata": {},
       "output_type": "pyout",
       "prompt_number": 13,
       "text": [
        "True"
       ]
      }
     ],
     "prompt_number": 13
    },
    {
     "cell_type": "code",
     "collapsed": false,
     "input": [
      "## 14: (Problem 4.17.17) Matrix-vector matrix-matrix multiply\n",
      "# You are also allowed to use the matutil module\n",
      "def Mv_mat_mat_mult(A, B):\n",
      "    assert A.D[1] == B.D[0]\n",
      "    from matutil import mat2coldict, coldict2mat\n",
      "    B_col_vectors=mat2coldict(B)\n",
      "    out={key:A*val for key,val in B_col_vectors.items()}\n",
      "    return coldict2mat(out)"
     ],
     "language": "python",
     "metadata": {},
     "outputs": [],
     "prompt_number": 14
    },
    {
     "cell_type": "code",
     "collapsed": false,
     "input": [
      "A=Mat(({0,1},{0,1}),{(0,0):1, (0,1):2, (1,0):-1, (1,1):1})\n",
      "B=Mat(({0,1},{0,1,2}),{(0,0):4, (0,1):2, (0,2):0, (1,0):3, (1,1):1, (1,2):-1})"
     ],
     "language": "python",
     "metadata": {},
     "outputs": [],
     "prompt_number": 15
    },
    {
     "cell_type": "code",
     "collapsed": false,
     "input": [
      "Mv_mat_mat_mult(A,B)"
     ],
     "language": "python",
     "metadata": {},
     "outputs": [
      {
       "metadata": {},
       "output_type": "pyout",
       "prompt_number": 16,
       "text": [
        "Mat(({0, 1}, {0, 1, 2}), {(0, 1): 4, (1, 2): -1, (0, 0): 10, (1, 0): -1, (1, 1): -1, (0, 2): -2})"
       ]
      }
     ],
     "prompt_number": 16
    },
    {
     "cell_type": "code",
     "collapsed": false,
     "input": [
      "## 15: (Problem 4.17.18) Vector-matrix matrix-matrix multiply\n",
      "def vM_mat_mat_mult(A, B):\n",
      "    assert A.D[1] == B.D[0]\n",
      "    from matutil import mat2rowdict, rowdict2mat\n",
      "    A_row_vectors=mat2rowdict(A)\n",
      "    out={key:val*B for key,val in A_row_vectors.items()}\n",
      "    return rowdict2mat(out)"
     ],
     "language": "python",
     "metadata": {},
     "outputs": [],
     "prompt_number": 17
    },
    {
     "cell_type": "code",
     "collapsed": false,
     "input": [
      "vM_mat_mat_mult(A,B)"
     ],
     "language": "python",
     "metadata": {},
     "outputs": [
      {
       "metadata": {},
       "output_type": "pyout",
       "prompt_number": 18,
       "text": [
        "Mat(({0, 1}, {0, 1, 2}), {(0, 1): 4, (1, 2): -1, (0, 0): 10, (1, 0): -1, (0, 2): -2, (1, 1): -1})"
       ]
      }
     ],
     "prompt_number": 18
    },
    {
     "cell_type": "code",
     "collapsed": false,
     "input": [
      "Mv_mat_mat_mult(A,B)==vM_mat_mat_mult(A,B)"
     ],
     "language": "python",
     "metadata": {},
     "outputs": [
      {
       "metadata": {},
       "output_type": "pyout",
       "prompt_number": 19,
       "text": [
        "True"
       ]
      }
     ],
     "prompt_number": 19
    },
    {
     "cell_type": "code",
     "collapsed": false,
     "input": [
      "## 16: () Buttons\n",
      "from solver import solve\n",
      "from GF2 import one\n",
      "\n",
      "def D(n): return {(i,j) for i in range(n) for j in range(n)}\n",
      "\n",
      "def button_vectors(n):\n",
      "  return {(i,j):Vec(D(n),dict([((x,j),one) for x in range(max(i-1,0), min(i+2,n))]\n",
      "                           +[((i,y),one) for y in range(max(j-1,0), min(j+2,n))]))\n",
      "                           for (i,j) in D(n)}"
     ],
     "language": "python",
     "metadata": {},
     "outputs": [],
     "prompt_number": 20
    },
    {
     "cell_type": "code",
     "collapsed": false,
     "input": [
      "b1 = Vec(D(9), {(7, 7):one, (6, 2):one, (3, 7):one,\n",
      "(2, 5):one, (8, 5):one, (7, 2):one, (1, 2):one,\n",
      "(6, 3):one, (5, 0):one, (0, 4):one, (2, 2):one,\n",
      "(6, 4):one, (5, 4):one, (0, 0):one, (1, 4):one,\n",
      "(8, 7):one, (0, 8):one, (6, 5):one, (2, 7):one,\n",
      "(8, 3):one, (7, 0):one, (4, 6):one, (6, 8):one,\n",
      "(7, 4):one, (0, 6):one, (1, 8):one, (7, 8):one, (2, 4):one})\n"
     ],
     "language": "python",
     "metadata": {},
     "outputs": [],
     "prompt_number": 21
    },
    {
     "cell_type": "code",
     "collapsed": false,
     "input": [
      "from matutil import coldict2mat\n",
      "A=coldict2mat(button_vectors(9))"
     ],
     "language": "python",
     "metadata": {},
     "outputs": [],
     "prompt_number": 26
    },
    {
     "cell_type": "code",
     "collapsed": false,
     "input": [
      "# solution given by solver\n",
      "x1=solve(A,b1)"
     ],
     "language": "python",
     "metadata": {},
     "outputs": [],
     "prompt_number": 32
    },
    {
     "cell_type": "code",
     "collapsed": false,
     "input": [
      "x1"
     ],
     "language": "python",
     "metadata": {},
     "outputs": [
      {
       "metadata": {},
       "output_type": "pyout",
       "prompt_number": 33,
       "text": [
        "Vec({(0, 2), (7, 3), (4, 7), (1, 3), (8, 4), (4, 8), (3, 0), (2, 8), (5, 6), (8, 0), (6, 6), (7, 7), (0, 7), (2, 1), (6, 2), (1, 6), (5, 1), (3, 7), (0, 3), (8, 5), (2, 5), (5, 8), (4, 0), (1, 2), (7, 2), (6, 7), (3, 3), (5, 5), (8, 1), (7, 6), (4, 4), (6, 3), (1, 5), (5, 0), (2, 2), (3, 6), (8, 6), (0, 4), (4, 1), (1, 1), (6, 4), (3, 2), (0, 0), (5, 4), (8, 2), (2, 6), (7, 1), (4, 5), (6, 0), (1, 4), (7, 5), (0, 5), (2, 3), (8, 7), (4, 2), (1, 0), (0, 8), (6, 5), (3, 5), (2, 7), (0, 1), (5, 3), (8, 3), (7, 0), (6, 8), (4, 6), (6, 1), (3, 1), (5, 7), (7, 4), (2, 0), (3, 8), (0, 6), (1, 8), (8, 8), (4, 3), (1, 7), (3, 4), (5, 2), (2, 4), (7, 8)},{(7, 3): one, (4, 7): one, (4, 4): one, (6, 6): 0, (5, 6): one, (2, 8): 0, (8, 0): one, (7, 8): 0, (7, 7): one, (2, 1): one, (0, 1): 0, (6, 2): one, (1, 6): 0, (3, 7): 0, (5, 1): 0, (2, 5): 0, (0, 3): 0, (5, 8): one, (4, 0): 0, (1, 2): 0, (7, 4): 0, (3, 1): one, (6, 7): 0, (5, 5): 0, (0, 2): 0, (1, 5): 0, (7, 6): 0, (4, 8): 0, (0, 0): one, (6, 3): one, (3, 0): one, (7, 2): 0, (3, 6): one, (2, 2): one, (1, 3): one, (3, 3): 0, (5, 3): one, (4, 1): 0, (1, 1): one, (6, 4): one, (5, 4): 0, (2, 6): 0, (3, 2): one, (5, 0): one, (7, 1): one, (4, 5): 0, (0, 4): one, (6, 0): 0, (1, 4): one, (7, 5): one, (2, 3): 0, (0, 7): 0, (6, 8): 0, (4, 2): one, (1, 0): 0, (0, 8): 0, (6, 5): one, (3, 5): one, (2, 7): one, (7, 0): one, (4, 6): 0, (3, 4): 0, (6, 1): 0, (5, 7): one, (0, 6): 0, (3, 8): 0, (2, 0): 0, (1, 8): one, (4, 3): one, (1, 7): 0, (0, 5): one, (5, 2): one, (2, 4): 0})"
       ]
      }
     ],
     "prompt_number": 33
    },
    {
     "cell_type": "code",
     "collapsed": false,
     "input": [
      "#residual\n",
      "r1=b1-A*x1"
     ],
     "language": "python",
     "metadata": {},
     "outputs": [],
     "prompt_number": 34
    },
    {
     "cell_type": "code",
     "collapsed": false,
     "input": [
      "r1"
     ],
     "language": "python",
     "metadata": {},
     "outputs": [
      {
       "metadata": {},
       "output_type": "pyout",
       "prompt_number": 35,
       "text": [
        "Vec({(7, 8), (7, 3), (4, 7), (1, 3), (8, 4), (4, 8), (3, 0), (2, 8), (5, 6), (6, 6), (8, 0), (7, 7), (0, 7), (2, 1), (6, 2), (1, 6), (3, 7), (0, 3), (2, 5), (5, 1), (8, 5), (5, 8), (4, 0), (1, 2), (7, 2), (6, 7), (3, 3), (5, 5), (8, 1), (7, 6), (4, 4), (6, 3), (1, 5), (3, 6), (0, 4), (2, 2), (5, 0), (8, 6), (4, 1), (1, 1), (6, 4), (3, 2), (0, 0), (2, 6), (5, 4), (8, 2), (7, 1), (4, 5), (6, 0), (1, 4), (7, 5), (0, 5), (2, 3), (8, 7), (4, 2), (1, 0), (0, 8), (6, 5), (3, 5), (0, 1), (2, 7), (5, 3), (8, 3), (7, 0), (4, 6), (6, 8), (6, 1), (3, 1), (5, 7), (3, 8), (0, 6), (1, 8), (2, 0), (7, 4), (8, 8), (4, 3), (1, 7), (3, 4), (0, 2), (2, 4), (5, 2)},{(7, 3): 0, (4, 7): 0, (1, 3): 0, (6, 6): 0, (5, 6): 0, (2, 8): 0, (8, 0): 0, (7, 7): 0, (2, 1): 0, (0, 1): 0, (6, 2): 0, (1, 6): 0, (3, 7): 0, (5, 1): 0, (2, 5): 0, (8, 5): 0, (0, 3): 0, (7, 2): 0, (4, 0): 0, (1, 2): 0, (3, 8): 0, (3, 1): 0, (6, 7): 0, (5, 5): 0, (1, 5): 0, (8, 1): 0, (7, 6): 0, (4, 4): 0, (6, 3): 0, (3, 0): 0, (8, 8): 0, (5, 8): 0, (5, 0): 0, (2, 2): 0, (3, 3): 0, (5, 3): 0, (4, 1): 0, (1, 1): 0, (6, 4): 0, (5, 4): 0, (0, 0): 0, (3, 2): 0, (3, 6): 0, (7, 1): 0, (4, 5): 0, (0, 4): 0, (6, 0): 0, (1, 4): 0, (7, 5): 0, (0, 5): 0, (0, 7): 0, (8, 7): 0, (8, 6): 0, (4, 2): 0, (1, 0): 0, (0, 8): 0, (8, 2): 0, (6, 5): 0, (6, 8): 0, (2, 7): 0, (8, 3): 0, (7, 0): 0, (4, 6): 0, (3, 4): 0, (6, 1): 0, (5, 7): 0, (5, 2): 0, (2, 6): 0, (0, 2): 0, (7, 4): 0, (0, 6): 0, (1, 8): 0, (3, 5): 0, (4, 3): 0, (1, 7): 0, (2, 3): 0, (2, 0): 0, (4, 8): 0, (7, 8): 0, (2, 4): 0, (8, 4): 0})"
       ]
      }
     ],
     "prompt_number": 35
    },
    {
     "cell_type": "code",
     "collapsed": false,
     "input": [
      "r1.f.values()"
     ],
     "language": "python",
     "metadata": {},
     "outputs": [
      {
       "metadata": {},
       "output_type": "pyout",
       "prompt_number": 37,
       "text": [
        "dict_values([0, 0, 0, 0, 0, 0, 0, 0, 0, 0, 0, 0, 0, 0, 0, 0, 0, 0, 0, 0, 0, 0, 0, 0, 0, 0, 0, 0, 0, 0, 0, 0, 0, 0, 0, 0, 0, 0, 0, 0, 0, 0, 0, 0, 0, 0, 0, 0, 0, 0, 0, 0, 0, 0, 0, 0, 0, 0, 0, 0, 0, 0, 0, 0, 0, 0, 0, 0, 0, 0, 0, 0, 0, 0, 0, 0, 0, 0, 0, 0, 0])"
       ]
      }
     ],
     "prompt_number": 37
    },
    {
     "cell_type": "code",
     "collapsed": false,
     "input": [
      "b2=Vec(D(9), {(3,4):one, (6,7):one})"
     ],
     "language": "python",
     "metadata": {},
     "outputs": [],
     "prompt_number": 38
    },
    {
     "cell_type": "code",
     "collapsed": false,
     "input": [
      "x2=solve(A,b2)"
     ],
     "language": "python",
     "metadata": {},
     "outputs": [],
     "prompt_number": 39
    },
    {
     "cell_type": "code",
     "collapsed": false,
     "input": [
      "x2"
     ],
     "language": "python",
     "metadata": {},
     "outputs": [
      {
       "metadata": {},
       "output_type": "pyout",
       "prompt_number": 40,
       "text": [
        "Vec({(0, 2), (7, 3), (4, 7), (1, 3), (8, 4), (4, 8), (3, 0), (2, 8), (5, 6), (8, 0), (6, 6), (7, 7), (0, 7), (2, 1), (6, 2), (1, 6), (5, 1), (3, 7), (0, 3), (8, 5), (2, 5), (5, 8), (4, 0), (1, 2), (7, 2), (6, 7), (3, 3), (5, 5), (8, 1), (7, 6), (4, 4), (6, 3), (1, 5), (5, 0), (2, 2), (3, 6), (8, 6), (0, 4), (4, 1), (1, 1), (6, 4), (3, 2), (0, 0), (5, 4), (8, 2), (2, 6), (7, 1), (4, 5), (6, 0), (1, 4), (7, 5), (0, 5), (2, 3), (8, 7), (4, 2), (1, 0), (0, 8), (6, 5), (3, 5), (2, 7), (0, 1), (5, 3), (8, 3), (7, 0), (6, 8), (4, 6), (6, 1), (3, 1), (5, 7), (7, 4), (2, 0), (3, 8), (0, 6), (1, 8), (8, 8), (4, 3), (1, 7), (3, 4), (5, 2), (2, 4), (7, 8)},{(7, 3): 0, (4, 7): one, (4, 4): 0, (6, 6): 0, (5, 6): 0, (2, 8): 0, (8, 0): 0, (7, 8): 0, (7, 7): 0, (2, 1): 0, (0, 1): 0, (6, 2): 0, (1, 6): 0, (3, 7): one, (5, 1): 0, (2, 5): one, (0, 3): 0, (5, 8): 0, (4, 0): 0, (1, 2): one, (7, 4): 0, (3, 1): 0, (6, 7): 0, (5, 5): one, (0, 2): one, (1, 5): 0, (7, 6): 0, (4, 8): one, (0, 0): one, (6, 3): 0, (3, 0): 0, (7, 2): 0, (3, 6): one, (2, 2): 0, (1, 3): 0, (3, 3): 0, (5, 3): one, (4, 1): 0, (1, 1): 0, (6, 4): one, (5, 4): one, (2, 6): one, (3, 2): 0, (5, 0): 0, (7, 1): 0, (4, 5): 0, (0, 4): one, (6, 0): 0, (1, 4): 0, (7, 5): 0, (2, 3): one, (0, 7): one, (6, 8): 0, (4, 2): 0, (1, 0): one, (0, 8): 0, (6, 5): 0, (3, 5): one, (2, 7): one, (7, 0): 0, (4, 6): 0, (3, 4): one, (6, 1): 0, (5, 7): one, (0, 6): 0, (3, 8): 0, (2, 0): 0, (1, 8): one, (4, 3): 0, (1, 7): one, (0, 5): one, (5, 2): 0, (2, 4): one})"
       ]
      }
     ],
     "prompt_number": 40
    },
    {
     "cell_type": "code",
     "collapsed": false,
     "input": [
      "r2=b2-A*x2\n",
      "r2"
     ],
     "language": "python",
     "metadata": {},
     "outputs": [
      {
       "metadata": {},
       "output_type": "pyout",
       "prompt_number": 43,
       "text": [
        "Vec({(7, 8), (7, 3), (4, 7), (1, 3), (8, 4), (4, 8), (3, 0), (2, 8), (5, 6), (6, 6), (8, 0), (7, 7), (0, 7), (2, 1), (6, 2), (1, 6), (3, 7), (0, 3), (2, 5), (5, 1), (8, 5), (5, 8), (4, 0), (1, 2), (7, 2), (6, 7), (3, 3), (5, 5), (8, 1), (7, 6), (4, 4), (6, 3), (1, 5), (3, 6), (0, 4), (2, 2), (5, 0), (8, 6), (4, 1), (1, 1), (6, 4), (3, 2), (0, 0), (2, 6), (5, 4), (8, 2), (7, 1), (4, 5), (6, 0), (1, 4), (7, 5), (0, 5), (2, 3), (8, 7), (4, 2), (1, 0), (0, 8), (6, 5), (3, 5), (0, 1), (2, 7), (5, 3), (8, 3), (7, 0), (4, 6), (6, 8), (6, 1), (3, 1), (5, 7), (3, 8), (0, 6), (1, 8), (2, 0), (7, 4), (8, 8), (4, 3), (1, 7), (3, 4), (0, 2), (2, 4), (5, 2)},{(7, 3): 0, (4, 7): 0, (1, 3): 0, (6, 6): 0, (5, 6): 0, (2, 8): 0, (8, 0): 0, (7, 8): 0, (7, 7): 0, (2, 1): 0, (2, 6): 0, (1, 6): 0, (5, 1): 0, (3, 7): 0, (0, 3): 0, (8, 5): 0, (2, 5): 0, (7, 2): 0, (4, 0): 0, (1, 2): 0, (3, 8): 0, (3, 1): 0, (6, 7): 0, (5, 5): 0, (2, 0): one, (8, 1): 0, (7, 6): 0, (4, 4): 0, (1, 8): 0, (3, 0): 0, (6, 3): 0, (1, 5): 0, (8, 8): 0, (5, 8): 0, (3, 6): 0, (0, 4): 0, (8, 6): 0, (5, 3): 0, (4, 1): 0, (1, 1): 0, (2, 7): 0, (3, 2): 0, (0, 0): 0, (5, 0): 0, (7, 1): 0, (4, 5): 0, (2, 2): 0, (6, 0): 0, (1, 4): 0, (7, 5): 0, (0, 5): 0, (0, 7): 0, (8, 7): 0, (6, 8): 0, (5, 4): 0, (4, 2): 0, (1, 0): 0, (0, 8): 0, (6, 5): 0, (3, 3): 0, (0, 1): 0, (8, 3): 0, (7, 0): 0, (4, 6): 0, (5, 2): one, (6, 1): 0, (5, 7): 0, (6, 4): 0, (8, 2): 0, (0, 2): 0, (7, 4): one, (0, 6): 0, (3, 5): 0, (6, 2): 0, (4, 3): one, (1, 7): 0, (2, 3): 0, (4, 8): 0, (3, 4): 0, (2, 4): 0, (8, 4): 0})"
       ]
      }
     ],
     "prompt_number": 43
    },
    {
     "cell_type": "code",
     "collapsed": false,
     "input": [
      "r2.f.values()"
     ],
     "language": "python",
     "metadata": {},
     "outputs": [
      {
       "metadata": {},
       "output_type": "pyout",
       "prompt_number": 42,
       "text": [
        "dict_values([0, 0, 0, 0, 0, 0, 0, 0, 0, 0, 0, 0, 0, 0, 0, 0, 0, 0, 0, 0, 0, 0, 0, 0, one, 0, 0, 0, 0, 0, 0, 0, 0, 0, 0, 0, 0, 0, 0, 0, 0, 0, 0, 0, 0, 0, 0, 0, 0, 0, 0, 0, 0, 0, 0, 0, 0, 0, 0, 0, 0, 0, 0, 0, one, 0, 0, 0, 0, 0, one, 0, 0, 0, one, 0, 0, 0, 0, 0, 0])"
       ]
      }
     ],
     "prompt_number": 42
    },
    {
     "cell_type": "code",
     "collapsed": false,
     "input": [
      "def LinearSolver_2X2 (a,b,c,d,p,q):\n",
      "    return ((d*p-c*q)/(a*d-b*c),(a*q-b*p)/(a*d-b*c)) "
     ],
     "language": "python",
     "metadata": {},
     "outputs": [],
     "prompt_number": 56
    },
    {
     "cell_type": "code",
     "collapsed": false,
     "input": [
      "LinearSolver_2X2(3,2,4,1,1,0)"
     ],
     "language": "python",
     "metadata": {},
     "outputs": [
      {
       "metadata": {},
       "output_type": "pyout",
       "prompt_number": 65,
       "text": [
        "(-0.2, 0.4)"
       ]
      }
     ],
     "prompt_number": 65
    },
    {
     "cell_type": "code",
     "collapsed": false,
     "input": [
      "LinearSolver_2X2(3,2,4,1,0,1)"
     ],
     "language": "python",
     "metadata": {},
     "outputs": [
      {
       "metadata": {},
       "output_type": "pyout",
       "prompt_number": 66,
       "text": [
        "(0.8, -0.6)"
       ]
      }
     ],
     "prompt_number": 66
    },
    {
     "cell_type": "code",
     "collapsed": false,
     "input": [
      "solving_systems_m = Mat(({0, 1}, {0, 1}), {(0,0):-0.2, (0,1):0.8, (1,0):0.4, (1,1):-0.6})\n",
      "A=Mat(({0,1},{0,1}), {(0,0):3, (0,1):4, (1,0):2, (1,1):1})"
     ],
     "language": "python",
     "metadata": {},
     "outputs": [],
     "prompt_number": 67
    },
    {
     "cell_type": "code",
     "collapsed": false,
     "input": [
      "solving_systems_m*A"
     ],
     "language": "python",
     "metadata": {},
     "outputs": [
      {
       "metadata": {},
       "output_type": "pyout",
       "prompt_number": 68,
       "text": [
        "Mat(({0, 1}, {0, 1}), {(0, 1): 0.0, (1, 0): 2.220446049250313e-16, (0, 0): 1.0, (1, 1): 1.0})"
       ]
      }
     ],
     "prompt_number": 68
    },
    {
     "cell_type": "code",
     "collapsed": false,
     "input": [
      "A*solving_systems_m"
     ],
     "language": "python",
     "metadata": {},
     "outputs": [
      {
       "metadata": {},
       "output_type": "pyout",
       "prompt_number": 69,
       "text": [
        "Mat(({0, 1}, {0, 1}), {(0, 1): 4.440892098500626e-16, (1, 0): 0.0, (0, 0): 1.0, (1, 1): 1.0})"
       ]
      }
     ],
     "prompt_number": 69
    },
    {
     "cell_type": "code",
     "collapsed": false,
     "input": [
      "#18.1\n",
      "# enter matrix columns\n",
      "def matrix(a,b,c,d): #return a matrix 2x2 defined as Mat class object\n",
      "    return Mat(({0,1},{0,1}),{(0,0):a, (0,1):c, (1,0):b, (1,1):d})"
     ],
     "language": "python",
     "metadata": {},
     "outputs": [],
     "prompt_number": 71
    },
    {
     "cell_type": "code",
     "collapsed": false,
     "input": [
      "A=matrix(5,9,1,2)\n",
      "B=matrix(2,-9,-1,5)"
     ],
     "language": "python",
     "metadata": {},
     "outputs": [],
     "prompt_number": 72
    },
    {
     "cell_type": "code",
     "collapsed": false,
     "input": [
      "A*B==B*A"
     ],
     "language": "python",
     "metadata": {},
     "outputs": [
      {
       "metadata": {},
       "output_type": "pyout",
       "prompt_number": 74,
       "text": [
        "True"
       ]
      }
     ],
     "prompt_number": 74
    },
    {
     "cell_type": "code",
     "collapsed": false,
     "input": [
      "matrix(2,0,0,1)*matrix(0.5,0,0,1)==matrix(0.5,0,0,1)*matrix(2,0,0,1)"
     ],
     "language": "python",
     "metadata": {},
     "outputs": [
      {
       "metadata": {},
       "output_type": "pyout",
       "prompt_number": 76,
       "text": [
        "True"
       ]
      }
     ],
     "prompt_number": 76
    },
    {
     "cell_type": "code",
     "collapsed": false,
     "input": [
      "matrix(3,0,1,2)*matrix(1,-2,1/6,1/2)==matrix(1,-2,1/6,1/2)*matrix(3,0,1,2)"
     ],
     "language": "python",
     "metadata": {},
     "outputs": [
      {
       "metadata": {},
       "output_type": "pyout",
       "prompt_number": 77,
       "text": [
        "False"
       ]
      }
     ],
     "prompt_number": 77
    },
    {
     "cell_type": "code",
     "collapsed": false,
     "input": [
      "from GF2 import one\n",
      "A=Mat(({0,1},{0,1,2}),{(0,0):one, (0,1):0, (0,2):one, (1,0):0, (1,1):one, (1,2):0})\n",
      "B=Mat(({0,1,2},{0,1}),{(0,0):0, (0,1):one, (1,0):0, (1,1):one, (2,0):one, (2,1):one})"
     ],
     "language": "python",
     "metadata": {},
     "outputs": [],
     "prompt_number": 80
    },
    {
     "cell_type": "code",
     "collapsed": false,
     "input": [],
     "language": "python",
     "metadata": {},
     "outputs": []
    }
   ],
   "metadata": {}
  }
 ]
}