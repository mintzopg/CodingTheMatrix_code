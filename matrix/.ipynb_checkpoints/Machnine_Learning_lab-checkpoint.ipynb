{
 "cells": [
  {
   "cell_type": "code",
   "execution_count": 8,
   "metadata": {
    "collapsed": false
   },
   "outputs": [
    {
     "data": {
      "text/plain": [
       "'/home/gimin/Courses/Brown_LinearAlgebra_Coursera/matrix'"
      ]
     },
     "execution_count": 8,
     "metadata": {},
     "output_type": "execute_result"
    }
   ],
   "source": [
    "pwd"
   ]
  },
  {
   "cell_type": "code",
   "execution_count": 1,
   "metadata": {
    "collapsed": true
   },
   "outputs": [],
   "source": [
    "from mat import *\n",
    "from vec import *\n",
    "from cancer_data import *\n",
    "from matutil import mat2rowdict"
   ]
  },
  {
   "cell_type": "code",
   "execution_count": 33,
   "metadata": {
    "collapsed": false
   },
   "outputs": [],
   "source": [
    "## Task 1 ##\n",
    "def signum(u):\n",
    "    '''\n",
    "    Input:\n",
    "        - u: Vec\n",
    "    Output:\n",
    "        - v: Vec such that:\n",
    "            if u[d] >= 0, then v[d] =  1\n",
    "            if u[d] <  0, then v[d] = -1\n",
    "    Example:\n",
    "        >>> signum(Vec({1,2,3},{1:2, 2:-1})) == Vec({1,2,3},{1:1,2:-1,3:1})\n",
    "        True\n",
    "    '''\n",
    "    return Vec(u.D, {d:+1 if u[d] >= 0 else -1 for d in u.D })"
   ]
  },
  {
   "cell_type": "code",
   "execution_count": 28,
   "metadata": {
    "collapsed": false
   },
   "outputs": [
    {
     "data": {
      "text/plain": [
       "True"
      ]
     },
     "execution_count": 28,
     "metadata": {},
     "output_type": "execute_result"
    }
   ],
   "source": [
    "signum(Vec({1,2,3},{1:2, 2:-1})) == Vec({1,2,3},{1:1,2:-1,3:1})"
   ]
  },
  {
   "cell_type": "code",
   "execution_count": 53,
   "metadata": {
    "collapsed": true
   },
   "outputs": [],
   "source": [
    "## Task 2 ##\n",
    "def fraction_wrong(A, b, w):\n",
    "    '''\n",
    "    Input:\n",
    "        - A: a Mat with rows as feature vectors\n",
    "        - b: a Vec of actual diagnoses\n",
    "        - w: hypothesis Vec\n",
    "    Output:\n",
    "        - Fraction (as a decimal in [0,1]) of vectors incorrectly\n",
    "          classified by w \n",
    "    Example:\n",
    "        >>> A = Mat(({'a','b','c'},{'A','B'}), {('a','A'):-4, ('a','B'):3, ('b','A'):1, ('b','B'):8, ('c','A'):5, ('c','B'):2})\n",
    "        >>> b = Vec({'a','b','c'}, {'a':1, 'b':-1,'c':1})\n",
    "        >>> w = Vec({'A','B'}, {'A':1, 'B':-2})\n",
    "        >>> fraction_wrong(A, b, w)\n",
    "        0.3333333333333333\n",
    "    '''\n",
    "    v = signum(A*w) # Rx1\n",
    "    return sum([1 if v[i]*b[i] < 0 else 0 for i in v.D])/len(v.D)"
   ]
  },
  {
   "cell_type": "code",
   "execution_count": 55,
   "metadata": {
    "collapsed": false
   },
   "outputs": [
    {
     "data": {
      "text/plain": [
       "0.3333333333333333"
      ]
     },
     "execution_count": 55,
     "metadata": {},
     "output_type": "execute_result"
    }
   ],
   "source": [
    "A = Mat(({'a','b','c'},{'A','B'}), {('a','A'):-4, ('a','B'):3, ('b','A'):1, ('b','B'):8, ('c','A'):5, ('c','B'):2})\n",
    "b = Vec({'a','b','c'}, {'a':1, 'b':-1,'c':1})\n",
    "w = Vec({'A','B'}, {'A':1, 'B':-2})\n",
    "fraction_wrong(A, b, w)"
   ]
  },
  {
   "cell_type": "code",
   "execution_count": 58,
   "metadata": {
    "collapsed": true
   },
   "outputs": [],
   "source": [
    "## Task 3 ##\n",
    "def loss(A, b, w):\n",
    "    '''\n",
    "    Input:\n",
    "        - A: feature Mat\n",
    "        - b: diagnoses Vec\n",
    "        - w: hypothesis Vec\n",
    "    Output:\n",
    "        - Value of loss function at w for training data\n",
    "    Example:\n",
    "        >>> A = Mat(({'a','b','c'},{'A','B'}), {('a','A'):-4, ('a','B'):3, ('b','A'):1, ('b','B'):8, ('c','A'):5, ('c','B'):2})\n",
    "        >>> b = Vec({'a','b','c'}, {'a':1, 'b':-1,'c':1})\n",
    "        >>> w = Vec({'A','B'}, {'A':1, 'B':-2})\n",
    "        >>> loss(A, b, w)\n",
    "        317\n",
    "    '''\n",
    "    return (A*w-b)*(A*w-b) # this will be the norm || A*w -b ||= <A*w-b, A*w-b> = (A*w-b)*(A*w-b)"
   ]
  },
  {
   "cell_type": "code",
   "execution_count": 57,
   "metadata": {
    "collapsed": false
   },
   "outputs": [
    {
     "data": {
      "text/plain": [
       "317"
      ]
     },
     "execution_count": 57,
     "metadata": {},
     "output_type": "execute_result"
    }
   ],
   "source": [
    "A = Mat(({'a','b','c'},{'A','B'}), {('a','A'):-4, ('a','B'):3, ('b','A'):1, ('b','B'):8, ('c','A'):5, ('c','B'):2})\n",
    "b = Vec({'a','b','c'}, {'a':1, 'b':-1,'c':1})\n",
    "w = Vec({'A','B'}, {'A':1, 'B':-2})\n",
    "loss(A, b, w)"
   ]
  },
  {
   "cell_type": "code",
   "execution_count": 65,
   "metadata": {
    "collapsed": true
   },
   "outputs": [],
   "source": [
    "## Task 4 ##\n",
    "def find_grad(A, b, w):\n",
    "    '''\n",
    "    Input:\n",
    "        - A: feature Mat\n",
    "        - b: diagnoses Vec\n",
    "        - w: hypothesis Vec\n",
    "    Output:\n",
    "        - Value of the gradient function at w\n",
    "    Example:\n",
    "        >>> A = Mat(({'a','b','c'},{'A','B'}), {('a','A'):-4, ('a','B'):3, ('b','A'):1, ('b','B'):8, ('c','A'):5, ('c','B'):2})\n",
    "        >>> b = Vec({'a','b','c'}, {'a':1, 'b':-1,'c':1})\n",
    "        >>> w = Vec({'A','B'}, {'A':1, 'B':-2})\n",
    "        >>> find_grad(A, b, w) == Vec({'B', 'A'},{'B': -290, 'A': 60})\n",
    "        True\n",
    "    '''\n",
    "    return 2*(A*w-b)*A"
   ]
  },
  {
   "cell_type": "code",
   "execution_count": 68,
   "metadata": {
    "collapsed": false
   },
   "outputs": [
    {
     "data": {
      "text/plain": [
       "True"
      ]
     },
     "execution_count": 68,
     "metadata": {},
     "output_type": "execute_result"
    }
   ],
   "source": [
    "A = Mat(({'a','b','c'},{'A','B'}), {('a','A'):-4, ('a','B'):3, ('b','A'):1, ('b','B'):8, ('c','A'):5, ('c','B'):2})\n",
    "b = Vec({'a','b','c'}, {'a':1, 'b':-1,'c':1})\n",
    "w = Vec({'A','B'}, {'A':1, 'B':-2})\n",
    "find_grad(A, b, w) == Vec({'B', 'A'},{'B': -290, 'A': 60})"
   ]
  },
  {
   "cell_type": "code",
   "execution_count": 69,
   "metadata": {
    "collapsed": false
   },
   "outputs": [
    {
     "data": {
      "text/plain": [
       "Vec({'B', 'A'},{'B': -290, 'A': 60})"
      ]
     },
     "execution_count": 69,
     "metadata": {},
     "output_type": "execute_result"
    }
   ],
   "source": [
    "find_grad(A, b, w)"
   ]
  },
  {
   "cell_type": "code",
   "execution_count": 76,
   "metadata": {
    "collapsed": false
   },
   "outputs": [],
   "source": [
    "## Task 5 ##\n",
    "def gradient_descent_step(A, b, w, sigma):\n",
    "    '''\n",
    "    Input:\n",
    "        - A: feature Mat\n",
    "        - b: diagnoses Vec\n",
    "        - w: hypothesis Vec\n",
    "        - sigma: step size\n",
    "    Output:\n",
    "        - The vector w' resulting from 1 iteration of gradient descent\n",
    "          starting from w and moving sigma.\n",
    "    Example:\n",
    "        >>> A = Mat(({'a','b','c'},{'A','B'}), {('a','A'):-4, ('a','B'):3, ('b','A'):1, ('b','B'):8, ('c','A'):5, ('c','B'):2})\n",
    "        >>> b = Vec({'a','b','c'}, {'a':1, 'b':-1,'c':1})\n",
    "        >>> w = Vec({'A','B'}, {'A':1, 'B':-2})\n",
    "        >>> sigma = .1\n",
    "        >>> gradient_descent_step(A, b, w, sigma) == Vec({'B', 'A'},{'B': 27.0, 'A': -5.0})\n",
    "        True\n",
    "    '''\n",
    "    return w -sigma*find_grad(A, b, w)"
   ]
  },
  {
   "cell_type": "code",
   "execution_count": 77,
   "metadata": {
    "collapsed": false
   },
   "outputs": [
    {
     "data": {
      "text/plain": [
       "True"
      ]
     },
     "execution_count": 77,
     "metadata": {},
     "output_type": "execute_result"
    }
   ],
   "source": [
    "A = Mat(({'a','b','c'},{'A','B'}), {('a','A'):-4, ('a','B'):3, ('b','A'):1, ('b','B'):8, ('c','A'):5, ('c','B'):2})\n",
    "b = Vec({'a','b','c'}, {'a':1, 'b':-1,'c':1})\n",
    "w = Vec({'A','B'}, {'A':1, 'B':-2})\n",
    "sigma = .1\n",
    "gradient_descent_step(A, b, w, sigma) == Vec({'B', 'A'},{'B': 27.0, 'A': -5.0})"
   ]
  },
  {
   "cell_type": "code",
   "execution_count": 85,
   "metadata": {
    "collapsed": true
   },
   "outputs": [],
   "source": [
    "## Ungraded task ##\n",
    "def gradient_descent(A, b, w, sigma, T):\n",
    "    '''\n",
    "    Input:\n",
    "        - A: feature Mat\n",
    "        - b: diagnoses Vec\n",
    "        - w: hypothesis Vec\n",
    "        - sigma: step size\n",
    "        - T: number of iterations to run\n",
    "    Output: hypothesis vector obtained after T iterations of gradient descent.\n",
    "    '''\n",
    "    \n",
    "    i = 0\n",
    "    while T>0:\n",
    "        w = w - gradient_descent_step(A, b, w, sigma)\n",
    "        if i%30 ==0:\n",
    "            print (\"Loss function:\", loss(A, b, w), \"fraction wrong:\", fraction_wrong(A, b, w))\n",
    "        T = T-1\n",
    "        i = i+1\n",
    "        "
   ]
  },
  {
   "cell_type": "code",
   "execution_count": 87,
   "metadata": {
    "collapsed": false
   },
   "outputs": [
    {
     "name": "stdout",
     "output_type": "stream",
     "text": [
      "Loss function: 64010.0 fraction wrong: 0.6666666666666666\n",
      "Loss function: 2.294624201786653e+76 fraction wrong: 0.6666666666666666\n"
     ]
    }
   ],
   "source": [
    "gradient_descent(A, b, w, .1,60)"
   ]
  },
  {
   "cell_type": "markdown",
   "metadata": {},
   "source": [
    "on training data"
   ]
  },
  {
   "cell_type": "code",
   "execution_count": 95,
   "metadata": {
    "collapsed": false
   },
   "outputs": [],
   "source": [
    "# load the data\n",
    "A, b = read_training_data('/home/gimin/Courses/Brown_LinearAlgebra_Coursera/matrix/train.data')"
   ]
  },
  {
   "cell_type": "code",
   "execution_count": 96,
   "metadata": {
    "collapsed": false
   },
   "outputs": [
    {
     "name": "stdout",
     "output_type": "stream",
     "text": [
      "RxC = (300, 30)\n"
     ]
    }
   ],
   "source": [
    "print (\"RxC =\", (len(A.D[0]), len(A.D[1])))"
   ]
  },
  {
   "cell_type": "code",
   "execution_count": 103,
   "metadata": {
    "collapsed": false
   },
   "outputs": [],
   "source": [
    "w1 = Vec(A.D[1], {i:1 for i in A.D[1]})\n",
    "w2 = Vec(A.D[1], {})\n",
    "sigma1 = 2e-9\n",
    "sigma2 = 1e-9"
   ]
  },
  {
   "cell_type": "code",
   "execution_count": 105,
   "metadata": {
    "collapsed": false
   },
   "outputs": [
    {
     "name": "stdout",
     "output_type": "stream",
     "text": [
      "Loss function: 6938933862.671488 fraction wrong: 0.5133333333333333\n",
      "Loss function: 1.4536668709779503e+30 fraction wrong: 0.5133333333333333\n",
      "Loss function: 3.04569685414996e+50 fraction wrong: 0.5133333333333333\n",
      "Loss function: 6.381289628715561e+70 fraction wrong: 0.5133333333333333\n",
      "Loss function: 1.3369964010064836e+91 fraction wrong: 0.5133333333333333\n",
      "Loss function: 2.8012509701179066e+111 fraction wrong: 0.5133333333333333\n",
      "Loss function: 5.8691309802175405e+131 fraction wrong: 0.5133333333333333\n",
      "Loss function: 1.2296898360913243e+152 fraction wrong: 0.5133333333333333\n",
      "Loss function: 2.576424172646864e+172 fraction wrong: 0.5133333333333333\n",
      "Loss function: 5.398077891331021e+192 fraction wrong: 0.5133333333333333\n",
      "Loss function: 1.1309956345791165e+213 fraction wrong: 0.5133333333333333\n",
      "Loss function: 2.3696418450931375e+233 fraction wrong: 0.5133333333333333\n",
      "Loss function: 4.964831253399165e+253 fraction wrong: 0.5133333333333333\n",
      "Loss function: 1.040222573118861e+274 fraction wrong: 0.5133333333333333\n",
      "Loss function: 2.1794557486423965e+294 fraction wrong: 0.5133333333333333\n",
      "Loss function: inf fraction wrong: 0.5133333333333333\n",
      "Loss function: inf fraction wrong: 0.5133333333333333\n",
      "Loss function: inf fraction wrong: 0.5133333333333333\n",
      "Loss function: inf fraction wrong: 0.5133333333333333\n",
      "Loss function: inf fraction wrong: 0.5133333333333333\n"
     ]
    }
   ],
   "source": [
    "gradient_descent(A, b, w1, sigma1, 600)"
   ]
  },
  {
   "cell_type": "code",
   "execution_count": null,
   "metadata": {
    "collapsed": true
   },
   "outputs": [],
   "source": []
  }
 ],
 "metadata": {
  "kernelspec": {
   "display_name": "Python 3",
   "language": "python",
   "name": "python3"
  },
  "language_info": {
   "codemirror_mode": {
    "name": "ipython",
    "version": 3
   },
   "file_extension": ".py",
   "mimetype": "text/x-python",
   "name": "python",
   "nbconvert_exporter": "python",
   "pygments_lexer": "ipython3",
   "version": "3.4.3"
  }
 },
 "nbformat": 4,
 "nbformat_minor": 0
}
