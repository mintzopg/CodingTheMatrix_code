{
 "cells": [
  {
   "cell_type": "markdown",
   "metadata": {},
   "source": [
    "Submission Login \tgimin@outlook.com\n",
    "\n",
    "Submission Password \t7QuJFUEHAy"
   ]
  },
  {
   "cell_type": "code",
   "execution_count": 13,
   "metadata": {
    "collapsed": false
   },
   "outputs": [],
   "source": [
    "from vecutil import list2vec\n",
    "from GF2 import one\n",
    "from solver import solve\n",
    "from matutil import listlist2mat, coldict2mat, mat2coldict, mat2rowdict\n",
    "from mat import Mat\n",
    "from vec import Vec\n",
    "from The_Basis_problems import vec2rep, exchange, is_independent, is_superfluous\n",
    "from independence import rank\n",
    "from triangular import triangular_solve"
   ]
  },
  {
   "cell_type": "markdown",
   "metadata": {},
   "source": [
    "vecrep(veclist, v)\n",
    "\n",
    "        Input: veclist, a list of Vecs; v a Vec in the Span of set(veclist)\n",
    "        \n",
    "        Output: Vec(u), whose domain is set(range(len(veclist))) that is the coordinate reprsentation of v, \n",
    "                with respect to veclist\n",
    "       \n",
    "exchange(S,A,z)\n",
    "\n",
    "    Input: S set of Vecs (not necessary linearly independent); A subset of S; z instance of Vec such that \n",
    "            A.union({z}) linearly independent\n",
    "    \n",
    "    Output: Vec(w) is S-A: Span(S) = Span(S.union({z})-{w})"
   ]
  },
  {
   "cell_type": "code",
   "execution_count": 2,
   "metadata": {
    "collapsed": false
   },
   "outputs": [],
   "source": [
    "## 3: (Problem 6.7.4) Morph Lemma Coding\n",
    "def morph(S, B):\n",
    "    '''\n",
    "    Input:\n",
    "        - S: a list of distinct Vecs\n",
    "        - B: a list of linearly independent Vecs all in Span S\n",
    "    Output: a list of pairs of vectors to inject and eject (see problem description)\n",
    "    Example:\n",
    "        >>> # This is how our morph works.  Yours may yield different results.\n",
    "        >>> # Note: Make a copy of S to modify instead of modifying S itself.\n",
    "        >>> from vecutil import list2vec\n",
    "        >>> from vec import Vec\n",
    "        >>> S = [list2vec(v) for v in [[1,0,0],[0,1,0],[0,0,1]]]\n",
    "        >>> B = [list2vec(v) for v in [[1,1,0],[0,1,1],[1,0,1]]]\n",
    "        >>> D = {0, 1, 2}\n",
    "        >>> morph(S, B) == [(Vec(D,{0: 1, 1: 1, 2: 0}), Vec(D,{0: 1, 1: 0, 2: 0})), (Vec(D,{0: 0, 1: 1, 2: 1}), Vec(D,{0: 0, 1: 1, 2: 0})), (Vec(D,{0: 1, 1: 0, 2: 1}), Vec(D,{0: 0, 1: 0, 2: 1}))]\n",
    "        True\n",
    "        >>> S == [list2vec(v) for v in [[1,0,0],[0,1,0],[0,0,1]]]\n",
    "        True\n",
    "        >>> B == [list2vec(v) for v in [[1,1,0],[0,1,1],[1,0,1]]]\n",
    "        True\n",
    "        >>> from GF2 import one\n",
    "        >>> D = {0, 1, 2, 3, 4, 5, 6, 7}\n",
    "        >>> S = [Vec(D,{1: one, 2: one, 3: one, 4: one}), Vec(D,{1: one, 3: one}), Vec(D,{0: one, 1: one, 3: one, 5: one, 6: one}), Vec(D,{3: one, 4: one}), Vec(D,{3: one, 5: one, 6: one})]\n",
    "        >>> B = [Vec(D,{2: one, 4: one}), Vec(D,{0: one, 1: one, 2: one, 3: one, 4: one, 5: one, 6: one}), Vec(D,{0: one, 1: one, 2: one, 5: one, 6: one})]\n",
    "        >>> sol = morph(S, B)\n",
    "        >>> sol == [(B[0],S[0]), (B[1],S[2]), (B[2],S[3])] or sol == [(B[0],S[1]), (B[1],S[2]), (B[2],S[3])]\n",
    "        True\n",
    "        >>> # Should work the same regardless of order of S\n",
    "        >>> from random import random\n",
    "        >>> sol = morph(sorted(S, key=lambda x:random()), B)\n",
    "        >>> sol == [(B[0],S[0]), (B[1],S[2]), (B[2],S[3])] or sol == [(B[0],S[1]), (B[1],S[2]), (B[2],S[3])]\n",
    "        True\n",
    "    '''\n",
    "    S0 = set(S)  # follows the Morphing Lemma proof algorithm\n",
    "    A = set()\n",
    "    L = [] # the list to be returned\n",
    "    for z in B:\n",
    "        A.add(z)\n",
    "        w = exchange(S0, A, z)\n",
    "        S0 = (S0.union({z})).difference({w})\n",
    "        L.append((z, w))\n",
    "    return L\n",
    "   "
   ]
  },
  {
   "cell_type": "code",
   "execution_count": 3,
   "metadata": {
    "collapsed": false
   },
   "outputs": [
    {
     "data": {
      "text/plain": [
       "True"
      ]
     },
     "execution_count": 3,
     "metadata": {},
     "output_type": "execute_result"
    }
   ],
   "source": [
    "S = [list2vec(v) for v in [[1,0,0],[0,1,0],[0,0,1]]]\n",
    "B = [list2vec(v) for v in [[1,1,0],[0,1,1],[1,0,1]]]\n",
    "D = {0, 1, 2}\n",
    "morph(S, B) == [(Vec(D,{0: 1, 1: 1, 2: 0}), Vec(D,{0: 1, 1: 0, 2: 0})), (Vec(D,{0: 0, 1: 1, 2: 1}), Vec(D,{0: 0, 1: 1, 2: 0})), (Vec(D,{0: 1, 1: 0, 2: 1}), Vec(D,{0: 0, 1: 0, 2: 1}))]"
   ]
  },
  {
   "cell_type": "code",
   "execution_count": 4,
   "metadata": {
    "collapsed": false
   },
   "outputs": [
    {
     "data": {
      "text/plain": [
       "True"
      ]
     },
     "execution_count": 4,
     "metadata": {},
     "output_type": "execute_result"
    }
   ],
   "source": [
    "S == [list2vec(v) for v in [[1,0,0],[0,1,0],[0,0,1]]]"
   ]
  },
  {
   "cell_type": "code",
   "execution_count": 5,
   "metadata": {
    "collapsed": false
   },
   "outputs": [
    {
     "data": {
      "text/plain": [
       "True"
      ]
     },
     "execution_count": 5,
     "metadata": {},
     "output_type": "execute_result"
    }
   ],
   "source": [
    "B == [list2vec(v) for v in [[1,1,0],[0,1,1],[1,0,1]]]"
   ]
  },
  {
   "cell_type": "code",
   "execution_count": 6,
   "metadata": {
    "collapsed": false
   },
   "outputs": [
    {
     "data": {
      "text/plain": [
       "True"
      ]
     },
     "execution_count": 6,
     "metadata": {},
     "output_type": "execute_result"
    }
   ],
   "source": [
    "D = {0, 1, 2, 3, 4, 5, 6, 7}\n",
    "S = [Vec(D,{1: one, 2: one, 3: one, 4: one}), Vec(D,{1: one, 3: one}), Vec(D,{0: one, 1: one, 3: one, 5: one, 6: one}), Vec(D,{3: one, 4: one}), Vec(D,{3: one, 5: one, 6: one})]\n",
    "B = [Vec(D,{2: one, 4: one}), Vec(D,{0: one, 1: one, 2: one, 3: one, 4: one, 5: one, 6: one}), Vec(D,{0: one, 1: one, 2: one, 5: one, 6: one})]\n",
    "sol = morph(S, B)\n",
    "sol == [(B[0],S[0]), (B[1],S[2]), (B[2],S[3])] or sol == [(B[0],S[1]), (B[1],S[2]), (B[2],S[3])]"
   ]
  },
  {
   "cell_type": "code",
   "execution_count": 7,
   "metadata": {
    "collapsed": false
   },
   "outputs": [
    {
     "data": {
      "text/plain": [
       "True"
      ]
     },
     "execution_count": 7,
     "metadata": {},
     "output_type": "execute_result"
    }
   ],
   "source": [
    "from random import random\n",
    "sol = morph(sorted(S, key=lambda x:random()), B)\n",
    "sol == [(B[0],S[0]), (B[1],S[2]), (B[2],S[3])] or sol == [(B[0],S[1]), (B[1],S[2]), (B[2],S[3])]"
   ]
  },
  {
   "cell_type": "code",
   "execution_count": 8,
   "metadata": {
    "collapsed": false
   },
   "outputs": [
    {
     "name": "stdout",
     "output_type": "stream",
     "text": [
      "injecting  \n",
      " 0 1 2\n",
      "------\n",
      " 1 0 0\n",
      "ejecting  \n",
      " 0 1 2\n",
      "------\n",
      " 2 4 0\n",
      "\n",
      "injecting  \n",
      " 0 1 2\n",
      "------\n",
      " 0 1 0\n",
      "ejecting  \n",
      " 0 1 2\n",
      "------\n",
      " 1 1 1\n",
      "\n",
      "injecting  \n",
      " 0 1 2\n",
      "------\n",
      " 0 0 1\n",
      "ejecting  \n",
      " 0 1 2\n",
      "------\n",
      " 1 0 3\n",
      "\n"
     ]
    }
   ],
   "source": [
    "S = [list2vec(v) for v in [[2,4,0],[1,0,3],[0,4,4],[1,1,1]]]\n",
    "B = [list2vec(v) for v in [[1,0,0],[0,1,0],[0,0,1]]]\n",
    "for (z,w) in morph(S, B):\n",
    "    print(\"injecting \", z)\n",
    "    print(\"ejecting \", w)\n",
    "    print()\n"
   ]
  },
  {
   "cell_type": "code",
   "execution_count": 3,
   "metadata": {
    "collapsed": false
   },
   "outputs": [],
   "source": [
    "## 5: () Subset Basis\n",
    "def subset_basis(T):\n",
    "    '''\n",
    "    Input:\n",
    "        - T: a set of Vecs\n",
    "    Output: \n",
    "        - set S containing Vecs from T that is a basis for Span T.\n",
    "    Examples:\n",
    "        The following tests use the procedure is_independent, provided in module independence\n",
    "        \n",
    "        >>> from vec import Vec\n",
    "        >>> from independence import is_independent\n",
    "        >>> a0 = Vec({'a','b','c','d'}, {'a':1})\n",
    "        >>> a1 = Vec({'a','b','c','d'}, {'b':1})\n",
    "        >>> a2 = Vec({'a','b','c','d'}, {'c':1})\n",
    "        >>> a3 = Vec({'a','b','c','d'}, {'a':1,'c':3})\n",
    "        >>> sb = subset_basis({a0, a1, a2, a3})\n",
    "        >>> len(sb)\n",
    "        3\n",
    "        >>> all(v in [a0, a1, a2, a3] for v in sb)\n",
    "        True\n",
    "        >>> is_independent(sb)\n",
    "        True\n",
    "\n",
    "        >>> b0 = Vec({0,1,2,3},{0:2,1:2,3:4})\n",
    "        >>> b1 = Vec({0,1,2,3},{0:1,1:1})\n",
    "        >>> b2 = Vec({0,1,2,3},{2:3,3:4})\n",
    "        >>> b3 = Vec({0,1,2,3},{3:3})\n",
    "        >>> sb = subset_basis({b0, b1, b2, b3})\n",
    "        >>> len(sb)\n",
    "        3\n",
    "        >>> all(v in [b0, b1, b2, b3] for v in sb)\n",
    "        True\n",
    "        >>> is_independent(sb)\n",
    "        True\n",
    "\n",
    "        >>> D = {'a','b','c','d'}\n",
    "        >>> c0, c1, c2, c3, c4 = Vec(D,{'d': one, 'c': one}), Vec(D,{'d': one, 'a': one, 'c': one, 'b': one}), Vec(D,{'a': one}), Vec(D,{}), Vec(D,{'d': one, 'a': one, 'b': one})\n",
    "        >>> subset_basis({c0,c1,c2,c3,c4}) == {c0,c1,c2,c4}\n",
    "        True\n",
    "    '''\n",
    "   \n",
    "    S = set()\n",
    "   \n",
    "    for v in T:\n",
    "        S0 = S.union({v})\n",
    "        if is_independent(S0): S.add(v)\n",
    "    return S\n",
    "    "
   ]
  },
  {
   "cell_type": "code",
   "execution_count": 87,
   "metadata": {
    "collapsed": false
   },
   "outputs": [
    {
     "data": {
      "text/plain": [
       "3"
      ]
     },
     "execution_count": 87,
     "metadata": {},
     "output_type": "execute_result"
    }
   ],
   "source": [
    "from vec import Vec\n",
    "from independence import is_independent\n",
    "a0 = Vec({'a','b','c','d'}, {'a':1})\n",
    "a1 = Vec({'a','b','c','d'}, {'b':1})\n",
    "a2 = Vec({'a','b','c','d'}, {'c':1})\n",
    "a3 = Vec({'a','b','c','d'}, {'a':1,'c':3})\n",
    "sb = subset_basis({a0, a1, a2, a3})\n",
    "len(sb)"
   ]
  },
  {
   "cell_type": "code",
   "execution_count": 88,
   "metadata": {
    "collapsed": false
   },
   "outputs": [
    {
     "data": {
      "text/plain": [
       "True"
      ]
     },
     "execution_count": 88,
     "metadata": {},
     "output_type": "execute_result"
    }
   ],
   "source": [
    "all(v in [a0, a1, a2, a3] for v in sb)"
   ]
  },
  {
   "cell_type": "code",
   "execution_count": 89,
   "metadata": {
    "collapsed": false
   },
   "outputs": [
    {
     "data": {
      "text/plain": [
       "True"
      ]
     },
     "execution_count": 89,
     "metadata": {},
     "output_type": "execute_result"
    }
   ],
   "source": [
    "is_independent(sb)"
   ]
  },
  {
   "cell_type": "code",
   "execution_count": 90,
   "metadata": {
    "collapsed": false
   },
   "outputs": [
    {
     "data": {
      "text/plain": [
       "True"
      ]
     },
     "execution_count": 90,
     "metadata": {},
     "output_type": "execute_result"
    }
   ],
   "source": [
    "D = {'a','b','c','d'}\n",
    "c0, c1, c2, c3, c4 = Vec(D,{'d': one, 'c': one}), Vec(D,{'d': one, 'a': one, 'c': one, 'b': one}), Vec(D,{'a': one}), Vec(D,{}), Vec(D,{'d': one, 'a': one, 'b': one})\n",
    "subset_basis({c0,c1,c2,c3,c4}) == {c0,c1,c2,c4}"
   ]
  },
  {
   "cell_type": "code",
   "execution_count": 4,
   "metadata": {
    "collapsed": true
   },
   "outputs": [],
   "source": [
    "## 6: () Superset Basis Lemma in Python\n",
    "def superset_basis(C, T):\n",
    "    '''\n",
    "    Input:\n",
    "        - C: linearly independent set of Vecs\n",
    "        - T: set of Vecs such that every Vec in C is in Span(T)\n",
    "    Output:\n",
    "        Linearly independent set S consisting of all Vecs in C and some in T\n",
    "        such that the span of S is the span of T (i.e. S is a basis for the span\n",
    "        of T).\n",
    "    Example:\n",
    "        >>> from vec import Vec\n",
    "        >>> from independence import is_independent\n",
    "        >>> a0 = Vec({'a','b','c','d'}, {'a':1})\n",
    "        >>> a1 = Vec({'a','b','c','d'}, {'b':1})\n",
    "        >>> a2 = Vec({'a','b','c','d'}, {'c':1})\n",
    "        >>> a3 = Vec({'a','b','c','d'}, {'a':1,'c':3})\n",
    "        >>> sb = superset_basis({a0, a3}, {a0, a1, a2})\n",
    "        >>> a0 in sb and a3 in sb\n",
    "        True\n",
    "        >>> is_independent(sb)\n",
    "        True\n",
    "        >>> all(x in [a0,a1,a2,a3] for x in sb)\n",
    "        True\n",
    "    '''\n",
    "    S = C\n",
    "    \n",
    "    for v in T.difference(C):\n",
    "        S0 = S.union({v})\n",
    "        if is_independent(S0): S.add(v)\n",
    "    return S"
   ]
  },
  {
   "cell_type": "code",
   "execution_count": 107,
   "metadata": {
    "collapsed": false
   },
   "outputs": [
    {
     "data": {
      "text/plain": [
       "True"
      ]
     },
     "execution_count": 107,
     "metadata": {},
     "output_type": "execute_result"
    }
   ],
   "source": [
    "from independence import is_independent\n",
    "a0 = Vec({'a','b','c','d'}, {'a':1})\n",
    "a1 = Vec({'a','b','c','d'}, {'b':1})\n",
    "a2 = Vec({'a','b','c','d'}, {'c':1})\n",
    "a3 = Vec({'a','b','c','d'}, {'a':1,'c':3})\n",
    "sb = superset_basis({a0, a3}, {a0, a1, a2})\n",
    "a0 in sb and a3 in sb"
   ]
  },
  {
   "cell_type": "code",
   "execution_count": 108,
   "metadata": {
    "collapsed": false
   },
   "outputs": [
    {
     "data": {
      "text/plain": [
       "True"
      ]
     },
     "execution_count": 108,
     "metadata": {},
     "output_type": "execute_result"
    }
   ],
   "source": [
    "is_independent(sb)"
   ]
  },
  {
   "cell_type": "code",
   "execution_count": 109,
   "metadata": {
    "collapsed": false
   },
   "outputs": [
    {
     "data": {
      "text/plain": [
       "True"
      ]
     },
     "execution_count": 109,
     "metadata": {},
     "output_type": "execute_result"
    }
   ],
   "source": [
    " all(x in [a0,a1,a2,a3] for x in sb)"
   ]
  },
  {
   "cell_type": "code",
   "execution_count": 5,
   "metadata": {
    "collapsed": true
   },
   "outputs": [],
   "source": [
    "## 7: (Problem 6.7.6) My Is Independent Procedure\n",
    "def my_is_independent(L):\n",
    "    '''\n",
    "    Input:\n",
    "        - L: a list of Vecs\n",
    "    Output:\n",
    "        - boolean: true if the list is linearly independent\n",
    "    Examples:\n",
    "        >>> D = {0, 1, 2}\n",
    "        >>> L = [Vec(D,{0: 1}), Vec(D,{1: 1}), Vec(D,{2: 1}), Vec(D,{0: 1, 1: 1, 2: 1}), Vec(D,{0: 1, 1: 1}), Vec(D,{1: 1, 2: 1})]\n",
    "        >>> my_is_independent(L)\n",
    "        False\n",
    "        >>> my_is_independent(L[:2])\n",
    "        True\n",
    "        >>> my_is_independent(L[:3])\n",
    "        True\n",
    "        >>> my_is_independent(L[1:4])\n",
    "        True\n",
    "        >>> my_is_independent(L[0:4])\n",
    "        False\n",
    "        >>> my_is_independent(L[2:])\n",
    "        False\n",
    "        >>> my_is_independent(L[2:5])\n",
    "        False\n",
    "        >>> L == [Vec(D,{0: 1}), Vec(D,{1: 1}), Vec(D,{2: 1}), Vec(D,{0: 1, 1: 1, 2: 1}), Vec(D,{0: 1, 1: 1}), Vec(D,{1: 1, 2: 1})]\n",
    "        True\n",
    "    '''\n",
    "    return True if rank(L) == len(L) else False"
   ]
  },
  {
   "cell_type": "code",
   "execution_count": 113,
   "metadata": {
    "collapsed": false
   },
   "outputs": [
    {
     "data": {
      "text/plain": [
       "False"
      ]
     },
     "execution_count": 113,
     "metadata": {},
     "output_type": "execute_result"
    }
   ],
   "source": [
    "D = {0, 1, 2}\n",
    "L = [Vec(D,{0: 1}), Vec(D,{1: 1}), Vec(D,{2: 1}), Vec(D,{0: 1, 1: 1, 2: 1}), Vec(D,{0: 1, 1: 1}), Vec(D,{1: 1, 2: 1})]\n",
    "my_is_independent(L)"
   ]
  },
  {
   "cell_type": "code",
   "execution_count": 114,
   "metadata": {
    "collapsed": false
   },
   "outputs": [
    {
     "data": {
      "text/plain": [
       "True"
      ]
     },
     "execution_count": 114,
     "metadata": {},
     "output_type": "execute_result"
    }
   ],
   "source": [
    "my_is_independent(L[:2])"
   ]
  },
  {
   "cell_type": "code",
   "execution_count": 115,
   "metadata": {
    "collapsed": false
   },
   "outputs": [
    {
     "data": {
      "text/plain": [
       "True"
      ]
     },
     "execution_count": 115,
     "metadata": {},
     "output_type": "execute_result"
    }
   ],
   "source": [
    "my_is_independent(L[:3])"
   ]
  },
  {
   "cell_type": "code",
   "execution_count": 116,
   "metadata": {
    "collapsed": false
   },
   "outputs": [
    {
     "data": {
      "text/plain": [
       "True"
      ]
     },
     "execution_count": 116,
     "metadata": {},
     "output_type": "execute_result"
    }
   ],
   "source": [
    "my_is_independent(L[1:4])"
   ]
  },
  {
   "cell_type": "code",
   "execution_count": 117,
   "metadata": {
    "collapsed": false
   },
   "outputs": [
    {
     "data": {
      "text/plain": [
       "False"
      ]
     },
     "execution_count": 117,
     "metadata": {},
     "output_type": "execute_result"
    }
   ],
   "source": [
    "my_is_independent(L[0:4])"
   ]
  },
  {
   "cell_type": "code",
   "execution_count": 118,
   "metadata": {
    "collapsed": false
   },
   "outputs": [
    {
     "data": {
      "text/plain": [
       "False"
      ]
     },
     "execution_count": 118,
     "metadata": {},
     "output_type": "execute_result"
    }
   ],
   "source": [
    "my_is_independent(L[2:])"
   ]
  },
  {
   "cell_type": "code",
   "execution_count": 119,
   "metadata": {
    "collapsed": false
   },
   "outputs": [
    {
     "data": {
      "text/plain": [
       "False"
      ]
     },
     "execution_count": 119,
     "metadata": {},
     "output_type": "execute_result"
    }
   ],
   "source": [
    "my_is_independent(L[2:5])"
   ]
  },
  {
   "cell_type": "code",
   "execution_count": 120,
   "metadata": {
    "collapsed": false
   },
   "outputs": [
    {
     "data": {
      "text/plain": [
       "True"
      ]
     },
     "execution_count": 120,
     "metadata": {},
     "output_type": "execute_result"
    }
   ],
   "source": [
    "L == [Vec(D,{0: 1}), Vec(D,{1: 1}), Vec(D,{2: 1}), Vec(D,{0: 1, 1: 1, 2: 1}), Vec(D,{0: 1, 1: 1}), Vec(D,{1: 1, 2: 1})]"
   ]
  },
  {
   "cell_type": "code",
   "execution_count": 6,
   "metadata": {
    "collapsed": false
   },
   "outputs": [],
   "source": [
    "## 8: (Problem 6.7.7) My Rank\n",
    "def my_rank(L):\n",
    "    '''\n",
    "    Input: \n",
    "        - L: a list of Vecs\n",
    "    Output: \n",
    "        - the rank of the list of Vecs\n",
    "    Example:\n",
    "        >>> L = [list2vec(v) for v in [[1,2,3],[4,5,6],[1.1,1.1,1.1]]]\n",
    "        >>> my_rank(L)\n",
    "        2\n",
    "        >>> L == [list2vec(v) for v in [[1,2,3],[4,5,6],[1.1,1.1,1.1]]]\n",
    "        True\n",
    "        >>> my_rank([list2vec(v) for v in [[1,1,1],[2,2,2],[3,3,3],[4,4,4],[123,432,123]]])\n",
    "        2\n",
    "    '''\n",
    "    return len(subset_basis(set(L)))"
   ]
  },
  {
   "cell_type": "code",
   "execution_count": 7,
   "metadata": {
    "collapsed": false
   },
   "outputs": [
    {
     "data": {
      "text/plain": [
       "2"
      ]
     },
     "execution_count": 7,
     "metadata": {},
     "output_type": "execute_result"
    }
   ],
   "source": [
    "L = [list2vec(v) for v in [[1,2,3],[4,5,6],[1.1,1.1,1.1]]]\n",
    "my_rank(L)"
   ]
  },
  {
   "cell_type": "code",
   "execution_count": 8,
   "metadata": {
    "collapsed": false
   },
   "outputs": [
    {
     "data": {
      "text/plain": [
       "True"
      ]
     },
     "execution_count": 8,
     "metadata": {},
     "output_type": "execute_result"
    }
   ],
   "source": [
    "L == [list2vec(v) for v in [[1,2,3],[4,5,6],[1.1,1.1,1.1]]]"
   ]
  },
  {
   "cell_type": "code",
   "execution_count": 9,
   "metadata": {
    "collapsed": false
   },
   "outputs": [
    {
     "data": {
      "text/plain": [
       "2"
      ]
     },
     "execution_count": 9,
     "metadata": {},
     "output_type": "execute_result"
    }
   ],
   "source": [
    "my_rank([list2vec(v) for v in [[1,1,1],[2,2,2],[3,3,3],[4,4,4],[123,432,123]]])"
   ]
  },
  {
   "cell_type": "code",
   "execution_count": 16,
   "metadata": {
    "collapsed": true
   },
   "outputs": [],
   "source": [
    "# Ungraded Problem\n",
    "# use subset_basis to get the basis of the Span. If the bases are linearly independent then u intersection v = 0 \n",
    "U = {Vec({0, 1, 2, 3}, {0:one, 2:one}), Vec({0, 1, 2, 3}, {2:one})}\n",
    "V = {Vec({0, 1, 2, 3}, {1:one, 3:one}), Vec({0, 1, 2, 3}, {3:one})}\n",
    "\n",
    "U1 = {Vec({0, 1, 2}, {0:1, 1:2, 2:3}), Vec({0, 1, 2}, {0:1, 1:2})}\n",
    "V1 = {Vec({0, 1, 2}, {0:2, 1:1, 2:3}), Vec({0, 1, 2}, {0:2, 1:1, 2:3})}\n",
    "\n",
    "U2 = {Vec({0, 1, 2, 3}, {0:2, 2:8}), Vec({0, 1, 2, 3}, {0:1, 1:1, 2:4})}\n",
    "V2 = {Vec({0, 1, 2, 3}, {0:2, 1:1, 2:1, 3:1}), Vec({0, 1, 2, 3},{1:1, 2:1, 3:1})} \n"
   ]
  },
  {
   "cell_type": "code",
   "execution_count": 19,
   "metadata": {
    "collapsed": true
   },
   "outputs": [],
   "source": [
    "basis_span_U = subset_basis(U)\n",
    "basis_span_V = subset_basis(V)\n",
    "\n",
    "basis_span_U1 = subset_basis(U1)\n",
    "basis_span_V1 = subset_basis(V1)\n",
    "\n",
    "basis_span_U2 = subset_basis(U2)\n",
    "basis_span_V2 = subset_basis(V2)"
   ]
  },
  {
   "cell_type": "code",
   "execution_count": 20,
   "metadata": {
    "collapsed": false
   },
   "outputs": [
    {
     "data": {
      "text/plain": [
       "True"
      ]
     },
     "execution_count": 20,
     "metadata": {},
     "output_type": "execute_result"
    }
   ],
   "source": [
    "my_is_independent(list(basis_span_U)+list(basis_span_V))"
   ]
  },
  {
   "cell_type": "code",
   "execution_count": 21,
   "metadata": {
    "collapsed": false
   },
   "outputs": [
    {
     "data": {
      "text/plain": [
       "True"
      ]
     },
     "execution_count": 21,
     "metadata": {},
     "output_type": "execute_result"
    }
   ],
   "source": [
    "my_is_independent(list(basis_span_U1)+list(basis_span_V1))"
   ]
  },
  {
   "cell_type": "code",
   "execution_count": 22,
   "metadata": {
    "collapsed": false
   },
   "outputs": [
    {
     "data": {
      "text/plain": [
       "True"
      ]
     },
     "execution_count": 22,
     "metadata": {},
     "output_type": "execute_result"
    }
   ],
   "source": [
    "my_is_independent(list(basis_span_U2)+list(basis_span_V2))"
   ]
  },
  {
   "cell_type": "code",
   "execution_count": 7,
   "metadata": {
    "collapsed": true
   },
   "outputs": [],
   "source": [
    "## 9: (Problem 6.7.11) Direct Sum Unique Representation\n",
    "def direct_sum_decompose(U_basis, V_basis, w):\n",
    "    '''\n",
    "    Input:\n",
    "        - U_basis: a list of Vecs forming a basis for a vector space U\n",
    "        - V_basis: a list of Vecs forming a basis for a vector space V\n",
    "        - w: a Vec in the direct sum of U and V\n",
    "    Output:\n",
    "        - a pair (u, v) such that u + v = w, u is in U, v is in V\n",
    "    Example:\n",
    "\n",
    "        >>> D = {0,1,2,3,4,5}\n",
    "        >>> U_basis = [Vec(D,{0: 2, 1: 1, 2: 0, 3: 0, 4: 6, 5: 0}), Vec(D,{0: 11, 1: 5, 2: 0, 3: 0, 4: 1, 5: 0}), Vec(D,{0: 3, 1: 1.5, 2: 0, 3: 0, 4: 7.5, 5: 0})]\n",
    "        >>> V_basis = [Vec(D,{0: 0, 1: 0, 2: 7, 3: 0, 4: 0, 5: 1}), Vec(D,{0: 0, 1: 0, 2: 15, 3: 0, 4: 0, 5: 2})]\n",
    "        >>> w = Vec(D,{0: 2, 1: 5, 2: 0, 3: 0, 4: 1, 5: 0})\n",
    "        >>> (u, v) = direct_sum_decompose(U_basis, V_basis, w)\n",
    "        >>> (u + v - w).is_almost_zero()\n",
    "        True\n",
    "        >>> U_matrix = coldict2mat(U_basis)\n",
    "        >>> V_matrix = coldict2mat(V_basis)\n",
    "        >>> (u - U_matrix*solve(U_matrix, u)).is_almost_zero()\n",
    "        True\n",
    "        >>> (v - V_matrix*solve(V_matrix, v)).is_almost_zero()\n",
    "        True\n",
    "        >>> ww = Vec(D,{0: 2, 1: 5, 2: 51, 4: 1, 5: 7})\n",
    "        >>> (u, v) = direct_sum_decompose(U_basis, V_basis, ww)\n",
    "        >>> (u + v - ww).is_almost_zero()\n",
    "        True\n",
    "        >>> (u - U_matrix*solve(U_matrix, u)).is_almost_zero()\n",
    "        True\n",
    "        >>> (v - V_matrix*solve(V_matrix, v)).is_almost_zero()\n",
    "        True\n",
    "        >>> U_basis == [Vec(D,{0: 2, 1: 1, 2: 0, 3: 0, 4: 6, 5: 0}), Vec(D,{0: 11, 1: 5, 2: 0, 3: 0, 4: 1, 5: 0}), Vec(D,{0: 3, 1: 1.5, 2: 0, 3: 0, 4: 7.5, 5: 0})]\n",
    "        True\n",
    "        >>> V_basis == [Vec(D,{0: 0, 1: 0, 2: 7, 3: 0, 4: 0, 5: 1}), Vec(D,{0: 0, 1: 0, 2: 15, 3: 0, 4: 0, 5: 2})]\n",
    "        True\n",
    "        >>> w == Vec(D,{0: 2, 1: 5, 2: 0, 3: 0, 4: 1, 5: 0})\n",
    "        True\n",
    "    '''\n",
    "    direct_sum_basis = U_basis+V_basis\n",
    "    x = vec2rep(direct_sum_basis, w) # len(x) = len(direct_sum_basis)\n",
    "    u = Vec(U_basis[0].D, {}); v = Vec(V_basis[0].D, {})\n",
    "    \n",
    "    for i in range(len(U_basis)):\n",
    "        u = u+x[i]*U_basis[i]\n",
    "    for j in range(len(V_basis)):\n",
    "        v = v+x[len(U_basis)+j]*V_basis[j]\n",
    "    \n",
    "    return (u, v)"
   ]
  },
  {
   "cell_type": "code",
   "execution_count": 116,
   "metadata": {
    "collapsed": false
   },
   "outputs": [
    {
     "data": {
      "text/plain": [
       "True"
      ]
     },
     "execution_count": 116,
     "metadata": {},
     "output_type": "execute_result"
    }
   ],
   "source": [
    "D = {0,1,2,3,4,5}\n",
    "U_basis = [Vec(D,{0: 2, 1: 1, 2: 0, 3: 0, 4: 6, 5: 0}), Vec(D,{0: 11, 1: 5, 2: 0, 3: 0, 4: 1, 5: 0}), Vec(D,{0: 3, 1: 1.5, 2: 0, 3: 0, 4: 7.5, 5: 0})]\n",
    "V_basis = [Vec(D,{0: 0, 1: 0, 2: 7, 3: 0, 4: 0, 5: 1}), Vec(D,{0: 0, 1: 0, 2: 15, 3: 0, 4: 0, 5: 2})]\n",
    "w = Vec(D,{0: 2, 1: 5, 2: 0, 3: 0, 4: 1, 5: 0})\n",
    "(u, v) = direct_sum_decompose(U_basis, V_basis, w)\n",
    "(u + v - w).is_almost_zero()"
   ]
  },
  {
   "cell_type": "code",
   "execution_count": 117,
   "metadata": {
    "collapsed": false
   },
   "outputs": [
    {
     "data": {
      "text/plain": [
       "True"
      ]
     },
     "execution_count": 117,
     "metadata": {},
     "output_type": "execute_result"
    }
   ],
   "source": [
    "U_matrix = coldict2mat(U_basis)\n",
    "V_matrix = coldict2mat(V_basis)\n",
    "(u - U_matrix*solve(U_matrix, u)).is_almost_zero()"
   ]
  },
  {
   "cell_type": "code",
   "execution_count": 118,
   "metadata": {
    "collapsed": false
   },
   "outputs": [
    {
     "data": {
      "text/plain": [
       "True"
      ]
     },
     "execution_count": 118,
     "metadata": {},
     "output_type": "execute_result"
    }
   ],
   "source": [
    "(v - V_matrix*solve(V_matrix, v)).is_almost_zero()"
   ]
  },
  {
   "cell_type": "code",
   "execution_count": 119,
   "metadata": {
    "collapsed": false
   },
   "outputs": [
    {
     "data": {
      "text/plain": [
       "True"
      ]
     },
     "execution_count": 119,
     "metadata": {},
     "output_type": "execute_result"
    }
   ],
   "source": [
    "ww = Vec(D,{0: 2, 1: 5, 2: 51, 4: 1, 5: 7})\n",
    "(u, v) = direct_sum_decompose(U_basis, V_basis, ww)\n",
    "(u + v - ww).is_almost_zero()"
   ]
  },
  {
   "cell_type": "code",
   "execution_count": 120,
   "metadata": {
    "collapsed": false
   },
   "outputs": [
    {
     "data": {
      "text/plain": [
       "True"
      ]
     },
     "execution_count": 120,
     "metadata": {},
     "output_type": "execute_result"
    }
   ],
   "source": [
    "(u - U_matrix*solve(U_matrix, u)).is_almost_zero()"
   ]
  },
  {
   "cell_type": "code",
   "execution_count": 121,
   "metadata": {
    "collapsed": false
   },
   "outputs": [
    {
     "data": {
      "text/plain": [
       "True"
      ]
     },
     "execution_count": 121,
     "metadata": {},
     "output_type": "execute_result"
    }
   ],
   "source": [
    "(v - V_matrix*solve(V_matrix, v)).is_almost_zero()"
   ]
  },
  {
   "cell_type": "code",
   "execution_count": 122,
   "metadata": {
    "collapsed": false
   },
   "outputs": [
    {
     "data": {
      "text/plain": [
       "True"
      ]
     },
     "execution_count": 122,
     "metadata": {},
     "output_type": "execute_result"
    }
   ],
   "source": [
    "U_basis == [Vec(D,{0: 2, 1: 1, 2: 0, 3: 0, 4: 6, 5: 0}), Vec(D,{0: 11, 1: 5, 2: 0, 3: 0, 4: 1, 5: 0}), Vec(D,{0: 3, 1: 1.5, 2: 0, 3: 0, 4: 7.5, 5: 0})]"
   ]
  },
  {
   "cell_type": "code",
   "execution_count": 123,
   "metadata": {
    "collapsed": false
   },
   "outputs": [
    {
     "data": {
      "text/plain": [
       "True"
      ]
     },
     "execution_count": 123,
     "metadata": {},
     "output_type": "execute_result"
    }
   ],
   "source": [
    "V_basis == [Vec(D,{0: 0, 1: 0, 2: 7, 3: 0, 4: 0, 5: 1}), Vec(D,{0: 0, 1: 0, 2: 15, 3: 0, 4: 0, 5: 2})]"
   ]
  },
  {
   "cell_type": "code",
   "execution_count": 124,
   "metadata": {
    "collapsed": false
   },
   "outputs": [
    {
     "data": {
      "text/plain": [
       "True"
      ]
     },
     "execution_count": 124,
     "metadata": {},
     "output_type": "execute_result"
    }
   ],
   "source": [
    "w == Vec(D,{0: 2, 1: 5, 2: 0, 3: 0, 4: 1, 5: 0})"
   ]
  },
  {
   "cell_type": "code",
   "execution_count": 8,
   "metadata": {
    "collapsed": false
   },
   "outputs": [],
   "source": [
    "## 10: (Problem 6.7.12) Is Invertible Function\n",
    "def is_invertible(M):\n",
    "    '''\n",
    "    input: A matrix, M\n",
    "    outpit: A boolean indicating if M is invertible.\n",
    "\n",
    "    >>> M = Mat(({0, 1, 2, 3}, {0, 1, 2, 3}), {(0, 1): 0, (1, 2): 1, (3, 2): 0, (0, 0): 1, (3, 3): 4, (3, 0): 0, (3, 1): 0, (1, 1): 2, (2, 1): 0, (0, 2): 1, (2, 0): 0, (1, 3): 0, (2, 3): 1, (2, 2): 3, (1, 0): 0, (0, 3): 0})\n",
    "    >>> is_invertible(M)\n",
    "    True\n",
    "\n",
    "    >>> M1 = Mat(({0,1,2},{0,1,2}),{(0,0):1,(0,2):2,(1,2):3,(2,2):4})\n",
    "    >>> is_invertible(M1)\n",
    "    False\n",
    "    '''\n",
    "    \n",
    "    return M.D[0] == M.D[1] and my_is_independent(list(mat2coldict(M).values()))"
   ]
  },
  {
   "cell_type": "code",
   "execution_count": 142,
   "metadata": {
    "collapsed": false
   },
   "outputs": [
    {
     "data": {
      "text/plain": [
       "True"
      ]
     },
     "execution_count": 142,
     "metadata": {},
     "output_type": "execute_result"
    }
   ],
   "source": [
    "M = Mat(({0, 1, 2, 3}, {0, 1, 2, 3}), {(0, 1): 0, (1, 2): 1, (3, 2): 0, (0, 0): 1, (3, 3): 4, (3, 0): 0, (3, 1): 0, (1, 1): 2, (2, 1): 0, (0, 2): 1, (2, 0): 0, (1, 3): 0, (2, 3): 1, (2, 2): 3, (1, 0): 0, (0, 3): 0})\n",
    "is_invertible(M)"
   ]
  },
  {
   "cell_type": "code",
   "execution_count": 143,
   "metadata": {
    "collapsed": false
   },
   "outputs": [
    {
     "data": {
      "text/plain": [
       "False"
      ]
     },
     "execution_count": 143,
     "metadata": {},
     "output_type": "execute_result"
    }
   ],
   "source": [
    "M1 = Mat(({0,1,2},{0,1,2}),{(0,0):1,(0,2):2,(1,2):3,(2,2):4})\n",
    "is_invertible(M1)"
   ]
  },
  {
   "cell_type": "code",
   "execution_count": 9,
   "metadata": {
    "collapsed": true
   },
   "outputs": [],
   "source": [
    "## 11: (Problem 6.7.13) Inverse of a Matrix over GF(2)\n",
    "def find_matrix_inverse(A):\n",
    "    '''\n",
    "    Input:\n",
    "        - A: an invertible Mat over GF(2)\n",
    "    Output:\n",
    "        - A Mat that is the inverse of A\n",
    "    Examples:\n",
    "        >>> M1 = Mat(({0,1,2}, {0,1,2}), {(0, 1): one, (1, 0): one, (2, 2): one})\n",
    "        >>> find_matrix_inverse(M1) == Mat(M1.D, {(0, 1): one, (1, 0): one, (2, 2): one})\n",
    "        True\n",
    "        >>> M2 = Mat(({0,1,2,3},{0,1,2,3}),{(0,1):one,(1,0):one,(2,2):one})\n",
    "        >>> find_matrix_inverse(M2) == Mat(M2.D, {(0, 1): one, (1, 0): one, (2, 2): one})\n",
    "        True\n",
    "    '''\n",
    "    R = A.D[0]; C = A.D[1]\n",
    "    return coldict2mat([solve(A, Vec(C, {i:one})) for i in C])\n",
    "    "
   ]
  },
  {
   "cell_type": "code",
   "execution_count": 10,
   "metadata": {
    "collapsed": false
   },
   "outputs": [
    {
     "data": {
      "text/plain": [
       "True"
      ]
     },
     "execution_count": 10,
     "metadata": {},
     "output_type": "execute_result"
    }
   ],
   "source": [
    "M1 = Mat(({0,1,2}, {0,1,2}), {(0, 1): one, (1, 0): one, (2, 2): one})\n",
    "find_matrix_inverse(M1) == Mat(M1.D, {(0, 1): one, (1, 0): one, (2, 2): one})"
   ]
  },
  {
   "cell_type": "code",
   "execution_count": 11,
   "metadata": {
    "collapsed": false
   },
   "outputs": [
    {
     "data": {
      "text/plain": [
       "True"
      ]
     },
     "execution_count": 11,
     "metadata": {},
     "output_type": "execute_result"
    }
   ],
   "source": [
    "M2 = Mat(({0,1,2,3},{0,1,2,3}),{(0,1):one,(1,0):one,(2,2):one})\n",
    "find_matrix_inverse(M2) == Mat(M2.D, {(0, 1): one, (1, 0): one, (2, 2): one})"
   ]
  },
  {
   "cell_type": "code",
   "execution_count": 20,
   "metadata": {
    "collapsed": true
   },
   "outputs": [],
   "source": [
    "## 12: (Problem 6.7.14) Inverse of a Triangular Matrix\n",
    "def find_triangular_matrix_inverse(A):\n",
    "    '''\n",
    "    Supporting GF2 is not required.\n",
    "\n",
    "    Input:\n",
    "        - A: an upper triangular Mat with nonzero diagonal elements\n",
    "    Output:\n",
    "        - Mat that is the inverse of A\n",
    "    \n",
    "    Example:\n",
    "        >>> A = listlist2mat([[1, .5, .2, 4],[0, 1, .3, .9],[0,0,1,.1],[0,0,0,1]])\n",
    "        >>> find_triangular_matrix_inverse(A) == Mat(({0, 1, 2, 3}, {0, 1, 2, 3}), {(0, 1): -0.5, (1, 2): -0.3, (3, 2): 0.0, (0, 0): 1.0, (3, 3): 1.0, (3, 0): 0.0, (3, 1): 0.0, (2, 1): 0.0, (0, 2): -0.05000000000000002, (2, 0): 0.0, (1, 3): -0.87, (2, 3): -0.1, (2, 2): 1.0, (1, 0): 0.0, (0, 3): -3.545, (1, 1): 1.0})\n",
    "        True\n",
    "    '''\n",
    "    label_list = list(A.D[1])\n",
    "    rowlist = list(mat2rowdict(A).values())\n",
    "    return coldict2mat([triangular_solve(rowlist, label_list, Vec(A.D[1], {i:1})) for i in A.D[1]])"
   ]
  },
  {
   "cell_type": "code",
   "execution_count": 21,
   "metadata": {
    "collapsed": false
   },
   "outputs": [
    {
     "data": {
      "text/plain": [
       "True"
      ]
     },
     "execution_count": 21,
     "metadata": {},
     "output_type": "execute_result"
    }
   ],
   "source": [
    "A = listlist2mat([[1, .5, .2, 4],[0, 1, .3, .9],[0,0,1,.1],[0,0,0,1]])\n",
    "find_triangular_matrix_inverse(A) == Mat(({0, 1, 2, 3}, {0, 1, 2, 3}), {(0, 1): -0.5, (1, 2): -0.3, (3, 2): 0.0, (0, 0): 1.0, (3, 3): 1.0, (3, 0): 0.0, (3, 1): 0.0, (2, 1): 0.0, (0, 2): -0.05000000000000002, (2, 0): 0.0, (1, 3): -0.87, (2, 3): -0.1, (2, 2): 1.0, (1, 0): 0.0, (0, 3): -3.545, (1, 1): 1.0})"
   ]
  }
 ],
 "metadata": {
  "kernelspec": {
   "display_name": "Python 3",
   "language": "python",
   "name": "python3"
  },
  "language_info": {
   "codemirror_mode": {
    "name": "ipython",
    "version": 3
   },
   "file_extension": ".py",
   "mimetype": "text/x-python",
   "name": "python",
   "nbconvert_exporter": "python",
   "pygments_lexer": "ipython3",
   "version": "3.4.3"
  }
 },
 "nbformat": 4,
 "nbformat_minor": 0
}
