{
 "cells": [
  {
   "cell_type": "code",
   "execution_count": 1,
   "metadata": {
    "collapsed": true
   },
   "outputs": [],
   "source": [
    "import random\n",
    "from vec import Vec\n",
    "from GF2 import one\n",
    "from vecutil import list2vec\n",
    "from independence import is_independent, rank\n",
    "import itertools"
   ]
  },
  {
   "cell_type": "code",
   "execution_count": 2,
   "metadata": {
    "collapsed": true
   },
   "outputs": [],
   "source": [
    "## 1: (Task 1) Choosing a Secret Vector\n",
    "def randGF2(): return random.randint(0,1)*one\n",
    "\n",
    "a0 = list2vec([one, one,   0, one,   0, one])\n",
    "b0 = list2vec([one, one,   0,   0,   0, one])\n",
    "\n",
    "def choose_secret_vector(s,t):\n",
    "    u = Vec({0, 1, 2, 3, 4, 5}, {i:randGF2() for i in range(6)})\n",
    "    return u if a0*u == s and b0*u ==t else choose_secret_vector(s, t)"
   ]
  },
  {
   "cell_type": "code",
   "execution_count": 3,
   "metadata": {
    "collapsed": false,
    "scrolled": true
   },
   "outputs": [
    {
     "data": {
      "text/plain": [
       "Vec({0, 1, 2, 3, 4, 5},{0: 0, 1: 0, 2: one, 3: one, 4: one, 5: 0})"
      ]
     },
     "execution_count": 3,
     "metadata": {},
     "output_type": "execute_result"
    }
   ],
   "source": [
    "u = choose_secret_vector(one, 0)\n",
    "u"
   ]
  },
  {
   "cell_type": "code",
   "execution_count": 4,
   "metadata": {
    "collapsed": false
   },
   "outputs": [
    {
     "data": {
      "text/plain": [
       "True"
      ]
     },
     "execution_count": 4,
     "metadata": {},
     "output_type": "execute_result"
    }
   ],
   "source": [
    "a0*u == one and b0*u ==0"
   ]
  },
  {
   "cell_type": "code",
   "execution_count": 45,
   "metadata": {
    "collapsed": true
   },
   "outputs": [],
   "source": [
    "def gen_vecs():\n",
    "    ''' Generate 6 distinct vecs to form a set of 10 by adding a0, b0'''\n",
    "    vecs =[Vec({0, 1, 2, 3, 4, 5}, {i:randGF2() for i in range(6)}) for _ in range(8)]\n",
    "    return vecs if len({a0, b0}.union(set(vecs))) == 10 else gen_vecs()"
   ]
  },
  {
   "cell_type": "code",
   "execution_count": 53,
   "metadata": {
    "collapsed": false
   },
   "outputs": [
    {
     "data": {
      "text/plain": [
       "10"
      ]
     },
     "execution_count": 53,
     "metadata": {},
     "output_type": "execute_result"
    }
   ],
   "source": [
    "# gen_vecs() produces each time it is called a set of 10 distinct vecs (not necessarily linearly independent)\n",
    "len({a0, b0}.union(gen_vecs()))"
   ]
  },
  {
   "cell_type": "code",
   "execution_count": 56,
   "metadata": {
    "collapsed": true
   },
   "outputs": [],
   "source": [
    "## 2: (Task 2) Finding Secret Sharing Vectors\n",
    "def find_secret():\n",
    "    d = set()\n",
    "    \n",
    "    while len(d)<8:\n",
    "        a1, b1, a2, b2, a3, b3, a4, b4 = gen_vecs()\n",
    "        dct = {'a0':a0, 'b0':b0, 'a1':a1, 'b1':b1, 'a2':a2, 'b2':b2, 'a3':a3, 'b3':b3, 'a4':a4, 'b4':b4}\n",
    "        L = [(a0, b0), (a1, b1), (a2, b2), (a3, b3), (a4, b4)]\n",
    "        s = list(itertools.combinations(L, 3)) # combinations of 3 pairs\n",
    "        LS = [set(s[i][0]).union(set(s[i][1])).union(set(s[i][2])) for i in range(len(s))]\n",
    "        logic = [is_independent(each_set) for each_set in LS]\n",
    "        if all(logic): d = d.union({a1, b1, a2, b2, a3, b3, a4, b4})\n",
    "            \n",
    "    return dct"
   ]
  },
  {
   "cell_type": "code",
   "execution_count": null,
   "metadata": {
    "collapsed": true
   },
   "outputs": [],
   "source": []
  }
 ],
 "metadata": {
  "kernelspec": {
   "display_name": "Python 3",
   "language": "python",
   "name": "python3"
  },
  "language_info": {
   "codemirror_mode": {
    "name": "ipython",
    "version": 3
   },
   "file_extension": ".py",
   "mimetype": "text/x-python",
   "name": "python",
   "nbconvert_exporter": "python",
   "pygments_lexer": "ipython3",
   "version": "3.4.3"
  }
 },
 "nbformat": 4,
 "nbformat_minor": 0
}
