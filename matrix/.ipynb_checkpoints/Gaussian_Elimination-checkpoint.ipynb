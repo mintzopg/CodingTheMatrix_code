{
 "cells": [
  {
   "cell_type": "code",
   "execution_count": 1,
   "metadata": {
    "collapsed": true
   },
   "outputs": [],
   "source": [
    "from matutil import *\n",
    "from GF2 import one\n",
    "from vec import Vec\n",
    "import math\n",
    "from vecutil import zero_vec"
   ]
  },
  {
   "cell_type": "code",
   "execution_count": 2,
   "metadata": {
    "collapsed": true
   },
   "outputs": [],
   "source": [
    "def is_echelon(A):\n",
    "    '''\n",
    "    Input:\n",
    "        - A: a list of row lists\n",
    "    Output:\n",
    "        - True if A is in echelon form\n",
    "        - False otherwise\n",
    "    '''\n",
    "    # special cases\n",
    "    rows = len(A) # m rows\n",
    "    if rows == 1 or rows == 0: return True\n",
    "    cols = len(A[0]) # n columns\n",
    "    if cols == 0: return True\n",
    "    \n",
    "    d = {} # key: row number, val: position of 1-st non zero element\n",
    "    for m in range(rows):\n",
    "        for n in range(cols):\n",
    "            if A[m][n] != 0: # the 1st non zero...\n",
    "                d[m] = n     # add in the dictionary as row #: index #\n",
    "                break        # break the loop\n",
    "        else:\n",
    "            d[m] = -1        # if all elements in row are zero, put -1\n",
    "        \n",
    "    if d[0] == -1: d[0] = float('inf') # 1st row is zero; set to inf for logic to work\n",
    "    logic = []\n",
    "    for k in range(1, rows):\n",
    "        if d[k] == -1:            # if 2nd row is zero must check if all other rows are also zero\n",
    "            logic.insert(k, True)\n",
    "            tmp = True\n",
    "            for j in range(k+1, rows):  # if all other rows are zero too, then is in row-echelon form\n",
    "                if d[j] == d[k]:\n",
    "                    tmp = tmp and True\n",
    "                    logic.insert(j, tmp)\n",
    "                else:\n",
    "                    logic.insert(j, False)    \n",
    "        else:\n",
    "            logic.insert(k, d[k]>d[k-1])\n",
    "    \n",
    "    return all(logic)"
   ]
  },
  {
   "cell_type": "code",
   "execution_count": 119,
   "metadata": {
    "collapsed": false
   },
   "outputs": [
    {
     "data": {
      "text/plain": [
       "True"
      ]
     },
     "execution_count": 119,
     "metadata": {},
     "output_type": "execute_result"
    }
   ],
   "source": [
    "is_echelon([[9,-1,2],[0,4,5],[0,0,2]])"
   ]
  },
  {
   "cell_type": "code",
   "execution_count": 120,
   "metadata": {
    "collapsed": false
   },
   "outputs": [
    {
     "data": {
      "text/plain": [
       "False"
      ]
     },
     "execution_count": 120,
     "metadata": {},
     "output_type": "execute_result"
    }
   ],
   "source": [
    "is_echelon([[0,4,5],[0,3,0],[0,0,2]])"
   ]
  },
  {
   "cell_type": "code",
   "execution_count": 121,
   "metadata": {
    "collapsed": false
   },
   "outputs": [
    {
     "data": {
      "text/plain": [
       "True"
      ]
     },
     "execution_count": 121,
     "metadata": {},
     "output_type": "execute_result"
    }
   ],
   "source": [
    "is_echelon([[9,10]])"
   ]
  },
  {
   "cell_type": "code",
   "execution_count": 122,
   "metadata": {
    "collapsed": false
   },
   "outputs": [
    {
     "data": {
      "text/plain": [
       "True"
      ]
     },
     "execution_count": 122,
     "metadata": {},
     "output_type": "execute_result"
    }
   ],
   "source": [
    "is_echelon([[5]])"
   ]
  },
  {
   "cell_type": "code",
   "execution_count": 123,
   "metadata": {
    "collapsed": false
   },
   "outputs": [
    {
     "data": {
      "text/plain": [
       "False"
      ]
     },
     "execution_count": 123,
     "metadata": {},
     "output_type": "execute_result"
    }
   ],
   "source": [
    "is_echelon([[1],[1]])"
   ]
  },
  {
   "cell_type": "code",
   "execution_count": 124,
   "metadata": {
    "collapsed": false
   },
   "outputs": [
    {
     "data": {
      "text/plain": [
       "True"
      ]
     },
     "execution_count": 124,
     "metadata": {},
     "output_type": "execute_result"
    }
   ],
   "source": [
    "is_echelon([[0]])"
   ]
  },
  {
   "cell_type": "code",
   "execution_count": 125,
   "metadata": {
    "collapsed": false
   },
   "outputs": [
    {
     "data": {
      "text/plain": [
       "False"
      ]
     },
     "execution_count": 125,
     "metadata": {},
     "output_type": "execute_result"
    }
   ],
   "source": [
    "is_echelon([[0],[1]])"
   ]
  },
  {
   "cell_type": "code",
   "execution_count": 126,
   "metadata": {
    "collapsed": false
   },
   "outputs": [
    {
     "data": {
      "text/plain": [
       "True"
      ]
     },
     "execution_count": 126,
     "metadata": {},
     "output_type": "execute_result"
    }
   ],
   "source": [
    "is_echelon([[1,1,1],[0,1,0],[0,0,0],[0,0,0]])"
   ]
  },
  {
   "cell_type": "code",
   "execution_count": 127,
   "metadata": {
    "collapsed": false
   },
   "outputs": [
    {
     "data": {
      "text/plain": [
       "False"
      ]
     },
     "execution_count": 127,
     "metadata": {},
     "output_type": "execute_result"
    }
   ],
   "source": [
    "is_echelon([[1,1,1],[0,0,0],[0,0,1]])"
   ]
  },
  {
   "cell_type": "code",
   "execution_count": 128,
   "metadata": {
    "collapsed": false
   },
   "outputs": [
    {
     "data": {
      "text/plain": [
       "True"
      ]
     },
     "execution_count": 128,
     "metadata": {},
     "output_type": "execute_result"
    }
   ],
   "source": [
    "is_echelon([])"
   ]
  },
  {
   "cell_type": "code",
   "execution_count": 129,
   "metadata": {
    "collapsed": false
   },
   "outputs": [
    {
     "data": {
      "text/plain": [
       "True"
      ]
     },
     "execution_count": 129,
     "metadata": {},
     "output_type": "execute_result"
    }
   ],
   "source": [
    " is_echelon([[],[]])"
   ]
  },
  {
   "cell_type": "code",
   "execution_count": 130,
   "metadata": {
    "collapsed": false
   },
   "outputs": [
    {
     "data": {
      "text/plain": [
       "True"
      ]
     },
     "execution_count": 130,
     "metadata": {},
     "output_type": "execute_result"
    }
   ],
   "source": [
    "is_echelon([[0, 0, 0], [0, 0, 0], [0, 0, 0]])"
   ]
  },
  {
   "cell_type": "code",
   "execution_count": 131,
   "metadata": {
    "collapsed": false
   },
   "outputs": [
    {
     "data": {
      "text/plain": [
       "True"
      ]
     },
     "execution_count": 131,
     "metadata": {},
     "output_type": "execute_result"
    }
   ],
   "source": [
    "is_echelon([[0, 0, 0], [0, 0, 0]])"
   ]
  },
  {
   "cell_type": "code",
   "execution_count": 132,
   "metadata": {
    "collapsed": false
   },
   "outputs": [
    {
     "data": {
      "text/plain": [
       "True"
      ]
     },
     "execution_count": 132,
     "metadata": {},
     "output_type": "execute_result"
    }
   ],
   "source": [
    "is_echelon([[2, 1, 0], [0, -4, 0], [0, 0, 1]])"
   ]
  },
  {
   "cell_type": "code",
   "execution_count": 133,
   "metadata": {
    "collapsed": false
   },
   "outputs": [
    {
     "data": {
      "text/plain": [
       "False"
      ]
     },
     "execution_count": 133,
     "metadata": {},
     "output_type": "execute_result"
    }
   ],
   "source": [
    "is_echelon([[2, 1, 0], [-4, 0, 0], [0, 0, 1]])"
   ]
  },
  {
   "cell_type": "code",
   "execution_count": 134,
   "metadata": {
    "collapsed": false
   },
   "outputs": [
    {
     "data": {
      "text/plain": [
       "False"
      ]
     },
     "execution_count": 134,
     "metadata": {},
     "output_type": "execute_result"
    }
   ],
   "source": [
    "is_echelon([[2, 1, 0], [0, 3, 0], [1, 0, 1]])"
   ]
  },
  {
   "cell_type": "code",
   "execution_count": 135,
   "metadata": {
    "collapsed": false
   },
   "outputs": [
    {
     "data": {
      "text/plain": [
       "True"
      ]
     },
     "execution_count": 135,
     "metadata": {},
     "output_type": "execute_result"
    }
   ],
   "source": [
    "is_echelon([[1, 1, 1, 1, 1], [0, 2, 0, 1, 3], [0, 0, 0, 5, 3]])"
   ]
  },
  {
   "cell_type": "code",
   "execution_count": 1,
   "metadata": {
    "collapsed": false
   },
   "outputs": [
    {
     "data": {
      "text/plain": [
       "'/home/gimin/Courses/Brown_LinearAlgebra_Coursera/matrix'"
      ]
     },
     "execution_count": 1,
     "metadata": {},
     "output_type": "execute_result"
    }
   ],
   "source": [
    "pwd"
   ]
  },
  {
   "cell_type": "code",
   "execution_count": null,
   "metadata": {
    "collapsed": true
   },
   "outputs": [],
   "source": [
    "# %load triangular.py\n",
    "# Copyright 2013 Philip N. Klein\n",
    "from vec import Vec\n",
    "from vecutil import zero_vec\n",
    "\n",
    "def triangular_solve_n(rowlist, b):\n",
    "    '''\n",
    "    Solves an upper-triangular linear system.\n",
    "    rowlist is a nonempty list of Vecs.  Let n = len(rowlist).\n",
    "    The domain D of all these Vecs is {0,1, ..., n-1}.\n",
    "    b is an n-element list or a Vec whose domain is {0,1, ..., n-1}.\n",
    "    The linear equations are:\n",
    "       rowlist[0] * x = b[0]\n",
    "                     ...\n",
    "       rowlist[n-1] * x = b[n-1]\n",
    "    The system is triangular.  That means rowlist[i][j] is zero\n",
    "    for all i, j in {0,1, ..., n-1} such that i >j.\n",
    "\n",
    "    This procedure assumes that rowlist[j][j] != 0 for j=0,1, ..., n-1.\n",
    "\n",
    "    The procedure returns the Vec x that is the unique solution\n",
    "    to the linear system.\n",
    "    '''\n",
    "    D = rowlist[0].D\n",
    "    n = len(D)\n",
    "    assert D == set(range(n))\n",
    "    x = zero_vec(D)\n",
    "    for j in reversed(range(n)):\n",
    "        x[j] = (b[j] - rowlist[j] * x)/rowlist[j][j]\n",
    "    return x\n",
    "\n",
    "def triangular_solve(rowlist, label_list, b):\n",
    "    '''\n",
    "    Solves an upper-triangular linear system.\n",
    "    rowlist is a nonempty list of Vecs.  Let n = len(rowlist).\n",
    "    b is an n-element list or a Vec over domain {0,1, ..., n-1}.\n",
    "    The linear equations are:\n",
    "       rowlist[0] * x = b[0]\n",
    "                     ...\n",
    "       rowlist[n-1] * x = b[n-1]\n",
    "    label_list is a list consisting of all the elements of D,\n",
    "    where D is the domain of each of the vectors in rowlist.\n",
    "    The system is triangular with respect to the ordering given\n",
    "    by label_list.  That means rowlist[n-1][d] is zero for\n",
    "    every element d of D except for the last element of label_list,\n",
    "    rowlist[n-2][d] is zero for every element d of D except for\n",
    "    the last two elements of label_list, and so on.\n",
    "\n",
    "    This procedure assumes that rowlist[j][label_list[j]] != 0\n",
    "    for j = 0,1, ..., n-1.\n",
    "\n",
    "    The procedure returns the Vec x that is the unique solution\n",
    "    to the linear system.\n",
    "    '''\n",
    "    D = rowlist[0].D\n",
    "    x = zero_vec(D)\n",
    "    for j in reversed(range(len(D))):\n",
    "        c = label_list[j]\n",
    "        row = rowlist[j]\n",
    "        x[c] = (b[j] - x*row)/row[c]\n",
    "    return x\n"
   ]
  },
  {
   "cell_type": "code",
   "execution_count": 38,
   "metadata": {
    "collapsed": true
   },
   "outputs": [],
   "source": [
    "## 5: (Problem 5) Echelon Solver\n",
    "def echelon_solve(row_list, label_list, b):\n",
    "    '''\n",
    "    Input:\n",
    "        - row_list: a list of Vecs\n",
    "        - label_list: a list of labels establishing an order on the domain of\n",
    "                      Vecs in row_list\n",
    "        - b: a vector (represented as a list)\n",
    "    Output:\n",
    "        - Vec x such that row_list * x is b\n",
    "    >>> D = {'A','B','C','D','E'}\n",
    "    >>> U_rows = [Vec(D, {'A':one, 'E':one}), Vec(D, {'B':one, 'E':one}), Vec(D,{'C':one})]\n",
    "    >>> b_list = [one,0,one]\n",
    "    >>> cols = ['A', 'B', 'C', 'D', 'E']\n",
    "    >>> echelon_solve(U_rows, cols, b_list) == Vec({'B', 'C', 'A', 'D', 'E'},{'B': 0, 'C': one, 'A': one})\n",
    "    True\n",
    "    '''\n",
    "    D = row_list[0].D\n",
    "    assert D == set(label_list)\n",
    "    x = zero_vec(D)\n",
    "    for i in reversed(range(len(row_list))):\n",
    "        row = row_list[i]\n",
    "        for j in (range(len(D))):\n",
    "            if row[label_list[j]] != 0 :\n",
    "                c = label_list[j]\n",
    "                x[c] = (b[i] - x*row)/row[c]\n",
    "                break\n",
    "    return x\n",
    "        "
   ]
  },
  {
   "cell_type": "code",
   "execution_count": 39,
   "metadata": {
    "collapsed": false
   },
   "outputs": [
    {
     "data": {
      "text/plain": [
       "True"
      ]
     },
     "execution_count": 39,
     "metadata": {},
     "output_type": "execute_result"
    }
   ],
   "source": [
    "D = {'A','B','C','D','E'}\n",
    "U_rows = [Vec(D, {'A':one, 'E':one}), Vec(D, {'B':one, 'E':one}), Vec(D,{'C':one})]\n",
    "b_list = [one,0,one]\n",
    "cols = ['A', 'B', 'C', 'D', 'E']\n",
    "echelon_solve(U_rows, cols, b_list) == Vec({'B', 'C', 'A', 'D', 'E'},{'B': 0, 'C': one, 'A': one})"
   ]
  },
  {
   "cell_type": "code",
   "execution_count": 40,
   "metadata": {
    "collapsed": false
   },
   "outputs": [
    {
     "data": {
      "text/plain": [
       "Vec({'B', 'E', 'C', 'A', 'D'},{'B': one, 'E': one, 'A': one, 'C': 0})"
      ]
     },
     "execution_count": 40,
     "metadata": {},
     "output_type": "execute_result"
    }
   ],
   "source": [
    "list_row1 = [Vec(D, {'A':one, 'C':one, 'D':one}), Vec(D, {'B':one, 'E':one}), Vec(D, {'C':one, 'E':one}), Vec(D, {'E':one})]\n",
    "b1 = [one, 0, one, one]\n",
    "echelon_solve(list_row1, cols, b1)"
   ]
  },
  {
   "cell_type": "markdown",
   "metadata": {},
   "source": [
    "CORRECT"
   ]
  },
  {
   "cell_type": "code",
   "execution_count": 43,
   "metadata": {
    "collapsed": false
   },
   "outputs": [
    {
     "data": {
      "text/plain": [
       "Vec({'B', 'E', 'C', 'A', 'D'},{'B': 0, 'C': one, 'A': one})"
      ]
     },
     "execution_count": 43,
     "metadata": {},
     "output_type": "execute_result"
    }
   ],
   "source": [
    "list_row2 = [Vec(D, {'A':one, 'B':one, 'D':one}), Vec(D, {'B':one, 'D':one, 'E':one}), Vec(D, {'C':one, 'E':one}), Vec(D, {})]\n",
    "b2 = [one, 0, one, 0]\n",
    "echelon_solve(list_row2, cols, b2)"
   ]
  },
  {
   "cell_type": "markdown",
   "metadata": {},
   "source": [
    "CORRECT"
   ]
  },
  {
   "cell_type": "markdown",
   "metadata": {},
   "source": [
    "### Problem 6"
   ]
  },
  {
   "cell_type": "code",
   "execution_count": 44,
   "metadata": {
    "collapsed": true
   },
   "outputs": [],
   "source": [
    "def solve(A, b):\n",
    "    M = echelon.transformation(A)\n",
    "    U = M*A\n",
    "    col_label_list = sorted(A.D[1])\n",
    "    U_rows_dict = mat2rowdict(U)\n",
    "    row_list = [U_rows_dict[i] for i in sorted(U_rows_dict)]\n",
    "    return echelon_solve(row_list,col_label_list, M*b)"
   ]
  },
  {
   "cell_type": "code",
   "execution_count": 47,
   "metadata": {
    "collapsed": true
   },
   "outputs": [],
   "source": [
    "A = Mat(({'a', 'b', 'c', 'd'}, {'A', 'B', 'C', 'D'}), {('a', 'A'):one, ('a', 'B'):one, ('a', 'D'):one,\n",
    "                                                       ('b', 'A'):one, ('b', 'D'):one,\n",
    "                                                       ('c', 'A'):one, ('c', 'B'):one, ('c', 'C'):one, ('c', 'D'):one,\n",
    "                                                       ('d', 'C'):one, ('d', 'D'):one})\n",
    "g = Vec({'a', 'b', 'c', 'd'}, {'a':one, 'c':one})\n",
    "M = Mat(({0, 1, 2, 3}, {'a', 'b', 'c', 'd'}), {(0, 'a'):one,\n",
    "                                               (1, 'a'):one, (1, 'b'):one,\n",
    "                                               (2, 'a'):one, (2, 'c'):one,\n",
    "                                               (3, 'a'):one, (3, 'c'):one, (3, 'd'):one})"
   ]
  },
  {
   "cell_type": "code",
   "execution_count": 48,
   "metadata": {
    "collapsed": false
   },
   "outputs": [
    {
     "name": "stdout",
     "output_type": "stream",
     "text": [
      "\n",
      "         A   B   C   D\n",
      "     -----------------\n",
      " a  |  one one   0 one\n",
      " b  |  one   0   0 one\n",
      " c  |  one one one one\n",
      " d  |    0   0 one one\n",
      "\n",
      "\n",
      "   a b   c d\n",
      "------------\n",
      " one 0 one 0\n",
      "\n",
      "         a   b   c   d\n",
      "     -----------------\n",
      " 0  |  one   0   0   0\n",
      " 1  |  one one   0   0\n",
      " 2  |  one   0 one   0\n",
      " 3  |  one   0 one one\n",
      "\n"
     ]
    }
   ],
   "source": [
    "print (A); print (g); print (M)"
   ]
  },
  {
   "cell_type": "code",
   "execution_count": 50,
   "metadata": {
    "collapsed": false
   },
   "outputs": [
    {
     "data": {
      "text/plain": [
       "['A', 'B', 'C', 'D']"
      ]
     },
     "execution_count": 50,
     "metadata": {},
     "output_type": "execute_result"
    }
   ],
   "source": [
    "col_label_list = sorted(A.D[1]); col_label_list"
   ]
  },
  {
   "cell_type": "code",
   "execution_count": 51,
   "metadata": {
    "collapsed": true
   },
   "outputs": [],
   "source": [
    "U = M*A\n",
    "U_rows_dict = mat2rowdict(U)\n",
    "row_list = [U_rows_dict[i] for i in sorted(U_rows_dict)]"
   ]
  },
  {
   "cell_type": "code",
   "execution_count": 59,
   "metadata": {
    "collapsed": false
   },
   "outputs": [
    {
     "data": {
      "text/plain": [
       "[Vec({'B', 'C', 'A', 'D'},{'B': one, 'C': 0, 'A': one, 'D': one}),\n",
       " Vec({'B', 'C', 'A', 'D'},{'B': one, 'C': 0, 'A': 0, 'D': 0}),\n",
       " Vec({'B', 'C', 'A', 'D'},{'B': 0, 'C': one, 'A': 0, 'D': 0}),\n",
       " Vec({'B', 'C', 'A', 'D'},{'B': 0, 'C': 0, 'A': 0, 'D': one})]"
      ]
     },
     "execution_count": 59,
     "metadata": {},
     "output_type": "execute_result"
    }
   ],
   "source": [
    "row_list"
   ]
  },
  {
   "cell_type": "code",
   "execution_count": 54,
   "metadata": {
    "collapsed": false
   },
   "outputs": [
    {
     "name": "stdout",
     "output_type": "stream",
     "text": [
      "\n",
      "   0   1 2 3\n",
      "------------\n",
      " one one 0 0\n"
     ]
    }
   ],
   "source": [
    "print (M*g)"
   ]
  },
  {
   "cell_type": "code",
   "execution_count": null,
   "metadata": {
    "collapsed": true
   },
   "outputs": [],
   "source": []
  }
 ],
 "metadata": {
  "kernelspec": {
   "display_name": "Python 3",
   "language": "python",
   "name": "python3"
  },
  "language_info": {
   "codemirror_mode": {
    "name": "ipython",
    "version": 3
   },
   "file_extension": ".py",
   "mimetype": "text/x-python",
   "name": "python",
   "nbconvert_exporter": "python",
   "pygments_lexer": "ipython3",
   "version": "3.4.3"
  }
 },
 "nbformat": 4,
 "nbformat_minor": 0
}
