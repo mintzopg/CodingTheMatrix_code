{
 "metadata": {
  "name": "",
  "signature": "sha256:69c5699c03eb2a13c283c552f8c3cc7f912f13a1afe70f3a577d1d2636e90c51"
 },
 "nbformat": 3,
 "nbformat_minor": 0,
 "worksheets": [
  {
   "cells": [
    {
     "cell_type": "code",
     "collapsed": false,
     "input": [
      "from mat import Mat\n",
      "from vec import Vec\n",
      "from bitutil import bits2mat, str2bits, noise\n",
      "from GF2 import one\n",
      "import GF2\n",
      "from matutil import listlist2mat"
     ],
     "language": "python",
     "metadata": {},
     "outputs": [],
     "prompt_number": 24
    },
    {
     "cell_type": "code",
     "collapsed": false,
     "input": [
      "#Task 1\n",
      "G=Mat(({0,1,2,3,4,5,6},{0,1,2,3}),\n",
      "      {(0,0):one, (0,1):0, (0,2):one, (0,3):one,\n",
      "      (1,0):one, (1,1):one, (1,2):0, (1,3):one,\n",
      "      (2,0):0, (2,1):0, (2,2):0, (2,3):one,\n",
      "      (3,0):one, (3,1):one, (3,2):one, (3,3):0,\n",
      "      (4,0):0, (4,1):0, (4,2):one, (4,3):0,\n",
      "      (5,0):0, (5,1):one, (5,2):0, (5,3):0,\n",
      "      (6,0):one, (6,1):0, (6,2):0, (6,3):0})"
     ],
     "language": "python",
     "metadata": {},
     "outputs": [],
     "prompt_number": 2
    },
    {
     "cell_type": "code",
     "collapsed": false,
     "input": [
      "#Task 2\n",
      "p=Vec({0,1,2,3},{0:one,1:0,2:0,3:one})\n",
      "encoding_1001=G*p"
     ],
     "language": "python",
     "metadata": {},
     "outputs": [],
     "prompt_number": 3
    },
    {
     "cell_type": "code",
     "collapsed": false,
     "input": [
      "encoding_1001"
     ],
     "language": "python",
     "metadata": {},
     "outputs": [
      {
       "metadata": {},
       "output_type": "pyout",
       "prompt_number": 4,
       "text": [
        "Vec({0, 1, 2, 3, 4, 5, 6},{0: 0, 1: 0, 2: one, 3: one, 4: 0, 5: 0, 6: one})"
       ]
      }
     ],
     "prompt_number": 4
    },
    {
     "cell_type": "code",
     "collapsed": false,
     "input": [
      "# Task 3\n",
      "encoding_0011=G*Vec({0,1,2,3},{0:0,1:0,2:one,3:one})"
     ],
     "language": "python",
     "metadata": {},
     "outputs": [],
     "prompt_number": 5
    },
    {
     "cell_type": "code",
     "collapsed": false,
     "input": [
      "encoding_0011"
     ],
     "language": "python",
     "metadata": {},
     "outputs": [
      {
       "metadata": {},
       "output_type": "pyout",
       "prompt_number": 6,
       "text": [
        "Vec({0, 1, 2, 3, 4, 5, 6},{0: 0, 1: one, 2: one, 3: one, 4: one, 5: 0, 6: 0})"
       ]
      }
     ],
     "prompt_number": 6
    },
    {
     "cell_type": "code",
     "collapsed": false,
     "input": [
      "R=Mat(({0,1,2,3},{0,1,2,3,4,5,6}),{(0,0):one,(0,1):one,(0,3):one,(1,5):one,(2,4):one,(3,2):one})"
     ],
     "language": "python",
     "metadata": {},
     "outputs": [],
     "prompt_number": 7
    },
    {
     "cell_type": "code",
     "collapsed": false,
     "input": [
      "R*G"
     ],
     "language": "python",
     "metadata": {},
     "outputs": [
      {
       "metadata": {},
       "output_type": "pyout",
       "prompt_number": 8,
       "text": [
        "Mat(({0, 1, 2, 3}, {0, 1, 2, 3}), {(0, 1): 0, (1, 2): 0, (3, 2): 0, (0, 0): one, (3, 3): one, (3, 0): 0, (3, 1): 0, (1, 1): one, (2, 1): 0, (0, 2): 0, (2, 0): 0, (1, 3): 0, (2, 3): 0, (2, 2): one, (1, 0): 0, (0, 3): 0})"
       ]
      }
     ],
     "prompt_number": 8
    },
    {
     "cell_type": "code",
     "collapsed": false,
     "input": [
      "print(R*G)"
     ],
     "language": "python",
     "metadata": {},
     "outputs": [
      {
       "output_type": "stream",
       "stream": "stdout",
       "text": [
        "\n",
        "         0   1   2   3\n",
        "     -----------------\n",
        " 0  |  one   0   0   0\n",
        " 1  |    0 one   0   0\n",
        " 2  |    0   0 one   0\n",
        " 3  |    0   0   0 one\n",
        "\n"
       ]
      }
     ],
     "prompt_number": 9
    },
    {
     "cell_type": "code",
     "collapsed": false,
     "input": [
      "R*encoding_0011"
     ],
     "language": "python",
     "metadata": {},
     "outputs": [
      {
       "metadata": {},
       "output_type": "pyout",
       "prompt_number": 10,
       "text": [
        "Vec({0, 1, 2, 3},{0: 0, 1: 0, 2: one, 3: one})"
       ]
      }
     ],
     "prompt_number": 10
    },
    {
     "cell_type": "code",
     "collapsed": false,
     "input": [
      "#Task 4\n",
      "H=Mat(({0,1,2},{0,1,2,3,4,5,6,}),{(0,3):one,(0,4):one,(0,5):one,(0,6):one,\n",
      "                                  (1,1):one,(1,2):one,(1,5):one,(1,6):one,\n",
      "                                  (2,0):one,(2,2):one,(2,4):one,(2,6):one})\n",
      "print(H)"
     ],
     "language": "python",
     "metadata": {},
     "outputs": [
      {
       "output_type": "stream",
       "stream": "stdout",
       "text": [
        "\n",
        "         0   1   2   3   4   5   6\n",
        "     -----------------------------\n",
        " 0  |    0   0   0 one one one one\n",
        " 1  |    0 one one   0   0 one one\n",
        " 2  |  one   0 one   0 one   0 one\n",
        "\n"
       ]
      }
     ],
     "prompt_number": 11
    },
    {
     "cell_type": "code",
     "collapsed": false,
     "input": [
      "H*H.transpose()"
     ],
     "language": "python",
     "metadata": {},
     "outputs": [
      {
       "metadata": {},
       "output_type": "pyout",
       "prompt_number": 12,
       "text": [
        "Mat(({0, 1, 2}, {0, 1, 2}), {(0, 1): 0, (1, 2): 0, (0, 0): 0, (2, 0): 0, (1, 0): 0, (2, 2): 0, (0, 2): 0, (2, 1): 0, (1, 1): 0})"
       ]
      }
     ],
     "prompt_number": 12
    },
    {
     "cell_type": "code",
     "collapsed": false,
     "input": [
      "# Task 5\n",
      "def find_error(syndrome):\n",
      "    \"\"\"\n",
      "    Input: an error syndrome as an instance of Vec\n",
      "    Output: the corresponding error vector e\n",
      "    Examples:\n",
      "        >>> find_error(Vec({0,1,2}, {0:one})) == Vec({0, 1, 2, 3, 4, 5, 6},{3: one})\n",
      "        True\n",
      "        >>> find_error(Vec({0,1,2}, {2:one})) == Vec({0, 1, 2, 3, 4, 5, 6},{0: one})\n",
      "        True\n",
      "        >>> find_error(Vec({0,1,2}, {1:one, 2:one})) == Vec({0, 1, 2, 3, 4, 5, 6},{2: one})   \n",
      "        True\n",
      "        >>> find_error(Vec({0,1,2}, {})) == Vec({0,1,2,3,4,5,6}, {})\n",
      "        True\n",
      "    \"\"\"\n",
      "    _e1=Vec({0,1,2},{0:one}); _e2=Vec({0,1,2},{1:one}); _e3=Vec({0,1,2},{2:one})\n",
      "    \n",
      "    #    dct={}, keys=syndrome, val= Vec_e\n",
      "    dct={_e3:Vec({0,1,2,3,4,5,6},{0:one}), _e2:Vec({0,1,2,3,4,5,6},{1:one}), _e2+_e3:Vec({0,1,2,3,4,5,6},{2:one}),\n",
      "         _e1:Vec({0,1,2,3,4,5,6},{3:one}), _e1+_e3:Vec({0,1,2,3,4,5,6},{4:one}), _e1+_e2:Vec({0,1,2,3,4,5,6},{5:one}),\n",
      "         _e1+_e2+_e3:Vec({0,1,2,3,4,5,6},{6:one})}\n",
      "    \n",
      "    return dct[syndrome] if syndrome in dct.keys() else Vec({0,1,2,3,4,5,6}, {})"
     ],
     "language": "python",
     "metadata": {},
     "outputs": [],
     "prompt_number": 13
    },
    {
     "cell_type": "code",
     "collapsed": false,
     "input": [
      "find_error(Vec({0,1,2}, {0:one})) == Vec({0, 1, 2, 3, 4, 5, 6},{3: one})"
     ],
     "language": "python",
     "metadata": {},
     "outputs": [
      {
       "metadata": {},
       "output_type": "pyout",
       "prompt_number": 14,
       "text": [
        "True"
       ]
      }
     ],
     "prompt_number": 14
    },
    {
     "cell_type": "code",
     "collapsed": false,
     "input": [
      "find_error(Vec({0,1,2}, {2:one})) == Vec({0, 1, 2, 3, 4, 5, 6},{0: one})"
     ],
     "language": "python",
     "metadata": {},
     "outputs": [
      {
       "metadata": {},
       "output_type": "pyout",
       "prompt_number": 15,
       "text": [
        "True"
       ]
      }
     ],
     "prompt_number": 15
    },
    {
     "cell_type": "code",
     "collapsed": false,
     "input": [
      "find_error(Vec({0,1,2}, {1:one, 2:one})) == Vec({0, 1, 2, 3, 4, 5, 6},{2: one}) "
     ],
     "language": "python",
     "metadata": {},
     "outputs": [
      {
       "metadata": {},
       "output_type": "pyout",
       "prompt_number": 16,
       "text": [
        "True"
       ]
      }
     ],
     "prompt_number": 16
    },
    {
     "cell_type": "code",
     "collapsed": false,
     "input": [
      "find_error(Vec({0,1,2}, {})) == Vec({0,1,2,3,4,5,6}, {})"
     ],
     "language": "python",
     "metadata": {},
     "outputs": [
      {
       "metadata": {},
       "output_type": "pyout",
       "prompt_number": 17,
       "text": [
        "True"
       ]
      }
     ],
     "prompt_number": 17
    },
    {
     "cell_type": "code",
     "collapsed": false,
     "input": [
      "# Task 6\n",
      "non_codeword=Vec({0,1,2,3,4,5,6},{0:one, 2:one, 3:one, 5:one, 6:one})\n",
      "error_vector=find_error(H*non_codeword)\n",
      "code_word=non_codeword+error_vector\n",
      "original=R*code_word"
     ],
     "language": "python",
     "metadata": {},
     "outputs": [],
     "prompt_number": 18
    },
    {
     "cell_type": "code",
     "collapsed": false,
     "input": [
      "error_vector"
     ],
     "language": "python",
     "metadata": {},
     "outputs": [
      {
       "metadata": {},
       "output_type": "pyout",
       "prompt_number": 19,
       "text": [
        "Vec({0, 1, 2, 3, 4, 5, 6},{6: one})"
       ]
      }
     ],
     "prompt_number": 19
    },
    {
     "cell_type": "code",
     "collapsed": false,
     "input": [
      "code_word"
     ],
     "language": "python",
     "metadata": {},
     "outputs": [
      {
       "metadata": {},
       "output_type": "pyout",
       "prompt_number": 20,
       "text": [
        "Vec({0, 1, 2, 3, 4, 5, 6},{0: one, 2: one, 3: one, 5: one, 6: 0})"
       ]
      }
     ],
     "prompt_number": 20
    },
    {
     "cell_type": "code",
     "collapsed": false,
     "input": [
      "original"
     ],
     "language": "python",
     "metadata": {},
     "outputs": [
      {
       "metadata": {},
       "output_type": "pyout",
       "prompt_number": 21,
       "text": [
        "Vec({0, 1, 2, 3},{0: 0, 1: one, 2: 0, 3: one})"
       ]
      }
     ],
     "prompt_number": 21
    },
    {
     "cell_type": "code",
     "collapsed": false,
     "input": [
      "## Task 7\n",
      "def find_error_matrix(S):\n",
      "    \"\"\"\n",
      "    Input: a matrix S whose columns are error syndromes\n",
      "    Output: a matrix whose c-th column is the error corresponding to the c-th column of S.\n",
      "    Example:\n",
      "        >>> S = listlist2mat([[0,one,one,one],[0,one,0,0],[0,0,0,one]])\n",
      "        >>> find_error_matrix(S) == Mat(({0, 1, 2, 3, 4, 5, 6}, {0, 1, 2, 3}), {(1, 3): 0, (3, 0): 0, (2, 1): 0, (6, 2): 0, (5, 1): one, (0, 3): 0, (4, 0): 0, (1, 2): 0, (3, 3): 0, (6, 3): 0, (5, 0): 0, (2, 2): 0, (4, 1): 0, (1, 1): 0, (3, 2): one, (0, 0): 0, (6, 0): 0, (2, 3): 0, (4, 2): 0, (1, 0): 0, (5, 3): 0, (0, 1): 0, (6, 1): 0, (3, 1): 0, (2, 0): 0, (4, 3): one, (5, 2): 0, (0, 2): 0})\n",
      "        True\n",
      "    \"\"\"\n",
      "    from matutil import mat2coldict, coldict2mat, listlist2mat\n",
      "    return coldict2mat({k:find_error(v) for k,v in mat2coldict(S).items()})"
     ],
     "language": "python",
     "metadata": {},
     "outputs": [],
     "prompt_number": 22
    },
    {
     "cell_type": "code",
     "collapsed": false,
     "input": [
      "S = listlist2mat([[0,one,one,one],[0,one,0,0],[0,0,0,one]])\n",
      "find_error_matrix(S) == Mat(({0, 1, 2, 3, 4, 5, 6}, {0, 1, 2, 3}), {(1, 3): 0, (3, 0): 0, (2, 1): 0, (6, 2): 0, (5, 1): one, (0, 3): 0, (4, 0): 0, (1, 2): 0, (3, 3): 0, (6, 3): 0, (5, 0): 0, (2, 2): 0, (4, 1): 0, (1, 1): 0, (3, 2): one, (0, 0): 0, (6, 0): 0, (2, 3): 0, (4, 2): 0, (1, 0): 0, (5, 3): 0, (0, 1): 0, (6, 1): 0, (3, 1): 0, (2, 0): 0, (4, 3): one, (5, 2): 0, (0, 2): 0})"
     ],
     "language": "python",
     "metadata": {},
     "outputs": [
      {
       "metadata": {},
       "output_type": "pyout",
       "prompt_number": 25,
       "text": [
        "True"
       ]
      }
     ],
     "prompt_number": 25
    },
    {
     "cell_type": "code",
     "collapsed": false,
     "input": [
      "import bitutil"
     ],
     "language": "python",
     "metadata": {},
     "outputs": [],
     "prompt_number": 26
    },
    {
     "cell_type": "code",
     "collapsed": false,
     "input": [
      "#s = ''.join([chr(i) for i in range(256)])\n",
      "s=\"a\"\n",
      "bits=bitutil.str2bits(s)\n",
      "print (bits)"
     ],
     "language": "python",
     "metadata": {},
     "outputs": [
      {
       "output_type": "stream",
       "stream": "stdout",
       "text": [
        "[one, 0, 0, 0, 0, one, one, 0]\n"
       ]
      }
     ],
     "prompt_number": 35
    },
    {
     "cell_type": "code",
     "collapsed": false,
     "input": [
      "print (bitutil.bits2str(bits))"
     ],
     "language": "python",
     "metadata": {},
     "outputs": [
      {
       "output_type": "stream",
       "stream": "stdout",
       "text": [
        "a\n"
       ]
      }
     ],
     "prompt_number": 36
    },
    {
     "cell_type": "code",
     "collapsed": false,
     "input": [
      "P=bitutil.bits2mat(bits)\n",
      "print (P)"
     ],
     "language": "python",
     "metadata": {},
     "outputs": [
      {
       "output_type": "stream",
       "stream": "stdout",
       "text": [
        "\n",
        "         0   1\n",
        "     ---------\n",
        " 0  |  one   0\n",
        " 1  |    0 one\n",
        " 2  |    0 one\n",
        " 3  |    0   0\n",
        "\n"
       ]
      }
     ],
     "prompt_number": 39
    },
    {
     "cell_type": "code",
     "collapsed": false,
     "input": [
      "print (bitutil.mat2bits(P))"
     ],
     "language": "python",
     "metadata": {},
     "outputs": [
      {
       "output_type": "stream",
       "stream": "stdout",
       "text": [
        "[one, 0, 0, 0, 0, one, one, 0]\n"
       ]
      }
     ],
     "prompt_number": 40
    },
    {
     "cell_type": "code",
     "collapsed": false,
     "input": [
      "# Task 8\n",
      "string=\"I'm trying to free your mind, Neo. But I can only show you the door. You're the one that has to walk through it.\"\n",
      "bits_list1=bitutil.str2bits(string)\n",
      "P=bitutil.bits2mat(bits_list1)\n",
      "#P"
     ],
     "language": "python",
     "metadata": {},
     "outputs": [],
     "prompt_number": 67
    },
    {
     "cell_type": "code",
     "collapsed": false,
     "input": [
      "# error generated over a random noisy channel\n",
      "E=bitutil.noise(P,0.02)"
     ],
     "language": "python",
     "metadata": {},
     "outputs": [],
     "prompt_number": 44
    },
    {
     "cell_type": "code",
     "collapsed": false,
     "input": [
      "bitutil.bits2str(bitutil.mat2bits(P+E)) # convert back to string the message + noise to see interference"
     ],
     "language": "python",
     "metadata": {},
     "outputs": [
      {
       "metadata": {},
       "output_type": "pyout",
       "prompt_number": 45,
       "text": [
        "\"I#m tryynG to FrEe\\xa0your mind, Neo. Bu| I can\\x00\u00efnly show you thq$door. YoU're pje one that\\xa0has to walk \u00f4hrough it.\""
       ]
      }
     ],
     "prompt_number": 45
    },
    {
     "cell_type": "code",
     "collapsed": false,
     "input": [
      "#Task 9\n",
      "##  Encode the words represented by the columns of the matrix P , obtaining a matrix C\n",
      "C=G*P\n",
      "bits_before= bitutil.mat2bits(P)\n",
      "bits_after=bitutil.mat2bits(C)\n",
      "print (\"bits before encoding= %s; bits after encoding=%s\" %(len(bits_before),len(bits_after)))"
     ],
     "language": "python",
     "metadata": {},
     "outputs": [
      {
       "output_type": "stream",
       "stream": "stdout",
       "text": [
        "bits before encoding= 896; bits after encoding=1568\n"
       ]
      }
     ],
     "prompt_number": 61
    },
    {
     "cell_type": "code",
     "collapsed": false,
     "input": [
      "#C"
     ],
     "language": "python",
     "metadata": {},
     "outputs": [],
     "prompt_number": 66
    },
    {
     "cell_type": "code",
     "collapsed": false,
     "input": [
      "Enoise=bitutil.noise(C,0.02)\n",
      "CTILDE=C+Enoise"
     ],
     "language": "python",
     "metadata": {},
     "outputs": [],
     "prompt_number": 81
    },
    {
     "cell_type": "code",
     "collapsed": false,
     "input": [
      "#CTILDE"
     ],
     "language": "python",
     "metadata": {},
     "outputs": [],
     "prompt_number": 65
    },
    {
     "cell_type": "code",
     "collapsed": false,
     "input": [
      "## Task 10\n",
      "def correct(A):\n",
      "    \"\"\"\n",
      "    Input: a matrix A each column of which differs from a codeword in at most one bit\n",
      "    Output: a matrix whose columns are the corresponding valid codewords.\n",
      "    Example:\n",
      "        >>> A = Mat(({0,1,2,3,4,5,6}, {1,2,3}), {(0,3):one, (2, 1): one, (5, 2):one, (5,3):one, (0,2): one})\n",
      "        >>> correct(A) == Mat(({0, 1, 2, 3, 4, 5, 6}, {1, 2, 3}), {(0, 1): 0, (1, 2): 0, (3, 2): 0, (1, 3): 0, \n",
      "        (3, 3): 0, (5, 2): one, (6, 1): 0, (3, 1): 0, (2, 1): 0, (0, 2): one, (6, 3): one, (4, 2): 0, (6, 2): one, \n",
      "        (2, 3): 0, (4, 3): 0, (2, 2): 0, (5, 1): 0, (0, 3): one, (4, 1): 0, (1, 1): 0, (5, 3): one})\n",
      "        True\n",
      "    \"\"\"\n",
      "    # H*A error syndromes\n",
      "    # error_matrix=find_error_matrix(H*A)\n",
      "    # code_matrix=non_code_matrix(ie A)+error_matrix\n",
      "    return find_error_matrix(H*A)+A"
     ],
     "language": "python",
     "metadata": {},
     "outputs": [],
     "prompt_number": 68
    },
    {
     "cell_type": "code",
     "collapsed": false,
     "input": [
      "A = Mat(({0,1,2,3,4,5,6}, {1,2,3}), {(0,3):one, (2, 1): one, (5, 2):one, (5,3):one, (0,2): one})\n",
      "correct(A) == Mat(({0, 1, 2, 3, 4, 5, 6}, {1, 2, 3}), {(0, 1): 0, (1, 2): 0, (3, 2): 0, (1, 3): 0, \n",
      "        (3, 3): 0, (5, 2): one, (6, 1): 0, (3, 1): 0, (2, 1): 0, (0, 2): one, (6, 3): one, (4, 2): 0, (6, 2): one, \n",
      "        (2, 3): 0, (4, 3): 0, (2, 2): 0, (5, 1): 0, (0, 3): one, (4, 1): 0, (1, 1): 0, (5, 3): one})"
     ],
     "language": "python",
     "metadata": {},
     "outputs": [
      {
       "metadata": {},
       "output_type": "pyout",
       "prompt_number": 69,
       "text": [
        "True"
       ]
      }
     ],
     "prompt_number": 69
    },
    {
     "cell_type": "code",
     "collapsed": false,
     "input": [
      "matrix_of_codewords=correct(CTILDE)\n",
      "decoded_matrix=R*matrix_of_codewords"
     ],
     "language": "python",
     "metadata": {},
     "outputs": [],
     "prompt_number": 71
    },
    {
     "cell_type": "code",
     "collapsed": false,
     "input": [
      "bitutil.bits2str(bitutil.mat2bits(decoded_matrix))"
     ],
     "language": "python",
     "metadata": {},
     "outputs": [
      {
       "metadata": {},
       "output_type": "pyout",
       "prompt_number": 82,
       "text": [
        "\"I'm trying to free your min\u00f4, Neo. But I can`only show you the door. You're the one that has to wa<k throug\u00f8 it.\""
       ]
      }
     ],
     "prompt_number": 82
    },
    {
     "cell_type": "code",
     "collapsed": false,
     "input": [],
     "language": "python",
     "metadata": {},
     "outputs": []
    }
   ],
   "metadata": {}
  }
 ]
}