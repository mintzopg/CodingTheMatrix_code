{
 "cells": [
  {
   "cell_type": "code",
   "execution_count": 1,
   "metadata": {
    "collapsed": true
   },
   "outputs": [],
   "source": [
    "from GF2 import one\n",
    "from math import sqrt, pi\n",
    "from matutil import coldict2mat\n",
    "from matutil import rowdict2mat\n",
    "from solver import solve\n",
    "from vec import Vec\n",
    "from vecutil import list2vec"
   ]
  },
  {
   "cell_type": "markdown",
   "metadata": {},
   "source": [
    "###  Problem 4"
   ]
  },
  {
   "cell_type": "markdown",
   "metadata": {},
   "source": [
    "#####  Span of Vectors over GF(2)"
   ]
  },
  {
   "cell_type": "code",
   "execution_count": 2,
   "metadata": {
    "collapsed": true
   },
   "outputs": [],
   "source": [
    "v1= list2vec([one, one, 0, 0, 0, 0, 0, 0])\n",
    "v2= list2vec([0, one, one, 0, 0, 0, 0, 0])\n",
    "v3= list2vec([one, 0, 0, one, 0, 0, 0, 0])\n",
    "v4= list2vec([0, one, 0, 0, one, 0, 0, 0])\n",
    "v5= list2vec([0, 0, one, 0, one, 0, 0, 0])\n",
    "v6= list2vec([0, 0, 0, one, one, 0, 0, 0])\n",
    "v7= list2vec([0, 0, 0, 0, 0, one, 0, one])\n",
    "v8= list2vec([0, 0, 0, 0, 0, 0, one, one])"
   ]
  },
  {
   "cell_type": "code",
   "execution_count": 3,
   "metadata": {
    "collapsed": false
   },
   "outputs": [
    {
     "name": "stdout",
     "output_type": "stream",
     "text": [
      "\n",
      "         0   1   2   3   4   5   6   7\n",
      "     ---------------------------------\n",
      " 0  |  one   0 one   0   0   0   0   0\n",
      " 1  |  one one   0 one   0   0   0   0\n",
      " 2  |    0 one   0   0 one   0   0   0\n",
      " 3  |    0   0 one   0   0 one   0   0\n",
      " 4  |    0   0   0 one one one   0   0\n",
      " 5  |    0   0   0   0   0   0 one   0\n",
      " 6  |    0   0   0   0   0   0   0 one\n",
      " 7  |    0   0   0   0   0   0 one one\n",
      "\n"
     ]
    }
   ],
   "source": [
    "A=coldict2mat([v1, v2, v3, v4, v5, v6, v7, v8]) \n",
    "# Given a dictionary or list whose values are Vecs, returns the Mat having these Vecs as its columns. \n",
    "print (A)"
   ]
  },
  {
   "cell_type": "code",
   "execution_count": 4,
   "metadata": {
    "collapsed": false
   },
   "outputs": [],
   "source": [
    "a= list2vec([0, 0, one, one, 0, 0, 0, 0])\n",
    "b= list2vec([0, 0, 0, 0, 0, one, one, 0])\n",
    "c= list2vec([one, 0, 0, 0, one, 0, 0, 0])\n",
    "d= list2vec([0, one, 0, one, 0, 0, 0, 0])"
   ]
  },
  {
   "cell_type": "code",
   "execution_count": 5,
   "metadata": {
    "collapsed": false
   },
   "outputs": [],
   "source": [
    "x_a = solve(A, a)\n",
    "x_b = solve(A, b)\n",
    "x_c = solve(A, c)\n",
    "x_d = solve(A, d)"
   ]
  },
  {
   "cell_type": "code",
   "execution_count": 6,
   "metadata": {
    "collapsed": false
   },
   "outputs": [
    {
     "name": "stdout",
     "output_type": "stream",
     "text": [
      "\n",
      "   0   1   2 3 4 5 6 7\n",
      "----------------------\n",
      " one one one 0 0 0 0 0\n"
     ]
    }
   ],
   "source": [
    "print (x_a)"
   ]
  },
  {
   "cell_type": "code",
   "execution_count": 7,
   "metadata": {
    "collapsed": false
   },
   "outputs": [
    {
     "name": "stdout",
     "output_type": "stream",
     "text": [
      "\n",
      " 0 1 2 3 4 5   6   7\n",
      "--------------------\n",
      " 0 0 0 0 0 0 one one\n"
     ]
    }
   ],
   "source": [
    "print (x_b)"
   ]
  },
  {
   "cell_type": "code",
   "execution_count": 8,
   "metadata": {
    "collapsed": false
   },
   "outputs": [
    {
     "name": "stdout",
     "output_type": "stream",
     "text": [
      "\n",
      "   0 1 2   3 4 5 6 7\n",
      "--------------------\n",
      " one 0 0 one 0 0 0 0\n"
     ]
    }
   ],
   "source": [
    "print (x_c)"
   ]
  },
  {
   "cell_type": "code",
   "execution_count": 9,
   "metadata": {
    "collapsed": false
   },
   "outputs": [
    {
     "name": "stdout",
     "output_type": "stream",
     "text": [
      "\n",
      "   0 1   2 3 4 5 6 7\n",
      "--------------------\n",
      " one 0 one 0 0 0 0 0\n"
     ]
    }
   ],
   "source": [
    "print (x_d)"
   ]
  },
  {
   "cell_type": "markdown",
   "metadata": {},
   "source": [
    "####  Problem 5"
   ]
  },
  {
   "cell_type": "markdown",
   "metadata": {},
   "source": [
    "#####   Linear Dependence over R"
   ]
  },
  {
   "cell_type": "code",
   "execution_count": 10,
   "metadata": {
    "collapsed": false
   },
   "outputs": [
    {
     "name": "stdout",
     "output_type": "stream",
     "text": [
      "\n",
      "       0 1  2\n",
      "     --------\n",
      " 0  |  1 2  0\n",
      " 1  |  2 4  0\n",
      " 2  |  0 1 -1\n",
      "\n"
     ]
    }
   ],
   "source": [
    "A1= coldict2mat([list2vec([1, 2, 0]), list2vec([2, 4, 1]), list2vec([0, 0, -1])])\n",
    "print (A1)"
   ]
  },
  {
   "cell_type": "code",
   "execution_count": 11,
   "metadata": {
    "collapsed": false
   },
   "outputs": [
    {
     "name": "stdout",
     "output_type": "stream",
     "text": [
      "\n",
      " 0 1 2\n",
      "------\n",
      " 0 0 0\n"
     ]
    }
   ],
   "source": [
    "print (solve(A1, Vec({0,1,2}, {})))"
   ]
  },
  {
   "cell_type": "code",
   "execution_count": 12,
   "metadata": {
    "collapsed": false
   },
   "outputs": [
    {
     "name": "stdout",
     "output_type": "stream",
     "text": [
      "\n",
      "       0  1 2\n",
      "     --------\n",
      " 0  |  2  8 0\n",
      " 1  |  4 16 0\n",
      " 2  |  0  4 7\n",
      "\n"
     ]
    }
   ],
   "source": [
    "A2= coldict2mat([list2vec([2, 4, 0]), list2vec([8, 16, 4]), list2vec([0, 0, 7])])\n",
    "print (A2)"
   ]
  },
  {
   "cell_type": "code",
   "execution_count": 13,
   "metadata": {
    "collapsed": false
   },
   "outputs": [
    {
     "name": "stdout",
     "output_type": "stream",
     "text": [
      "\n",
      " 0 1 2\n",
      "------\n",
      " 0 0 0\n"
     ]
    }
   ],
   "source": [
    "print (solve(A2, Vec({0,1,2}, {})))"
   ]
  },
  {
   "cell_type": "markdown",
   "metadata": {},
   "source": [
    "The solver can not pass the through the trivial case for this although a nontrivial solution exists"
   ]
  },
  {
   "cell_type": "markdown",
   "metadata": {},
   "source": [
    "##  Problem 12"
   ]
  },
  {
   "cell_type": "code",
   "execution_count": 14,
   "metadata": {
    "collapsed": false
   },
   "outputs": [],
   "source": [
    "from The_Vector_Space_problems import GF2_span\n",
    "Graph={'a', 'b', 'c', 'd', 'e', 'f', 'g', 'h'}\n",
    "v1 = Vec(Graph, {'a':one, 'b':one})\n",
    "v2 = Vec(Graph, {'b':one, 'c':one})\n",
    "v3 = Vec(Graph, {'a':one, 'd':one})\n",
    "v4 = Vec(Graph, {'b':one, 'e':one}) \n",
    "S = {v1, v2, v3, v4}\n",
    "#GF2_span(Graph, S)"
   ]
  },
  {
   "cell_type": "code",
   "execution_count": 15,
   "metadata": {
    "collapsed": false
   },
   "outputs": [
    {
     "data": {
      "text/plain": [
       "{Vec({'a', 'h', 'f', 'c', 'g', 'd', 'b', 'e'},{'b': one, 'c': one}),\n",
       " Vec({'a', 'h', 'f', 'c', 'g', 'd', 'b', 'e'},{'b': one, 'a': one}),\n",
       " Vec({'a', 'h', 'f', 'c', 'g', 'd', 'b', 'e'},{'b': one, 'e': one}),\n",
       " Vec({'a', 'h', 'f', 'c', 'g', 'd', 'b', 'e'},{'d': one, 'a': one})}"
      ]
     },
     "execution_count": 15,
     "metadata": {},
     "output_type": "execute_result"
    }
   ],
   "source": [
    "S"
   ]
  },
  {
   "cell_type": "code",
   "execution_count": 16,
   "metadata": {
    "collapsed": false
   },
   "outputs": [],
   "source": [
    "# (a)\n",
    "#S = {v1, v2, v3, v4} # strart with the original set\n",
    "A = {v1, v4}\n",
    "S_A = {v2, v3}\n",
    "z = Vec(Graph, {'d':one, 'e':one})\n",
    "S_union_z = S.union({z})\n",
    "\n",
    "# case 1: w = v2\n",
    "w = v2\n",
    "S_union_z_minus_w = S_union_z.difference({w})\n",
    "# print the sets"
   ]
  },
  {
   "cell_type": "code",
   "execution_count": 17,
   "metadata": {
    "collapsed": false
   },
   "outputs": [
    {
     "data": {
      "text/plain": [
       "{Vec({'a', 'h', 'f', 'c', 'g', 'd', 'b', 'e'},{'b': one, 'e': one}),\n",
       " Vec({'a', 'h', 'f', 'c', 'g', 'd', 'b', 'e'},{'d': one, 'a': one}),\n",
       " Vec({'a', 'h', 'f', 'c', 'g', 'd', 'b', 'e'},{'d': one, 'e': one}),\n",
       " Vec({'a', 'h', 'f', 'c', 'g', 'd', 'b', 'e'},{'b': one, 'c': one}),\n",
       " Vec({'a', 'h', 'f', 'c', 'g', 'd', 'b', 'e'},{'b': one, 'a': one})}"
      ]
     },
     "execution_count": 17,
     "metadata": {},
     "output_type": "execute_result"
    }
   ],
   "source": [
    "S_union_z"
   ]
  },
  {
   "cell_type": "code",
   "execution_count": 18,
   "metadata": {
    "collapsed": false
   },
   "outputs": [
    {
     "data": {
      "text/plain": [
       "{Vec({'a', 'h', 'f', 'c', 'g', 'd', 'b', 'e'},{'d': one, 'e': one}),\n",
       " Vec({'a', 'h', 'f', 'c', 'g', 'd', 'b', 'e'},{'b': one, 'a': one}),\n",
       " Vec({'a', 'h', 'f', 'c', 'g', 'd', 'b', 'e'},{'b': one, 'e': one}),\n",
       " Vec({'a', 'h', 'f', 'c', 'g', 'd', 'b', 'e'},{'d': one, 'a': one})}"
      ]
     },
     "execution_count": 18,
     "metadata": {},
     "output_type": "execute_result"
    }
   ],
   "source": [
    "S_union_z_minus_w"
   ]
  },
  {
   "cell_type": "code",
   "execution_count": 19,
   "metadata": {
    "collapsed": false
   },
   "outputs": [
    {
     "data": {
      "text/plain": [
       "False"
      ]
     },
     "execution_count": 19,
     "metadata": {},
     "output_type": "execute_result"
    }
   ],
   "source": [
    "GF2_span(Graph, S) == GF2_span(Graph, S_union_z_minus_w)"
   ]
  },
  {
   "cell_type": "code",
   "execution_count": 20,
   "metadata": {
    "collapsed": true
   },
   "outputs": [],
   "source": [
    "# case 2: w = v2\n",
    "w = v3\n",
    "S_union_z_minus_w = S_union_z.difference({w})"
   ]
  },
  {
   "cell_type": "code",
   "execution_count": 21,
   "metadata": {
    "collapsed": false
   },
   "outputs": [
    {
     "data": {
      "text/plain": [
       "True"
      ]
     },
     "execution_count": 21,
     "metadata": {},
     "output_type": "execute_result"
    }
   ],
   "source": [
    "GF2_span(Graph, S) == GF2_span(Graph, S_union_z_minus_w)"
   ]
  },
  {
   "cell_type": "markdown",
   "metadata": {},
   "source": [
    "In this case w = v3"
   ]
  },
  {
   "cell_type": "code",
   "execution_count": 22,
   "metadata": {
    "collapsed": false
   },
   "outputs": [
    {
     "data": {
      "text/plain": [
       "True"
      ]
     },
     "execution_count": 22,
     "metadata": {},
     "output_type": "execute_result"
    }
   ],
   "source": [
    "# (b)\n",
    "A = {v2, v3}\n",
    "#S_A = S.difference(A)\n",
    "S_A = {v1, v4} # do it like this to remember what vectors are in S_A\n",
    "z = Vec(Graph, {'c':one, 'd':one})\n",
    "S_union_z = S.union({z})\n",
    "\n",
    "# case 1: w = v1\n",
    "w = v1\n",
    "S_union_z_minus_w = S_union_z.difference({w})\n",
    "GF2_span(Graph, S) == GF2_span(Graph, S_union_z_minus_w)"
   ]
  },
  {
   "cell_type": "markdown",
   "metadata": {},
   "source": [
    "In this case w = v1"
   ]
  },
  {
   "cell_type": "code",
   "execution_count": 23,
   "metadata": {
    "collapsed": false
   },
   "outputs": [
    {
     "data": {
      "text/plain": [
       "True"
      ]
     },
     "execution_count": 23,
     "metadata": {},
     "output_type": "execute_result"
    }
   ],
   "source": [
    "# (c)\n",
    "A = {v2, v3}\n",
    "S_A = {v1, v4}\n",
    "z = Vec(Graph, {'a':one, 'e':one})\n",
    "S_union_z = S.union({z})\n",
    "\n",
    "# case 1: w = v1\n",
    "w = v1\n",
    "S_union_z_minus_w = S_union_z.difference({w})\n",
    "GF2_span(Graph, S) == GF2_span(Graph, S_union_z_minus_w)"
   ]
  },
  {
   "cell_type": "markdown",
   "metadata": {},
   "source": [
    "In this case w = v1 also"
   ]
  },
  {
   "cell_type": "code",
   "execution_count": 30,
   "metadata": {
    "collapsed": true
   },
   "outputs": [],
   "source": [
    "## 13: (Problem 13) rep2vec\n",
    "def rep2vec(u, veclist):\n",
    "    '''\n",
    "    Input:\n",
    "        - u: a Vec whose domain is set(range(len(veclist)))\n",
    "        - veclist: a list of Vecs\n",
    "    Output:\n",
    "        the Vec whose coordinate representation is u\n",
    "        (i.e u[0] is the coefficient of veclist[0], u[1] is the coefficient of veclist[1], etc.)\n",
    "    Example:\n",
    "        >>> v0 = Vec({'a','b','c','d'}, {'a':1})\n",
    "        >>> v1 = Vec({'a','b','c','d'}, {'a':1, 'b':2})\n",
    "        >>> v2 = Vec({'a','b','c','d'}, {'c':4, 'd':8})\n",
    "        >>> rep2vec(Vec({0,1,2}, {0:2, 1:4, 2:6}), [v0,v1,v2]) == Vec({'d', 'a', 'c', 'b'},{'a': 6, 'c': 24, 'b': 8, 'd': 48})\n",
    "        True\n",
    "        >>> rep2vec(Vec({0,1,2}, {0:2, 1:4}), [v0, v1, v2]) == Vec({'d', 'a', 'c', 'b'},{'a': 6, 'c': 0, 'b': 8, 'd': 0})\n",
    "        True\n",
    "    '''\n",
    "    return u*rowdict2mat(veclist)\n",
    "    "
   ]
  },
  {
   "cell_type": "code",
   "execution_count": 31,
   "metadata": {
    "collapsed": false
   },
   "outputs": [
    {
     "data": {
      "text/plain": [
       "True"
      ]
     },
     "execution_count": 31,
     "metadata": {},
     "output_type": "execute_result"
    }
   ],
   "source": [
    "v0 = Vec({'a','b','c','d'}, {'a':1})\n",
    "v1 = Vec({'a','b','c','d'}, {'a':1, 'b':2})\n",
    "v2 = Vec({'a','b','c','d'}, {'c':4, 'd':8})\n",
    "rep2vec(Vec({0,1,2}, {0:2, 1:4, 2:6}), [v0,v1,v2]) == Vec({'d', 'a', 'c', 'b'},{'a': 6, 'c': 24, 'b': 8, 'd': 48})"
   ]
  },
  {
   "cell_type": "code",
   "execution_count": 32,
   "metadata": {
    "collapsed": false
   },
   "outputs": [
    {
     "data": {
      "text/plain": [
       "True"
      ]
     },
     "execution_count": 32,
     "metadata": {},
     "output_type": "execute_result"
    }
   ],
   "source": [
    "rep2vec(Vec({0,1,2}, {0:2, 1:4}), [v0, v1, v2]) == Vec({'d', 'a', 'c', 'b'},{'a': 6, 'c': 0, 'b': 8, 'd': 0})"
   ]
  },
  {
   "cell_type": "code",
   "execution_count": 2,
   "metadata": {
    "collapsed": true
   },
   "outputs": [],
   "source": [
    "## 14: (Problem 14) vec2rep\n",
    "def vec2rep(veclist, v):\n",
    "    '''\n",
    "    Input:\n",
    "        - veclist: a list of Vecs\n",
    "        - v: a Vec in the span of set(veclist)\n",
    "    Output:\n",
    "        the Vec u whose domain is set(range(len(veclist))) that is the coordinate representation of v with respect to veclist\n",
    "    Example:\n",
    "        >>> v0 = Vec({'a','b','c','d'}, {'a':2})\n",
    "        >>> v1 = Vec({'a','b','c','d'}, {'a': 16, 'b':4})\n",
    "        >>> v2 = Vec({'a','b','c','d'}, {'c':8})\n",
    "        >>> v = Vec({'d', 'a', 'c', 'b'},{'a': -1, 'c': 10, 'b': -1})\n",
    "        >>> vec2rep([v0,v1,v2], v)  == Vec({0, 1, 2},{0: 1.5, 1: -0.25, 2: 1.25})\n",
    "        True\n",
    "    '''\n",
    "    return solve(coldict2mat(veclist), v)"
   ]
  },
  {
   "cell_type": "code",
   "execution_count": 3,
   "metadata": {
    "collapsed": false
   },
   "outputs": [
    {
     "data": {
      "text/plain": [
       "True"
      ]
     },
     "execution_count": 3,
     "metadata": {},
     "output_type": "execute_result"
    }
   ],
   "source": [
    "v0 = Vec({'a','b','c','d'}, {'a':2})\n",
    "v1 = Vec({'a','b','c','d'}, {'a': 16, 'b':4})\n",
    "v2 = Vec({'a','b','c','d'}, {'c':8})\n",
    "v = Vec({'d', 'a', 'c', 'b'},{'a': -1, 'c': 10, 'b': -1})\n",
    "vec2rep([v0,v1,v2], v)  == Vec({0, 1, 2},{0: 1.5, 1: -0.25, 2: 1.25})"
   ]
  },
  {
   "cell_type": "code",
   "execution_count": 122,
   "metadata": {
    "collapsed": true
   },
   "outputs": [],
   "source": [
    "## 15: (Problem 15) Superfluous Vector in Python\n",
    "def is_superfluous(S, v):\n",
    "    '''\n",
    "    Input:\n",
    "        - S: set of vectors as instances of Vec class\n",
    "        - v: vector in S as instance of Vec class\n",
    "    Output:\n",
    "        True if the span of the vectors of S is the same\n",
    "        as the span of the vectors of S, excluding v.\n",
    "\n",
    "        False otherwise.\n",
    "    Examples:\n",
    "    >>> from vec import Vec\n",
    "    >>> D={'a','b','c','d'}\n",
    "    >>> S = {Vec(D, {'a':1,'b':-1}), Vec(D, {'c':-1,'b':1}), Vec(D, {'c':1,'d':-1}), Vec(D, {'a':-1,'d':1}), Vec(D, {'b':1, 'c':1, 'd':-1})}\n",
    "    >>> is_superfluous(S,Vec(D, {'b':1, 'c':1, 'd':-1}))\n",
    "    False\n",
    "    >>> is_superfluous(S,Vec(D, {'a':-1,'d':1}))\n",
    "    True\n",
    "    >>> is_superfluous(S,Vec(D, {'c':1,'d':-1}))\n",
    "    True\n",
    "    >>> S == {Vec(D,{'a':1,'b':-1}),Vec(D,{'c':-1,'b':1}),Vec(D,{'c':1,'d':-1}),Vec(D, {'a':-1,'d':1}),Vec(D,{'b':1, 'c':1, 'd':-1})}\n",
    "    True\n",
    "    >>> is_superfluous({Vec({0,1}, {})}, Vec({0,1}, {}))\n",
    "    True\n",
    "    >>> is_superfluous({Vec({0,1}, {0:1})}, Vec({0,1}, {0:1}))\n",
    "    False\n",
    "    >>> from GF2 import one\n",
    "    >>> from vecutil import list2vec\n",
    "    >>> S = {list2vec(v) for v in [[one,0,0,0],[0,one,0,0],[0,0,one,0],[0,0,0,one],[one,one,one,0]]}\n",
    "    >>> is_superfluous(S, list2vec([one,0,0,0]))\n",
    "    True\n",
    "    >>> is_superfluous(S, list2vec([one,one,one,0]))\n",
    "    True\n",
    "    >>> is_superfluous(S, list2vec([0,0,0,one]))\n",
    "    False\n",
    "    '''\n",
    "    assert v in S\n",
    "    # if S has 1 element (S={v}, and v!={} then S-{}={} => False\n",
    "    # if S has 1 element (S={v}, and v={} then S-{}=S => True\n",
    "    if len(S) == 1 and len(v.f) !=0: return False\n",
    "    elif len(S) == 1 and len(v.f) ==0: return True\n",
    "      \n",
    "    # check if v ε S-{v} are linearly dependent => if there is a vector [a1,...,an] such that \n",
    "    ##  [v1 | v2 |...| -v |...| vn] *tr([a1 ... an]) = O has a non-trivial solution\n",
    "    A = coldict2mat(list(S-{v}))\n",
    "    u = solve(A, v)  # get the solution in vector u\n",
    "    # check if u is equal to zero or not: A*x=b, u a solution iff b-A*u is almost O\n",
    "    is_solution = (v-A*u).is_almost_zero() and (not u.is_almost_zero())\n",
    "    return is_solution\n",
    "    "
   ]
  },
  {
   "cell_type": "code",
   "execution_count": 123,
   "metadata": {
    "collapsed": false
   },
   "outputs": [
    {
     "data": {
      "text/plain": [
       "False"
      ]
     },
     "execution_count": 123,
     "metadata": {},
     "output_type": "execute_result"
    }
   ],
   "source": [
    "D={'a','b','c','d'}\n",
    "S = {Vec(D, {'a':1,'b':-1}), Vec(D, {'c':-1,'b':1}), Vec(D, {'c':1,'d':-1}), Vec(D, {'a':-1,'d':1}), Vec(D, {'b':1, 'c':1, 'd':-1})}\n",
    "is_superfluous(S,Vec(D, {'b':1, 'c':1, 'd':-1}))"
   ]
  },
  {
   "cell_type": "code",
   "execution_count": 124,
   "metadata": {
    "collapsed": false
   },
   "outputs": [
    {
     "data": {
      "text/plain": [
       "True"
      ]
     },
     "execution_count": 124,
     "metadata": {},
     "output_type": "execute_result"
    }
   ],
   "source": [
    "is_superfluous(S,Vec(D, {'a':-1,'d':1}))"
   ]
  },
  {
   "cell_type": "code",
   "execution_count": 125,
   "metadata": {
    "collapsed": false
   },
   "outputs": [
    {
     "data": {
      "text/plain": [
       "True"
      ]
     },
     "execution_count": 125,
     "metadata": {},
     "output_type": "execute_result"
    }
   ],
   "source": [
    "is_superfluous(S,Vec(D, {'c':1,'d':-1}))"
   ]
  },
  {
   "cell_type": "code",
   "execution_count": 126,
   "metadata": {
    "collapsed": false
   },
   "outputs": [
    {
     "data": {
      "text/plain": [
       "True"
      ]
     },
     "execution_count": 126,
     "metadata": {},
     "output_type": "execute_result"
    }
   ],
   "source": [
    "S == {Vec(D,{'a':1,'b':-1}),Vec(D,{'c':-1,'b':1}),Vec(D,{'c':1,'d':-1}),Vec(D, {'a':-1,'d':1}),Vec(D,{'b':1, 'c':1, 'd':-1})}"
   ]
  },
  {
   "cell_type": "code",
   "execution_count": 127,
   "metadata": {
    "collapsed": false
   },
   "outputs": [
    {
     "data": {
      "text/plain": [
       "True"
      ]
     },
     "execution_count": 127,
     "metadata": {},
     "output_type": "execute_result"
    }
   ],
   "source": [
    "is_superfluous({Vec({0,1}, {})}, Vec({0,1}, {}))"
   ]
  },
  {
   "cell_type": "code",
   "execution_count": 128,
   "metadata": {
    "collapsed": false
   },
   "outputs": [
    {
     "data": {
      "text/plain": [
       "False"
      ]
     },
     "execution_count": 128,
     "metadata": {},
     "output_type": "execute_result"
    }
   ],
   "source": [
    "is_superfluous({Vec({0,1}, {0:1})}, Vec({0,1}, {0:1}))"
   ]
  },
  {
   "cell_type": "code",
   "execution_count": 129,
   "metadata": {
    "collapsed": false
   },
   "outputs": [
    {
     "data": {
      "text/plain": [
       "True"
      ]
     },
     "execution_count": 129,
     "metadata": {},
     "output_type": "execute_result"
    }
   ],
   "source": [
    "S = {list2vec(v) for v in [[one,0,0,0],[0,one,0,0],[0,0,one,0],[0,0,0,one],[one,one,one,0]]}\n",
    "is_superfluous(S, list2vec([one,0,0,0]))"
   ]
  },
  {
   "cell_type": "code",
   "execution_count": 130,
   "metadata": {
    "collapsed": false
   },
   "outputs": [
    {
     "data": {
      "text/plain": [
       "True"
      ]
     },
     "execution_count": 130,
     "metadata": {},
     "output_type": "execute_result"
    }
   ],
   "source": [
    "is_superfluous(S, list2vec([one,one,one,0]))"
   ]
  },
  {
   "cell_type": "code",
   "execution_count": 131,
   "metadata": {
    "collapsed": false
   },
   "outputs": [
    {
     "data": {
      "text/plain": [
       "False"
      ]
     },
     "execution_count": 131,
     "metadata": {},
     "output_type": "execute_result"
    }
   ],
   "source": [
    "is_superfluous(S, list2vec([0,0,0,one]))"
   ]
  },
  {
   "cell_type": "code",
   "execution_count": 141,
   "metadata": {
    "collapsed": true
   },
   "outputs": [],
   "source": [
    "## 16: (Problem 16) is_independent in Python\n",
    "def is_independent(S):\n",
    "    '''\n",
    "    Input:\n",
    "        - S: a set of Vecs\n",
    "    Output:\n",
    "        - boolean: True if vectors in S are linearly independent\n",
    "    Examples:\n",
    "    >>> is_independent(set())\n",
    "    True\n",
    "    >>> is_independent({Vec({'a'},{})})\n",
    "    False\n",
    "    >>> is_independent({Vec({'a'},{'a':1})})\n",
    "    True\n",
    "    >>> is_independent({list2vec(v) for v in [[1,2,1],[2,1,2],[1,1,1]]})\n",
    "    False\n",
    "    >>> is_independent({list2vec(v) for v in [[1,2,1],[2,1,2],[1,1,0]]})\n",
    "    True\n",
    "    >>> from GF2 import one\n",
    "    >>> from vecutil import list2vec\n",
    "    >>> is_independent({list2vec(v) for v in [[one,one,0],[0,one,one],[one,0,one],[one,0,0]]})\n",
    "    False\n",
    "    >>> is_independent({list2vec(v) for v in [[one,one,0,0,0],[0,one,0,0,one],[0,0,one,one,0],[0,0,0,one,one],[one,0,0,0,one]]})\n",
    "    False\n",
    "    >>> is_independent({list2vec(v) for v in [[one,one,0,0,0],[0,one,one,0,0],[0,0,one,one,0],[0,0,0,one,one]]})\n",
    "    True\n",
    "    '''\n",
    "    \n",
    "    return False if any([is_superfluous(S, v) for v in S]) else True "
   ]
  },
  {
   "cell_type": "code",
   "execution_count": 142,
   "metadata": {
    "collapsed": false
   },
   "outputs": [
    {
     "data": {
      "text/plain": [
       "True"
      ]
     },
     "execution_count": 142,
     "metadata": {},
     "output_type": "execute_result"
    }
   ],
   "source": [
    " is_independent(set())"
   ]
  },
  {
   "cell_type": "code",
   "execution_count": 143,
   "metadata": {
    "collapsed": false
   },
   "outputs": [
    {
     "data": {
      "text/plain": [
       "False"
      ]
     },
     "execution_count": 143,
     "metadata": {},
     "output_type": "execute_result"
    }
   ],
   "source": [
    "is_independent({Vec({'a'},{})})"
   ]
  },
  {
   "cell_type": "code",
   "execution_count": 144,
   "metadata": {
    "collapsed": false
   },
   "outputs": [
    {
     "data": {
      "text/plain": [
       "True"
      ]
     },
     "execution_count": 144,
     "metadata": {},
     "output_type": "execute_result"
    }
   ],
   "source": [
    "is_independent({Vec({'a'},{'a':1})})"
   ]
  },
  {
   "cell_type": "code",
   "execution_count": 145,
   "metadata": {
    "collapsed": false
   },
   "outputs": [
    {
     "data": {
      "text/plain": [
       "False"
      ]
     },
     "execution_count": 145,
     "metadata": {},
     "output_type": "execute_result"
    }
   ],
   "source": [
    "is_independent({list2vec(v) for v in [[1,2,1],[2,1,2],[1,1,1]]})"
   ]
  },
  {
   "cell_type": "code",
   "execution_count": 146,
   "metadata": {
    "collapsed": false
   },
   "outputs": [
    {
     "data": {
      "text/plain": [
       "True"
      ]
     },
     "execution_count": 146,
     "metadata": {},
     "output_type": "execute_result"
    }
   ],
   "source": [
    "is_independent({list2vec(v) for v in [[1,2,1],[2,1,2],[1,1,0]]})"
   ]
  },
  {
   "cell_type": "code",
   "execution_count": 147,
   "metadata": {
    "collapsed": false
   },
   "outputs": [
    {
     "data": {
      "text/plain": [
       "False"
      ]
     },
     "execution_count": 147,
     "metadata": {},
     "output_type": "execute_result"
    }
   ],
   "source": [
    "is_independent({list2vec(v) for v in [[one,one,0],[0,one,one],[one,0,one],[one,0,0]]})"
   ]
  },
  {
   "cell_type": "code",
   "execution_count": 148,
   "metadata": {
    "collapsed": false
   },
   "outputs": [
    {
     "data": {
      "text/plain": [
       "False"
      ]
     },
     "execution_count": 148,
     "metadata": {},
     "output_type": "execute_result"
    }
   ],
   "source": [
    "is_independent({list2vec(v) for v in [[one,one,0,0,0],[0,one,0,0,one],[0,0,one,one,0],[0,0,0,one,one],[one,0,0,0,one]]})"
   ]
  },
  {
   "cell_type": "code",
   "execution_count": 149,
   "metadata": {
    "collapsed": false
   },
   "outputs": [
    {
     "data": {
      "text/plain": [
       "True"
      ]
     },
     "execution_count": 149,
     "metadata": {},
     "output_type": "execute_result"
    }
   ],
   "source": [
    "is_independent({list2vec(v) for v in [[one,one,0,0,0],[0,one,one,0,0],[0,0,one,one,0],[0,0,0,one,one]]})"
   ]
  },
  {
   "cell_type": "code",
   "execution_count": 228,
   "metadata": {
    "collapsed": true
   },
   "outputs": [],
   "source": [
    "## 17: (Problem 17) Exchange Lemma in Python\n",
    "def exchange(S, A, z):\n",
    "    '''\n",
    "    Input:\n",
    "        - S: a set of Vecs (not necessarily linearly independent)\n",
    "        - A: a set of Vecs, a proper subset of S\n",
    "        - z: an instance of Vec such that A | {z} is linearly independent\n",
    "    Output: a vector w in S but not in A such that Span S = Span ({z} | S - {w})\n",
    "    Examples:\n",
    "        >>> from vecutil import list2vec\n",
    "        >>> from vec import Vec\n",
    "        >>> S = {list2vec(v) for v in [[0,0,5,3],[2,0,1,3],[0,0,1,0],[1,2,3,4]]}\n",
    "        >>> A = {list2vec(v) for v in [[0,0,5,3],[2,0,1,3]]}\n",
    "        >>> z = list2vec([0,2,1,1])\n",
    "        >>> (exchange(S, A, z) == Vec({0, 1, 2, 3},{0: 0, 1: 0, 2: 1, 3: 0})) or (exchange(S, A, z) == Vec({0, 1, 2, 3},{0: 1, 1: 2, 2: 3, 3: 4}))\n",
    "        True\n",
    "        >>> S == {list2vec(v) for v in [[0,0,5,3],[2,0,1,3],[0,0,1,0],[1,2,3,4]]}\n",
    "        True\n",
    "        >>> A == {list2vec(v) for v in [[0,0,5,3],[2,0,1,3]]}\n",
    "        True\n",
    "        >>> z == list2vec([0,2,1,1])\n",
    "        True\n",
    "        >>> S = {Vec({0,1,2,3,4}, {i:one, (i+1)%5:one}) for i in range(5)}\n",
    "        >>> A = {list2vec([0,one,one,0,0]),list2vec([0,0,one,one,0])}\n",
    "        >>> z = list2vec([0,0,one,0,one])\n",
    "        >>> exchange(S, A, z) in {list2vec(v) for v in [[one, one,0,0,0],[one,0,0,0,one],[0,0,0,one,one]]}\n",
    "        True\n",
    "    '''\n",
    "   \n",
    "    assert is_independent(A.union({z})) # assert the input\n",
    "    S1=S.union({z})  # Superfluous lemma=> Span (S) = Span (S.union({z}))\n",
    "    for w in S-A:\n",
    "        if is_superfluous(S1, w): return w # if true Span(S) = Span(S U {z}) = Span(S U {z}-{w})"
   ]
  },
  {
   "cell_type": "code",
   "execution_count": 229,
   "metadata": {
    "collapsed": true
   },
   "outputs": [],
   "source": [
    "S = {list2vec(v) for v in [[0,0,5,3],[2,0,1,3],[0,0,1,0],[1,2,3,4]]}\n",
    "A = {list2vec(v) for v in [[0,0,5,3],[2,0,1,3]]}\n",
    "z = list2vec([0,2,1,1])"
   ]
  },
  {
   "cell_type": "code",
   "execution_count": 230,
   "metadata": {
    "collapsed": false
   },
   "outputs": [
    {
     "data": {
      "text/plain": [
       "True"
      ]
     },
     "execution_count": 230,
     "metadata": {},
     "output_type": "execute_result"
    }
   ],
   "source": [
    "(exchange(S, A, z) == Vec({0, 1, 2, 3},{0: 0, 1: 0, 2: 1, 3: 0})) or (exchange(S, A, z) == Vec({0, 1, 2, 3},{0: 1, 1: 2, 2: 3, 3: 4}))"
   ]
  },
  {
   "cell_type": "code",
   "execution_count": 231,
   "metadata": {
    "collapsed": false
   },
   "outputs": [
    {
     "data": {
      "text/plain": [
       "True"
      ]
     },
     "execution_count": 231,
     "metadata": {},
     "output_type": "execute_result"
    }
   ],
   "source": [
    "S == {list2vec(v) for v in [[0,0,5,3],[2,0,1,3],[0,0,1,0],[1,2,3,4]]}"
   ]
  },
  {
   "cell_type": "code",
   "execution_count": 232,
   "metadata": {
    "collapsed": false
   },
   "outputs": [
    {
     "data": {
      "text/plain": [
       "True"
      ]
     },
     "execution_count": 232,
     "metadata": {},
     "output_type": "execute_result"
    }
   ],
   "source": [
    "A == {list2vec(v) for v in [[0,0,5,3],[2,0,1,3]]}"
   ]
  },
  {
   "cell_type": "code",
   "execution_count": 233,
   "metadata": {
    "collapsed": false
   },
   "outputs": [
    {
     "data": {
      "text/plain": [
       "True"
      ]
     },
     "execution_count": 233,
     "metadata": {},
     "output_type": "execute_result"
    }
   ],
   "source": [
    "z == list2vec([0,2,1,1])"
   ]
  },
  {
   "cell_type": "code",
   "execution_count": 234,
   "metadata": {
    "collapsed": true
   },
   "outputs": [],
   "source": [
    "S = {Vec({0,1,2,3,4}, {i:one, (i+1)%5:one}) for i in range(5)}\n",
    "A = {list2vec([0,one,one,0,0]),list2vec([0,0,one,one,0])}\n",
    "z = list2vec([0,0,one,0,one])"
   ]
  },
  {
   "cell_type": "code",
   "execution_count": 235,
   "metadata": {
    "collapsed": false
   },
   "outputs": [
    {
     "data": {
      "text/plain": [
       "True"
      ]
     },
     "execution_count": 235,
     "metadata": {},
     "output_type": "execute_result"
    }
   ],
   "source": [
    "exchange(S, A, z) in {list2vec(v) for v in [[one, one,0,0,0],[one,0,0,0,one],[0,0,0,one,one]]}"
   ]
  },
  {
   "cell_type": "code",
   "execution_count": null,
   "metadata": {
    "collapsed": true
   },
   "outputs": [],
   "source": []
  }
 ],
 "metadata": {
  "kernelspec": {
   "display_name": "Python 3",
   "language": "python",
   "name": "python3"
  },
  "language_info": {
   "codemirror_mode": {
    "name": "ipython",
    "version": 3
   },
   "file_extension": ".py",
   "mimetype": "text/x-python",
   "name": "python",
   "nbconvert_exporter": "python",
   "pygments_lexer": "ipython3",
   "version": "3.4.3"
  }
 },
 "nbformat": 4,
 "nbformat_minor": 0
}
