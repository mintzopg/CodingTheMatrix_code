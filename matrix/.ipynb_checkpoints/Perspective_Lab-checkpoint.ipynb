{
 "cells": [
  {
   "cell_type": "markdown",
   "metadata": {},
   "source": [
    "##  Perspective Lab"
   ]
  },
  {
   "cell_type": "code",
   "execution_count": 119,
   "metadata": {
    "collapsed": true
   },
   "outputs": [],
   "source": [
    "from vec import Vec\n",
    "from mat import Mat\n",
    "from matutil import rowdict2mat, coldict2mat, mat2coldict\n",
    "from solver import solve"
   ]
  },
  {
   "cell_type": "markdown",
   "metadata": {},
   "source": [
    "We will write f as the composition of two functions f = g ◦ h, where\n",
    "\n",
    "• h : R(C) → R(R) is defined thus:\n",
    "\n",
    "– input: a point’s coordinate representation with respect to the camera basis\n",
    "\n",
    "– output: the same point’s coordinate representation with respect to the whiteboard basis\n",
    "\n",
    "• g : R(R) → R(R) is defined thus:\n",
    "\n",
    "– input: the coordinate representation in terms of whiteboard coordinates of a point q\n",
    "\n",
    "– output: the coordinate representation in terms of whiteboard coordinates of the point p such that\n",
    "the line through the origin and q intersects the whiteboard plane at p.\n"
   ]
  },
  {
   "cell_type": "markdown",
   "metadata": {},
   "source": [
    "###  Mapping a point not on the whiteboard to the corresponding point on the whiteboard (function g)"
   ]
  },
  {
   "cell_type": "code",
   "execution_count": 2,
   "metadata": {
    "collapsed": true
   },
   "outputs": [],
   "source": [
    "## 1: (Task 5.12.1) Move To Board\n",
    "def move2board(y): \n",
    "    '''\n",
    "    Input:\n",
    "        - y: a Vec with domain {'y1','y2','y3'}, the coordinate representation in whiteboard coordinates of \n",
    "        a point q\n",
    "    Output:\n",
    "        - A {'y1','y2','y3'}-Vec, the coordinate representation\n",
    "          in whiteboard coordinates of the point p such that the line through the \n",
    "          origin and q intersects the whiteboard plane at p.\n",
    "    '''\n",
    "    return Vec({'y1','y2','y3'}, {'y1':y['y1']/y['y3'], 'y2':y['y2']/y['y3'], 'y3':y['y3']/y['y3']})"
   ]
  },
  {
   "cell_type": "markdown",
   "metadata": {},
   "source": [
    "###   The change-of-basis matrix (function h)"
   ]
  },
  {
   "cell_type": "code",
   "execution_count": 3,
   "metadata": {
    "collapsed": true
   },
   "outputs": [],
   "source": [
    "# 2: () Make domain of vector\n",
    "# D should be assigned the Cartesian product of R and C\n",
    "D = {(y, x) for y in {'y1', 'y2', 'y3'} for x in {'x1', 'x2', 'x3'}}"
   ]
  },
  {
   "cell_type": "code",
   "execution_count": 4,
   "metadata": {
    "collapsed": true
   },
   "outputs": [],
   "source": [
    "## 3: (Task 5.12.2) Make Equations\n",
    "def make_equations(x1, x2, w1, w2): \n",
    "    '''\n",
    "    Input:\n",
    "        - x1, x2: pixel coordinates of a point q in the image plane\n",
    "        - w1, w2: w1=y1/y3 and w=y2/y3 where y1,y2,y3 are the whiteboard coordinates of q.\n",
    "    Output:\n",
    "        - List [u,v] of D-vectors that define linear equations u*h = 0 and v*h = 0\n",
    "\n",
    "    For example, suppose we have an image of the whiteboard in which\n",
    "       the top-left whiteboard corner appears at pixel coordinates 9, 18\n",
    "       the bottom-left whiteboard corner appears at pixel coordinates 8,25\n",
    "       the top-right whiteboard corner appears at pixel coordinates 20,20\n",
    "       the bottom-right whiteboard corner appears at pixel coordinates 18,23\n",
    "\n",
    "    Let q be the point in the image plane with pixel coordinates x=8,y=25, i.e. camera coordinates (8,25,1).\n",
    "    Let y1,y2,y3 be the whiteboard coordinates of the same point.  The line that goes through the\n",
    "    origin and p intersects the whiteboard at a point p.  That point p is the bottom-left corner of\n",
    "    the whiteboard, so its whiteboard coordinates are 1,0,1.  Therefore (y1/y3,y2/y3,y3/y3) = (1,0,1).\n",
    "    We define w1=y1/y3 and w2=y2/y3, so w1 = 1 and w2 = 0.  Given this input-output pair, let's find\n",
    "    two linear equations u*h=0 and v*h=0 constraining the unknown vector h whose entries are the entries\n",
    "    of the matrix H. \n",
    "\n",
    ">>> for v in make_equations(8,25,1,0): print(v)\n",
    "<BLANKLINE>\n",
    " ('y1', 'x1') ('y1', 'x2') ('y1', 'x3') ('y2', 'x1') ('y2', 'x2') ('y2', 'x3') ('y3', 'x1') ('y3', 'x2') ('y3', 'x3')\n",
    "---------------------------------------------------------------------------------------------------------------------\n",
    "           -8          -25           -1            0            0            0            8           25            1\n",
    "<BLANKLINE>\n",
    " ('y1', 'x1') ('y1', 'x2') ('y1', 'x3') ('y2', 'x1') ('y2', 'x2') ('y2', 'x3') ('y3', 'x1') ('y3', 'x2') ('y3', 'x3')\n",
    "---------------------------------------------------------------------------------------------------------------------\n",
    "            0            0            0           -8          -25           -1            0            0            0\n",
    "\n",
    "    Note that the negations of these vectors form an equally valid solution.\n",
    "\n",
    "    Similarly, consider the point q in the image plane with pixel coordinates 18, 23.  Let y1,y2,y3 be the whiteboard\n",
    "    coordinates of p.  The corresponding point p in the whiteboard plane is the bottom-right corner, and the whiteboard\n",
    "    coordinates of p are 1,1,1, so (y1/y3,y2/y3,y3/y3)=(1,1,1).  We define w1=y1/y3 and w2=y2/y3, so w1=1 and w2=1.\n",
    "    We obtain the vectors u and v defining equations u*h=0 and v*h=0 as follows:\n",
    "\n",
    ">>> for v in make_equations(18,23,1,1): print(v)\n",
    "<BLANKLINE>\n",
    " ('y1', 'x1') ('y1', 'x2') ('y1', 'x3') ('y2', 'x1') ('y2', 'x2') ('y2', 'x3') ('y3', 'x1') ('y3', 'x2') ('y3', 'x3')\n",
    "---------------------------------------------------------------------------------------------------------------------\n",
    "          -18          -23           -1            0            0            0           18           23            1\n",
    "<BLANKLINE>\n",
    " ('y1', 'x1') ('y1', 'x2') ('y1', 'x3') ('y2', 'x1') ('y2', 'x2') ('y2', 'x3') ('y3', 'x1') ('y3', 'x2') ('y3', 'x3')\n",
    "---------------------------------------------------------------------------------------------------------------------\n",
    "            0            0            0          -18          -23           -1           18           23            1\n",
    "\n",
    "    Again, the negations of these vectors form an equally valid solution.\n",
    "    '''\n",
    "    u = Vec(D, {('y3', 'x1'):w1*x1, ('y3', 'x2'):w1*x2, ('y3', 'x3'):w1, ('y1', 'x1'):-x1, ('y1', 'x2'):-x2, ('y1', 'x3'):-1})\n",
    "    v = Vec(D, {('y3', 'x1'):w2*x1, ('y3', 'x2'):w2*x2, ('y3', 'x3'):w2, ('y2', 'x1'):-x1, ('y2', 'x2'):-x2, ('y2', 'x3'):-1})\n",
    "    return [u, v]\n"
   ]
  },
  {
   "cell_type": "code",
   "execution_count": 5,
   "metadata": {
    "collapsed": true
   },
   "outputs": [],
   "source": [
    "## 4: () Scaling row\n",
    "# This is the vector defining the scaling equation\n",
    "w = Vec(D, {('y1', 'x1'):1})"
   ]
  },
  {
   "cell_type": "code",
   "execution_count": 6,
   "metadata": {
    "collapsed": true
   },
   "outputs": [],
   "source": [
    "## 5: () Right-hand side\n",
    "# Now construct the Vec b that serves as the right-hand side for the matrix-vector equation L*hvec=b\n",
    "# This is the {0, ..., 8}-Vec whose entries are all zero except for a 1 in position 8\n",
    "b = Vec({0, 1, 2, 3, 4, 5, 6, 7, 8}, {8:1})"
   ]
  },
  {
   "cell_type": "code",
   "execution_count": 7,
   "metadata": {
    "collapsed": true
   },
   "outputs": [],
   "source": [
    "## 6: () Rows of constraint matrix\n",
    "def make_nine_equations(corners):\n",
    "    '''\n",
    "    input: a list of four tuples:\n",
    "           [(i0,j0),(i1,j1),(i2,j2),(i3,j3)]\n",
    "           where i0,j0 are the pixel coordinates of the top-left corner,\n",
    "                 i1,j1 are the pixel coordinates of the bottom-left corner,\n",
    "                 i2,j2 are the pixel coordinates of the top-right corner,\n",
    "                 i3,j3 are the pixel coordinates of the bottom-right corner,\n",
    "    output: the list of Vecs u0, u1, ..., u8 that are to be the rows of the matrix.\n",
    "    Vecs u0,u1 come from applying make_equations to the top-left corner,\n",
    "    Vecs u2,u3 come from applying make_equations to the bottom-left corner,\n",
    "    Vecs u4,u5 come from applying make_equations to the top-right corner,\n",
    "    Vecs u6,u7 come from applying make_equations to the bottom-right corner,\n",
    "    Vec u8 is the vector w.\n",
    "    ''' \n",
    "    i0, j0 = corners[0]\n",
    "    i1, j1 = corners[1]\n",
    "    i2, j2 = corners[2]\n",
    "    i3, j3 = corners[3]\n",
    "    \n",
    "    \n",
    "    (u0, u1) = make_equations(i0, j0, 0, 0)\n",
    "    (u2, u3) = make_equations(i1, j1, 0, 1)\n",
    "    (u4, u5) = make_equations(i2, j2, 1, 0)\n",
    "    (u6, u7) = make_equations(i3, j3, 1, 1)\n",
    "    u8 = w\n",
    "    return [u0, u1, u2, u3, u4, u5, u6, u7, u8]"
   ]
  },
  {
   "cell_type": "code",
   "execution_count": 8,
   "metadata": {
    "collapsed": true
   },
   "outputs": [],
   "source": [
    "## 7: (Task 5.12.4) Build linear system\n",
    "# Apply make_nine_equations to the list of tuples specifying the pixel coordinates of the\n",
    "# whiteboard corners in the image.  Assign the resulting list of nine vectors to veclist:\n",
    "corners = [(358, 36), (329, 597), (592, 157), (580, 483)]\n",
    "veclist = make_nine_equations(corners)"
   ]
  },
  {
   "cell_type": "code",
   "execution_count": 9,
   "metadata": {
    "collapsed": true
   },
   "outputs": [],
   "source": [
    "# Build a Mat whose rows are the Vecs in veclist\n",
    "L = rowdict2mat(veclist)"
   ]
  },
  {
   "cell_type": "code",
   "execution_count": 16,
   "metadata": {
    "collapsed": false
   },
   "outputs": [],
   "source": [
    "## 8: () Solve linear system\n",
    "# Now solve the matrix-vector equation to get a Vec hvec, and turn it into a matrix H.\n",
    "hvec = solve(L, b)\n",
    "\n"
   ]
  },
  {
   "cell_type": "code",
   "execution_count": 17,
   "metadata": {
    "collapsed": false,
    "scrolled": true
   },
   "outputs": [
    {
     "data": {
      "text/plain": [
       "Vec({('y2', 'x1'), ('y3', 'x2'), ('y3', 'x3'), ('y1', 'x1'), ('y1', 'x3'), ('y1', 'x2'), ('y2', 'x3'), ('y2', 'x2'), ('y3', 'x1')},{('y3', 'x2'): -0.011690730864964843, ('y2', 'x1'): -0.38152131800543665, ('y1', 'x3'): -359.8609625668456, ('y3', 'x3'): 669.4762699006183, ('y1', 'x2'): 0.05169340463458136, ('y2', 'x3'): 110.02318074778272, ('y2', 'x2'): 0.7378180860601002, ('y3', 'x1'): -0.721935681071004, ('y1', 'x1'): 1.0000000000000013})"
      ]
     },
     "execution_count": 17,
     "metadata": {},
     "output_type": "execute_result"
    }
   ],
   "source": [
    "hvec"
   ]
  },
  {
   "cell_type": "code",
   "execution_count": 113,
   "metadata": {
    "collapsed": true
   },
   "outputs": [],
   "source": [
    "H = Mat(({'y1', 'y2', 'y3'}, {'x1', 'x2', 'x3'}), {(a, b):hvec[(a,b)] for a in ['y1', 'y2', 'y3'] for b in ['x1', 'x2', 'x3']})"
   ]
  },
  {
   "cell_type": "code",
   "execution_count": 114,
   "metadata": {
    "collapsed": false
   },
   "outputs": [
    {
     "name": "stdout",
     "output_type": "stream",
     "text": [
      "\n",
      "            x1      x2   x3\n",
      "      ---------------------\n",
      " y1  |       1  0.0517 -360\n",
      " y2  |  -0.382   0.738  110\n",
      " y3  |  -0.722 -0.0117  669\n",
      "\n"
     ]
    }
   ],
   "source": [
    "print (H)"
   ]
  },
  {
   "cell_type": "code",
   "execution_count": 115,
   "metadata": {
    "collapsed": false
   },
   "outputs": [
    {
     "data": {
      "text/plain": [
       "Vec({'y2', 'y1', 'y3'},{'y2': -5.684341886080802e-14, 'y1': 240.25490196078448, 'y3': 240.2549019607844})"
      ]
     },
     "execution_count": 115,
     "metadata": {},
     "output_type": "execute_result"
    }
   ],
   "source": [
    "# Test\n",
    "H*Vec({'x1','x2','x3'}, {'x1':592, 'x2':157, 'x3':1})"
   ]
  },
  {
   "cell_type": "code",
   "execution_count": 117,
   "metadata": {
    "collapsed": false
   },
   "outputs": [],
   "source": [
    "import image_mat_util\n",
    "(X_pts, colors) = image_mat_util.file2mat('board.png', ('x1','x2','x3'))\n"
   ]
  },
  {
   "cell_type": "code",
   "execution_count": 118,
   "metadata": {
    "collapsed": true
   },
   "outputs": [],
   "source": [
    "Y_pts = H*X_pts"
   ]
  },
  {
   "cell_type": "code",
   "execution_count": 124,
   "metadata": {
    "collapsed": true
   },
   "outputs": [],
   "source": [
    "## 9: (Task 5.12.7) Y Board Comprehension\n",
    "def mat_move2board(Y):\n",
    "    '''\n",
    "    Input:\n",
    "        - Y: a Mat each column of which is a {'y1', 'y2', 'y3'}-Vec\n",
    "          giving the whiteboard coordinates of a point q.\n",
    "    Output:\n",
    "        - a Mat each column of which is the corresponding point in the\n",
    "          whiteboard plane (the point of intersection with the whiteboard plane \n",
    "          of the line through the origin and q).\n",
    "\n",
    "    Example:\n",
    "    >>> Y_in = Mat(({'y1', 'y2', 'y3'}, {0,1,2,3}),\n",
    "    ...     {('y1',0):2, ('y2',0):4, ('y3',0):8,\n",
    "    ...      ('y1',1):10, ('y2',1):5, ('y3',1):5,\n",
    "    ...      ('y1',2):4, ('y2',2):25, ('y3',2):2,\n",
    "    ...      ('y1',3):5, ('y2',3):10, ('y3',3):4})\n",
    "    >>> print(Y_in)\n",
    "    <BLANKLINE>\n",
    "            0  1  2  3\n",
    "          ------------\n",
    "     y1  |  2 10  4  5\n",
    "     y2  |  4  5 25 10\n",
    "     y3  |  8  5  2  4\n",
    "    <BLANKLINE>\n",
    "    >>> print(mat_move2board(Y_in))\n",
    "    <BLANKLINE>\n",
    "               0 1    2    3\n",
    "          ------------------\n",
    "     y1  |  0.25 2    2 1.25\n",
    "     y2  |   0.5 1 12.5  2.5\n",
    "     y3  |     1 1    1    1\n",
    "    <BLANKLINE>\n",
    "    '''\n",
    "    coldict = mat2coldict(Y)\n",
    "    return coldict2mat({key:move2board(val) for key, val in coldict.items()})\n",
    "    "
   ]
  },
  {
   "cell_type": "code",
   "execution_count": 120,
   "metadata": {
    "collapsed": true
   },
   "outputs": [],
   "source": [
    "Y_in = Mat(({'y1', 'y2', 'y3'}, {0,1,2,3}), {('y1',0):2, ('y2',0):4, ('y3',0):8, ('y1',1):10, ('y2',1):5, ('y3',1):5, ('y1',2):4, ('y2',2):25, ('y3',2):2, ('y1',3):5, ('y2',3):10, ('y3',3):4})"
   ]
  },
  {
   "cell_type": "code",
   "execution_count": 121,
   "metadata": {
    "collapsed": false
   },
   "outputs": [
    {
     "name": "stdout",
     "output_type": "stream",
     "text": [
      "\n",
      "        0  1  2  3\n",
      "      ------------\n",
      " y1  |  2 10  4  5\n",
      " y2  |  4  5 25 10\n",
      " y3  |  8  5  2  4\n",
      "\n"
     ]
    }
   ],
   "source": [
    "print (Y_in)"
   ]
  },
  {
   "cell_type": "code",
   "execution_count": 125,
   "metadata": {
    "collapsed": false
   },
   "outputs": [
    {
     "name": "stdout",
     "output_type": "stream",
     "text": [
      "\n",
      "           0 1    2    3\n",
      "      ------------------\n",
      " y1  |  0.25 2    2 1.25\n",
      " y2  |   0.5 1 12.5  2.5\n",
      " y3  |     1 1    1    1\n",
      "\n"
     ]
    }
   ],
   "source": [
    "print(mat_move2board(Y_in))"
   ]
  },
  {
   "cell_type": "code",
   "execution_count": null,
   "metadata": {
    "collapsed": true
   },
   "outputs": [],
   "source": []
  }
 ],
 "metadata": {
  "kernelspec": {
   "display_name": "Python 3",
   "language": "python",
   "name": "python3"
  },
  "language_info": {
   "codemirror_mode": {
    "name": "ipython",
    "version": 3
   },
   "file_extension": ".py",
   "mimetype": "text/x-python",
   "name": "python",
   "nbconvert_exporter": "python",
   "pygments_lexer": "ipython3",
   "version": "3.4.3"
  }
 },
 "nbformat": 4,
 "nbformat_minor": 0
}
