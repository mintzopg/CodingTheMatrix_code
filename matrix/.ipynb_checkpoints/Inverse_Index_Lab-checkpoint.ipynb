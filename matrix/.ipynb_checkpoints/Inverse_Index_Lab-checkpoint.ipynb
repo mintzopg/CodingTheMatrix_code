{
 "metadata": {
  "name": "",
  "signature": "sha256:7bf6ee617ed690e99c06d972188625b64fdcd7e13ac763336134669700e801b7"
 },
 "nbformat": 3,
 "nbformat_minor": 0,
 "worksheets": [
  {
   "cells": [
    {
     "cell_type": "code",
     "collapsed": false,
     "input": [
      "def makeInverseIndex(strlist):\n",
      "    ''' input: a list of strings (docs)\n",
      "        output: a dictionary \"inverse_index\"  that maps each word to the set {doc numbes} in which word appears'''\n",
      "    \n",
      "    inverse_index={} #initialize a dictionary\n",
      "    # will use enumerate to hold the index of docs in strlist=['doc-0', 'doc-1', ...,'doc-n'] n=len(strlist)\n",
      "    for (i,doc) in enumerate (strlist): # i holds the index=0,1,..., n-1 and doc the actual string\n",
      "        words=doc.split()\n",
      "        for item in words:\n",
      "            # add to dictionary, word and occurence in doc-i\n",
      "            if item not in inverse_index.keys(): inverse_index[item]={i}\n",
      "            else: inverse_index[item].add(i)\n",
      "                    \n",
      "    return inverse_index "
     ],
     "language": "python",
     "metadata": {},
     "outputs": [],
     "prompt_number": 42
    },
    {
     "cell_type": "code",
     "collapsed": false,
     "input": [
      "L=[\"Look at me ! Look at me ! Look at me NOW ! It is fun to have fun but you have to know how .\" ,\n",
      "\"He should not be here , said the fish in the pot . He should not be here when your mother is not .\",\n",
      "\"The sun did not shine . It was too wet to play . So we sat in the house . All that cold, cold, wet day .\"]\n"
     ],
     "language": "python",
     "metadata": {},
     "outputs": [],
     "prompt_number": 43
    },
    {
     "cell_type": "code",
     "collapsed": false,
     "input": [
      "index1=makeInverseIndex(L)\n",
      "print (index1)"
     ],
     "language": "python",
     "metadata": {},
     "outputs": [
      {
       "output_type": "stream",
       "stream": "stdout",
       "text": [
        "{'!': {0}, 'is': {0, 1}, 'shine': {2}, 'we': {2}, 'should': {1}, 'but': {0}, 'day': {2}, 'fish': {1}, 'have': {0}, 'It': {0, 2}, 'too': {2}, 'house': {2}, 'was': {2}, 'wet': {2}, 'to': {0, 2}, 'Look': {0}, 'fun': {0}, 'sun': {2}, 'the': {1, 2}, 'when': {1}, 'at': {0}, 'that': {2}, 'know': {0}, 'me': {0}, 'cold,': {2}, 'your': {1}, ',': {1}, 'NOW': {0}, 'sat': {2}, 'said': {1}, 'how': {0}, 'All': {2}, 'you': {0}, 'not': {1, 2}, '.': {0, 1, 2}, 'in': {1, 2}, 'mother': {1}, 'play': {2}, 'He': {1}, 'pot': {1}, 'did': {2}, 'be': {1}, 'here': {1}, 'So': {2}, 'The': {2}}\n"
       ]
      }
     ],
     "prompt_number": 55
    },
    {
     "cell_type": "code",
     "collapsed": false,
     "input": [
      "index2=makeInverseIndex(['hello world','hello','hello cat','hellolot of cats'])\n",
      "print (index2)"
     ],
     "language": "python",
     "metadata": {},
     "outputs": [
      {
       "output_type": "stream",
       "stream": "stdout",
       "text": [
        "{'cats': {3}, 'hellolot': {3}, 'of': {3}, 'cat': {2}, 'hello': {0, 1, 2}, 'world': {0}}\n"
       ]
      }
     ],
     "prompt_number": 56
    },
    {
     "cell_type": "code",
     "collapsed": false,
     "input": [
      "f=open('stories_small.txt','r')\n",
      "strlist=list(f)\n",
      "len(strlist)"
     ],
     "language": "python",
     "metadata": {},
     "outputs": [
      {
       "metadata": {},
       "output_type": "pyout",
       "prompt_number": 48,
       "text": [
        "50"
       ]
      }
     ],
     "prompt_number": 48
    },
    {
     "cell_type": "code",
     "collapsed": false,
     "input": [
      "index3=makeInverseIndex(strlist)\n",
      "#print (index3)"
     ],
     "language": "python",
     "metadata": {},
     "outputs": [],
     "prompt_number": 94
    },
    {
     "cell_type": "code",
     "collapsed": false,
     "input": [
      "f=open('stories_big.txt','r')\n",
      "strlist=list(f)\n",
      "len(strlist)"
     ],
     "language": "python",
     "metadata": {},
     "outputs": [
      {
       "metadata": {},
       "output_type": "pyout",
       "prompt_number": 92,
       "text": [
        "1099"
       ]
      }
     ],
     "prompt_number": 92
    },
    {
     "cell_type": "code",
     "collapsed": false,
     "input": [
      "index4=makeInverseIndex(strlist)\n",
      "# print (index4)"
     ],
     "language": "python",
     "metadata": {},
     "outputs": [],
     "prompt_number": 95
    },
    {
     "cell_type": "code",
     "collapsed": false,
     "input": [
      "def orSearch(inverseIndex, query):\n",
      "    out=set()\n",
      "    for item in query:\n",
      "        if item in inverseIndex.keys():\n",
      "            for x in inverseIndex[item]:\n",
      "                out.add(x)\n",
      "    return out           "
     ],
     "language": "python",
     "metadata": {},
     "outputs": [],
     "prompt_number": 85
    },
    {
     "cell_type": "code",
     "collapsed": false,
     "input": [
      "idx = makeInverseIndex(['Johann Sebastian Bach', 'Johannes Brahms', \n",
      "                        'Johann Strauss the Younger', 'Johann Strauss the Elder', \n",
      "                        ' Johann Christian Bach',  'Carl Philipp Emanuel Bach'])\n",
      "print (idx)"
     ],
     "language": "python",
     "metadata": {},
     "outputs": [
      {
       "output_type": "stream",
       "stream": "stdout",
       "text": [
        "{'Johann': {0, 2, 3, 4}, 'Carl': {5}, 'Brahms': {1}, 'Younger': {2}, 'Emanuel': {5}, 'Christian': {4}, 'the': {2, 3}, 'Bach': {0, 4, 5}, 'Philipp': {5}, 'Sebastian': {0}, 'Elder': {3}, 'Strauss': {2, 3}, 'Johannes': {1}}\n"
       ]
      }
     ],
     "prompt_number": 86
    },
    {
     "cell_type": "code",
     "collapsed": false,
     "input": [
      "orSearch(idx, ['Bach','the'])"
     ],
     "language": "python",
     "metadata": {},
     "outputs": [
      {
       "metadata": {},
       "output_type": "pyout",
       "prompt_number": 87,
       "text": [
        "{0, 2, 3, 4, 5}"
       ]
      }
     ],
     "prompt_number": 87
    },
    {
     "cell_type": "code",
     "collapsed": false,
     "input": [
      "orSearch(idx, ['Johann', 'Carl'])"
     ],
     "language": "python",
     "metadata": {},
     "outputs": [
      {
       "metadata": {},
       "output_type": "pyout",
       "prompt_number": 88,
       "text": [
        "{0, 2, 3, 4, 5}"
       ]
      }
     ],
     "prompt_number": 88
    },
    {
     "cell_type": "code",
     "collapsed": false,
     "input": [
      "# the same function using a set comprehension one line code\n",
      "def orSearch2(inverseIndex, query):\n",
      "    return {x for item in query for x in inverseIndex[item] if item in inverseIndex.keys()}"
     ],
     "language": "python",
     "metadata": {},
     "outputs": [],
     "prompt_number": 89
    },
    {
     "cell_type": "code",
     "collapsed": false,
     "input": [
      "orSearch2(idx, ['Bach','the'])"
     ],
     "language": "python",
     "metadata": {},
     "outputs": [
      {
       "metadata": {},
       "output_type": "pyout",
       "prompt_number": 90,
       "text": [
        "{0, 2, 3, 4, 5}"
       ]
      }
     ],
     "prompt_number": 90
    },
    {
     "cell_type": "code",
     "collapsed": false,
     "input": [
      "orSearch2(idx, ['Johann', 'Carl'])"
     ],
     "language": "python",
     "metadata": {},
     "outputs": [
      {
       "metadata": {},
       "output_type": "pyout",
       "prompt_number": 91,
       "text": [
        "{0, 2, 3, 4, 5}"
       ]
      }
     ],
     "prompt_number": 91
    },
    {
     "cell_type": "code",
     "collapsed": false,
     "input": [
      "print (orSearch2(index3, ['her', 'his']))"
     ],
     "language": "python",
     "metadata": {},
     "outputs": [
      {
       "output_type": "stream",
       "stream": "stdout",
       "text": [
        "{0, 2, 6, 7, 8, 9, 10, 11, 12, 14, 15, 16, 17, 18, 20, 21, 22, 24, 25, 26, 27, 29, 32, 34, 35, 36, 38, 40, 43, 44, 45, 46, 47, 48, 49, 50, 52, 53, 54, 55, 56, 57, 58, 59, 60, 61, 62, 63, 68, 71, 72, 74, 75, 76, 77, 78, 80, 81, 82, 84, 85, 86, 88, 91, 92, 94, 95, 96, 97, 98, 99, 100, 102, 103, 104, 106, 110, 111, 112, 115, 117, 118, 120, 121, 123, 124, 125, 126, 127, 128, 129, 130, 131, 133, 134, 135, 137, 138, 139, 140, 141, 143, 144, 145, 146, 147, 148, 149, 151, 152, 153, 154, 157, 158, 159, 160, 161, 163, 164, 165, 166, 168, 169, 171, 172, 174, 175, 176, 177, 178, 179, 180, 181, 182, 183, 184, 185, 186, 187, 188, 190, 192, 193, 194, 199, 200, 205, 207, 208, 209, 210, 212, 213, 216, 217, 220, 221, 222, 223, 224, 226, 227, 228, 229, 231, 232, 233, 234, 235, 237, 238, 239, 240, 242, 243, 244, 247, 249, 252, 255, 257, 260, 261, 262, 263, 265, 266, 267, 268, 269, 270, 273, 274, 277, 279, 281, 284, 285, 286, 287, 289, 290, 291, 292, 293, 294, 295, 296, 297, 298, 299, 301, 302, 303, 304, 306, 308, 309, 310, 311, 312, 314, 315, 317, 318, 319, 321, 323, 326, 328, 330, 331, 332, 333, 336, 337, 338, 341, 347, 349, 350, 351, 352, 355, 356, 357, 358, 361, 364, 365, 367, 368, 370, 371, 372, 373, 374, 376, 377, 378, 379, 380, 381, 382, 383, 384, 385, 386, 389, 391, 393, 394, 395, 399, 400, 401, 403, 404, 406, 407, 408, 409, 410, 412, 414, 415, 416, 417, 419, 420, 421, 422, 423, 424, 425, 427, 429, 430, 431, 432, 433, 434, 436, 437, 438, 439, 441, 442, 443, 444, 445, 446, 447, 448, 449, 450, 451, 452, 453, 455, 456, 458, 459, 460, 461, 463, 465, 466, 467, 470, 471, 472, 474, 475, 476, 477, 478, 479, 480, 481, 482, 483, 490, 492, 493, 500, 501, 502, 505, 506, 507, 509, 510, 511, 512, 513, 514, 519, 520, 521, 522, 523, 524, 525, 526, 528, 529, 530, 531, 535, 536, 537, 538, 539, 540, 541, 542, 544, 546, 547, 548, 549, 551, 552, 555, 556, 560, 561, 564, 566, 567, 572, 574, 577, 578, 579, 580, 581, 582, 583, 584, 586, 588, 590, 593, 595, 596, 597, 598, 599, 600, 601, 602, 603, 605, 606, 607, 608, 611, 612, 613, 616, 617, 620, 621, 623, 626, 627, 628, 629, 630, 632, 633, 634, 637, 638, 639, 640, 645, 650, 651, 652, 654, 655, 656, 657, 658, 660, 661, 663, 664, 665, 666, 668, 669, 671, 672, 673, 674, 675, 679, 680, 682, 684, 685, 686, 688, 689, 690, 691, 692, 693, 694, 695, 696, 698, 699, 700, 701, 702, 703, 704, 705, 711, 713, 715, 719, 721, 722, 723, 724, 725, 726, 727, 728, 729, 730, 733, 734, 737, 738, 739, 742, 744, 747, 748, 749, 751, 753, 754, 755, 756, 757, 758, 759, 760, 761, 762, 763, 765, 767, 769, 770, 771, 772, 774, 775, 776, 777, 778, 779, 780, 782, 783, 785, 787, 789, 790, 793, 794, 796, 798, 800, 801, 802, 803, 804, 807, 809, 810, 811, 813, 816, 817, 818, 819, 820, 821, 822, 823, 824, 825, 826, 829, 830, 831, 832, 833, 835, 836, 838, 840, 841, 842, 843, 844, 845, 847, 848, 849, 850, 851, 853, 854, 855, 856, 857, 858, 861, 863, 865, 866, 867, 868, 869, 870, 871, 872, 873, 877, 879, 880, 881, 883, 884, 887, 888, 889, 890, 891, 894, 897, 898, 899, 900, 901, 902, 904, 905, 906, 907, 908, 909, 910, 911, 912, 913, 917, 918, 921, 924, 926, 928, 929, 930, 931, 932, 933, 934, 936, 937, 938, 939, 940, 941, 945, 947, 949, 950, 951, 952, 953, 954, 955, 956, 958, 959, 960, 961, 962, 964, 965, 966, 968, 969, 970, 971, 972, 973, 974, 976, 977, 978, 979, 981, 982, 985, 986, 989, 990, 991, 992, 993, 995, 996, 1000, 1003, 1004, 1006, 1008, 1009, 1013, 1014, 1015, 1016, 1017, 1018, 1019, 1020, 1021, 1022, 1023, 1024, 1025, 1026, 1027, 1029, 1030, 1031, 1032, 1033, 1034, 1035, 1036, 1037, 1038, 1039, 1040, 1041, 1042, 1043, 1044, 1045, 1046, 1047, 1048, 1049, 1050, 1051, 1052, 1054, 1055, 1056, 1057, 1058, 1059, 1060, 1063, 1065, 1067, 1068, 1069, 1071, 1072, 1074, 1077, 1079, 1080, 1084, 1085, 1087, 1088, 1093, 1094, 1095, 1096, 1097, 1098}\n"
       ]
      }
     ],
     "prompt_number": 101
    },
    {
     "cell_type": "code",
     "collapsed": false,
     "input": [
      "print (orSearch2(index4,['himself', 'auction']))"
     ],
     "language": "python",
     "metadata": {},
     "outputs": [
      {
       "output_type": "stream",
       "stream": "stdout",
       "text": [
        "{1024, 6, 10, 1038, 14, 18, 1043, 20, 21, 22, 534, 24, 1045, 538, 540, 1056, 1058, 39, 1063, 1065, 1067, 1068, 47, 561, 567, 67, 580, 1093, 1095, 1098, 76, 593, 598, 87, 600, 616, 628, 630, 632, 634, 638, 639, 645, 140, 652, 656, 146, 152, 664, 154, 668, 157, 160, 163, 675, 169, 685, 174, 175, 689, 691, 190, 703, 708, 713, 717, 208, 728, 218, 220, 733, 226, 739, 234, 748, 749, 751, 753, 754, 755, 252, 255, 767, 266, 779, 268, 789, 294, 807, 817, 818, 310, 823, 826, 317, 319, 840, 846, 849, 854, 857, 351, 355, 356, 368, 377, 383, 897, 898, 393, 906, 395, 911, 913, 404, 918, 924, 926, 931, 932, 936, 940, 941, 430, 434, 436, 445, 449, 452, 458, 970, 977, 466, 470, 475, 989, 482, 483, 1006, 1014, 505, 507}\n"
       ]
      }
     ],
     "prompt_number": 103
    },
    {
     "cell_type": "code",
     "collapsed": false,
     "input": [
      "def andSearch(inverseIndex, query):\n",
      "    if query[0] in inverseIndex.keys():\n",
      "        s=inverseIndex[query[0]]\n",
      "    for i in range(1,len(query)):\n",
      "        s=s.intersection(inverseIndex[query[i]])\n",
      "    return s  "
     ],
     "language": "python",
     "metadata": {},
     "outputs": [],
     "prompt_number": 156
    },
    {
     "cell_type": "code",
     "collapsed": false,
     "input": [
      "print (idx)"
     ],
     "language": "python",
     "metadata": {},
     "outputs": [
      {
       "output_type": "stream",
       "stream": "stdout",
       "text": [
        "{'Johann': {0, 2, 3, 4}, 'Carl': {5}, 'Brahms': {1}, 'Younger': {2}, 'Emanuel': {5}, 'Christian': {4}, 'the': {2, 3}, 'Bach': {0, 4, 5}, 'Philipp': {5}, 'Sebastian': {0}, 'Elder': {3}, 'Strauss': {2, 3}, 'Johannes': {1}}\n"
       ]
      }
     ],
     "prompt_number": 147
    },
    {
     "cell_type": "code",
     "collapsed": false,
     "input": [
      "andSearch(idx, ['Johann', 'the'])"
     ],
     "language": "python",
     "metadata": {},
     "outputs": [
      {
       "metadata": {},
       "output_type": "pyout",
       "prompt_number": 157,
       "text": [
        "{2, 3}"
       ]
      }
     ],
     "prompt_number": 157
    },
    {
     "cell_type": "code",
     "collapsed": false,
     "input": [
      "andSearch(idx, ['Johann', 'Bach'])"
     ],
     "language": "python",
     "metadata": {},
     "outputs": [
      {
       "metadata": {},
       "output_type": "pyout",
       "prompt_number": 158,
       "text": [
        "{0, 4}"
       ]
      }
     ],
     "prompt_number": 158
    },
    {
     "cell_type": "code",
     "collapsed": false,
     "input": [],
     "language": "python",
     "metadata": {},
     "outputs": []
    }
   ],
   "metadata": {}
  }
 ]
}