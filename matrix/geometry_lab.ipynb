{
 "cells": [
  {
   "cell_type": "code",
   "execution_count": 1,
   "metadata": {
    "collapsed": true
   },
   "outputs": [],
   "source": [
    "from mat import Mat\n",
    "from vec import Vec\n",
    "import math\n",
    "import image_mat_util"
   ]
  },
  {
   "cell_type": "code",
   "execution_count": 2,
   "metadata": {
    "collapsed": false
   },
   "outputs": [],
   "source": [
    "# location, color = image_mat_util.file2mat('/home/gimin/Courses/Brown_LinearAlgebra_Coursera/matrix/cit.png')"
   ]
  },
  {
   "cell_type": "code",
   "execution_count": 4,
   "metadata": {
    "collapsed": false
   },
   "outputs": [
    {
     "name": "stdout",
     "output_type": "stream",
     "text": [
      "Hit Enter once the image is displayed.... \n"
     ]
    }
   ],
   "source": [
    "# image_mat_util.mat2display(location, color)"
   ]
  },
  {
   "cell_type": "code",
   "execution_count": 5,
   "metadata": {
    "collapsed": true
   },
   "outputs": [],
   "source": [
    "## Task 1\n",
    "def identity(labels = {'x','y','u'}):\n",
    "    '''\n",
    "    In case you have never seen this notation for a parameter before,\n",
    "    it defines the default value of labels to be {'x','y','u'}.\n",
    "    You should write your procedure as if \n",
    "    it were defined 'def identity(labels):'.  However, if you want the labels of \n",
    "    your identity matrix to be {'x','y','u'}, you can just call \n",
    "    identity().  If you want {'r','g','b'}, or another set, to be the\n",
    "    labels of your matrix, you can call identity({'r','g','b'}).  \n",
    "\n",
    "    >>> identity()==Mat(({'x','y','u'},{'x','y','u'}), {('x','x'):1, ('y','y'):1, ('u','u'):1})\n",
    "    True\n",
    "    >>> identity({'r','g','b'})==Mat(({'r','g','b'},{'r','g','b'}), {('r','r'):1, ('g','g'):1, ('b','b'):1})\n",
    "    True\n",
    "    '''\n",
    "    return Mat( (labels,labels), {(row, col):1 if row == col else 0 for row in labels for col in labels} )"
   ]
  },
  {
   "cell_type": "code",
   "execution_count": 6,
   "metadata": {
    "collapsed": false
   },
   "outputs": [
    {
     "data": {
      "text/plain": [
       "True"
      ]
     },
     "execution_count": 6,
     "metadata": {},
     "output_type": "execute_result"
    }
   ],
   "source": [
    "identity()==Mat(({'x','y','u'},{'x','y','u'}), {('x','x'):1, ('y','y'):1, ('u','u'):1})"
   ]
  },
  {
   "cell_type": "code",
   "execution_count": 7,
   "metadata": {
    "collapsed": false
   },
   "outputs": [
    {
     "data": {
      "text/plain": [
       "True"
      ]
     },
     "execution_count": 7,
     "metadata": {},
     "output_type": "execute_result"
    }
   ],
   "source": [
    "identity({'r','g','b'})==Mat(({'r','g','b'},{'r','g','b'}), {('r','r'):1, ('g','g'):1, ('b','b'):1})"
   ]
  },
  {
   "cell_type": "code",
   "execution_count": 8,
   "metadata": {
    "collapsed": true
   },
   "outputs": [],
   "source": [
    "## Task 2\n",
    "def translation(x,y):\n",
    "    '''\n",
    "    Input:  An x and y value by which to translate an image.\n",
    "    Output:  Corresponding 3x3 translation matrix.\n",
    "\n",
    "    >>> translation(9,10)==Mat(({'x','y','u'},{'x','y','u'}), {('x','x'):1, ('y','y'):1, ('u','u'):1, ('y','u'):10, ('x','u'):9})\n",
    "    True\n",
    "    '''\n",
    "    return identity()+Mat( ({'x', 'y', 'u'}, {'x', 'y', 'u'}), {('x', 'u'):x, ('y', 'u'):y} )"
   ]
  },
  {
   "cell_type": "code",
   "execution_count": 9,
   "metadata": {
    "collapsed": false
   },
   "outputs": [
    {
     "data": {
      "text/plain": [
       "True"
      ]
     },
     "execution_count": 9,
     "metadata": {},
     "output_type": "execute_result"
    }
   ],
   "source": [
    "translation(9,10)==Mat(({'x','y','u'},{'x','y','u'}), {('x','x'):1, ('y','y'):1, ('u','u'):1, ('y','u'):10, ('x','u'):9})"
   ]
  },
  {
   "cell_type": "code",
   "execution_count": 10,
   "metadata": {
    "collapsed": false
   },
   "outputs": [],
   "source": [
    "## Task 3\n",
    "def scale(a, b):\n",
    "    '''\n",
    "    Input:  Scaling parameters for the x and y direction.\n",
    "    Output:  Corresponding 3x3 scaling matrix.\n",
    "\n",
    "    >>> scale(3,4)*Vec({'x','y','u'}, {'x':1,'y':1,'u':1}) == Vec({'x','y','u'}, {'x':3, 'y':4, 'u':1})\n",
    "    True\n",
    "    >>> scale(0,0)*Vec({'x','y','u'}, {'x':1,'y':1,'u':1}) == Vec({'x','y','u'}, {'u':1})\n",
    "    True\n",
    "    '''\n",
    "    return Mat( ({'x', 'y', 'u'}, {'x', 'y', 'u'}), {('x', 'x'):a, ('y', 'y'):b, ('u', 'u'):1} )\n"
   ]
  },
  {
   "cell_type": "code",
   "execution_count": 11,
   "metadata": {
    "collapsed": false
   },
   "outputs": [
    {
     "data": {
      "text/plain": [
       "True"
      ]
     },
     "execution_count": 11,
     "metadata": {},
     "output_type": "execute_result"
    }
   ],
   "source": [
    "scale(3,4)*Vec({'x','y','u'}, {'x':1,'y':1,'u':1}) == Vec({'x','y','u'}, {'x':3, 'y':4, 'u':1})"
   ]
  },
  {
   "cell_type": "code",
   "execution_count": 12,
   "metadata": {
    "collapsed": false
   },
   "outputs": [
    {
     "data": {
      "text/plain": [
       "True"
      ]
     },
     "execution_count": 12,
     "metadata": {},
     "output_type": "execute_result"
    }
   ],
   "source": [
    "scale(0,0)*Vec({'x','y','u'}, {'x':1,'y':1,'u':1}) == Vec({'x','y','u'}, {'u':1})"
   ]
  },
  {
   "cell_type": "code",
   "execution_count": 13,
   "metadata": {
    "collapsed": true
   },
   "outputs": [],
   "source": [
    "def rotation(angle):\n",
    "    '''\n",
    "    Input:  An angle in radians to rotate an image.\n",
    "    Output:  Corresponding 3x3 rotation matrix.\n",
    "    Note that the math module is imported.\n",
    "\n",
    "    >>> def normsq(v): return v*v\n",
    "    >>> normsq(rotation(math.pi) * Vec({'u', 'x', 'y'},{'x':1,'y':2,'u':1}) - Vec({'u', 'x', 'y'},{'u': 1, 'x': -1, 'y': -2})) < 1e-15\n",
    "    True\n",
    "    >>> normsq(rotation(math.pi/2) * Vec({'u', 'x', 'y'},{'x':3,'y':1,'u':1}) - Vec({'u', 'x', 'y'},{'u': 1, 'x': -1, 'y': 3.0})) < 1e-15\n",
    "    True\n",
    "    '''\n",
    "    return Mat( ({'x', 'y', 'u'}, {'x', 'y', 'u'}), {('x', 'x'):math.cos(angle), ('x', 'y'):-math.sin(angle),\n",
    "                                                     ('y', 'x'):math.sin(angle), ('y', 'y'):math.cos(angle),\n",
    "                                                     ('u', 'u'):1})"
   ]
  },
  {
   "cell_type": "code",
   "execution_count": 14,
   "metadata": {
    "collapsed": false
   },
   "outputs": [
    {
     "data": {
      "text/plain": [
       "True"
      ]
     },
     "execution_count": 14,
     "metadata": {},
     "output_type": "execute_result"
    }
   ],
   "source": [
    "def normsq(v): return v*v\n",
    "normsq(rotation(math.pi) * Vec({'u', 'x', 'y'},{'x':1,'y':2,'u':1}) - Vec({'u', 'x', 'y'},{'u': 1, 'x': -1, 'y': -2})) < 1e-15"
   ]
  },
  {
   "cell_type": "code",
   "execution_count": 15,
   "metadata": {
    "collapsed": false
   },
   "outputs": [
    {
     "data": {
      "text/plain": [
       "True"
      ]
     },
     "execution_count": 15,
     "metadata": {},
     "output_type": "execute_result"
    }
   ],
   "source": [
    "normsq(rotation(math.pi/2) * Vec({'u', 'x', 'y'},{'x':3,'y':1,'u':1}) - Vec({'u', 'x', 'y'},{'u': 1, 'x': -1, 'y': 3.0})) < 1e-15"
   ]
  },
  {
   "cell_type": "code",
   "execution_count": 16,
   "metadata": {
    "collapsed": true
   },
   "outputs": [],
   "source": [
    "## Task 5\n",
    "def rotate_about(x,y,angle):\n",
    "    '''\n",
    "    Input:  A x and y coordinate to rotate about, and an angle\n",
    "    in radians to rotate about.\n",
    "    Output:  Corresponding 3x3 rotation matrix.\n",
    "    It might be helpful to use procedures you already wrote.\n",
    "    '''\n",
    "    return translation(x, y)*rotation(angle)*translation(-x, -y)"
   ]
  },
  {
   "cell_type": "code",
   "execution_count": 17,
   "metadata": {
    "collapsed": true
   },
   "outputs": [],
   "source": [
    "## Task 6\n",
    "def reflect_y():\n",
    "    '''\n",
    "    Input:  None.\n",
    "    Output:  3x3 Y-reflection matrix.\n",
    "\n",
    "    >>> v = Vec({'x','y','u'}, {'x':1, 'y':1, 'u':1})\n",
    "    >>> reflect_y()*v == Vec({'x','y','u'}, {'x':-1, 'y':1, 'u':1})\n",
    "    True\n",
    "    >>> w = Vec({'x','y','u'}, {'u':1})\n",
    "    >>> reflect_y()*w == Vec({'x','y','u'},{'u':1})\n",
    "    True\n",
    "    '''\n",
    "    return scale(-1, 1)"
   ]
  },
  {
   "cell_type": "code",
   "execution_count": 18,
   "metadata": {
    "collapsed": false
   },
   "outputs": [
    {
     "data": {
      "text/plain": [
       "True"
      ]
     },
     "execution_count": 18,
     "metadata": {},
     "output_type": "execute_result"
    }
   ],
   "source": [
    "v = Vec({'x','y','u'}, {'x':1, 'y':1, 'u':1})\n",
    "reflect_y()*v == Vec({'x','y','u'}, {'x':-1, 'y':1, 'u':1})"
   ]
  },
  {
   "cell_type": "code",
   "execution_count": 19,
   "metadata": {
    "collapsed": false
   },
   "outputs": [
    {
     "data": {
      "text/plain": [
       "True"
      ]
     },
     "execution_count": 19,
     "metadata": {},
     "output_type": "execute_result"
    }
   ],
   "source": [
    "w = Vec({'x','y','u'}, {'u':1})\n",
    "reflect_y()*w == Vec({'x','y','u'},{'u':1})"
   ]
  },
  {
   "cell_type": "code",
   "execution_count": 20,
   "metadata": {
    "collapsed": true
   },
   "outputs": [],
   "source": [
    "## Task 7\n",
    "def reflect_x():\n",
    "    '''\n",
    "    Inpute:  None.\n",
    "    Output:  3x3 X-reflection matrix.\n",
    "\n",
    "    >>> v = Vec({'x','y','u'}, {'x':1, 'y':1, 'u':1})\n",
    "    >>> reflect_x()*v == Vec({'x','y','u'}, {'x':1, 'y':-1, 'u':1})\n",
    "    True\n",
    "    >>> w = Vec({'x','y','u'}, {'u':1})\n",
    "    >>> reflect_x()*w == Vec({'x','y','u'},{'u':1})\n",
    "    True\n",
    "    '''\n",
    "    return scale(1, -1)"
   ]
  },
  {
   "cell_type": "code",
   "execution_count": 21,
   "metadata": {
    "collapsed": false
   },
   "outputs": [
    {
     "data": {
      "text/plain": [
       "True"
      ]
     },
     "execution_count": 21,
     "metadata": {},
     "output_type": "execute_result"
    }
   ],
   "source": [
    "v = Vec({'x','y','u'}, {'x':1, 'y':1, 'u':1})\n",
    "reflect_x()*v == Vec({'x','y','u'}, {'x':1, 'y':-1, 'u':1})"
   ]
  },
  {
   "cell_type": "code",
   "execution_count": 22,
   "metadata": {
    "collapsed": false
   },
   "outputs": [
    {
     "data": {
      "text/plain": [
       "True"
      ]
     },
     "execution_count": 22,
     "metadata": {},
     "output_type": "execute_result"
    }
   ],
   "source": [
    "w = Vec({'x','y','u'}, {'u':1})\n",
    "reflect_x()*w == Vec({'x','y','u'},{'u':1})"
   ]
  },
  {
   "cell_type": "code",
   "execution_count": 23,
   "metadata": {
    "collapsed": true
   },
   "outputs": [],
   "source": [
    "## Task 8    \n",
    "def scale_color(scale_r,scale_g,scale_b):\n",
    "    '''\n",
    "    Input:  3 scaling parameters for the colors of the image.\n",
    "    Output:  Corresponding 3x3 color scaling matrix.\n",
    "\n",
    "    >>> scale_color(1,2,3)*Vec({'r','g','b'},{'r':1,'g':2,'b':3}) == Vec({'r','g','b'},{'r':1,'g':4,'b':9})\n",
    "    True\n",
    "    '''\n",
    "    return Mat( ({'r', 'g', 'b'}, {'r', 'g', 'b'}), {('r', 'r'):scale_r, ('g', 'g'):scale_g, ('b', 'b'):scale_b} ) \n",
    "    "
   ]
  },
  {
   "cell_type": "code",
   "execution_count": 24,
   "metadata": {
    "collapsed": false
   },
   "outputs": [
    {
     "data": {
      "text/plain": [
       "True"
      ]
     },
     "execution_count": 24,
     "metadata": {},
     "output_type": "execute_result"
    }
   ],
   "source": [
    "scale_color(1,2,3)*Vec({'r','g','b'},{'r':1,'g':2,'b':3}) == Vec({'r','g','b'},{'r':1,'g':4,'b':9})"
   ]
  },
  {
   "cell_type": "code",
   "execution_count": 25,
   "metadata": {
    "collapsed": true
   },
   "outputs": [],
   "source": [
    "## Task 9\n",
    "def grayscale():\n",
    "    '''\n",
    "    Input: None\n",
    "    Output: 3x3 greyscale matrix.\n",
    "    '''\n",
    "    return Mat( ({'r', 'g', 'b'}, {'r', 'g', 'b'}), {('r', 'r'):77/256, ('r', 'g'):151/256, ('r', 'b'):28/256, ('g', 'r'):77/256, ('g', 'g'):151/256, ('g', 'b'):28/256, ('b', 'r'):77/256, ('b', 'g'):151/256, ('b', 'b'):28/256 } )"
   ]
  },
  {
   "cell_type": "code",
   "execution_count": 138,
   "metadata": {
    "collapsed": false
   },
   "outputs": [],
   "source": [
    "## Task 10\n",
    "def reflect_about(x1, y1, x2, y2):\n",
    "    '''\n",
    "    Input: 2 points that define a line to reflect about.\n",
    "    Output:  Corresponding 3x3 reflect about matrix.\n",
    "\n",
    "    >>> def normsq(v): return v*v\n",
    "    >>> normsq(reflect_about(0,1,1,1) * Vec({'x','y','u'}, {'u':1}) - Vec({'x', 'u', 'y'},{'x': 0.0, 'u': 1, 'y': 2.0})) < 10e-15\n",
    "    True\n",
    "    >>> normsq(reflect_about(0,0,1,1) * Vec({'x','y','u'}, {'x':1, 'u':1}) - Vec({'x', 'u', 'y'},{'u': 1, 'y': 1})) < 1e-15\n",
    "    True\n",
    "    '''\n",
    "    angle = math.atan2(y2-y1, x2-x1) #atan2(y/x)\n",
    "\n",
    "    return translation(x1,y1)*rotation(angle)*reflect_x()*rotation(-angle)*translation(-x1,-y1)  \n",
    "     "
   ]
  },
  {
   "cell_type": "code",
   "execution_count": 139,
   "metadata": {
    "collapsed": false
   },
   "outputs": [
    {
     "data": {
      "text/plain": [
       "True"
      ]
     },
     "execution_count": 139,
     "metadata": {},
     "output_type": "execute_result"
    }
   ],
   "source": [
    "def normsq(v): return v*v\n",
    "normsq(reflect_about(0,1,1,1) * Vec({'x','y','u'}, {'u':1}) - Vec({'x', 'u', 'y'},{'x': 0.0, 'u': 1, 'y': 2.0})) < 10e-15"
   ]
  },
  {
   "cell_type": "code",
   "execution_count": 140,
   "metadata": {
    "collapsed": false
   },
   "outputs": [
    {
     "data": {
      "text/plain": [
       "True"
      ]
     },
     "execution_count": 140,
     "metadata": {},
     "output_type": "execute_result"
    }
   ],
   "source": [
    "normsq(reflect_about(0,0,1,1) * Vec({'x','y','u'}, {'x':1, 'u':1}) - Vec({'x', 'u', 'y'},{'u': 1, 'y': 1})) < 1e-15"
   ]
  },
  {
   "cell_type": "code",
   "execution_count": null,
   "metadata": {
    "collapsed": true
   },
   "outputs": [],
   "source": []
  }
 ],
 "metadata": {
  "kernelspec": {
   "display_name": "Python 3",
   "language": "python",
   "name": "python3"
  },
  "language_info": {
   "codemirror_mode": {
    "name": "ipython",
    "version": 3
   },
   "file_extension": ".py",
   "mimetype": "text/x-python",
   "name": "python",
   "nbconvert_exporter": "python",
   "pygments_lexer": "ipython3",
   "version": "3.4.3"
  }
 },
 "nbformat": 4,
 "nbformat_minor": 0
}
